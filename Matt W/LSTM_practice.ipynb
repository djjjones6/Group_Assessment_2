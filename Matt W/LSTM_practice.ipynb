{
 "cells": [
  {
   "cell_type": "markdown",
   "metadata": {},
   "source": [
    "LSTM is an RNN that can capture the pattern in sequential data. The benefit is that it can learn and remember for long sequences. In keras this is referred to as setting the stateful argument as true in the lstm layer \n",
    "Lstm includes three important gates: input gate, forget gate and the output gate. The interactive operation among these three gates makes LSTM have the sufficient ability to solve the problem of long-term dependencies\n",
    "which general RNNs cannot learn. \"The learning speed of the previous hidden layers is slower than the deeper\n",
    "hidden layers. This phenomenon may even lead to a decrease of accuracy rate as hidden layers\n",
    "increase [25]. However, the smart design of the memory cell in LSTM can effectively solve the problem\n",
    "of gradient vanishing in backpropagation and can learn the input sequence with longer time steps.\n",
    "Hence, LSTM is commonly used for solving applications related to time serial issues. \"\n",
    "\n",
    "- LSTMs are a type of recurrent network, and as such are designed to take sequence data as input, unlike other models where lag observations must be presented as input features.\n",
    "- LSTMs directly support multiple parallel input sequences for multivariate inputs, unlike other models where multivariate inputs are presented in a flat structure.\n",
    "- Like other neural networks, LSTMs are able to map input data directly to an output vector that may represent multiple output time steps.\n",
    "\n",
    "- A popular approach has been to combine CNNs with LSTMs, where the CNN is as an encoder to learn features from sub-sequences of input data which are provided as time steps to an LSTM. This architecture is called a CNN-LSTM.\n",
    "- A power variation on the CNN LSTM architecture is the ConvLSTM that uses the convolutional reading of input subsequences directly within an LSTM’s units. This approach has proven very effective for time series classification and can be adapted for use in multi-step time series forecasting."
   ]
  },
  {
   "cell_type": "code",
   "execution_count": 69,
   "metadata": {},
   "outputs": [],
   "source": [
    "import numpy as np\n",
    "import pandas as pd\n",
    "import pickle \n",
    "import sklearn \n",
    "import matplotlib.pyplot as plt "
   ]
  },
  {
   "cell_type": "code",
   "execution_count": 70,
   "metadata": {},
   "outputs": [],
   "source": [
    "with open('../data/train_data.pickle', 'rb') as f:\n",
    "    train_data = pickle.load(f)"
   ]
  },
  {
   "cell_type": "code",
   "execution_count": 71,
   "metadata": {},
   "outputs": [],
   "source": [
    "with open('../data/test_data.pickle', 'rb') as f:\n",
    "    test_data = pickle.load(f)"
   ]
  },
  {
   "cell_type": "code",
   "execution_count": 72,
   "metadata": {},
   "outputs": [],
   "source": [
    "with open('../data/scaler.pickle', 'rb') as f:\n",
    "    scaler = pickle.load(f)"
   ]
  },
  {
   "cell_type": "code",
   "execution_count": 113,
   "metadata": {},
   "outputs": [
    {
     "data": {
      "text/html": [
       "<div>\n",
       "<style scoped>\n",
       "    .dataframe tbody tr th:only-of-type {\n",
       "        vertical-align: middle;\n",
       "    }\n",
       "\n",
       "    .dataframe tbody tr th {\n",
       "        vertical-align: top;\n",
       "    }\n",
       "\n",
       "    .dataframe thead th {\n",
       "        text-align: right;\n",
       "    }\n",
       "</style>\n",
       "<table border=\"1\" class=\"dataframe\">\n",
       "  <thead>\n",
       "    <tr style=\"text-align: right;\">\n",
       "      <th></th>\n",
       "      <th>pollution</th>\n",
       "      <th>dew</th>\n",
       "      <th>temp</th>\n",
       "      <th>press</th>\n",
       "      <th>wnd_dir</th>\n",
       "      <th>wnd_spd</th>\n",
       "      <th>snow</th>\n",
       "      <th>rain</th>\n",
       "    </tr>\n",
       "    <tr>\n",
       "      <th>date</th>\n",
       "      <th></th>\n",
       "      <th></th>\n",
       "      <th></th>\n",
       "      <th></th>\n",
       "      <th></th>\n",
       "      <th></th>\n",
       "      <th></th>\n",
       "      <th></th>\n",
       "    </tr>\n",
       "  </thead>\n",
       "  <tbody>\n",
       "    <tr>\n",
       "      <th>2010-01-02 00:00:00</th>\n",
       "      <td>0.129779</td>\n",
       "      <td>0.352941</td>\n",
       "      <td>0.245902</td>\n",
       "      <td>0.527273</td>\n",
       "      <td>0.333333</td>\n",
       "      <td>0.002290</td>\n",
       "      <td>0.000000</td>\n",
       "      <td>0.0</td>\n",
       "    </tr>\n",
       "    <tr>\n",
       "      <th>2010-01-02 01:00:00</th>\n",
       "      <td>0.148893</td>\n",
       "      <td>0.367647</td>\n",
       "      <td>0.245902</td>\n",
       "      <td>0.527273</td>\n",
       "      <td>0.333333</td>\n",
       "      <td>0.003811</td>\n",
       "      <td>0.000000</td>\n",
       "      <td>0.0</td>\n",
       "    </tr>\n",
       "    <tr>\n",
       "      <th>2010-01-02 02:00:00</th>\n",
       "      <td>0.159960</td>\n",
       "      <td>0.426471</td>\n",
       "      <td>0.229508</td>\n",
       "      <td>0.545455</td>\n",
       "      <td>0.333333</td>\n",
       "      <td>0.005332</td>\n",
       "      <td>0.000000</td>\n",
       "      <td>0.0</td>\n",
       "    </tr>\n",
       "    <tr>\n",
       "      <th>2010-01-02 03:00:00</th>\n",
       "      <td>0.182093</td>\n",
       "      <td>0.485294</td>\n",
       "      <td>0.229508</td>\n",
       "      <td>0.563636</td>\n",
       "      <td>0.333333</td>\n",
       "      <td>0.008391</td>\n",
       "      <td>0.037037</td>\n",
       "      <td>0.0</td>\n",
       "    </tr>\n",
       "    <tr>\n",
       "      <th>2010-01-02 04:00:00</th>\n",
       "      <td>0.138833</td>\n",
       "      <td>0.485294</td>\n",
       "      <td>0.229508</td>\n",
       "      <td>0.563636</td>\n",
       "      <td>0.333333</td>\n",
       "      <td>0.009912</td>\n",
       "      <td>0.074074</td>\n",
       "      <td>0.0</td>\n",
       "    </tr>\n",
       "  </tbody>\n",
       "</table>\n",
       "</div>"
      ],
      "text/plain": [
       "                     pollution       dew      temp     press   wnd_dir  \\\n",
       "date                                                                     \n",
       "2010-01-02 00:00:00   0.129779  0.352941  0.245902  0.527273  0.333333   \n",
       "2010-01-02 01:00:00   0.148893  0.367647  0.245902  0.527273  0.333333   \n",
       "2010-01-02 02:00:00   0.159960  0.426471  0.229508  0.545455  0.333333   \n",
       "2010-01-02 03:00:00   0.182093  0.485294  0.229508  0.563636  0.333333   \n",
       "2010-01-02 04:00:00   0.138833  0.485294  0.229508  0.563636  0.333333   \n",
       "\n",
       "                      wnd_spd      snow  rain  \n",
       "date                                           \n",
       "2010-01-02 00:00:00  0.002290  0.000000   0.0  \n",
       "2010-01-02 01:00:00  0.003811  0.000000   0.0  \n",
       "2010-01-02 02:00:00  0.005332  0.000000   0.0  \n",
       "2010-01-02 03:00:00  0.008391  0.037037   0.0  \n",
       "2010-01-02 04:00:00  0.009912  0.074074   0.0  "
      ]
     },
     "execution_count": 113,
     "metadata": {},
     "output_type": "execute_result"
    }
   ],
   "source": [
    "#def evaluate_forecasts(actual, predicted):\n",
    "train_data.head(5)"
   ]
  },
  {
   "cell_type": "code",
   "execution_count": 99,
   "metadata": {},
   "outputs": [
    {
     "data": {
      "text/html": [
       "<div>\n",
       "<style scoped>\n",
       "    .dataframe tbody tr th:only-of-type {\n",
       "        vertical-align: middle;\n",
       "    }\n",
       "\n",
       "    .dataframe tbody tr th {\n",
       "        vertical-align: top;\n",
       "    }\n",
       "\n",
       "    .dataframe thead th {\n",
       "        text-align: right;\n",
       "    }\n",
       "</style>\n",
       "<table border=\"1\" class=\"dataframe\">\n",
       "  <thead>\n",
       "    <tr style=\"text-align: right;\">\n",
       "      <th></th>\n",
       "      <th>pollution</th>\n",
       "      <th>dew</th>\n",
       "      <th>temp</th>\n",
       "      <th>press</th>\n",
       "      <th>wnd_dir</th>\n",
       "      <th>wnd_spd</th>\n",
       "      <th>snow</th>\n",
       "      <th>rain</th>\n",
       "    </tr>\n",
       "    <tr>\n",
       "      <th>date</th>\n",
       "      <th></th>\n",
       "      <th></th>\n",
       "      <th></th>\n",
       "      <th></th>\n",
       "      <th></th>\n",
       "      <th></th>\n",
       "      <th></th>\n",
       "      <th></th>\n",
       "    </tr>\n",
       "  </thead>\n",
       "  <tbody>\n",
       "    <tr>\n",
       "      <th>2014-07-02 12:00:00</th>\n",
       "      <td>0.056338</td>\n",
       "      <td>0.897059</td>\n",
       "      <td>0.704918</td>\n",
       "      <td>0.218182</td>\n",
       "      <td>0.333333</td>\n",
       "      <td>0.005349</td>\n",
       "      <td>0.0</td>\n",
       "      <td>0.0</td>\n",
       "    </tr>\n",
       "    <tr>\n",
       "      <th>2014-07-02 13:00:00</th>\n",
       "      <td>0.064386</td>\n",
       "      <td>0.897059</td>\n",
       "      <td>0.721311</td>\n",
       "      <td>0.218182</td>\n",
       "      <td>1.000000</td>\n",
       "      <td>0.000752</td>\n",
       "      <td>0.0</td>\n",
       "      <td>0.0</td>\n",
       "    </tr>\n",
       "    <tr>\n",
       "      <th>2014-07-02 14:00:00</th>\n",
       "      <td>0.066398</td>\n",
       "      <td>0.897059</td>\n",
       "      <td>0.721311</td>\n",
       "      <td>0.200000</td>\n",
       "      <td>1.000000</td>\n",
       "      <td>0.002273</td>\n",
       "      <td>0.0</td>\n",
       "      <td>0.0</td>\n",
       "    </tr>\n",
       "    <tr>\n",
       "      <th>2014-07-02 15:00:00</th>\n",
       "      <td>0.072435</td>\n",
       "      <td>0.897059</td>\n",
       "      <td>0.737705</td>\n",
       "      <td>0.200000</td>\n",
       "      <td>1.000000</td>\n",
       "      <td>0.003794</td>\n",
       "      <td>0.0</td>\n",
       "      <td>0.0</td>\n",
       "    </tr>\n",
       "    <tr>\n",
       "      <th>2014-07-02 16:00:00</th>\n",
       "      <td>0.078471</td>\n",
       "      <td>0.897059</td>\n",
       "      <td>0.737705</td>\n",
       "      <td>0.200000</td>\n",
       "      <td>1.000000</td>\n",
       "      <td>0.005315</td>\n",
       "      <td>0.0</td>\n",
       "      <td>0.0</td>\n",
       "    </tr>\n",
       "  </tbody>\n",
       "</table>\n",
       "</div>"
      ],
      "text/plain": [
       "                     pollution       dew      temp     press   wnd_dir  \\\n",
       "date                                                                     \n",
       "2014-07-02 12:00:00   0.056338  0.897059  0.704918  0.218182  0.333333   \n",
       "2014-07-02 13:00:00   0.064386  0.897059  0.721311  0.218182  1.000000   \n",
       "2014-07-02 14:00:00   0.066398  0.897059  0.721311  0.200000  1.000000   \n",
       "2014-07-02 15:00:00   0.072435  0.897059  0.737705  0.200000  1.000000   \n",
       "2014-07-02 16:00:00   0.078471  0.897059  0.737705  0.200000  1.000000   \n",
       "\n",
       "                      wnd_spd  snow  rain  \n",
       "date                                       \n",
       "2014-07-02 12:00:00  0.005349   0.0   0.0  \n",
       "2014-07-02 13:00:00  0.000752   0.0   0.0  \n",
       "2014-07-02 14:00:00  0.002273   0.0   0.0  \n",
       "2014-07-02 15:00:00  0.003794   0.0   0.0  \n",
       "2014-07-02 16:00:00  0.005315   0.0   0.0  "
      ]
     },
     "execution_count": 99,
     "metadata": {},
     "output_type": "execute_result"
    }
   ],
   "source": [
    "test_data.head()"
   ]
  },
  {
   "cell_type": "markdown",
   "metadata": {},
   "source": [
    "## Moving Window NOT CV"
   ]
  },
  {
   "cell_type": "markdown",
   "metadata": {},
   "source": [
    "The LSTM takes sequences of inputs. The pollution values can either be included (as lagged values) in the input or left out. "
   ]
  },
  {
   "cell_type": "code",
   "execution_count": 190,
   "metadata": {},
   "outputs": [],
   "source": [
    "def generate_sequence(df,N, window_size):\n",
    "    '''Model expects the target labels to have two \n",
    "        dimensions with shape (batch_size,output_size). \n",
    "        - batch_size is the number of samples in each sequence\n",
    "        - output_size is the number of target values per sample'''\n",
    "        \n",
    "    #We generate sequences of size 24\n",
    "    X_sequences = [df.iloc[i:i+window_size].values for i in range(N - window_size)]\n",
    "    #And for each sequence evaluate agains the pollution value following each sequence\n",
    "    Y_values = [df.iloc[i+window_size]['pollution'] for i in range(N - window_size)]\n",
    "\n",
    "\n",
    "    return np.array(X_sequences), np.array(Y_values).reshape(-1,1)\n",
    "\n"
   ]
  },
  {
   "cell_type": "markdown",
   "metadata": {},
   "source": [
    "Limit of sequence size is related to vanishing gradient problem. This can limit how well an LSTM can learn dependencies far back in the sequence, especially if the model isn’t deep enough to capture long-term patterns."
   ]
  },
  {
   "cell_type": "code",
   "execution_count": 191,
   "metadata": {},
   "outputs": [
    {
     "name": "stdout",
     "output_type": "stream",
     "text": [
      "(39410, 10, 8) (39410, 1)\n",
      "(4370, 10, 8) (4370, 1)\n"
     ]
    }
   ],
   "source": [
    "window_size = 10\n",
    "N= len(train_data)\n",
    "X_train, y_train = generate_sequence(train_data,N, window_size)\n",
    "print(X_train.shape, y_train.shape)\n",
    "\n",
    "M=len(test_data)\n",
    "X_test, y_test = generate_sequence(test_data,M,window_size)\n",
    "print(X_test.shape,y_test.shape)\n",
    "\n",
    "\n"
   ]
  },
  {
   "cell_type": "markdown",
   "metadata": {},
   "source": [
    "Note: we reshape input to be 3D [samples, timesteps, features]"
   ]
  },
  {
   "cell_type": "code",
   "execution_count": 192,
   "metadata": {},
   "outputs": [
    {
     "data": {
      "text/plain": [
       "10"
      ]
     },
     "execution_count": 192,
     "metadata": {},
     "output_type": "execute_result"
    }
   ],
   "source": [
    "X_train.shape[1]"
   ]
  },
  {
   "cell_type": "code",
   "execution_count": 193,
   "metadata": {},
   "outputs": [
    {
     "data": {
      "text/plain": [
       "dtype('float32')"
      ]
     },
     "execution_count": 193,
     "metadata": {},
     "output_type": "execute_result"
    }
   ],
   "source": [
    "X_train.dtype"
   ]
  },
  {
   "cell_type": "code",
   "execution_count": 194,
   "metadata": {},
   "outputs": [
    {
     "data": {
      "text/plain": [
       "8"
      ]
     },
     "execution_count": 194,
     "metadata": {},
     "output_type": "execute_result"
    }
   ],
   "source": [
    "X_train.shape[2]"
   ]
  },
  {
   "cell_type": "code",
   "execution_count": 195,
   "metadata": {},
   "outputs": [],
   "source": [
    "n_steps = X_train.shape[1]\n",
    "n_features = X_train.shape[2]\n",
    "n_outputs = y_train.shape[1]"
   ]
  },
  {
   "cell_type": "code",
   "execution_count": 196,
   "metadata": {},
   "outputs": [],
   "source": [
    "import tensorflow as tf\n",
    "from tensorflow.keras.models import Sequential\n",
    "from tensorflow.keras.layers import LSTM, Dense, Dropout, Input\n",
    "from tensorflow.keras.optimizers import Adam\n",
    "from tensorflow.keras.losses import MeanSquaredError\n",
    "from tensorflow.keras.metrics import RootMeanSquaredError\n",
    "from tensorflow.keras.optimizers import Adam\n",
    "from tensorflow.keras.callbacks import EarlyStopping, ModelCheckpoint\n",
    "from numpy import concatenate\n",
    "from sklearn.metrics import mean_squared_error\n",
    "from math import sqrt\n",
    "from keras.layers import BatchNormalization\n",
    "from tensorflow.keras.callbacks import EarlyStopping\n",
    "from keras.layers import Dense\n",
    "from keras.layers import Flatten\n",
    "from keras.layers import ConvLSTM2D\n"
   ]
  },
  {
   "cell_type": "markdown",
   "metadata": {},
   "source": [
    "history.predict(X_test): This generates predictions for X_test, resulting in a 2D array with shape (n, 1), where n is the number of test samples.\n",
    ".flatten(): Converts this (n, 1) array to a 1D array with shape (n,), making it easier to work with "
   ]
  },
  {
   "cell_type": "markdown",
   "metadata": {},
   "source": [
    "# Standard LSTM"
   ]
  },
  {
   "cell_type": "markdown",
   "metadata": {},
   "source": [
    "The model mininmizes mse and the mse loss is used for backpropoagtion to update the model's weights. RMSE is the evaluation metric."
   ]
  },
  {
   "cell_type": "code",
   "execution_count": 186,
   "metadata": {},
   "outputs": [
    {
     "data": {
      "text/html": [
       "<pre style=\"white-space:pre;overflow-x:auto;line-height:normal;font-family:Menlo,'DejaVu Sans Mono',consolas,'Courier New',monospace\"><span style=\"font-weight: bold\">Model: \"sequential_15\"</span>\n",
       "</pre>\n"
      ],
      "text/plain": [
       "\u001b[1mModel: \"sequential_15\"\u001b[0m\n"
      ]
     },
     "metadata": {},
     "output_type": "display_data"
    },
    {
     "data": {
      "text/html": [
       "<pre style=\"white-space:pre;overflow-x:auto;line-height:normal;font-family:Menlo,'DejaVu Sans Mono',consolas,'Courier New',monospace\">┏━━━━━━━━━━━━━━━━━━━━━━━━━━━━━━━━━┳━━━━━━━━━━━━━━━━━━━━━━━━┳━━━━━━━━━━━━━━━┓\n",
       "┃<span style=\"font-weight: bold\"> Layer (type)                    </span>┃<span style=\"font-weight: bold\"> Output Shape           </span>┃<span style=\"font-weight: bold\">       Param # </span>┃\n",
       "┡━━━━━━━━━━━━━━━━━━━━━━━━━━━━━━━━━╇━━━━━━━━━━━━━━━━━━━━━━━━╇━━━━━━━━━━━━━━━┩\n",
       "│ lstm_25 (<span style=\"color: #0087ff; text-decoration-color: #0087ff\">LSTM</span>)                  │ (<span style=\"color: #00d7ff; text-decoration-color: #00d7ff\">None</span>, <span style=\"color: #00af00; text-decoration-color: #00af00\">50</span>)             │        <span style=\"color: #00af00; text-decoration-color: #00af00\">11,800</span> │\n",
       "├─────────────────────────────────┼────────────────────────┼───────────────┤\n",
       "│ dense_14 (<span style=\"color: #0087ff; text-decoration-color: #0087ff\">Dense</span>)                │ (<span style=\"color: #00d7ff; text-decoration-color: #00d7ff\">None</span>, <span style=\"color: #00af00; text-decoration-color: #00af00\">1</span>)              │            <span style=\"color: #00af00; text-decoration-color: #00af00\">51</span> │\n",
       "└─────────────────────────────────┴────────────────────────┴───────────────┘\n",
       "</pre>\n"
      ],
      "text/plain": [
       "┏━━━━━━━━━━━━━━━━━━━━━━━━━━━━━━━━━┳━━━━━━━━━━━━━━━━━━━━━━━━┳━━━━━━━━━━━━━━━┓\n",
       "┃\u001b[1m \u001b[0m\u001b[1mLayer (type)                   \u001b[0m\u001b[1m \u001b[0m┃\u001b[1m \u001b[0m\u001b[1mOutput Shape          \u001b[0m\u001b[1m \u001b[0m┃\u001b[1m \u001b[0m\u001b[1m      Param #\u001b[0m\u001b[1m \u001b[0m┃\n",
       "┡━━━━━━━━━━━━━━━━━━━━━━━━━━━━━━━━━╇━━━━━━━━━━━━━━━━━━━━━━━━╇━━━━━━━━━━━━━━━┩\n",
       "│ lstm_25 (\u001b[38;5;33mLSTM\u001b[0m)                  │ (\u001b[38;5;45mNone\u001b[0m, \u001b[38;5;34m50\u001b[0m)             │        \u001b[38;5;34m11,800\u001b[0m │\n",
       "├─────────────────────────────────┼────────────────────────┼───────────────┤\n",
       "│ dense_14 (\u001b[38;5;33mDense\u001b[0m)                │ (\u001b[38;5;45mNone\u001b[0m, \u001b[38;5;34m1\u001b[0m)              │            \u001b[38;5;34m51\u001b[0m │\n",
       "└─────────────────────────────────┴────────────────────────┴───────────────┘\n"
      ]
     },
     "metadata": {},
     "output_type": "display_data"
    },
    {
     "data": {
      "text/html": [
       "<pre style=\"white-space:pre;overflow-x:auto;line-height:normal;font-family:Menlo,'DejaVu Sans Mono',consolas,'Courier New',monospace\"><span style=\"font-weight: bold\"> Total params: </span><span style=\"color: #00af00; text-decoration-color: #00af00\">11,851</span> (46.29 KB)\n",
       "</pre>\n"
      ],
      "text/plain": [
       "\u001b[1m Total params: \u001b[0m\u001b[38;5;34m11,851\u001b[0m (46.29 KB)\n"
      ]
     },
     "metadata": {},
     "output_type": "display_data"
    },
    {
     "data": {
      "text/html": [
       "<pre style=\"white-space:pre;overflow-x:auto;line-height:normal;font-family:Menlo,'DejaVu Sans Mono',consolas,'Courier New',monospace\"><span style=\"font-weight: bold\"> Trainable params: </span><span style=\"color: #00af00; text-decoration-color: #00af00\">11,851</span> (46.29 KB)\n",
       "</pre>\n"
      ],
      "text/plain": [
       "\u001b[1m Trainable params: \u001b[0m\u001b[38;5;34m11,851\u001b[0m (46.29 KB)\n"
      ]
     },
     "metadata": {},
     "output_type": "display_data"
    },
    {
     "data": {
      "text/html": [
       "<pre style=\"white-space:pre;overflow-x:auto;line-height:normal;font-family:Menlo,'DejaVu Sans Mono',consolas,'Courier New',monospace\"><span style=\"font-weight: bold\"> Non-trainable params: </span><span style=\"color: #00af00; text-decoration-color: #00af00\">0</span> (0.00 B)\n",
       "</pre>\n"
      ],
      "text/plain": [
       "\u001b[1m Non-trainable params: \u001b[0m\u001b[38;5;34m0\u001b[0m (0.00 B)\n"
      ]
     },
     "metadata": {},
     "output_type": "display_data"
    }
   ],
   "source": [
    "\n",
    "STD_LSTM = Sequential()\n",
    "STD_LSTM.add(Input(shape =(n_steps, n_features)))\n",
    "STD_LSTM.add(LSTM(50))\n",
    "STD_LSTM.add(Dense(1))\n",
    "STD_LSTM.compile(optimizer=Adam(learning_rate = 0.001), loss='mse', metrics = [RootMeanSquaredError()])\n",
    "\n",
    "\n",
    "STD_LSTM.summary()"
   ]
  },
  {
   "cell_type": "code",
   "execution_count": 83,
   "metadata": {},
   "outputs": [
    {
     "name": "stdout",
     "output_type": "stream",
     "text": [
      "Epoch 1/20\n",
      "\u001b[1m555/555\u001b[0m \u001b[32m━━━━━━━━━━━━━━━━━━━━\u001b[0m\u001b[37m\u001b[0m \u001b[1m5s\u001b[0m 10ms/step - loss: 8.5048e-04 - root_mean_squared_error: 0.0289 - val_loss: 6.2057e-04 - val_root_mean_squared_error: 0.0249\n",
      "Epoch 2/20\n",
      "\u001b[1m555/555\u001b[0m \u001b[32m━━━━━━━━━━━━━━━━━━━━\u001b[0m\u001b[37m\u001b[0m \u001b[1m3s\u001b[0m 5ms/step - loss: 8.5333e-04 - root_mean_squared_error: 0.0290 - val_loss: 6.3483e-04 - val_root_mean_squared_error: 0.0252\n",
      "Epoch 3/20\n",
      "\u001b[1m555/555\u001b[0m \u001b[32m━━━━━━━━━━━━━━━━━━━━\u001b[0m\u001b[37m\u001b[0m \u001b[1m3s\u001b[0m 6ms/step - loss: 8.5205e-04 - root_mean_squared_error: 0.0290 - val_loss: 6.4611e-04 - val_root_mean_squared_error: 0.0254\n",
      "Epoch 4/20\n",
      "\u001b[1m555/555\u001b[0m \u001b[32m━━━━━━━━━━━━━━━━━━━━\u001b[0m\u001b[37m\u001b[0m \u001b[1m4s\u001b[0m 7ms/step - loss: 8.4955e-04 - root_mean_squared_error: 0.0289 - val_loss: 6.5458e-04 - val_root_mean_squared_error: 0.0256\n",
      "Epoch 5/20\n",
      "\u001b[1m555/555\u001b[0m \u001b[32m━━━━━━━━━━━━━━━━━━━━\u001b[0m\u001b[37m\u001b[0m \u001b[1m4s\u001b[0m 6ms/step - loss: 8.4630e-04 - root_mean_squared_error: 0.0289 - val_loss: 6.6053e-04 - val_root_mean_squared_error: 0.0257\n",
      "Epoch 6/20\n",
      "\u001b[1m555/555\u001b[0m \u001b[32m━━━━━━━━━━━━━━━━━━━━\u001b[0m\u001b[37m\u001b[0m \u001b[1m4s\u001b[0m 7ms/step - loss: 8.4269e-04 - root_mean_squared_error: 0.0288 - val_loss: 6.6434e-04 - val_root_mean_squared_error: 0.0258\n",
      "Epoch 7/20\n",
      "\u001b[1m555/555\u001b[0m \u001b[32m━━━━━━━━━━━━━━━━━━━━\u001b[0m\u001b[37m\u001b[0m \u001b[1m3s\u001b[0m 5ms/step - loss: 8.3906e-04 - root_mean_squared_error: 0.0287 - val_loss: 6.6683e-04 - val_root_mean_squared_error: 0.0258\n",
      "Epoch 8/20\n",
      "\u001b[1m555/555\u001b[0m \u001b[32m━━━━━━━━━━━━━━━━━━━━\u001b[0m\u001b[37m\u001b[0m \u001b[1m3s\u001b[0m 5ms/step - loss: 8.3559e-04 - root_mean_squared_error: 0.0287 - val_loss: 6.6873e-04 - val_root_mean_squared_error: 0.0259\n",
      "Epoch 9/20\n",
      "\u001b[1m555/555\u001b[0m \u001b[32m━━━━━━━━━━━━━━━━━━━━\u001b[0m\u001b[37m\u001b[0m \u001b[1m3s\u001b[0m 5ms/step - loss: 8.3225e-04 - root_mean_squared_error: 0.0286 - val_loss: 6.7033e-04 - val_root_mean_squared_error: 0.0259\n",
      "Epoch 10/20\n",
      "\u001b[1m555/555\u001b[0m \u001b[32m━━━━━━━━━━━━━━━━━━━━\u001b[0m\u001b[37m\u001b[0m \u001b[1m3s\u001b[0m 5ms/step - loss: 8.2890e-04 - root_mean_squared_error: 0.0286 - val_loss: 6.7131e-04 - val_root_mean_squared_error: 0.0259\n",
      "Epoch 11/20\n",
      "\u001b[1m555/555\u001b[0m \u001b[32m━━━━━━━━━━━━━━━━━━━━\u001b[0m\u001b[37m\u001b[0m \u001b[1m3s\u001b[0m 6ms/step - loss: 8.2538e-04 - root_mean_squared_error: 0.0285 - val_loss: 6.7121e-04 - val_root_mean_squared_error: 0.0259\n",
      "Epoch 12/20\n",
      "\u001b[1m555/555\u001b[0m \u001b[32m━━━━━━━━━━━━━━━━━━━━\u001b[0m\u001b[37m\u001b[0m \u001b[1m3s\u001b[0m 6ms/step - loss: 8.2170e-04 - root_mean_squared_error: 0.0285 - val_loss: 6.7032e-04 - val_root_mean_squared_error: 0.0259\n",
      "Epoch 13/20\n",
      "\u001b[1m555/555\u001b[0m \u001b[32m━━━━━━━━━━━━━━━━━━━━\u001b[0m\u001b[37m\u001b[0m \u001b[1m3s\u001b[0m 6ms/step - loss: 8.1785e-04 - root_mean_squared_error: 0.0284 - val_loss: 6.6911e-04 - val_root_mean_squared_error: 0.0259\n",
      "Epoch 14/20\n",
      "\u001b[1m555/555\u001b[0m \u001b[32m━━━━━━━━━━━━━━━━━━━━\u001b[0m\u001b[37m\u001b[0m \u001b[1m3s\u001b[0m 5ms/step - loss: 8.1380e-04 - root_mean_squared_error: 0.0283 - val_loss: 6.6787e-04 - val_root_mean_squared_error: 0.0258\n",
      "Epoch 15/20\n",
      "\u001b[1m555/555\u001b[0m \u001b[32m━━━━━━━━━━━━━━━━━━━━\u001b[0m\u001b[37m\u001b[0m \u001b[1m3s\u001b[0m 6ms/step - loss: 8.0955e-04 - root_mean_squared_error: 0.0283 - val_loss: 6.6671e-04 - val_root_mean_squared_error: 0.0258\n",
      "Epoch 16/20\n",
      "\u001b[1m555/555\u001b[0m \u001b[32m━━━━━━━━━━━━━━━━━━━━\u001b[0m\u001b[37m\u001b[0m \u001b[1m3s\u001b[0m 6ms/step - loss: 8.0519e-04 - root_mean_squared_error: 0.0282 - val_loss: 6.6552e-04 - val_root_mean_squared_error: 0.0258\n",
      "Epoch 17/20\n",
      "\u001b[1m555/555\u001b[0m \u001b[32m━━━━━━━━━━━━━━━━━━━━\u001b[0m\u001b[37m\u001b[0m \u001b[1m3s\u001b[0m 5ms/step - loss: 8.0088e-04 - root_mean_squared_error: 0.0281 - val_loss: 6.6419e-04 - val_root_mean_squared_error: 0.0258\n",
      "Epoch 18/20\n",
      "\u001b[1m555/555\u001b[0m \u001b[32m━━━━━━━━━━━━━━━━━━━━\u001b[0m\u001b[37m\u001b[0m \u001b[1m3s\u001b[0m 6ms/step - loss: 7.9674e-04 - root_mean_squared_error: 0.0281 - val_loss: 6.6298e-04 - val_root_mean_squared_error: 0.0257\n",
      "Epoch 19/20\n",
      "\u001b[1m555/555\u001b[0m \u001b[32m━━━━━━━━━━━━━━━━━━━━\u001b[0m\u001b[37m\u001b[0m \u001b[1m3s\u001b[0m 5ms/step - loss: 7.9271e-04 - root_mean_squared_error: 0.0280 - val_loss: 6.6227e-04 - val_root_mean_squared_error: 0.0257\n",
      "Epoch 20/20\n",
      "\u001b[1m555/555\u001b[0m \u001b[32m━━━━━━━━━━━━━━━━━━━━\u001b[0m\u001b[37m\u001b[0m \u001b[1m3s\u001b[0m 5ms/step - loss: 7.8871e-04 - root_mean_squared_error: 0.0279 - val_loss: 6.6235e-04 - val_root_mean_squared_error: 0.0257\n",
      "0.0007527399575337768 0.027436107397079468\n",
      "0.000596884754486382 0.024431224912405014\n"
     ]
    }
   ],
   "source": [
    "\n",
    "\n",
    "with tf.device('/CPU:0'):\n",
    "    STD_LSTM.fit(X_train,y_train, epochs= 20,  validation_split=0.1, batch_size=64,shuffle=False)\n",
    "\n",
    "train_loss, train_rmse =  STD_LSTM.evaluate(X_train,y_train, verbose=0)\n",
    "print(train_rmse)\n",
    "test_loss,test_rmse = STD_LSTM.evaluate( X_test,y_test,verbose=0)\n",
    "print(test_rmse)\n",
    "\n"
   ]
  },
  {
   "cell_type": "code",
   "execution_count": 84,
   "metadata": {},
   "outputs": [
    {
     "name": "stdout",
     "output_type": "stream",
     "text": [
      "0.027436107397079468\n",
      "0.024431224912405014\n"
     ]
    }
   ],
   "source": [
    "train_loss, train_rmse =  STD_LSTM.evaluate(X_train,y_train, verbose=0)\n",
    "print(train_rmse)\n",
    "test_loss,test_rmse = STD_LSTM.evaluate( X_test,y_test,verbose=0)\n",
    "print(test_rmse)"
   ]
  },
  {
   "cell_type": "markdown",
   "metadata": {},
   "source": [
    "## Stacked LSTM"
   ]
  },
  {
   "cell_type": "markdown",
   "metadata": {},
   "source": [
    "Every LSTM layer should be accompanied by a Dropout layer. This layer will help to prevent overfitting by ignoring randomly selected neurons during training, and hence reduces the sensitivity to the specific weights of individual neurons. 20% is often used as a good compromise between retaining model accuracy and preventing overfitting."
   ]
  },
  {
   "cell_type": "markdown",
   "metadata": {},
   "source": [
    "After trialling different types of LSTM models with different activation functions and parameters, we decided the Stacked LSTM with tanh function was best in terms of performance and retaining a strong accuracy."
   ]
  },
  {
   "cell_type": "code",
   "execution_count": 197,
   "metadata": {},
   "outputs": [
    {
     "data": {
      "text/html": [
       "<pre style=\"white-space:pre;overflow-x:auto;line-height:normal;font-family:Menlo,'DejaVu Sans Mono',consolas,'Courier New',monospace\"><span style=\"font-weight: bold\">Model: \"sequential_17\"</span>\n",
       "</pre>\n"
      ],
      "text/plain": [
       "\u001b[1mModel: \"sequential_17\"\u001b[0m\n"
      ]
     },
     "metadata": {},
     "output_type": "display_data"
    },
    {
     "data": {
      "text/html": [
       "<pre style=\"white-space:pre;overflow-x:auto;line-height:normal;font-family:Menlo,'DejaVu Sans Mono',consolas,'Courier New',monospace\">┏━━━━━━━━━━━━━━━━━━━━━━━━━━━━━━━━━┳━━━━━━━━━━━━━━━━━━━━━━━━┳━━━━━━━━━━━━━━━┓\n",
       "┃<span style=\"font-weight: bold\"> Layer (type)                    </span>┃<span style=\"font-weight: bold\"> Output Shape           </span>┃<span style=\"font-weight: bold\">       Param # </span>┃\n",
       "┡━━━━━━━━━━━━━━━━━━━━━━━━━━━━━━━━━╇━━━━━━━━━━━━━━━━━━━━━━━━╇━━━━━━━━━━━━━━━┩\n",
       "│ lstm_28 (<span style=\"color: #0087ff; text-decoration-color: #0087ff\">LSTM</span>)                  │ (<span style=\"color: #00d7ff; text-decoration-color: #00d7ff\">None</span>, <span style=\"color: #00af00; text-decoration-color: #00af00\">10</span>, <span style=\"color: #00af00; text-decoration-color: #00af00\">32</span>)         │         <span style=\"color: #00af00; text-decoration-color: #00af00\">5,248</span> │\n",
       "├─────────────────────────────────┼────────────────────────┼───────────────┤\n",
       "│ dropout_9 (<span style=\"color: #0087ff; text-decoration-color: #0087ff\">Dropout</span>)             │ (<span style=\"color: #00d7ff; text-decoration-color: #00d7ff\">None</span>, <span style=\"color: #00af00; text-decoration-color: #00af00\">10</span>, <span style=\"color: #00af00; text-decoration-color: #00af00\">32</span>)         │             <span style=\"color: #00af00; text-decoration-color: #00af00\">0</span> │\n",
       "├─────────────────────────────────┼────────────────────────┼───────────────┤\n",
       "│ lstm_29 (<span style=\"color: #0087ff; text-decoration-color: #0087ff\">LSTM</span>)                  │ (<span style=\"color: #00d7ff; text-decoration-color: #00d7ff\">None</span>, <span style=\"color: #00af00; text-decoration-color: #00af00\">16</span>)             │         <span style=\"color: #00af00; text-decoration-color: #00af00\">3,136</span> │\n",
       "├─────────────────────────────────┼────────────────────────┼───────────────┤\n",
       "│ dense_16 (<span style=\"color: #0087ff; text-decoration-color: #0087ff\">Dense</span>)                │ (<span style=\"color: #00d7ff; text-decoration-color: #00d7ff\">None</span>, <span style=\"color: #00af00; text-decoration-color: #00af00\">1</span>)              │            <span style=\"color: #00af00; text-decoration-color: #00af00\">17</span> │\n",
       "└─────────────────────────────────┴────────────────────────┴───────────────┘\n",
       "</pre>\n"
      ],
      "text/plain": [
       "┏━━━━━━━━━━━━━━━━━━━━━━━━━━━━━━━━━┳━━━━━━━━━━━━━━━━━━━━━━━━┳━━━━━━━━━━━━━━━┓\n",
       "┃\u001b[1m \u001b[0m\u001b[1mLayer (type)                   \u001b[0m\u001b[1m \u001b[0m┃\u001b[1m \u001b[0m\u001b[1mOutput Shape          \u001b[0m\u001b[1m \u001b[0m┃\u001b[1m \u001b[0m\u001b[1m      Param #\u001b[0m\u001b[1m \u001b[0m┃\n",
       "┡━━━━━━━━━━━━━━━━━━━━━━━━━━━━━━━━━╇━━━━━━━━━━━━━━━━━━━━━━━━╇━━━━━━━━━━━━━━━┩\n",
       "│ lstm_28 (\u001b[38;5;33mLSTM\u001b[0m)                  │ (\u001b[38;5;45mNone\u001b[0m, \u001b[38;5;34m10\u001b[0m, \u001b[38;5;34m32\u001b[0m)         │         \u001b[38;5;34m5,248\u001b[0m │\n",
       "├─────────────────────────────────┼────────────────────────┼───────────────┤\n",
       "│ dropout_9 (\u001b[38;5;33mDropout\u001b[0m)             │ (\u001b[38;5;45mNone\u001b[0m, \u001b[38;5;34m10\u001b[0m, \u001b[38;5;34m32\u001b[0m)         │             \u001b[38;5;34m0\u001b[0m │\n",
       "├─────────────────────────────────┼────────────────────────┼───────────────┤\n",
       "│ lstm_29 (\u001b[38;5;33mLSTM\u001b[0m)                  │ (\u001b[38;5;45mNone\u001b[0m, \u001b[38;5;34m16\u001b[0m)             │         \u001b[38;5;34m3,136\u001b[0m │\n",
       "├─────────────────────────────────┼────────────────────────┼───────────────┤\n",
       "│ dense_16 (\u001b[38;5;33mDense\u001b[0m)                │ (\u001b[38;5;45mNone\u001b[0m, \u001b[38;5;34m1\u001b[0m)              │            \u001b[38;5;34m17\u001b[0m │\n",
       "└─────────────────────────────────┴────────────────────────┴───────────────┘\n"
      ]
     },
     "metadata": {},
     "output_type": "display_data"
    },
    {
     "data": {
      "text/html": [
       "<pre style=\"white-space:pre;overflow-x:auto;line-height:normal;font-family:Menlo,'DejaVu Sans Mono',consolas,'Courier New',monospace\"><span style=\"font-weight: bold\"> Total params: </span><span style=\"color: #00af00; text-decoration-color: #00af00\">8,401</span> (32.82 KB)\n",
       "</pre>\n"
      ],
      "text/plain": [
       "\u001b[1m Total params: \u001b[0m\u001b[38;5;34m8,401\u001b[0m (32.82 KB)\n"
      ]
     },
     "metadata": {},
     "output_type": "display_data"
    },
    {
     "data": {
      "text/html": [
       "<pre style=\"white-space:pre;overflow-x:auto;line-height:normal;font-family:Menlo,'DejaVu Sans Mono',consolas,'Courier New',monospace\"><span style=\"font-weight: bold\"> Trainable params: </span><span style=\"color: #00af00; text-decoration-color: #00af00\">8,401</span> (32.82 KB)\n",
       "</pre>\n"
      ],
      "text/plain": [
       "\u001b[1m Trainable params: \u001b[0m\u001b[38;5;34m8,401\u001b[0m (32.82 KB)\n"
      ]
     },
     "metadata": {},
     "output_type": "display_data"
    },
    {
     "data": {
      "text/html": [
       "<pre style=\"white-space:pre;overflow-x:auto;line-height:normal;font-family:Menlo,'DejaVu Sans Mono',consolas,'Courier New',monospace\"><span style=\"font-weight: bold\"> Non-trainable params: </span><span style=\"color: #00af00; text-decoration-color: #00af00\">0</span> (0.00 B)\n",
       "</pre>\n"
      ],
      "text/plain": [
       "\u001b[1m Non-trainable params: \u001b[0m\u001b[38;5;34m0\u001b[0m (0.00 B)\n"
      ]
     },
     "metadata": {},
     "output_type": "display_data"
    }
   ],
   "source": [
    "\n",
    "STCK_LSTM = Sequential()\n",
    "STCK_LSTM.add(Input(shape =(n_steps, n_features)))\n",
    "STCK_LSTM.add(LSTM(32,return_sequences=True))\n",
    "STCK_LSTM.add(Dropout(0.2)) #Prevent overfitting\n",
    "STCK_LSTM.add(LSTM(16, return_sequences=False))\n",
    "STCK_LSTM.add(Dense(n_outputs, activation='tanh')) \n",
    "STCK_LSTM.compile(optimizer=Adam(learning_rate = 0.001), loss='mse', metrics = [RootMeanSquaredError()])\n",
    "\n",
    "STCK_LSTM.summary()\n",
    "\n"
   ]
  },
  {
   "cell_type": "markdown",
   "metadata": {},
   "source": [
    "## Early Stopping"
   ]
  },
  {
   "cell_type": "code",
   "execution_count": 198,
   "metadata": {},
   "outputs": [],
   "source": [
    "early_stopping = EarlyStopping(monitor='val_loss', patience=10, restore_best_weights=True)"
   ]
  },
  {
   "cell_type": "code",
   "execution_count": 199,
   "metadata": {},
   "outputs": [
    {
     "name": "stdout",
     "output_type": "stream",
     "text": [
      "Epoch 1/100\n",
      "\u001b[1m555/555\u001b[0m \u001b[32m━━━━━━━━━━━━━━━━━━━━\u001b[0m\u001b[37m\u001b[0m \u001b[1m6s\u001b[0m 9ms/step - loss: 0.0063 - root_mean_squared_error: 0.0774 - val_loss: 0.0031 - val_root_mean_squared_error: 0.0554\n",
      "Epoch 2/100\n",
      "\u001b[1m555/555\u001b[0m \u001b[32m━━━━━━━━━━━━━━━━━━━━\u001b[0m\u001b[37m\u001b[0m \u001b[1m5s\u001b[0m 9ms/step - loss: 0.0025 - root_mean_squared_error: 0.0495 - val_loss: 0.0019 - val_root_mean_squared_error: 0.0435\n",
      "Epoch 3/100\n",
      "\u001b[1m555/555\u001b[0m \u001b[32m━━━━━━━━━━━━━━━━━━━━\u001b[0m\u001b[37m\u001b[0m \u001b[1m5s\u001b[0m 9ms/step - loss: 0.0017 - root_mean_squared_error: 0.0411 - val_loss: 0.0014 - val_root_mean_squared_error: 0.0368\n",
      "Epoch 4/100\n",
      "\u001b[1m555/555\u001b[0m \u001b[32m━━━━━━━━━━━━━━━━━━━━\u001b[0m\u001b[37m\u001b[0m \u001b[1m5s\u001b[0m 8ms/step - loss: 0.0013 - root_mean_squared_error: 0.0365 - val_loss: 0.0011 - val_root_mean_squared_error: 0.0335\n",
      "Epoch 5/100\n",
      "\u001b[1m555/555\u001b[0m \u001b[32m━━━━━━━━━━━━━━━━━━━━\u001b[0m\u001b[37m\u001b[0m \u001b[1m5s\u001b[0m 8ms/step - loss: 0.0011 - root_mean_squared_error: 0.0335 - val_loss: 7.4839e-04 - val_root_mean_squared_error: 0.0274\n",
      "Epoch 6/100\n",
      "\u001b[1m555/555\u001b[0m \u001b[32m━━━━━━━━━━━━━━━━━━━━\u001b[0m\u001b[37m\u001b[0m \u001b[1m5s\u001b[0m 9ms/step - loss: 0.0011 - root_mean_squared_error: 0.0328 - val_loss: 7.7582e-04 - val_root_mean_squared_error: 0.0279\n",
      "Epoch 7/100\n",
      "\u001b[1m555/555\u001b[0m \u001b[32m━━━━━━━━━━━━━━━━━━━━\u001b[0m\u001b[37m\u001b[0m \u001b[1m5s\u001b[0m 9ms/step - loss: 0.0010 - root_mean_squared_error: 0.0319 - val_loss: 7.5769e-04 - val_root_mean_squared_error: 0.0275\n",
      "Epoch 8/100\n",
      "\u001b[1m555/555\u001b[0m \u001b[32m━━━━━━━━━━━━━━━━━━━━\u001b[0m\u001b[37m\u001b[0m \u001b[1m5s\u001b[0m 9ms/step - loss: 0.0011 - root_mean_squared_error: 0.0327 - val_loss: 7.4653e-04 - val_root_mean_squared_error: 0.0273\n",
      "Epoch 9/100\n",
      "\u001b[1m555/555\u001b[0m \u001b[32m━━━━━━━━━━━━━━━━━━━━\u001b[0m\u001b[37m\u001b[0m \u001b[1m5s\u001b[0m 9ms/step - loss: 0.0010 - root_mean_squared_error: 0.0319 - val_loss: 7.3230e-04 - val_root_mean_squared_error: 0.0271\n",
      "Epoch 10/100\n",
      "\u001b[1m555/555\u001b[0m \u001b[32m━━━━━━━━━━━━━━━━━━━━\u001b[0m\u001b[37m\u001b[0m \u001b[1m5s\u001b[0m 8ms/step - loss: 9.6182e-04 - root_mean_squared_error: 0.0309 - val_loss: 7.4674e-04 - val_root_mean_squared_error: 0.0273\n",
      "Epoch 11/100\n",
      "\u001b[1m555/555\u001b[0m \u001b[32m━━━━━━━━━━━━━━━━━━━━\u001b[0m\u001b[37m\u001b[0m \u001b[1m5s\u001b[0m 8ms/step - loss: 9.6810e-04 - root_mean_squared_error: 0.0309 - val_loss: 7.6146e-04 - val_root_mean_squared_error: 0.0276\n",
      "Epoch 12/100\n",
      "\u001b[1m555/555\u001b[0m \u001b[32m━━━━━━━━━━━━━━━━━━━━\u001b[0m\u001b[37m\u001b[0m \u001b[1m5s\u001b[0m 9ms/step - loss: 9.7940e-04 - root_mean_squared_error: 0.0311 - val_loss: 7.4175e-04 - val_root_mean_squared_error: 0.0272\n",
      "Epoch 13/100\n",
      "\u001b[1m555/555\u001b[0m \u001b[32m━━━━━━━━━━━━━━━━━━━━\u001b[0m\u001b[37m\u001b[0m \u001b[1m5s\u001b[0m 9ms/step - loss: 9.7384e-04 - root_mean_squared_error: 0.0310 - val_loss: 7.3707e-04 - val_root_mean_squared_error: 0.0271\n",
      "Epoch 14/100\n",
      "\u001b[1m555/555\u001b[0m \u001b[32m━━━━━━━━━━━━━━━━━━━━\u001b[0m\u001b[37m\u001b[0m \u001b[1m5s\u001b[0m 9ms/step - loss: 9.3102e-04 - root_mean_squared_error: 0.0304 - val_loss: 7.5340e-04 - val_root_mean_squared_error: 0.0274\n",
      "Epoch 15/100\n",
      "\u001b[1m555/555\u001b[0m \u001b[32m━━━━━━━━━━━━━━━━━━━━\u001b[0m\u001b[37m\u001b[0m \u001b[1m5s\u001b[0m 9ms/step - loss: 9.9103e-04 - root_mean_squared_error: 0.0312 - val_loss: 7.4458e-04 - val_root_mean_squared_error: 0.0273\n",
      "Epoch 16/100\n",
      "\u001b[1m555/555\u001b[0m \u001b[32m━━━━━━━━━━━━━━━━━━━━\u001b[0m\u001b[37m\u001b[0m \u001b[1m5s\u001b[0m 9ms/step - loss: 9.3138e-04 - root_mean_squared_error: 0.0303 - val_loss: 7.6585e-04 - val_root_mean_squared_error: 0.0277\n",
      "Epoch 17/100\n",
      "\u001b[1m555/555\u001b[0m \u001b[32m━━━━━━━━━━━━━━━━━━━━\u001b[0m\u001b[37m\u001b[0m \u001b[1m5s\u001b[0m 9ms/step - loss: 9.1534e-04 - root_mean_squared_error: 0.0301 - val_loss: 7.4527e-04 - val_root_mean_squared_error: 0.0273\n",
      "Epoch 18/100\n",
      "\u001b[1m555/555\u001b[0m \u001b[32m━━━━━━━━━━━━━━━━━━━━\u001b[0m\u001b[37m\u001b[0m \u001b[1m5s\u001b[0m 9ms/step - loss: 9.4786e-04 - root_mean_squared_error: 0.0306 - val_loss: 7.6996e-04 - val_root_mean_squared_error: 0.0277\n",
      "Epoch 19/100\n",
      "\u001b[1m555/555\u001b[0m \u001b[32m━━━━━━━━━━━━━━━━━━━━\u001b[0m\u001b[37m\u001b[0m \u001b[1m5s\u001b[0m 9ms/step - loss: 9.0486e-04 - root_mean_squared_error: 0.0299 - val_loss: 7.9727e-04 - val_root_mean_squared_error: 0.0282\n"
     ]
    }
   ],
   "source": [
    "with tf.device('/CPU:0'):\n",
    "    history = STCK_LSTM.fit(X_train, y_train, epochs=100, validation_split=0.1,  callbacks=[early_stopping], batch_size=64,shuffle=False)"
   ]
  },
  {
   "cell_type": "code",
   "execution_count": 200,
   "metadata": {},
   "outputs": [
    {
     "data": {
      "image/png": "[encoded data removed]",
      "text/plain": [
       "<Figure size 1500x600 with 1 Axes>"
      ]
     },
     "metadata": {},
     "output_type": "display_data"
    }
   ],
   "source": [
    "# Plotting the Training and Validation Loss Over Epochs\n",
    "plt.figure(figsize=(15,6))\n",
    "plt.plot(history.history['loss'], label='Training Loss')      # Plotting training loss\n",
    "plt.plot(history.history['val_loss'], label='Validation Loss')  # Plotting validation loss\n",
    "\n",
    "# Adding labels to the axes\n",
    "plt.xlabel('Epoch')    # Label for the x-axis\n",
    "plt.ylabel('Loss')      # Label for the y-axis\n",
    "\n",
    "# Adding a legend to distinguish between training and validation loss\n",
    "plt.legend()\n",
    "\n",
    "# Adding a title to the plot\n",
    "plt.title('Training and Validation Loss Over Epochs')\n",
    "\n",
    "# Displaying the plot\n",
    "plt.show()"
   ]
  },
  {
   "cell_type": "markdown",
   "metadata": {},
   "source": [
    "## Model epoch and rmse performance "
   ]
  },
  {
   "cell_type": "code",
   "execution_count": 110,
   "metadata": {},
   "outputs": [
    {
     "name": "stdout",
     "output_type": "stream",
     "text": [
      "epoch : 0\n",
      "Epoch 1/5\n",
      "\u001b[1m555/555\u001b[0m \u001b[32m━━━━━━━━━━━━━━━━━━━━\u001b[0m\u001b[37m\u001b[0m \u001b[1m9s\u001b[0m 15ms/step - loss: 8.2933e-04 - root_mean_squared_error: 0.0288 - val_loss: 5.7869e-04 - val_root_mean_squared_error: 0.0241\n",
      "Epoch 2/5\n",
      "\u001b[1m555/555\u001b[0m \u001b[32m━━━━━━━━━━━━━━━━━━━━\u001b[0m\u001b[37m\u001b[0m \u001b[1m9s\u001b[0m 16ms/step - loss: 7.2935e-04 - root_mean_squared_error: 0.0270 - val_loss: 5.9951e-04 - val_root_mean_squared_error: 0.0245\n",
      "Epoch 3/5\n",
      "\u001b[1m555/555\u001b[0m \u001b[32m━━━━━━━━━━━━━━━━━━━━\u001b[0m\u001b[37m\u001b[0m \u001b[1m9s\u001b[0m 15ms/step - loss: 7.2236e-04 - root_mean_squared_error: 0.0269 - val_loss: 6.1508e-04 - val_root_mean_squared_error: 0.0248\n",
      "Epoch 4/5\n",
      "\u001b[1m555/555\u001b[0m \u001b[32m━━━━━━━━━━━━━━━━━━━━\u001b[0m\u001b[37m\u001b[0m \u001b[1m8s\u001b[0m 14ms/step - loss: 7.3391e-04 - root_mean_squared_error: 0.0271 - val_loss: 5.7250e-04 - val_root_mean_squared_error: 0.0239\n",
      "Epoch 5/5\n",
      "\u001b[1m555/555\u001b[0m \u001b[32m━━━━━━━━━━━━━━━━━━━━\u001b[0m\u001b[37m\u001b[0m \u001b[1m8s\u001b[0m 14ms/step - loss: 7.5255e-04 - root_mean_squared_error: 0.0274 - val_loss: 5.8324e-04 - val_root_mean_squared_error: 0.0242\n",
      "\u001b[1m1232/1232\u001b[0m \u001b[32m━━━━━━━━━━━━━━━━━━━━\u001b[0m\u001b[37m\u001b[0m \u001b[1m5s\u001b[0m 4ms/step - loss: 7.4321e-04 - root_mean_squared_error: 0.0272\n",
      "\u001b[1m137/137\u001b[0m \u001b[32m━━━━━━━━━━━━━━━━━━━━\u001b[0m\u001b[37m\u001b[0m \u001b[1m1s\u001b[0m 4ms/step - loss: 2.7498e-04 - root_mean_squared_error: 0.0164\n",
      "epoch : 5\n",
      "Epoch 1/5\n",
      "\u001b[1m555/555\u001b[0m \u001b[32m━━━━━━━━━━━━━━━━━━━━\u001b[0m\u001b[37m\u001b[0m \u001b[1m9s\u001b[0m 15ms/step - loss: 7.3656e-04 - root_mean_squared_error: 0.0270 - val_loss: 5.7350e-04 - val_root_mean_squared_error: 0.0239\n",
      "Epoch 2/5\n",
      "\u001b[1m555/555\u001b[0m \u001b[32m━━━━━━━━━━━━━━━━━━━━\u001b[0m\u001b[37m\u001b[0m \u001b[1m8s\u001b[0m 15ms/step - loss: 7.4102e-04 - root_mean_squared_error: 0.0272 - val_loss: 5.7671e-04 - val_root_mean_squared_error: 0.0240\n",
      "Epoch 3/5\n",
      "\u001b[1m555/555\u001b[0m \u001b[32m━━━━━━━━━━━━━━━━━━━━\u001b[0m\u001b[37m\u001b[0m \u001b[1m8s\u001b[0m 14ms/step - loss: 6.8634e-04 - root_mean_squared_error: 0.0262 - val_loss: 5.8771e-04 - val_root_mean_squared_error: 0.0242\n",
      "Epoch 4/5\n",
      "\u001b[1m555/555\u001b[0m \u001b[32m━━━━━━━━━━━━━━━━━━━━\u001b[0m\u001b[37m\u001b[0m \u001b[1m7s\u001b[0m 13ms/step - loss: 7.5744e-04 - root_mean_squared_error: 0.0275 - val_loss: 5.6047e-04 - val_root_mean_squared_error: 0.0237\n",
      "Epoch 5/5\n",
      "\u001b[1m555/555\u001b[0m \u001b[32m━━━━━━━━━━━━━━━━━━━━\u001b[0m\u001b[37m\u001b[0m \u001b[1m8s\u001b[0m 14ms/step - loss: 6.7068e-04 - root_mean_squared_error: 0.0259 - val_loss: 5.6397e-04 - val_root_mean_squared_error: 0.0237\n",
      "\u001b[1m1232/1232\u001b[0m \u001b[32m━━━━━━━━━━━━━━━━━━━━\u001b[0m\u001b[37m\u001b[0m \u001b[1m4s\u001b[0m 3ms/step - loss: 7.2216e-04 - root_mean_squared_error: 0.0268\n",
      "\u001b[1m137/137\u001b[0m \u001b[32m━━━━━━━━━━━━━━━━━━━━\u001b[0m\u001b[37m\u001b[0m \u001b[1m0s\u001b[0m 3ms/step - loss: 2.7735e-04 - root_mean_squared_error: 0.0165\n",
      "epoch : 10\n",
      "Epoch 1/5\n",
      "\u001b[1m555/555\u001b[0m \u001b[32m━━━━━━━━━━━━━━━━━━━━\u001b[0m\u001b[37m\u001b[0m \u001b[1m8s\u001b[0m 14ms/step - loss: 7.0446e-04 - root_mean_squared_error: 0.0265 - val_loss: 5.6948e-04 - val_root_mean_squared_error: 0.0239\n",
      "Epoch 2/5\n",
      "\u001b[1m555/555\u001b[0m \u001b[32m━━━━━━━━━━━━━━━━━━━━\u001b[0m\u001b[37m\u001b[0m \u001b[1m8s\u001b[0m 14ms/step - loss: 6.7865e-04 - root_mean_squared_error: 0.0260 - val_loss: 5.5823e-04 - val_root_mean_squared_error: 0.0236\n",
      "Epoch 3/5\n",
      "\u001b[1m555/555\u001b[0m \u001b[32m━━━━━━━━━━━━━━━━━━━━\u001b[0m\u001b[37m\u001b[0m \u001b[1m8s\u001b[0m 14ms/step - loss: 6.5460e-04 - root_mean_squared_error: 0.0256 - val_loss: 5.6774e-04 - val_root_mean_squared_error: 0.0238\n",
      "Epoch 4/5\n",
      "\u001b[1m555/555\u001b[0m \u001b[32m━━━━━━━━━━━━━━━━━━━━\u001b[0m\u001b[37m\u001b[0m \u001b[1m7s\u001b[0m 13ms/step - loss: 6.9767e-04 - root_mean_squared_error: 0.0264 - val_loss: 5.7108e-04 - val_root_mean_squared_error: 0.0239\n",
      "Epoch 5/5\n",
      "\u001b[1m555/555\u001b[0m \u001b[32m━━━━━━━━━━━━━━━━━━━━\u001b[0m\u001b[37m\u001b[0m \u001b[1m7s\u001b[0m 13ms/step - loss: 7.2310e-04 - root_mean_squared_error: 0.0269 - val_loss: 5.9080e-04 - val_root_mean_squared_error: 0.0243\n",
      "\u001b[1m1232/1232\u001b[0m \u001b[32m━━━━━━━━━━━━━━━━━━━━\u001b[0m\u001b[37m\u001b[0m \u001b[1m4s\u001b[0m 3ms/step - loss: 7.4472e-04 - root_mean_squared_error: 0.0272\n",
      "\u001b[1m137/137\u001b[0m \u001b[32m━━━━━━━━━━━━━━━━━━━━\u001b[0m\u001b[37m\u001b[0m \u001b[1m0s\u001b[0m 3ms/step - loss: 2.9829e-04 - root_mean_squared_error: 0.0171\n",
      "epoch : 15\n",
      "Epoch 1/5\n",
      "\u001b[1m555/555\u001b[0m \u001b[32m━━━━━━━━━━━━━━━━━━━━\u001b[0m\u001b[37m\u001b[0m \u001b[1m8s\u001b[0m 14ms/step - loss: 7.7007e-04 - root_mean_squared_error: 0.0277 - val_loss: 5.9694e-04 - val_root_mean_squared_error: 0.0244\n",
      "Epoch 2/5\n",
      "\u001b[1m555/555\u001b[0m \u001b[32m━━━━━━━━━━━━━━━━━━━━\u001b[0m\u001b[37m\u001b[0m \u001b[1m8s\u001b[0m 14ms/step - loss: 7.2952e-04 - root_mean_squared_error: 0.0270 - val_loss: 5.7871e-04 - val_root_mean_squared_error: 0.0241\n",
      "Epoch 3/5\n",
      "\u001b[1m555/555\u001b[0m \u001b[32m━━━━━━━━━━━━━━━━━━━━\u001b[0m\u001b[37m\u001b[0m \u001b[1m8s\u001b[0m 14ms/step - loss: 7.0589e-04 - root_mean_squared_error: 0.0265 - val_loss: 5.7139e-04 - val_root_mean_squared_error: 0.0239\n",
      "Epoch 4/5\n",
      "\u001b[1m555/555\u001b[0m \u001b[32m━━━━━━━━━━━━━━━━━━━━\u001b[0m\u001b[37m\u001b[0m \u001b[1m8s\u001b[0m 14ms/step - loss: 7.0614e-04 - root_mean_squared_error: 0.0266 - val_loss: 5.6343e-04 - val_root_mean_squared_error: 0.0237\n",
      "Epoch 5/5\n",
      "\u001b[1m555/555\u001b[0m \u001b[32m━━━━━━━━━━━━━━━━━━━━\u001b[0m\u001b[37m\u001b[0m \u001b[1m8s\u001b[0m 14ms/step - loss: 7.4991e-04 - root_mean_squared_error: 0.0274 - val_loss: 5.5185e-04 - val_root_mean_squared_error: 0.0235\n",
      "\u001b[1m1232/1232\u001b[0m \u001b[32m━━━━━━━━━━━━━━━━━━━━\u001b[0m\u001b[37m\u001b[0m \u001b[1m4s\u001b[0m 3ms/step - loss: 7.0483e-04 - root_mean_squared_error: 0.0264\n",
      "\u001b[1m137/137\u001b[0m \u001b[32m━━━━━━━━━━━━━━━━━━━━\u001b[0m\u001b[37m\u001b[0m \u001b[1m0s\u001b[0m 3ms/step - loss: 2.6962e-04 - root_mean_squared_error: 0.0162\n",
      "epoch : 20\n",
      "Epoch 1/5\n",
      "\u001b[1m555/555\u001b[0m \u001b[32m━━━━━━━━━━━━━━━━━━━━\u001b[0m\u001b[37m\u001b[0m \u001b[1m8s\u001b[0m 14ms/step - loss: 6.5047e-04 - root_mean_squared_error: 0.0255 - val_loss: 5.6027e-04 - val_root_mean_squared_error: 0.0237\n",
      "Epoch 2/5\n",
      "\u001b[1m555/555\u001b[0m \u001b[32m━━━━━━━━━━━━━━━━━━━━\u001b[0m\u001b[37m\u001b[0m \u001b[1m7s\u001b[0m 13ms/step - loss: 6.9341e-04 - root_mean_squared_error: 0.0263 - val_loss: 5.6019e-04 - val_root_mean_squared_error: 0.0237\n",
      "Epoch 3/5\n",
      "\u001b[1m555/555\u001b[0m \u001b[32m━━━━━━━━━━━━━━━━━━━━\u001b[0m\u001b[37m\u001b[0m \u001b[1m7s\u001b[0m 13ms/step - loss: 6.9017e-04 - root_mean_squared_error: 0.0263 - val_loss: 5.6115e-04 - val_root_mean_squared_error: 0.0237\n",
      "Epoch 4/5\n",
      "\u001b[1m555/555\u001b[0m \u001b[32m━━━━━━━━━━━━━━━━━━━━\u001b[0m\u001b[37m\u001b[0m \u001b[1m7s\u001b[0m 13ms/step - loss: 6.3615e-04 - root_mean_squared_error: 0.0252 - val_loss: 6.0132e-04 - val_root_mean_squared_error: 0.0245\n",
      "Epoch 5/5\n",
      "\u001b[1m555/555\u001b[0m \u001b[32m━━━━━━━━━━━━━━━━━━━━\u001b[0m\u001b[37m\u001b[0m \u001b[1m7s\u001b[0m 13ms/step - loss: 7.5149e-04 - root_mean_squared_error: 0.0274 - val_loss: 5.6670e-04 - val_root_mean_squared_error: 0.0238\n",
      "\u001b[1m1232/1232\u001b[0m \u001b[32m━━━━━━━━━━━━━━━━━━━━\u001b[0m\u001b[37m\u001b[0m \u001b[1m5s\u001b[0m 4ms/step - loss: 7.1037e-04 - root_mean_squared_error: 0.0266\n",
      "\u001b[1m137/137\u001b[0m \u001b[32m━━━━━━━━━━━━━━━━━━━━\u001b[0m\u001b[37m\u001b[0m \u001b[1m0s\u001b[0m 3ms/step - loss: 2.8730e-04 - root_mean_squared_error: 0.0168\n",
      "epoch : 25\n",
      "Epoch 1/5\n",
      "\u001b[1m555/555\u001b[0m \u001b[32m━━━━━━━━━━━━━━━━━━━━\u001b[0m\u001b[37m\u001b[0m \u001b[1m7s\u001b[0m 13ms/step - loss: 6.9762e-04 - root_mean_squared_error: 0.0264 - val_loss: 5.5243e-04 - val_root_mean_squared_error: 0.0235\n",
      "Epoch 2/5\n",
      "\u001b[1m555/555\u001b[0m \u001b[32m━━━━━━━━━━━━━━━━━━━━\u001b[0m\u001b[37m\u001b[0m \u001b[1m7s\u001b[0m 13ms/step - loss: 7.1853e-04 - root_mean_squared_error: 0.0268 - val_loss: 6.0784e-04 - val_root_mean_squared_error: 0.0247\n",
      "Epoch 3/5\n",
      "\u001b[1m555/555\u001b[0m \u001b[32m━━━━━━━━━━━━━━━━━━━━\u001b[0m\u001b[37m\u001b[0m \u001b[1m7s\u001b[0m 13ms/step - loss: 6.8010e-04 - root_mean_squared_error: 0.0261 - val_loss: 5.6912e-04 - val_root_mean_squared_error: 0.0239\n",
      "Epoch 4/5\n",
      "\u001b[1m555/555\u001b[0m \u001b[32m━━━━━━━━━━━━━━━━━━━━\u001b[0m\u001b[37m\u001b[0m \u001b[1m7s\u001b[0m 13ms/step - loss: 7.3980e-04 - root_mean_squared_error: 0.0272 - val_loss: 5.4778e-04 - val_root_mean_squared_error: 0.0234\n",
      "Epoch 5/5\n",
      "\u001b[1m555/555\u001b[0m \u001b[32m━━━━━━━━━━━━━━━━━━━━\u001b[0m\u001b[37m\u001b[0m \u001b[1m11s\u001b[0m 19ms/step - loss: 6.7841e-04 - root_mean_squared_error: 0.0260 - val_loss: 5.5816e-04 - val_root_mean_squared_error: 0.0236\n",
      "\u001b[1m1232/1232\u001b[0m \u001b[32m━━━━━━━━━━━━━━━━━━━━\u001b[0m\u001b[37m\u001b[0m \u001b[1m5s\u001b[0m 4ms/step - loss: 7.0194e-04 - root_mean_squared_error: 0.0264\n",
      "\u001b[1m137/137\u001b[0m \u001b[32m━━━━━━━━━━━━━━━━━━━━\u001b[0m\u001b[37m\u001b[0m \u001b[1m1s\u001b[0m 4ms/step - loss: 2.7388e-04 - root_mean_squared_error: 0.0163\n",
      "epoch : 30\n",
      "Epoch 1/5\n",
      "\u001b[1m555/555\u001b[0m \u001b[32m━━━━━━━━━━━━━━━━━━━━\u001b[0m\u001b[37m\u001b[0m \u001b[1m9s\u001b[0m 16ms/step - loss: 6.8276e-04 - root_mean_squared_error: 0.0261 - val_loss: 5.6753e-04 - val_root_mean_squared_error: 0.0238\n",
      "Epoch 2/5\n",
      "\u001b[1m555/555\u001b[0m \u001b[32m━━━━━━━━━━━━━━━━━━━━\u001b[0m\u001b[37m\u001b[0m \u001b[1m10s\u001b[0m 17ms/step - loss: 7.2198e-04 - root_mean_squared_error: 0.0268 - val_loss: 5.7441e-04 - val_root_mean_squared_error: 0.0240\n",
      "Epoch 3/5\n",
      "\u001b[1m555/555\u001b[0m \u001b[32m━━━━━━━━━━━━━━━━━━━━\u001b[0m\u001b[37m\u001b[0m \u001b[1m9s\u001b[0m 15ms/step - loss: 6.6071e-04 - root_mean_squared_error: 0.0257 - val_loss: 5.6895e-04 - val_root_mean_squared_error: 0.0239\n",
      "Epoch 4/5\n",
      "\u001b[1m555/555\u001b[0m \u001b[32m━━━━━━━━━━━━━━━━━━━━\u001b[0m\u001b[37m\u001b[0m \u001b[1m8s\u001b[0m 15ms/step - loss: 6.7833e-04 - root_mean_squared_error: 0.0260 - val_loss: 5.6102e-04 - val_root_mean_squared_error: 0.0237\n",
      "Epoch 5/5\n",
      "\u001b[1m555/555\u001b[0m \u001b[32m━━━━━━━━━━━━━━━━━━━━\u001b[0m\u001b[37m\u001b[0m \u001b[1m9s\u001b[0m 16ms/step - loss: 6.8108e-04 - root_mean_squared_error: 0.0261 - val_loss: 5.5347e-04 - val_root_mean_squared_error: 0.0235\n",
      "\u001b[1m1232/1232\u001b[0m \u001b[32m━━━━━━━━━━━━━━━━━━━━\u001b[0m\u001b[37m\u001b[0m \u001b[1m5s\u001b[0m 4ms/step - loss: 6.9757e-04 - root_mean_squared_error: 0.0263\n",
      "\u001b[1m137/137\u001b[0m \u001b[32m━━━━━━━━━━━━━━━━━━━━\u001b[0m\u001b[37m\u001b[0m \u001b[1m1s\u001b[0m 4ms/step - loss: 2.8661e-04 - root_mean_squared_error: 0.0168\n",
      "epoch : 35\n",
      "Epoch 1/5\n",
      "\u001b[1m555/555\u001b[0m \u001b[32m━━━━━━━━━━━━━━━━━━━━\u001b[0m\u001b[37m\u001b[0m \u001b[1m9s\u001b[0m 16ms/step - loss: 6.4576e-04 - root_mean_squared_error: 0.0254 - val_loss: 5.5009e-04 - val_root_mean_squared_error: 0.0235\n",
      "Epoch 2/5\n",
      "\u001b[1m555/555\u001b[0m \u001b[32m━━━━━━━━━━━━━━━━━━━━\u001b[0m\u001b[37m\u001b[0m \u001b[1m10s\u001b[0m 18ms/step - loss: 6.8408e-04 - root_mean_squared_error: 0.0261 - val_loss: 5.5471e-04 - val_root_mean_squared_error: 0.0236\n",
      "Epoch 3/5\n",
      "\u001b[1m555/555\u001b[0m \u001b[32m━━━━━━━━━━━━━━━━━━━━\u001b[0m\u001b[37m\u001b[0m \u001b[1m9s\u001b[0m 16ms/step - loss: 6.6673e-04 - root_mean_squared_error: 0.0258 - val_loss: 5.5646e-04 - val_root_mean_squared_error: 0.0236\n",
      "Epoch 4/5\n",
      "\u001b[1m555/555\u001b[0m \u001b[32m━━━━━━━━━━━━━━━━━━━━\u001b[0m\u001b[37m\u001b[0m \u001b[1m9s\u001b[0m 16ms/step - loss: 6.6976e-04 - root_mean_squared_error: 0.0259 - val_loss: 5.4377e-04 - val_root_mean_squared_error: 0.0233\n",
      "Epoch 5/5\n",
      "\u001b[1m555/555\u001b[0m \u001b[32m━━━━━━━━━━━━━━━━━━━━\u001b[0m\u001b[37m\u001b[0m \u001b[1m8s\u001b[0m 15ms/step - loss: 6.9452e-04 - root_mean_squared_error: 0.0263 - val_loss: 5.5564e-04 - val_root_mean_squared_error: 0.0236\n",
      "\u001b[1m1232/1232\u001b[0m \u001b[32m━━━━━━━━━━━━━━━━━━━━\u001b[0m\u001b[37m\u001b[0m \u001b[1m4s\u001b[0m 3ms/step - loss: 6.8863e-04 - root_mean_squared_error: 0.0261\n",
      "\u001b[1m137/137\u001b[0m \u001b[32m━━━━━━━━━━━━━━━━━━━━\u001b[0m\u001b[37m\u001b[0m \u001b[1m0s\u001b[0m 3ms/step - loss: 2.6945e-04 - root_mean_squared_error: 0.0162\n",
      "epoch : 40\n",
      "Epoch 1/5\n",
      "\u001b[1m555/555\u001b[0m \u001b[32m━━━━━━━━━━━━━━━━━━━━\u001b[0m\u001b[37m\u001b[0m \u001b[1m8s\u001b[0m 14ms/step - loss: 6.7526e-04 - root_mean_squared_error: 0.0260 - val_loss: 5.6640e-04 - val_root_mean_squared_error: 0.0238\n",
      "Epoch 2/5\n",
      "\u001b[1m555/555\u001b[0m \u001b[32m━━━━━━━━━━━━━━━━━━━━\u001b[0m\u001b[37m\u001b[0m \u001b[1m8s\u001b[0m 15ms/step - loss: 6.6009e-04 - root_mean_squared_error: 0.0257 - val_loss: 5.6142e-04 - val_root_mean_squared_error: 0.0237\n",
      "Epoch 3/5\n",
      "\u001b[1m555/555\u001b[0m \u001b[32m━━━━━━━━━━━━━━━━━━━━\u001b[0m\u001b[37m\u001b[0m \u001b[1m9s\u001b[0m 17ms/step - loss: 6.6446e-04 - root_mean_squared_error: 0.0258 - val_loss: 5.5132e-04 - val_root_mean_squared_error: 0.0235\n",
      "Epoch 4/5\n",
      "\u001b[1m555/555\u001b[0m \u001b[32m━━━━━━━━━━━━━━━━━━━━\u001b[0m\u001b[37m\u001b[0m \u001b[1m10s\u001b[0m 18ms/step - loss: 6.8604e-04 - root_mean_squared_error: 0.0262 - val_loss: 5.5816e-04 - val_root_mean_squared_error: 0.0236\n",
      "Epoch 5/5\n",
      "\u001b[1m555/555\u001b[0m \u001b[32m━━━━━━━━━━━━━━━━━━━━\u001b[0m\u001b[37m\u001b[0m \u001b[1m10s\u001b[0m 18ms/step - loss: 6.6173e-04 - root_mean_squared_error: 0.0257 - val_loss: 5.8493e-04 - val_root_mean_squared_error: 0.0242\n",
      "\u001b[1m1232/1232\u001b[0m \u001b[32m━━━━━━━━━━━━━━━━━━━━\u001b[0m\u001b[37m\u001b[0m \u001b[1m5s\u001b[0m 4ms/step - loss: 7.1138e-04 - root_mean_squared_error: 0.0266\n",
      "\u001b[1m137/137\u001b[0m \u001b[32m━━━━━━━━━━━━━━━━━━━━\u001b[0m\u001b[37m\u001b[0m \u001b[1m1s\u001b[0m 4ms/step - loss: 3.0272e-04 - root_mean_squared_error: 0.0172\n",
      "epoch : 45\n",
      "Epoch 1/5\n",
      "\u001b[1m555/555\u001b[0m \u001b[32m━━━━━━━━━━━━━━━━━━━━\u001b[0m\u001b[37m\u001b[0m \u001b[1m10s\u001b[0m 17ms/step - loss: 6.5003e-04 - root_mean_squared_error: 0.0255 - val_loss: 5.5391e-04 - val_root_mean_squared_error: 0.0235\n",
      "Epoch 2/5\n",
      "\u001b[1m555/555\u001b[0m \u001b[32m━━━━━━━━━━━━━━━━━━━━\u001b[0m\u001b[37m\u001b[0m \u001b[1m8s\u001b[0m 15ms/step - loss: 7.0358e-04 - root_mean_squared_error: 0.0265 - val_loss: 5.8148e-04 - val_root_mean_squared_error: 0.0241\n",
      "Epoch 3/5\n",
      "\u001b[1m555/555\u001b[0m \u001b[32m━━━━━━━━━━━━━━━━━━━━\u001b[0m\u001b[37m\u001b[0m \u001b[1m10s\u001b[0m 19ms/step - loss: 6.4282e-04 - root_mean_squared_error: 0.0253 - val_loss: 5.5799e-04 - val_root_mean_squared_error: 0.0236\n",
      "Epoch 4/5\n",
      "\u001b[1m555/555\u001b[0m \u001b[32m━━━━━━━━━━━━━━━━━━━━\u001b[0m\u001b[37m\u001b[0m \u001b[1m8s\u001b[0m 14ms/step - loss: 6.5305e-04 - root_mean_squared_error: 0.0255 - val_loss: 5.5682e-04 - val_root_mean_squared_error: 0.0236\n",
      "Epoch 5/5\n",
      "\u001b[1m555/555\u001b[0m \u001b[32m━━━━━━━━━━━━━━━━━━━━\u001b[0m\u001b[37m\u001b[0m \u001b[1m8s\u001b[0m 14ms/step - loss: 7.4330e-04 - root_mean_squared_error: 0.0272 - val_loss: 5.4971e-04 - val_root_mean_squared_error: 0.0234\n",
      "\u001b[1m1232/1232\u001b[0m \u001b[32m━━━━━━━━━━━━━━━━━━━━\u001b[0m\u001b[37m\u001b[0m \u001b[1m4s\u001b[0m 3ms/step - loss: 6.7697e-04 - root_mean_squared_error: 0.0259\n",
      "\u001b[1m137/137\u001b[0m \u001b[32m━━━━━━━━━━━━━━━━━━━━\u001b[0m\u001b[37m\u001b[0m \u001b[1m0s\u001b[0m 3ms/step - loss: 2.7162e-04 - root_mean_squared_error: 0.0163\n"
     ]
    }
   ],
   "source": [
    "epochs=[]\n",
    "train_rmse=[]\n",
    "test_rmse=[]\n",
    "delta_epochs=5\n",
    "eon=0\n",
    "for i in range(0,10) : \n",
    "        print(\"epoch : \" + str(eon))\n",
    "        STCK_LSTM.fit(X_train, y_train, epochs=delta_epochs, batch_size=64,validation_split=0.1)\n",
    "        train_scores = STCK_LSTM.evaluate(X_train, y_train)   \n",
    "        tests_scores = STCK_LSTM.evaluate(X_test, y_test)\n",
    "        eon+=delta_epochs\n",
    "        epochs.append(eon)\n",
    "        train_rmse.append(train_scores[1]) #RMSE\n",
    "        test_rmse.append(tests_scores[1])"
   ]
  },
  {
   "cell_type": "code",
   "execution_count": 111,
   "metadata": {},
   "outputs": [
    {
     "data": {
      "image/png": "[encoded data removed]",
      "text/plain": [
       "<Figure size 640x480 with 1 Axes>"
      ]
     },
     "metadata": {},
     "output_type": "display_data"
    }
   ],
   "source": [
    "results=[epochs,\n",
    "        train_rmse,\n",
    "        test_rmse]\n",
    "plt.plot(epochs,train_rmse,label='training RMSE')\n",
    "plt.plot(epochs,test_rmse,label='test RMSE')\n",
    "plt.show()"
   ]
  },
  {
   "cell_type": "markdown",
   "metadata": {},
   "source": [
    "# NEED TO EVALUATE MODEL EACH TIME BEFORE SEEING HOW IT PERFORMS ON TEST "
   ]
  },
  {
   "cell_type": "markdown",
   "metadata": {},
   "source": [
    "From early stopping we have determined a good epoch value is less than 20 so let's see have a closer look on how accuracy is affected. "
   ]
  },
  {
   "cell_type": "markdown",
   "metadata": {},
   "source": [
    "The model is trained incrementally, but it retains the weights from previous iterations. This means that even though scaledtormodel.fit runs for only 5 epochs in each loop, the total effective training time for the model is the cumulative epoch count (eon).\n"
   ]
  },
  {
   "cell_type": "markdown",
   "metadata": {},
   "source": [
    "## Evaluation: \n",
    "By this we see the optimal epoch value is between 15 and 20 and we continue with an epoch value of 17"
   ]
  },
  {
   "cell_type": "markdown",
   "metadata": {},
   "source": [
    "- Try without final dense(activation='relu') layer \n",
    "- try early stopping \n",
    "- try different batch size but might cause overfitting \n",
    "- first make some nice graphs \n",
    "- then try different techniques entirely \n"
   ]
  },
  {
   "cell_type": "markdown",
   "metadata": {},
   "source": [
    "## DO A BATCH SIZE TEST ERROR PLOT TO DECIDCDE ON A BATCH SIZE "
   ]
  },
  {
   "cell_type": "code",
   "execution_count": 63,
   "metadata": {},
   "outputs": [
    {
     "data": {
      "text/plain": [
       "(43452, 12, 8)"
      ]
     },
     "execution_count": 63,
     "metadata": {},
     "output_type": "execute_result"
    }
   ],
   "source": [
    "X_train.shape"
   ]
  },
  {
   "cell_type": "markdown",
   "metadata": {},
   "source": [
    "[samples, timesteps, features]"
   ]
  },
  {
   "cell_type": "code",
   "execution_count": 114,
   "metadata": {},
   "outputs": [
    {
     "name": "stdout",
     "output_type": "stream",
     "text": [
      "Epoch 1/20\n",
      "\u001b[1m555/555\u001b[0m \u001b[32m━━━━━━━━━━━━━━━━━━━━\u001b[0m\u001b[37m\u001b[0m \u001b[1m6s\u001b[0m 10ms/step - loss: 7.5106e-04 - root_mean_squared_error: 0.0273 - val_loss: 5.5612e-04 - val_root_mean_squared_error: 0.0236\n",
      "Epoch 2/20\n",
      "\u001b[1m555/555\u001b[0m \u001b[32m━━━━━━━━━━━━━━━━━━━━\u001b[0m\u001b[37m\u001b[0m \u001b[1m5s\u001b[0m 9ms/step - loss: 7.4527e-04 - root_mean_squared_error: 0.0272 - val_loss: 5.5703e-04 - val_root_mean_squared_error: 0.0236\n",
      "Epoch 3/20\n",
      "\u001b[1m555/555\u001b[0m \u001b[32m━━━━━━━━━━━━━━━━━━━━\u001b[0m\u001b[37m\u001b[0m \u001b[1m5s\u001b[0m 9ms/step - loss: 7.3422e-04 - root_mean_squared_error: 0.0270 - val_loss: 5.7432e-04 - val_root_mean_squared_error: 0.0240\n",
      "Epoch 4/20\n",
      "\u001b[1m555/555\u001b[0m \u001b[32m━━━━━━━━━━━━━━━━━━━━\u001b[0m\u001b[37m\u001b[0m \u001b[1m5s\u001b[0m 8ms/step - loss: 7.4543e-04 - root_mean_squared_error: 0.0272 - val_loss: 5.7537e-04 - val_root_mean_squared_error: 0.0240\n",
      "Epoch 5/20\n",
      "\u001b[1m555/555\u001b[0m \u001b[32m━━━━━━━━━━━━━━━━━━━━\u001b[0m\u001b[37m\u001b[0m \u001b[1m5s\u001b[0m 8ms/step - loss: 7.3200e-04 - root_mean_squared_error: 0.0270 - val_loss: 5.9860e-04 - val_root_mean_squared_error: 0.0245\n",
      "Epoch 6/20\n",
      "\u001b[1m555/555\u001b[0m \u001b[32m━━━━━━━━━━━━━━━━━━━━\u001b[0m\u001b[37m\u001b[0m \u001b[1m5s\u001b[0m 9ms/step - loss: 7.2820e-04 - root_mean_squared_error: 0.0269 - val_loss: 6.0838e-04 - val_root_mean_squared_error: 0.0247\n",
      "Epoch 7/20\n",
      "\u001b[1m555/555\u001b[0m \u001b[32m━━━━━━━━━━━━━━━━━━━━\u001b[0m\u001b[37m\u001b[0m \u001b[1m5s\u001b[0m 9ms/step - loss: 7.4379e-04 - root_mean_squared_error: 0.0272 - val_loss: 5.8337e-04 - val_root_mean_squared_error: 0.0242\n",
      "Epoch 8/20\n",
      "\u001b[1m555/555\u001b[0m \u001b[32m━━━━━━━━━━━━━━━━━━━━\u001b[0m\u001b[37m\u001b[0m \u001b[1m5s\u001b[0m 9ms/step - loss: 7.2546e-04 - root_mean_squared_error: 0.0268 - val_loss: 5.9433e-04 - val_root_mean_squared_error: 0.0244\n",
      "Epoch 9/20\n",
      "\u001b[1m555/555\u001b[0m \u001b[32m━━━━━━━━━━━━━━━━━━━━\u001b[0m\u001b[37m\u001b[0m \u001b[1m5s\u001b[0m 9ms/step - loss: 7.3006e-04 - root_mean_squared_error: 0.0269 - val_loss: 6.1359e-04 - val_root_mean_squared_error: 0.0248\n",
      "Epoch 10/20\n",
      "\u001b[1m555/555\u001b[0m \u001b[32m━━━━━━━━━━━━━━━━━━━━\u001b[0m\u001b[37m\u001b[0m \u001b[1m5s\u001b[0m 8ms/step - loss: 7.2950e-04 - root_mean_squared_error: 0.0269 - val_loss: 6.1850e-04 - val_root_mean_squared_error: 0.0249\n",
      "Epoch 11/20\n",
      "\u001b[1m555/555\u001b[0m \u001b[32m━━━━━━━━━━━━━━━━━━━━\u001b[0m\u001b[37m\u001b[0m \u001b[1m5s\u001b[0m 10ms/step - loss: 7.3230e-04 - root_mean_squared_error: 0.0270 - val_loss: 6.0872e-04 - val_root_mean_squared_error: 0.0247\n",
      "Epoch 12/20\n",
      "\u001b[1m555/555\u001b[0m \u001b[32m━━━━━━━━━━━━━━━━━━━━\u001b[0m\u001b[37m\u001b[0m \u001b[1m5s\u001b[0m 9ms/step - loss: 7.2669e-04 - root_mean_squared_error: 0.0269 - val_loss: 6.1887e-04 - val_root_mean_squared_error: 0.0249\n",
      "Epoch 13/20\n",
      "\u001b[1m555/555\u001b[0m \u001b[32m━━━━━━━━━━━━━━━━━━━━\u001b[0m\u001b[37m\u001b[0m \u001b[1m5s\u001b[0m 9ms/step - loss: 7.2397e-04 - root_mean_squared_error: 0.0268 - val_loss: 6.0898e-04 - val_root_mean_squared_error: 0.0247\n",
      "Epoch 14/20\n",
      "\u001b[1m555/555\u001b[0m \u001b[32m━━━━━━━━━━━━━━━━━━━━\u001b[0m\u001b[37m\u001b[0m \u001b[1m5s\u001b[0m 9ms/step - loss: 7.2957e-04 - root_mean_squared_error: 0.0269 - val_loss: 6.0987e-04 - val_root_mean_squared_error: 0.0247\n",
      "Epoch 15/20\n",
      "\u001b[1m555/555\u001b[0m \u001b[32m━━━━━━━━━━━━━━━━━━━━\u001b[0m\u001b[37m\u001b[0m \u001b[1m5s\u001b[0m 9ms/step - loss: 7.3346e-04 - root_mean_squared_error: 0.0270 - val_loss: 6.1951e-04 - val_root_mean_squared_error: 0.0249\n",
      "Epoch 16/20\n",
      "\u001b[1m555/555\u001b[0m \u001b[32m━━━━━━━━━━━━━━━━━━━━\u001b[0m\u001b[37m\u001b[0m \u001b[1m5s\u001b[0m 9ms/step - loss: 7.3255e-04 - root_mean_squared_error: 0.0270 - val_loss: 6.1368e-04 - val_root_mean_squared_error: 0.0248\n",
      "Epoch 17/20\n",
      "\u001b[1m555/555\u001b[0m \u001b[32m━━━━━━━━━━━━━━━━━━━━\u001b[0m\u001b[37m\u001b[0m \u001b[1m5s\u001b[0m 9ms/step - loss: 7.3456e-04 - root_mean_squared_error: 0.0270 - val_loss: 6.2029e-04 - val_root_mean_squared_error: 0.0249\n",
      "Epoch 18/20\n",
      "\u001b[1m555/555\u001b[0m \u001b[32m━━━━━━━━━━━━━━━━━━━━\u001b[0m\u001b[37m\u001b[0m \u001b[1m5s\u001b[0m 9ms/step - loss: 7.2376e-04 - root_mean_squared_error: 0.0268 - val_loss: 6.2800e-04 - val_root_mean_squared_error: 0.0251\n",
      "Epoch 19/20\n",
      "\u001b[1m555/555\u001b[0m \u001b[32m━━━━━━━━━━━━━━━━━━━━\u001b[0m\u001b[37m\u001b[0m \u001b[1m5s\u001b[0m 9ms/step - loss: 7.2776e-04 - root_mean_squared_error: 0.0269 - val_loss: 6.3464e-04 - val_root_mean_squared_error: 0.0252\n",
      "Epoch 20/20\n",
      "\u001b[1m555/555\u001b[0m \u001b[32m━━━━━━━━━━━━━━━━━━━━\u001b[0m\u001b[37m\u001b[0m \u001b[1m5s\u001b[0m 9ms/step - loss: 7.2900e-04 - root_mean_squared_error: 0.0269 - val_loss: 6.0958e-04 - val_root_mean_squared_error: 0.0247\n"
     ]
    }
   ],
   "source": [
    "with tf.device('/CPU:0'):\n",
    "    STCK_LSTM.fit(X_train, y_train, epochs=20, validation_split=0.1, batch_size=64,shuffle=False)"
   ]
  },
  {
   "cell_type": "code",
   "execution_count": 116,
   "metadata": {},
   "outputs": [
    {
     "name": "stdout",
     "output_type": "stream",
     "text": [
      "\u001b[1m1232/1232\u001b[0m \u001b[32m━━━━━━━━━━━━━━━━━━━━\u001b[0m\u001b[37m\u001b[0m \u001b[1m4s\u001b[0m 3ms/step - loss: 7.4670e-04 - root_mean_squared_error: 0.0273\n",
      "Train RMSE: 0.02632\n",
      "\u001b[1m137/137\u001b[0m \u001b[32m━━━━━━━━━━━━━━━━━━━━\u001b[0m\u001b[37m\u001b[0m \u001b[1m1s\u001b[0m 3ms/step - loss: 4.7638e-04 - root_mean_squared_error: 0.0218\n",
      "Test RMSE: 0.02423\n"
     ]
    }
   ],
   "source": [
    "train_metrics = STCK_LSTM.evaluate(X_train,y_train)\n",
    "print(f\"Train RMSE: {train_metrics[1]:.5f}\")\n",
    "\n",
    "\n",
    "test_metrics = STCK_LSTM.evaluate(X_test,y_test)\n",
    "print(f\"Test RMSE: {test_metrics[1]:.5f}\")"
   ]
  },
  {
   "cell_type": "code",
   "execution_count": 117,
   "metadata": {},
   "outputs": [
    {
     "name": "stdout",
     "output_type": "stream",
     "text": [
      "\u001b[1m137/137\u001b[0m \u001b[32m━━━━━━━━━━━━━━━━━━━━\u001b[0m\u001b[37m\u001b[0m \u001b[1m1s\u001b[0m 6ms/step\n"
     ]
    },
    {
     "data": {
      "text/html": [
       "<div>\n",
       "<style scoped>\n",
       "    .dataframe tbody tr th:only-of-type {\n",
       "        vertical-align: middle;\n",
       "    }\n",
       "\n",
       "    .dataframe tbody tr th {\n",
       "        vertical-align: top;\n",
       "    }\n",
       "\n",
       "    .dataframe thead th {\n",
       "        text-align: right;\n",
       "    }\n",
       "</style>\n",
       "<table border=\"1\" class=\"dataframe\">\n",
       "  <thead>\n",
       "    <tr style=\"text-align: right;\">\n",
       "      <th></th>\n",
       "      <th>Model Predictions</th>\n",
       "      <th>Actual</th>\n",
       "    </tr>\n",
       "  </thead>\n",
       "  <tbody>\n",
       "    <tr>\n",
       "      <th>0</th>\n",
       "      <td>0.133343</td>\n",
       "      <td>0.110664</td>\n",
       "    </tr>\n",
       "    <tr>\n",
       "      <th>1</th>\n",
       "      <td>0.130733</td>\n",
       "      <td>0.134809</td>\n",
       "    </tr>\n",
       "    <tr>\n",
       "      <th>2</th>\n",
       "      <td>0.157795</td>\n",
       "      <td>0.170020</td>\n",
       "    </tr>\n",
       "    <tr>\n",
       "      <th>3</th>\n",
       "      <td>0.192895</td>\n",
       "      <td>0.191147</td>\n",
       "    </tr>\n",
       "    <tr>\n",
       "      <th>4</th>\n",
       "      <td>0.215842</td>\n",
       "      <td>0.215292</td>\n",
       "    </tr>\n",
       "  </tbody>\n",
       "</table>\n",
       "</div>"
      ],
      "text/plain": [
       "   Model Predictions    Actual\n",
       "0           0.133343  0.110664\n",
       "1           0.130733  0.134809\n",
       "2           0.157795  0.170020\n",
       "3           0.192895  0.191147\n",
       "4           0.215842  0.215292"
      ]
     },
     "execution_count": 117,
     "metadata": {},
     "output_type": "execute_result"
    }
   ],
   "source": [
    "test_predictions = STCK_LSTM.predict(X_test).flatten()\n",
    "actual_predictions = y_test.flatten()\n",
    "test_predictions.shape, actual_predictions.shape\n",
    "\n",
    "test_results = pd.DataFrame(data={\n",
    "        'Model Predictions': test_predictions,\n",
    "        'Actual':actual_predictions})\n",
    "test_results.head()"
   ]
  },
  {
   "cell_type": "code",
   "execution_count": 118,
   "metadata": {},
   "outputs": [
    {
     "name": "stdout",
     "output_type": "stream",
     "text": [
      "\u001b[1m137/137\u001b[0m \u001b[32m━━━━━━━━━━━━━━━━━━━━\u001b[0m\u001b[37m\u001b[0m \u001b[1m0s\u001b[0m 2ms/step\n",
      "Test RMSE: 24.088\n"
     ]
    }
   ],
   "source": [
    "test_predictions = STCK_LSTM.predict(X_test)\n",
    "\n",
    "X_test_rescaled=X_test[:, -1, :].copy()\n",
    "\n",
    "# Invert scaling for the forecast\n",
    "inv_test_predictions = concatenate((test_predictions, X_test_rescaled[:, 1:]), axis=1)\n",
    "inv_test_predictions = scaler.inverse_transform(inv_test_predictions)\n",
    "inv_test_predictions = inv_test_predictions[:, 0]  # Extract the pollution column\n",
    "\n",
    "y_test = y_test.reshape((len(y_test),1))\n",
    "inv_actual_predictions = concatenate((y_test, X_test_rescaled[:, 1:]), axis=1)\n",
    "inv_actual_predictions = scaler.inverse_transform(inv_actual_predictions)\n",
    "inv_actual_predictions = inv_actual_predictions[:,0]\n",
    "\n",
    "\n",
    "test_results = pd.DataFrame(data={\n",
    "        'Model Predictions': inv_test_predictions,\n",
    "        'Actual':inv_actual_predictions})\n",
    "  \n",
    "\n",
    "# calculate RMSE\n",
    "rmse = sqrt(mean_squared_error(inv_actual_predictions, inv_test_predictions))\n",
    "print('Test RMSE: %.3f' % rmse)"
   ]
  },
  {
   "cell_type": "code",
   "execution_count": 119,
   "metadata": {},
   "outputs": [
    {
     "data": {
      "text/html": [
       "<div>\n",
       "<style scoped>\n",
       "    .dataframe tbody tr th:only-of-type {\n",
       "        vertical-align: middle;\n",
       "    }\n",
       "\n",
       "    .dataframe tbody tr th {\n",
       "        vertical-align: top;\n",
       "    }\n",
       "\n",
       "    .dataframe thead th {\n",
       "        text-align: right;\n",
       "    }\n",
       "</style>\n",
       "<table border=\"1\" class=\"dataframe\">\n",
       "  <thead>\n",
       "    <tr style=\"text-align: right;\">\n",
       "      <th></th>\n",
       "      <th>Model Predictions</th>\n",
       "      <th>Actual</th>\n",
       "    </tr>\n",
       "  </thead>\n",
       "  <tbody>\n",
       "    <tr>\n",
       "      <th>0</th>\n",
       "      <td>132.543146</td>\n",
       "      <td>110.0</td>\n",
       "    </tr>\n",
       "    <tr>\n",
       "      <th>1</th>\n",
       "      <td>129.948541</td>\n",
       "      <td>134.0</td>\n",
       "    </tr>\n",
       "    <tr>\n",
       "      <th>2</th>\n",
       "      <td>156.847916</td>\n",
       "      <td>169.0</td>\n",
       "    </tr>\n",
       "    <tr>\n",
       "      <th>3</th>\n",
       "      <td>191.737507</td>\n",
       "      <td>190.0</td>\n",
       "    </tr>\n",
       "    <tr>\n",
       "      <th>4</th>\n",
       "      <td>214.547045</td>\n",
       "      <td>214.0</td>\n",
       "    </tr>\n",
       "    <tr>\n",
       "      <th>...</th>\n",
       "      <td>...</td>\n",
       "      <td>...</td>\n",
       "    </tr>\n",
       "    <tr>\n",
       "      <th>4363</th>\n",
       "      <td>11.351416</td>\n",
       "      <td>8.0</td>\n",
       "    </tr>\n",
       "    <tr>\n",
       "      <th>4364</th>\n",
       "      <td>9.247702</td>\n",
       "      <td>10.0</td>\n",
       "    </tr>\n",
       "    <tr>\n",
       "      <th>4365</th>\n",
       "      <td>10.731479</td>\n",
       "      <td>10.0</td>\n",
       "    </tr>\n",
       "    <tr>\n",
       "      <th>4366</th>\n",
       "      <td>10.598003</td>\n",
       "      <td>8.0</td>\n",
       "    </tr>\n",
       "    <tr>\n",
       "      <th>4367</th>\n",
       "      <td>9.452869</td>\n",
       "      <td>12.0</td>\n",
       "    </tr>\n",
       "  </tbody>\n",
       "</table>\n",
       "<p>4368 rows × 2 columns</p>\n",
       "</div>"
      ],
      "text/plain": [
       "      Model Predictions  Actual\n",
       "0            132.543146   110.0\n",
       "1            129.948541   134.0\n",
       "2            156.847916   169.0\n",
       "3            191.737507   190.0\n",
       "4            214.547045   214.0\n",
       "...                 ...     ...\n",
       "4363          11.351416     8.0\n",
       "4364           9.247702    10.0\n",
       "4365          10.731479    10.0\n",
       "4366          10.598003     8.0\n",
       "4367           9.452869    12.0\n",
       "\n",
       "[4368 rows x 2 columns]"
      ]
     },
     "execution_count": 119,
     "metadata": {},
     "output_type": "execute_result"
    }
   ],
   "source": [
    "test_results"
   ]
  },
  {
   "cell_type": "code",
   "execution_count": 126,
   "metadata": {},
   "outputs": [
    {
     "data": {
      "image/png": "[encoded data removed]",
      "text/plain": [
       "<Figure size 640x480 with 1 Axes>"
      ]
     },
     "metadata": {},
     "output_type": "display_data"
    }
   ],
   "source": [
    "plt.plot(test_results['Model Predictions'][:500], label='Predicted Values')\n",
    "plt.plot(test_results['Actual'][:500], label='True Values')\n",
    "plt.legend()\n",
    "plt.show()"
   ]
  },
  {
   "cell_type": "markdown",
   "metadata": {},
   "source": [
    "This seems to be best model, takes least time and similar accuracy "
   ]
  },
  {
   "cell_type": "markdown",
   "metadata": {},
   "source": [
    "Results seem to get progresively worse"
   ]
  },
  {
   "cell_type": "markdown",
   "metadata": {},
   "source": [
    "ARIMA would have exponential forgetting "
   ]
  },
  {
   "cell_type": "markdown",
   "metadata": {},
   "source": [
    "## Multivariate Multi-Step LSTM"
   ]
  },
  {
   "cell_type": "markdown",
   "metadata": {},
   "source": [
    "## GPU Performance"
   ]
  },
  {
   "cell_type": "markdown",
   "metadata": {},
   "source": [
    "Using Apple's Metal API with Keras (TensorFlow)"
   ]
  },
  {
   "cell_type": "code",
   "execution_count": 63,
   "metadata": {},
   "outputs": [
    {
     "name": "stdout",
     "output_type": "stream",
     "text": [
      "Defaulting to user installation because normal site-packages is not writeable\n",
      "Requirement already satisfied: tensorflow-macos in /Users/matt/Library/Python/3.9/lib/python/site-packages (2.16.2)\n",
      "Requirement already satisfied: tensorflow==2.16.2 in /Users/matt/Library/Python/3.9/lib/python/site-packages (from tensorflow-macos) (2.16.2)\n",
      "Requirement already satisfied: absl-py>=1.0.0 in /Users/matt/Library/Python/3.9/lib/python/site-packages (from tensorflow==2.16.2->tensorflow-macos) (2.1.0)\n",
      "Requirement already satisfied: astunparse>=1.6.0 in /Users/matt/Library/Python/3.9/lib/python/site-packages (from tensorflow==2.16.2->tensorflow-macos) (1.6.3)\n",
      "Requirement already satisfied: flatbuffers>=23.5.26 in /Users/matt/Library/Python/3.9/lib/python/site-packages (from tensorflow==2.16.2->tensorflow-macos) (24.3.25)\n",
      "Requirement already satisfied: gast!=0.5.0,!=0.5.1,!=0.5.2,>=0.2.1 in /Users/matt/Library/Python/3.9/lib/python/site-packages (from tensorflow==2.16.2->tensorflow-macos) (0.6.0)\n",
      "Requirement already satisfied: google-pasta>=0.1.1 in /Users/matt/Library/Python/3.9/lib/python/site-packages (from tensorflow==2.16.2->tensorflow-macos) (0.2.0)\n",
      "Requirement already satisfied: h5py>=3.10.0 in /Users/matt/Library/Python/3.9/lib/python/site-packages (from tensorflow==2.16.2->tensorflow-macos) (3.12.1)\n",
      "Requirement already satisfied: libclang>=13.0.0 in /Users/matt/Library/Python/3.9/lib/python/site-packages (from tensorflow==2.16.2->tensorflow-macos) (18.1.1)\n",
      "Requirement already satisfied: ml-dtypes~=0.3.1 in /Users/matt/Library/Python/3.9/lib/python/site-packages (from tensorflow==2.16.2->tensorflow-macos) (0.3.2)\n",
      "Requirement already satisfied: opt-einsum>=2.3.2 in /Users/matt/Library/Python/3.9/lib/python/site-packages (from tensorflow==2.16.2->tensorflow-macos) (3.4.0)\n",
      "Requirement already satisfied: packaging in /Users/matt/Library/Python/3.9/lib/python/site-packages (from tensorflow==2.16.2->tensorflow-macos) (23.0)\n",
      "Requirement already satisfied: protobuf!=4.21.0,!=4.21.1,!=4.21.2,!=4.21.3,!=4.21.4,!=4.21.5,<5.0.0dev,>=3.20.3 in /Users/matt/Library/Python/3.9/lib/python/site-packages (from tensorflow==2.16.2->tensorflow-macos) (4.25.5)\n",
      "Requirement already satisfied: requests<3,>=2.21.0 in /Users/matt/Library/Python/3.9/lib/python/site-packages (from tensorflow==2.16.2->tensorflow-macos) (2.32.3)\n",
      "Requirement already satisfied: setuptools in /Library/Developer/CommandLineTools/Library/Frameworks/Python3.framework/Versions/3.9/lib/python3.9/site-packages (from tensorflow==2.16.2->tensorflow-macos) (58.0.4)\n",
      "Requirement already satisfied: six>=1.12.0 in /Library/Developer/CommandLineTools/Library/Frameworks/Python3.framework/Versions/3.9/lib/python3.9/site-packages (from tensorflow==2.16.2->tensorflow-macos) (1.15.0)\n",
      "Requirement already satisfied: termcolor>=1.1.0 in /Users/matt/Library/Python/3.9/lib/python/site-packages (from tensorflow==2.16.2->tensorflow-macos) (2.5.0)\n",
      "Requirement already satisfied: typing-extensions>=3.6.6 in /Users/matt/Library/Python/3.9/lib/python/site-packages (from tensorflow==2.16.2->tensorflow-macos) (4.12.2)\n",
      "Requirement already satisfied: wrapt>=1.11.0 in /Users/matt/Library/Python/3.9/lib/python/site-packages (from tensorflow==2.16.2->tensorflow-macos) (1.16.0)\n",
      "Requirement already satisfied: grpcio<2.0,>=1.24.3 in /Users/matt/Library/Python/3.9/lib/python/site-packages (from tensorflow==2.16.2->tensorflow-macos) (1.67.1)\n",
      "Requirement already satisfied: tensorboard<2.17,>=2.16 in /Users/matt/Library/Python/3.9/lib/python/site-packages (from tensorflow==2.16.2->tensorflow-macos) (2.16.2)\n",
      "Requirement already satisfied: keras>=3.0.0 in /Users/matt/Library/Python/3.9/lib/python/site-packages (from tensorflow==2.16.2->tensorflow-macos) (3.6.0)\n",
      "Requirement already satisfied: tensorflow-io-gcs-filesystem>=0.23.1 in /Users/matt/Library/Python/3.9/lib/python/site-packages (from tensorflow==2.16.2->tensorflow-macos) (0.37.1)\n",
      "Requirement already satisfied: numpy<2.0.0,>=1.23.5 in /Users/matt/Library/Python/3.9/lib/python/site-packages (from tensorflow==2.16.2->tensorflow-macos) (1.26.4)\n",
      "Requirement already satisfied: wheel<1.0,>=0.23.0 in /Library/Developer/CommandLineTools/Library/Frameworks/Python3.framework/Versions/3.9/lib/python3.9/site-packages (from astunparse>=1.6.0->tensorflow==2.16.2->tensorflow-macos) (0.37.0)\n",
      "Requirement already satisfied: rich in /Users/matt/Library/Python/3.9/lib/python/site-packages (from keras>=3.0.0->tensorflow==2.16.2->tensorflow-macos) (13.9.4)\n",
      "Requirement already satisfied: namex in /Users/matt/Library/Python/3.9/lib/python/site-packages (from keras>=3.0.0->tensorflow==2.16.2->tensorflow-macos) (0.0.8)\n",
      "Requirement already satisfied: optree in /Users/matt/Library/Python/3.9/lib/python/site-packages (from keras>=3.0.0->tensorflow==2.16.2->tensorflow-macos) (0.13.0)\n",
      "Requirement already satisfied: charset-normalizer<4,>=2 in /Users/matt/Library/Python/3.9/lib/python/site-packages (from requests<3,>=2.21.0->tensorflow==2.16.2->tensorflow-macos) (3.3.2)\n",
      "Requirement already satisfied: idna<4,>=2.5 in /Users/matt/Library/Python/3.9/lib/python/site-packages (from requests<3,>=2.21.0->tensorflow==2.16.2->tensorflow-macos) (3.4)\n",
      "Requirement already satisfied: urllib3<3,>=1.21.1 in /Users/matt/Library/Python/3.9/lib/python/site-packages (from requests<3,>=2.21.0->tensorflow==2.16.2->tensorflow-macos) (2.2.3)\n",
      "Requirement already satisfied: certifi>=2017.4.17 in /Users/matt/Library/Python/3.9/lib/python/site-packages (from requests<3,>=2.21.0->tensorflow==2.16.2->tensorflow-macos) (2024.8.30)\n",
      "Requirement already satisfied: markdown>=2.6.8 in /Users/matt/Library/Python/3.9/lib/python/site-packages (from tensorboard<2.17,>=2.16->tensorflow==2.16.2->tensorflow-macos) (3.7)\n",
      "Requirement already satisfied: tensorboard-data-server<0.8.0,>=0.7.0 in /Users/matt/Library/Python/3.9/lib/python/site-packages (from tensorboard<2.17,>=2.16->tensorflow==2.16.2->tensorflow-macos) (0.7.2)\n",
      "Requirement already satisfied: werkzeug>=1.0.1 in /Users/matt/Library/Python/3.9/lib/python/site-packages (from tensorboard<2.17,>=2.16->tensorflow==2.16.2->tensorflow-macos) (3.1.3)\n",
      "Requirement already satisfied: importlib-metadata>=4.4 in /Users/matt/Library/Python/3.9/lib/python/site-packages (from markdown>=2.6.8->tensorboard<2.17,>=2.16->tensorflow==2.16.2->tensorflow-macos) (6.0.0)\n",
      "Requirement already satisfied: MarkupSafe>=2.1.1 in /Users/matt/Library/Python/3.9/lib/python/site-packages (from werkzeug>=1.0.1->tensorboard<2.17,>=2.16->tensorflow==2.16.2->tensorflow-macos) (2.1.2)\n",
      "Requirement already satisfied: markdown-it-py>=2.2.0 in /Users/matt/Library/Python/3.9/lib/python/site-packages (from rich->keras>=3.0.0->tensorflow==2.16.2->tensorflow-macos) (3.0.0)\n",
      "Requirement already satisfied: pygments<3.0.0,>=2.13.0 in /Users/matt/Library/Python/3.9/lib/python/site-packages (from rich->keras>=3.0.0->tensorflow==2.16.2->tensorflow-macos) (2.14.0)\n",
      "Requirement already satisfied: zipp>=0.5 in /Users/matt/Library/Python/3.9/lib/python/site-packages (from importlib-metadata>=4.4->markdown>=2.6.8->tensorboard<2.17,>=2.16->tensorflow==2.16.2->tensorflow-macos) (3.15.0)\n",
      "Requirement already satisfied: mdurl~=0.1 in /Users/matt/Library/Python/3.9/lib/python/site-packages (from markdown-it-py>=2.2.0->rich->keras>=3.0.0->tensorflow==2.16.2->tensorflow-macos) (0.1.2)\n",
      "Defaulting to user installation because normal site-packages is not writeable\n",
      "Requirement already satisfied: tensorflow-metal in /Users/matt/Library/Python/3.9/lib/python/site-packages (1.1.0)\n",
      "Requirement already satisfied: wheel~=0.35 in /Library/Developer/CommandLineTools/Library/Frameworks/Python3.framework/Versions/3.9/lib/python3.9/site-packages (from tensorflow-metal) (0.37.0)\n",
      "Requirement already satisfied: six>=1.15.0 in /Library/Developer/CommandLineTools/Library/Frameworks/Python3.framework/Versions/3.9/lib/python3.9/site-packages (from tensorflow-metal) (1.15.0)\n"
     ]
    }
   ],
   "source": [
    "!pip install tensorflow-macos\n",
    "!pip install tensorflow-metal"
   ]
  },
  {
   "cell_type": "code",
   "execution_count": 65,
   "metadata": {},
   "outputs": [
    {
     "name": "stdout",
     "output_type": "stream",
     "text": [
      "Num GPUs Available:  1\n",
      "Num GPUs Available:  1\n",
      "Device list:  [PhysicalDevice(name='/physical_device:CPU:0', device_type='CPU'), PhysicalDevice(name='/physical_device:GPU:0', device_type='GPU')]\n"
     ]
    }
   ],
   "source": [
    "\n",
    "import tensorflow as tf\n",
    "print(\"Num GPUs Available: \", len(tf.config.experimental.list_physical_devices('GPU')))\n",
    "\n",
    "\n"
   ]
  },
  {
   "cell_type": "markdown",
   "metadata": {},
   "source": [
    "## Preprocess Data for GPU Usage \n",
    "The GPU version of tensorflow works with 32 bit floats which is important because some records might now return NAN on a GPU."
   ]
  },
  {
   "cell_type": "code",
   "execution_count": 88,
   "metadata": {},
   "outputs": [
    {
     "data": {
      "text/plain": [
       "(array([[[1.2977867e-01, 3.5294119e-01, 2.4590164e-01, ...,\n",
       "          2.2900112e-03, 0.0000000e+00, 0.0000000e+00],\n",
       "         [1.4889336e-01, 3.6764705e-01, 2.4590164e-01, ...,\n",
       "          3.8109887e-03, 0.0000000e+00, 0.0000000e+00],\n",
       "         [1.5995976e-01, 4.2647058e-01, 2.2950819e-01, ...,\n",
       "          5.3319661e-03, 0.0000000e+00, 0.0000000e+00],\n",
       "         ...,\n",
       "         [1.3279678e-01, 4.8529410e-01, 2.2950819e-01, ...,\n",
       "          2.3669144e-02, 0.0000000e+00, 0.0000000e+00],\n",
       "         [1.4084508e-01, 4.8529410e-01, 2.2950819e-01, ...,\n",
       "          2.9018201e-02, 3.7037037e-02, 0.0000000e+00],\n",
       "         [1.5291750e-01, 4.7058824e-01, 2.2950819e-01, ...,\n",
       "          3.4367256e-02, 0.0000000e+00, 0.0000000e+00]],\n",
       " \n",
       "        [[1.4889336e-01, 3.6764705e-01, 2.4590164e-01, ...,\n",
       "          3.8109887e-03, 0.0000000e+00, 0.0000000e+00],\n",
       "         [1.5995976e-01, 4.2647058e-01, 2.2950819e-01, ...,\n",
       "          5.3319661e-03, 0.0000000e+00, 0.0000000e+00],\n",
       "         [1.8209256e-01, 4.8529410e-01, 2.2950819e-01, ...,\n",
       "          8.3910106e-03, 3.7037037e-02, 0.0000000e+00],\n",
       "         ...,\n",
       "         [1.4084508e-01, 4.8529410e-01, 2.2950819e-01, ...,\n",
       "          2.9018201e-02, 3.7037037e-02, 0.0000000e+00],\n",
       "         [1.5291750e-01, 4.7058824e-01, 2.2950819e-01, ...,\n",
       "          3.4367256e-02, 0.0000000e+00, 0.0000000e+00],\n",
       "         [1.4889336e-01, 4.7058824e-01, 2.2950819e-01, ...,\n",
       "          3.9716311e-02, 0.0000000e+00, 0.0000000e+00]],\n",
       " \n",
       "        [[1.5995976e-01, 4.2647058e-01, 2.2950819e-01, ...,\n",
       "          5.3319661e-03, 0.0000000e+00, 0.0000000e+00],\n",
       "         [1.8209256e-01, 4.8529410e-01, 2.2950819e-01, ...,\n",
       "          8.3910106e-03, 3.7037037e-02, 0.0000000e+00],\n",
       "         [1.3883300e-01, 4.8529410e-01, 2.2950819e-01, ...,\n",
       "          9.9119879e-03, 7.4074075e-02, 0.0000000e+00],\n",
       "         ...,\n",
       "         [1.5291750e-01, 4.7058824e-01, 2.2950819e-01, ...,\n",
       "          3.4367256e-02, 0.0000000e+00, 0.0000000e+00],\n",
       "         [1.4889336e-01, 4.7058824e-01, 2.2950819e-01, ...,\n",
       "          3.9716311e-02, 0.0000000e+00, 0.0000000e+00],\n",
       "         [1.6498993e-01, 4.7058824e-01, 2.2950819e-01, ...,\n",
       "          4.6586346e-02, 0.0000000e+00, 0.0000000e+00]],\n",
       " \n",
       "        ...,\n",
       " \n",
       "        [[1.4989939e-01, 9.1176468e-01, 7.7049178e-01, ...,\n",
       "          8.1722632e-02, 0.0000000e+00, 0.0000000e+00],\n",
       "         [6.6398390e-02, 8.8235295e-01, 6.5573770e-01, ...,\n",
       "          9.1600446e-03, 0.0000000e+00, 5.5555556e-02],\n",
       "         [4.8289739e-02, 8.8235295e-01, 6.5573770e-01, ...,\n",
       "          7.5194397e-04, 0.0000000e+00, 1.1111111e-01],\n",
       "         ...,\n",
       "         [5.9356138e-02, 8.8235295e-01, 6.5573770e-01, ...,\n",
       "          7.5194397e-04, 0.0000000e+00, 0.0000000e+00],\n",
       "         [5.8350101e-02, 8.8235295e-01, 6.5573770e-01, ...,\n",
       "          3.8109887e-03, 0.0000000e+00, 0.0000000e+00],\n",
       "         [5.7344064e-02, 8.8235295e-01, 6.7213112e-01, ...,\n",
       "          7.5194397e-04, 0.0000000e+00, 2.7777778e-02]],\n",
       " \n",
       "        [[6.6398390e-02, 8.8235295e-01, 6.5573770e-01, ...,\n",
       "          9.1600446e-03, 0.0000000e+00, 5.5555556e-02],\n",
       "         [4.8289739e-02, 8.8235295e-01, 6.5573770e-01, ...,\n",
       "          7.5194397e-04, 0.0000000e+00, 1.1111111e-01],\n",
       "         [2.7162978e-02, 8.8235295e-01, 6.5573770e-01, ...,\n",
       "          2.2729214e-03, 0.0000000e+00, 1.6666667e-01],\n",
       "         ...,\n",
       "         [5.8350101e-02, 8.8235295e-01, 6.5573770e-01, ...,\n",
       "          3.8109887e-03, 0.0000000e+00, 0.0000000e+00],\n",
       "         [5.7344064e-02, 8.8235295e-01, 6.7213112e-01, ...,\n",
       "          7.5194397e-04, 0.0000000e+00, 2.7777778e-02],\n",
       "         [5.2313883e-02, 8.9705884e-01, 6.7213112e-01, ...,\n",
       "          7.5194397e-04, 0.0000000e+00, 5.5555556e-02]],\n",
       " \n",
       "        [[4.8289739e-02, 8.8235295e-01, 6.5573770e-01, ...,\n",
       "          7.5194397e-04, 0.0000000e+00, 1.1111111e-01],\n",
       "         [2.7162978e-02, 8.8235295e-01, 6.5573770e-01, ...,\n",
       "          2.2729214e-03, 0.0000000e+00, 1.6666667e-01],\n",
       "         [3.0181086e-02, 8.8235295e-01, 6.5573770e-01, ...,\n",
       "          3.7938990e-03, 0.0000000e+00, 1.9444445e-01],\n",
       "         ...,\n",
       "         [5.7344064e-02, 8.8235295e-01, 6.7213112e-01, ...,\n",
       "          7.5194397e-04, 0.0000000e+00, 2.7777778e-02],\n",
       "         [5.2313883e-02, 8.9705884e-01, 6.7213112e-01, ...,\n",
       "          7.5194397e-04, 0.0000000e+00, 5.5555556e-02],\n",
       "         [3.3199195e-02, 8.9705884e-01, 6.8852460e-01, ...,\n",
       "          7.5194397e-04, 0.0000000e+00, 0.0000000e+00]]], dtype=float32),\n",
       " array([[0.14889336],\n",
       "        [0.16498993],\n",
       "        [0.15895373],\n",
       "        ...,\n",
       "        [0.05231388],\n",
       "        [0.03319919],\n",
       "        [0.05030181]], dtype=float32))"
      ]
     },
     "execution_count": 88,
     "metadata": {},
     "output_type": "execute_result"
    }
   ],
   "source": [
    "X_train.dtype, y_train.dtype"
   ]
  },
  {
   "cell_type": "code",
   "execution_count": null,
   "metadata": {},
   "outputs": [],
   "source": [
    "import numpy as np\n",
    "\n",
    "def preprocess_sequences(X, y):\n",
    "    \"\"\"\n",
    "    Preprocess sequence arrays to ensure compatibility with GPU training.\n",
    "    - Converts to float32.\n",
    "    - Handles NAN and infinite values.\n",
    "    - Caps extreme values to a reasonable range.\n",
    "    \n",
    "    Args:\n",
    "        X (np.array): Input sequences (3D array for LSTM).\n",
    "        y (np.array): Target values (1D or 2D array).\n",
    "        \n",
    "    Returns:\n",
    "        X_preprocessed, y_preprocessed (np.array, np.array): Preprocessed arrays.\n",
    "    \"\"\"\n",
    "    #Convert to float32 for GPU compatibility\n",
    "    X = X.astype(np.float32)\n",
    "    y = y.astype(np.float32)\n",
    "\n",
    "    #Handle NAN and infinite values\n",
    "    X = np.nan_to_num(X, nan=0.0, posinf=np.finfo(np.float32).max, neginf=np.finfo(np.float32).min)\n",
    "    y = np.nan_to_num(y, nan=0.0, posinf=np.finfo(np.float32).max, neginf=np.finfo(np.float32).min)\n",
    "\n",
    "    # Cap extreme values to prevent instability\n",
    "    X = np.clip(X, -10, 10)  # Example range, adjust based on your data distribution\n",
    "    y = np.clip(y, -10, 10)\n",
    "\n",
    "    return X, y\n",
    "\n",
    "\n",
    "X_train, y_train  =  preprocess_sequences(X_train, y_train)\n",
    "X_test,y_test = preprocess_sequences(X_test, y_test)"
   ]
  },
  {
   "cell_type": "code",
   "execution_count": 76,
   "metadata": {},
   "outputs": [
    {
     "data": {
      "text/html": [
       "<pre style=\"white-space:pre;overflow-x:auto;line-height:normal;font-family:Menlo,'DejaVu Sans Mono',consolas,'Courier New',monospace\"><span style=\"font-weight: bold\">Model: \"sequential_5\"</span>\n",
       "</pre>\n"
      ],
      "text/plain": [
       "\u001b[1mModel: \"sequential_5\"\u001b[0m\n"
      ]
     },
     "metadata": {},
     "output_type": "display_data"
    },
    {
     "data": {
      "text/html": [
       "<pre style=\"white-space:pre;overflow-x:auto;line-height:normal;font-family:Menlo,'DejaVu Sans Mono',consolas,'Courier New',monospace\">┏━━━━━━━━━━━━━━━━━━━━━━━━━━━━━━━━━┳━━━━━━━━━━━━━━━━━━━━━━━━┳━━━━━━━━━━━━━━━┓\n",
       "┃<span style=\"font-weight: bold\"> Layer (type)                    </span>┃<span style=\"font-weight: bold\"> Output Shape           </span>┃<span style=\"font-weight: bold\">       Param # </span>┃\n",
       "┡━━━━━━━━━━━━━━━━━━━━━━━━━━━━━━━━━╇━━━━━━━━━━━━━━━━━━━━━━━━╇━━━━━━━━━━━━━━━┩\n",
       "│ lstm_10 (<span style=\"color: #0087ff; text-decoration-color: #0087ff\">LSTM</span>)                  │ (<span style=\"color: #00d7ff; text-decoration-color: #00d7ff\">None</span>, <span style=\"color: #00af00; text-decoration-color: #00af00\">12</span>, <span style=\"color: #00af00; text-decoration-color: #00af00\">32</span>)         │         <span style=\"color: #00af00; text-decoration-color: #00af00\">5,248</span> │\n",
       "├─────────────────────────────────┼────────────────────────┼───────────────┤\n",
       "│ dropout_5 (<span style=\"color: #0087ff; text-decoration-color: #0087ff\">Dropout</span>)             │ (<span style=\"color: #00d7ff; text-decoration-color: #00d7ff\">None</span>, <span style=\"color: #00af00; text-decoration-color: #00af00\">12</span>, <span style=\"color: #00af00; text-decoration-color: #00af00\">32</span>)         │             <span style=\"color: #00af00; text-decoration-color: #00af00\">0</span> │\n",
       "├─────────────────────────────────┼────────────────────────┼───────────────┤\n",
       "│ lstm_11 (<span style=\"color: #0087ff; text-decoration-color: #0087ff\">LSTM</span>)                  │ (<span style=\"color: #00d7ff; text-decoration-color: #00d7ff\">None</span>, <span style=\"color: #00af00; text-decoration-color: #00af00\">16</span>)             │         <span style=\"color: #00af00; text-decoration-color: #00af00\">3,136</span> │\n",
       "├─────────────────────────────────┼────────────────────────┼───────────────┤\n",
       "│ dense_5 (<span style=\"color: #0087ff; text-decoration-color: #0087ff\">Dense</span>)                 │ (<span style=\"color: #00d7ff; text-decoration-color: #00d7ff\">None</span>, <span style=\"color: #00af00; text-decoration-color: #00af00\">1</span>)              │            <span style=\"color: #00af00; text-decoration-color: #00af00\">17</span> │\n",
       "└─────────────────────────────────┴────────────────────────┴───────────────┘\n",
       "</pre>\n"
      ],
      "text/plain": [
       "┏━━━━━━━━━━━━━━━━━━━━━━━━━━━━━━━━━┳━━━━━━━━━━━━━━━━━━━━━━━━┳━━━━━━━━━━━━━━━┓\n",
       "┃\u001b[1m \u001b[0m\u001b[1mLayer (type)                   \u001b[0m\u001b[1m \u001b[0m┃\u001b[1m \u001b[0m\u001b[1mOutput Shape          \u001b[0m\u001b[1m \u001b[0m┃\u001b[1m \u001b[0m\u001b[1m      Param #\u001b[0m\u001b[1m \u001b[0m┃\n",
       "┡━━━━━━━━━━━━━━━━━━━━━━━━━━━━━━━━━╇━━━━━━━━━━━━━━━━━━━━━━━━╇━━━━━━━━━━━━━━━┩\n",
       "│ lstm_10 (\u001b[38;5;33mLSTM\u001b[0m)                  │ (\u001b[38;5;45mNone\u001b[0m, \u001b[38;5;34m12\u001b[0m, \u001b[38;5;34m32\u001b[0m)         │         \u001b[38;5;34m5,248\u001b[0m │\n",
       "├─────────────────────────────────┼────────────────────────┼───────────────┤\n",
       "│ dropout_5 (\u001b[38;5;33mDropout\u001b[0m)             │ (\u001b[38;5;45mNone\u001b[0m, \u001b[38;5;34m12\u001b[0m, \u001b[38;5;34m32\u001b[0m)         │             \u001b[38;5;34m0\u001b[0m │\n",
       "├─────────────────────────────────┼────────────────────────┼───────────────┤\n",
       "│ lstm_11 (\u001b[38;5;33mLSTM\u001b[0m)                  │ (\u001b[38;5;45mNone\u001b[0m, \u001b[38;5;34m16\u001b[0m)             │         \u001b[38;5;34m3,136\u001b[0m │\n",
       "├─────────────────────────────────┼────────────────────────┼───────────────┤\n",
       "│ dense_5 (\u001b[38;5;33mDense\u001b[0m)                 │ (\u001b[38;5;45mNone\u001b[0m, \u001b[38;5;34m1\u001b[0m)              │            \u001b[38;5;34m17\u001b[0m │\n",
       "└─────────────────────────────────┴────────────────────────┴───────────────┘\n"
      ]
     },
     "metadata": {},
     "output_type": "display_data"
    },
    {
     "data": {
      "text/html": [
       "<pre style=\"white-space:pre;overflow-x:auto;line-height:normal;font-family:Menlo,'DejaVu Sans Mono',consolas,'Courier New',monospace\"><span style=\"font-weight: bold\"> Total params: </span><span style=\"color: #00af00; text-decoration-color: #00af00\">8,401</span> (32.82 KB)\n",
       "</pre>\n"
      ],
      "text/plain": [
       "\u001b[1m Total params: \u001b[0m\u001b[38;5;34m8,401\u001b[0m (32.82 KB)\n"
      ]
     },
     "metadata": {},
     "output_type": "display_data"
    },
    {
     "data": {
      "text/html": [
       "<pre style=\"white-space:pre;overflow-x:auto;line-height:normal;font-family:Menlo,'DejaVu Sans Mono',consolas,'Courier New',monospace\"><span style=\"font-weight: bold\"> Trainable params: </span><span style=\"color: #00af00; text-decoration-color: #00af00\">8,401</span> (32.82 KB)\n",
       "</pre>\n"
      ],
      "text/plain": [
       "\u001b[1m Trainable params: \u001b[0m\u001b[38;5;34m8,401\u001b[0m (32.82 KB)\n"
      ]
     },
     "metadata": {},
     "output_type": "display_data"
    },
    {
     "data": {
      "text/html": [
       "<pre style=\"white-space:pre;overflow-x:auto;line-height:normal;font-family:Menlo,'DejaVu Sans Mono',consolas,'Courier New',monospace\"><span style=\"font-weight: bold\"> Non-trainable params: </span><span style=\"color: #00af00; text-decoration-color: #00af00\">0</span> (0.00 B)\n",
       "</pre>\n"
      ],
      "text/plain": [
       "\u001b[1m Non-trainable params: \u001b[0m\u001b[38;5;34m0\u001b[0m (0.00 B)\n"
      ]
     },
     "metadata": {},
     "output_type": "display_data"
    }
   ],
   "source": [
    "n_steps = X_train.shape[1]\n",
    "n_features = X_train.shape[2]\n",
    "n_outputs = y_train.shape[1]\n",
    "MV_LSTM = Sequential()\n",
    "MV_LSTM.add(Input(shape =(n_steps, n_features)))\n",
    "MV_LSTM.add(LSTM(32,return_sequences=True))\n",
    "MV_LSTM.add(Dropout(0.2)) #Prevent overfitting\n",
    "MV_LSTM.add(LSTM(16, return_sequences=False))\n",
    "MV_LSTM.add(Dense(n_outputs, activation='tanh')) #Dense output layer with 1 unit (regression problem)\n",
    "\n",
    "#Compile the model\n",
    "metrics=\"RootMeanSquaredError()\"\n",
    "optimzer=\"adam\"\n",
    "loss = 'mse'\n",
    "\n",
    "MV_LSTM.compile(optimizer=Adam(learning_rate = 0.001), loss=loss, metrics = [RootMeanSquaredError()])\n",
    "\n",
    "\n",
    "MV_LSTM.summary()"
   ]
  },
  {
   "cell_type": "code",
   "execution_count": 77,
   "metadata": {},
   "outputs": [
    {
     "name": "stdout",
     "output_type": "stream",
     "text": [
      "Epoch 1/150\n",
      "\u001b[1m612/612\u001b[0m \u001b[32m━━━━━━━━━━━━━━━━━━━━\u001b[0m\u001b[37m\u001b[0m \u001b[1m7s\u001b[0m 10ms/step - loss: 0.0051 - root_mean_squared_error: 0.0710 - val_loss: 0.0023 - val_root_mean_squared_error: 0.0480\n",
      "Epoch 2/150\n",
      "\u001b[1m612/612\u001b[0m \u001b[32m━━━━━━━━━━━━━━━━━━━━\u001b[0m\u001b[37m\u001b[0m \u001b[1m6s\u001b[0m 9ms/step - loss: 0.0024 - root_mean_squared_error: 0.0484 - val_loss: 0.0015 - val_root_mean_squared_error: 0.0387\n",
      "Epoch 3/150\n",
      "\u001b[1m612/612\u001b[0m \u001b[32m━━━━━━━━━━━━━━━━━━━━\u001b[0m\u001b[37m\u001b[0m \u001b[1m6s\u001b[0m 9ms/step - loss: 0.0017 - root_mean_squared_error: 0.0409 - val_loss: 9.7060e-04 - val_root_mean_squared_error: 0.0312\n",
      "Epoch 4/150\n",
      "\u001b[1m612/612\u001b[0m \u001b[32m━━━━━━━━━━━━━━━━━━━━\u001b[0m\u001b[37m\u001b[0m \u001b[1m6s\u001b[0m 10ms/step - loss: 0.0013 - root_mean_squared_error: 0.0365 - val_loss: 6.2639e-04 - val_root_mean_squared_error: 0.0250\n",
      "Epoch 5/150\n",
      "\u001b[1m612/612\u001b[0m \u001b[32m━━━━━━━━━━━━━━━━━━━━\u001b[0m\u001b[37m\u001b[0m \u001b[1m6s\u001b[0m 9ms/step - loss: 0.0011 - root_mean_squared_error: 0.0334 - val_loss: 5.1089e-04 - val_root_mean_squared_error: 0.0226\n",
      "Epoch 6/150\n",
      "\u001b[1m612/612\u001b[0m \u001b[32m━━━━━━━━━━━━━━━━━━━━\u001b[0m\u001b[37m\u001b[0m \u001b[1m6s\u001b[0m 9ms/step - loss: 0.0010 - root_mean_squared_error: 0.0320 - val_loss: 5.0447e-04 - val_root_mean_squared_error: 0.0225\n",
      "Epoch 7/150\n",
      "\u001b[1m612/612\u001b[0m \u001b[32m━━━━━━━━━━━━━━━━━━━━\u001b[0m\u001b[37m\u001b[0m \u001b[1m5s\u001b[0m 9ms/step - loss: 0.0010 - root_mean_squared_error: 0.0316 - val_loss: 4.8027e-04 - val_root_mean_squared_error: 0.0219\n",
      "Epoch 8/150\n",
      "\u001b[1m612/612\u001b[0m \u001b[32m━━━━━━━━━━━━━━━━━━━━\u001b[0m\u001b[37m\u001b[0m \u001b[1m6s\u001b[0m 10ms/step - loss: 0.0010 - root_mean_squared_error: 0.0317 - val_loss: 4.7333e-04 - val_root_mean_squared_error: 0.0218\n",
      "Epoch 9/150\n",
      "\u001b[1m612/612\u001b[0m \u001b[32m━━━━━━━━━━━━━━━━━━━━\u001b[0m\u001b[37m\u001b[0m \u001b[1m6s\u001b[0m 9ms/step - loss: 0.0011 - root_mean_squared_error: 0.0321 - val_loss: 4.7171e-04 - val_root_mean_squared_error: 0.0217\n",
      "Epoch 10/150\n",
      "\u001b[1m612/612\u001b[0m \u001b[32m━━━━━━━━━━━━━━━━━━━━\u001b[0m\u001b[37m\u001b[0m \u001b[1m6s\u001b[0m 10ms/step - loss: 0.0010 - root_mean_squared_error: 0.0320 - val_loss: 4.7948e-04 - val_root_mean_squared_error: 0.0219\n",
      "Epoch 11/150\n",
      "\u001b[1m612/612\u001b[0m \u001b[32m━━━━━━━━━━━━━━━━━━━━\u001b[0m\u001b[37m\u001b[0m \u001b[1m5s\u001b[0m 9ms/step - loss: 0.0010 - root_mean_squared_error: 0.0316 - val_loss: 4.9031e-04 - val_root_mean_squared_error: 0.0221\n",
      "Epoch 12/150\n",
      "\u001b[1m612/612\u001b[0m \u001b[32m━━━━━━━━━━━━━━━━━━━━\u001b[0m\u001b[37m\u001b[0m \u001b[1m6s\u001b[0m 10ms/step - loss: 0.0010 - root_mean_squared_error: 0.0315 - val_loss: 4.8276e-04 - val_root_mean_squared_error: 0.0220\n",
      "Epoch 13/150\n",
      "\u001b[1m612/612\u001b[0m \u001b[32m━━━━━━━━━━━━━━━━━━━━\u001b[0m\u001b[37m\u001b[0m \u001b[1m6s\u001b[0m 9ms/step - loss: 9.5869e-04 - root_mean_squared_error: 0.0308 - val_loss: 4.7972e-04 - val_root_mean_squared_error: 0.0219\n",
      "Epoch 14/150\n",
      "\u001b[1m612/612\u001b[0m \u001b[32m━━━━━━━━━━━━━━━━━━━━\u001b[0m\u001b[37m\u001b[0m \u001b[1m6s\u001b[0m 10ms/step - loss: 9.5847e-04 - root_mean_squared_error: 0.0307 - val_loss: 4.8947e-04 - val_root_mean_squared_error: 0.0221\n",
      "Epoch 15/150\n",
      "\u001b[1m612/612\u001b[0m \u001b[32m━━━━━━━━━━━━━━━━━━━━\u001b[0m\u001b[37m\u001b[0m \u001b[1m7s\u001b[0m 11ms/step - loss: 9.4618e-04 - root_mean_squared_error: 0.0305 - val_loss: 5.0603e-04 - val_root_mean_squared_error: 0.0225\n",
      "Epoch 16/150\n",
      "\u001b[1m612/612\u001b[0m \u001b[32m━━━━━━━━━━━━━━━━━━━━\u001b[0m\u001b[37m\u001b[0m \u001b[1m6s\u001b[0m 9ms/step - loss: 9.2847e-04 - root_mean_squared_error: 0.0303 - val_loss: 5.3290e-04 - val_root_mean_squared_error: 0.0231\n",
      "Epoch 17/150\n",
      "\u001b[1m612/612\u001b[0m \u001b[32m━━━━━━━━━━━━━━━━━━━━\u001b[0m\u001b[37m\u001b[0m \u001b[1m6s\u001b[0m 10ms/step - loss: 9.1755e-04 - root_mean_squared_error: 0.0301 - val_loss: 4.8436e-04 - val_root_mean_squared_error: 0.0220\n",
      "Epoch 18/150\n",
      "\u001b[1m612/612\u001b[0m \u001b[32m━━━━━━━━━━━━━━━━━━━━\u001b[0m\u001b[37m\u001b[0m \u001b[1m6s\u001b[0m 10ms/step - loss: 8.9497e-04 - root_mean_squared_error: 0.0297 - val_loss: 5.1181e-04 - val_root_mean_squared_error: 0.0226\n",
      "Epoch 19/150\n",
      "\u001b[1m612/612\u001b[0m \u001b[32m━━━━━━━━━━━━━━━━━━━━\u001b[0m\u001b[37m\u001b[0m \u001b[1m6s\u001b[0m 10ms/step - loss: 9.0208e-04 - root_mean_squared_error: 0.0298 - val_loss: 5.0782e-04 - val_root_mean_squared_error: 0.0225\n",
      "Epoch 20/150\n",
      "\u001b[1m612/612\u001b[0m \u001b[32m━━━━━━━━━━━━━━━━━━━━\u001b[0m\u001b[37m\u001b[0m \u001b[1m5s\u001b[0m 9ms/step - loss: 8.7417e-04 - root_mean_squared_error: 0.0294 - val_loss: 5.2604e-04 - val_root_mean_squared_error: 0.0229\n",
      "Epoch 21/150\n",
      "\u001b[1m612/612\u001b[0m \u001b[32m━━━━━━━━━━━━━━━━━━━━\u001b[0m\u001b[37m\u001b[0m \u001b[1m6s\u001b[0m 9ms/step - loss: 8.6572e-04 - root_mean_squared_error: 0.0293 - val_loss: 4.8043e-04 - val_root_mean_squared_error: 0.0219\n",
      "Epoch 22/150\n",
      "\u001b[1m612/612\u001b[0m \u001b[32m━━━━━━━━━━━━━━━━━━━━\u001b[0m\u001b[37m\u001b[0m \u001b[1m6s\u001b[0m 9ms/step - loss: 8.5608e-04 - root_mean_squared_error: 0.0291 - val_loss: 4.9580e-04 - val_root_mean_squared_error: 0.0223\n",
      "Epoch 23/150\n",
      "\u001b[1m612/612\u001b[0m \u001b[32m━━━━━━━━━━━━━━━━━━━━\u001b[0m\u001b[37m\u001b[0m \u001b[1m5s\u001b[0m 8ms/step - loss: 8.3867e-04 - root_mean_squared_error: 0.0288 - val_loss: 4.7766e-04 - val_root_mean_squared_error: 0.0219\n",
      "Epoch 24/150\n",
      "\u001b[1m612/612\u001b[0m \u001b[32m━━━━━━━━━━━━━━━━━━━━\u001b[0m\u001b[37m\u001b[0m \u001b[1m5s\u001b[0m 8ms/step - loss: 8.1090e-04 - root_mean_squared_error: 0.0284 - val_loss: 4.8379e-04 - val_root_mean_squared_error: 0.0220\n",
      "Epoch 25/150\n",
      "\u001b[1m612/612\u001b[0m \u001b[32m━━━━━━━━━━━━━━━━━━━━\u001b[0m\u001b[37m\u001b[0m \u001b[1m6s\u001b[0m 9ms/step - loss: 8.1908e-04 - root_mean_squared_error: 0.0285 - val_loss: 4.7503e-04 - val_root_mean_squared_error: 0.0218\n",
      "Epoch 26/150\n",
      "\u001b[1m612/612\u001b[0m \u001b[32m━━━━━━━━━━━━━━━━━━━━\u001b[0m\u001b[37m\u001b[0m \u001b[1m6s\u001b[0m 9ms/step - loss: 7.9940e-04 - root_mean_squared_error: 0.0282 - val_loss: 4.7549e-04 - val_root_mean_squared_error: 0.0218\n",
      "Epoch 27/150\n",
      "\u001b[1m612/612\u001b[0m \u001b[32m━━━━━━━━━━━━━━━━━━━━\u001b[0m\u001b[37m\u001b[0m \u001b[1m7s\u001b[0m 11ms/step - loss: 8.0196e-04 - root_mean_squared_error: 0.0282 - val_loss: 4.8398e-04 - val_root_mean_squared_error: 0.0220\n",
      "Epoch 28/150\n",
      "\u001b[1m612/612\u001b[0m \u001b[32m━━━━━━━━━━━━━━━━━━━━\u001b[0m\u001b[37m\u001b[0m \u001b[1m6s\u001b[0m 10ms/step - loss: 7.9604e-04 - root_mean_squared_error: 0.0281 - val_loss: 4.9318e-04 - val_root_mean_squared_error: 0.0222\n",
      "Epoch 29/150\n",
      "\u001b[1m612/612\u001b[0m \u001b[32m━━━━━━━━━━━━━━━━━━━━\u001b[0m\u001b[37m\u001b[0m \u001b[1m6s\u001b[0m 9ms/step - loss: 7.9460e-04 - root_mean_squared_error: 0.0281 - val_loss: 4.9007e-04 - val_root_mean_squared_error: 0.0221\n",
      "Epoch 30/150\n",
      "\u001b[1m612/612\u001b[0m \u001b[32m━━━━━━━━━━━━━━━━━━━━\u001b[0m\u001b[37m\u001b[0m \u001b[1m6s\u001b[0m 9ms/step - loss: 7.8609e-04 - root_mean_squared_error: 0.0279 - val_loss: 4.7728e-04 - val_root_mean_squared_error: 0.0218\n",
      "Epoch 31/150\n",
      "\u001b[1m612/612\u001b[0m \u001b[32m━━━━━━━━━━━━━━━━━━━━\u001b[0m\u001b[37m\u001b[0m \u001b[1m6s\u001b[0m 9ms/step - loss: 7.7372e-04 - root_mean_squared_error: 0.0277 - val_loss: 4.8782e-04 - val_root_mean_squared_error: 0.0221\n",
      "Epoch 32/150\n",
      "\u001b[1m612/612\u001b[0m \u001b[32m━━━━━━━━━━━━━━━━━━━━\u001b[0m\u001b[37m\u001b[0m \u001b[1m6s\u001b[0m 9ms/step - loss: 7.9065e-04 - root_mean_squared_error: 0.0280 - val_loss: 4.8071e-04 - val_root_mean_squared_error: 0.0219\n",
      "Epoch 33/150\n",
      "\u001b[1m612/612\u001b[0m \u001b[32m━━━━━━━━━━━━━━━━━━━━\u001b[0m\u001b[37m\u001b[0m \u001b[1m5s\u001b[0m 9ms/step - loss: 7.7260e-04 - root_mean_squared_error: 0.0277 - val_loss: 4.9422e-04 - val_root_mean_squared_error: 0.0222\n",
      "Epoch 34/150\n",
      "\u001b[1m612/612\u001b[0m \u001b[32m━━━━━━━━━━━━━━━━━━━━\u001b[0m\u001b[37m\u001b[0m \u001b[1m5s\u001b[0m 9ms/step - loss: 7.7786e-04 - root_mean_squared_error: 0.0278 - val_loss: 4.9940e-04 - val_root_mean_squared_error: 0.0223\n",
      "Epoch 35/150\n",
      "\u001b[1m612/612\u001b[0m \u001b[32m━━━━━━━━━━━━━━━━━━━━\u001b[0m\u001b[37m\u001b[0m \u001b[1m5s\u001b[0m 9ms/step - loss: 7.8947e-04 - root_mean_squared_error: 0.0280 - val_loss: 4.6942e-04 - val_root_mean_squared_error: 0.0217\n",
      "Epoch 36/150\n",
      "\u001b[1m612/612\u001b[0m \u001b[32m━━━━━━━━━━━━━━━━━━━━\u001b[0m\u001b[37m\u001b[0m \u001b[1m7s\u001b[0m 11ms/step - loss: 7.7737e-04 - root_mean_squared_error: 0.0278 - val_loss: 4.8014e-04 - val_root_mean_squared_error: 0.0219\n",
      "Epoch 37/150\n",
      "\u001b[1m612/612\u001b[0m \u001b[32m━━━━━━━━━━━━━━━━━━━━\u001b[0m\u001b[37m\u001b[0m \u001b[1m6s\u001b[0m 10ms/step - loss: 7.7613e-04 - root_mean_squared_error: 0.0278 - val_loss: 4.9100e-04 - val_root_mean_squared_error: 0.0222\n",
      "Epoch 38/150\n",
      "\u001b[1m612/612\u001b[0m \u001b[32m━━━━━━━━━━━━━━━━━━━━\u001b[0m\u001b[37m\u001b[0m \u001b[1m6s\u001b[0m 10ms/step - loss: 7.7639e-04 - root_mean_squared_error: 0.0278 - val_loss: 5.0225e-04 - val_root_mean_squared_error: 0.0224\n",
      "Epoch 39/150\n",
      "\u001b[1m612/612\u001b[0m \u001b[32m━━━━━━━━━━━━━━━━━━━━\u001b[0m\u001b[37m\u001b[0m \u001b[1m6s\u001b[0m 10ms/step - loss: 7.7956e-04 - root_mean_squared_error: 0.0278 - val_loss: 4.9616e-04 - val_root_mean_squared_error: 0.0223\n",
      "Epoch 40/150\n",
      "\u001b[1m612/612\u001b[0m \u001b[32m━━━━━━━━━━━━━━━━━━━━\u001b[0m\u001b[37m\u001b[0m \u001b[1m7s\u001b[0m 11ms/step - loss: 7.6512e-04 - root_mean_squared_error: 0.0276 - val_loss: 4.9528e-04 - val_root_mean_squared_error: 0.0223\n",
      "Epoch 41/150\n",
      "\u001b[1m612/612\u001b[0m \u001b[32m━━━━━━━━━━━━━━━━━━━━\u001b[0m\u001b[37m\u001b[0m \u001b[1m7s\u001b[0m 11ms/step - loss: 7.8161e-04 - root_mean_squared_error: 0.0279 - val_loss: 4.9511e-04 - val_root_mean_squared_error: 0.0223\n",
      "Epoch 42/150\n",
      "\u001b[1m612/612\u001b[0m \u001b[32m━━━━━━━━━━━━━━━━━━━━\u001b[0m\u001b[37m\u001b[0m \u001b[1m6s\u001b[0m 10ms/step - loss: 7.6465e-04 - root_mean_squared_error: 0.0276 - val_loss: 5.1323e-04 - val_root_mean_squared_error: 0.0227\n",
      "Epoch 43/150\n",
      "\u001b[1m612/612\u001b[0m \u001b[32m━━━━━━━━━━━━━━━━━━━━\u001b[0m\u001b[37m\u001b[0m \u001b[1m6s\u001b[0m 10ms/step - loss: 7.7705e-04 - root_mean_squared_error: 0.0278 - val_loss: 4.9048e-04 - val_root_mean_squared_error: 0.0221\n",
      "Epoch 44/150\n",
      "\u001b[1m612/612\u001b[0m \u001b[32m━━━━━━━━━━━━━━━━━━━━\u001b[0m\u001b[37m\u001b[0m \u001b[1m6s\u001b[0m 9ms/step - loss: 7.7588e-04 - root_mean_squared_error: 0.0278 - val_loss: 5.0737e-04 - val_root_mean_squared_error: 0.0225\n",
      "Epoch 45/150\n",
      "\u001b[1m612/612\u001b[0m \u001b[32m━━━━━━━━━━━━━━━━━━━━\u001b[0m\u001b[37m\u001b[0m \u001b[1m6s\u001b[0m 10ms/step - loss: 7.6471e-04 - root_mean_squared_error: 0.0276 - val_loss: 5.3243e-04 - val_root_mean_squared_error: 0.0231\n",
      "Epoch 46/150\n",
      "\u001b[1m612/612\u001b[0m \u001b[32m━━━━━━━━━━━━━━━━━━━━\u001b[0m\u001b[37m\u001b[0m \u001b[1m6s\u001b[0m 9ms/step - loss: 7.7768e-04 - root_mean_squared_error: 0.0278 - val_loss: 5.0473e-04 - val_root_mean_squared_error: 0.0225\n",
      "Epoch 47/150\n",
      "\u001b[1m612/612\u001b[0m \u001b[32m━━━━━━━━━━━━━━━━━━━━\u001b[0m\u001b[37m\u001b[0m \u001b[1m6s\u001b[0m 9ms/step - loss: 7.6634e-04 - root_mean_squared_error: 0.0276 - val_loss: 5.3152e-04 - val_root_mean_squared_error: 0.0231\n",
      "Epoch 48/150\n",
      "\u001b[1m612/612\u001b[0m \u001b[32m━━━━━━━━━━━━━━━━━━━━\u001b[0m\u001b[37m\u001b[0m \u001b[1m6s\u001b[0m 9ms/step - loss: 7.7383e-04 - root_mean_squared_error: 0.0277 - val_loss: 5.2021e-04 - val_root_mean_squared_error: 0.0228\n",
      "Epoch 49/150\n",
      "\u001b[1m612/612\u001b[0m \u001b[32m━━━━━━━━━━━━━━━━━━━━\u001b[0m\u001b[37m\u001b[0m \u001b[1m6s\u001b[0m 10ms/step - loss: 7.7165e-04 - root_mean_squared_error: 0.0277 - val_loss: 5.2033e-04 - val_root_mean_squared_error: 0.0228\n",
      "Epoch 50/150\n",
      "\u001b[1m612/612\u001b[0m \u001b[32m━━━━━━━━━━━━━━━━━━━━\u001b[0m\u001b[37m\u001b[0m \u001b[1m6s\u001b[0m 9ms/step - loss: 7.5410e-04 - root_mean_squared_error: 0.0274 - val_loss: 5.2123e-04 - val_root_mean_squared_error: 0.0228\n",
      "Epoch 51/150\n",
      "\u001b[1m612/612\u001b[0m \u001b[32m━━━━━━━━━━━━━━━━━━━━\u001b[0m\u001b[37m\u001b[0m \u001b[1m5s\u001b[0m 9ms/step - loss: 7.7177e-04 - root_mean_squared_error: 0.0277 - val_loss: 5.1996e-04 - val_root_mean_squared_error: 0.0228\n",
      "Epoch 52/150\n",
      "\u001b[1m612/612\u001b[0m \u001b[32m━━━━━━━━━━━━━━━━━━━━\u001b[0m\u001b[37m\u001b[0m \u001b[1m6s\u001b[0m 9ms/step - loss: 7.7612e-04 - root_mean_squared_error: 0.0278 - val_loss: 5.1112e-04 - val_root_mean_squared_error: 0.0226\n",
      "Epoch 53/150\n",
      "\u001b[1m612/612\u001b[0m \u001b[32m━━━━━━━━━━━━━━━━━━━━\u001b[0m\u001b[37m\u001b[0m \u001b[1m6s\u001b[0m 9ms/step - loss: 7.5286e-04 - root_mean_squared_error: 0.0274 - val_loss: 5.0672e-04 - val_root_mean_squared_error: 0.0225\n",
      "Epoch 54/150\n",
      "\u001b[1m612/612\u001b[0m \u001b[32m━━━━━━━━━━━━━━━━━━━━\u001b[0m\u001b[37m\u001b[0m \u001b[1m6s\u001b[0m 10ms/step - loss: 7.5421e-04 - root_mean_squared_error: 0.0274 - val_loss: 5.1643e-04 - val_root_mean_squared_error: 0.0227\n",
      "Epoch 55/150\n",
      "\u001b[1m612/612\u001b[0m \u001b[32m━━━━━━━━━━━━━━━━━━━━\u001b[0m\u001b[37m\u001b[0m \u001b[1m6s\u001b[0m 9ms/step - loss: 7.5786e-04 - root_mean_squared_error: 0.0274 - val_loss: 5.3355e-04 - val_root_mean_squared_error: 0.0231\n",
      "Epoch 56/150\n",
      "\u001b[1m612/612\u001b[0m \u001b[32m━━━━━━━━━━━━━━━━━━━━\u001b[0m\u001b[37m\u001b[0m \u001b[1m6s\u001b[0m 9ms/step - loss: 7.6585e-04 - root_mean_squared_error: 0.0276 - val_loss: 5.1012e-04 - val_root_mean_squared_error: 0.0226\n",
      "Epoch 57/150\n",
      "\u001b[1m612/612\u001b[0m \u001b[32m━━━━━━━━━━━━━━━━━━━━\u001b[0m\u001b[37m\u001b[0m \u001b[1m6s\u001b[0m 9ms/step - loss: 7.6501e-04 - root_mean_squared_error: 0.0276 - val_loss: 5.2357e-04 - val_root_mean_squared_error: 0.0229\n",
      "Epoch 58/150\n",
      "\u001b[1m612/612\u001b[0m \u001b[32m━━━━━━━━━━━━━━━━━━━━\u001b[0m\u001b[37m\u001b[0m \u001b[1m6s\u001b[0m 9ms/step - loss: 7.5732e-04 - root_mean_squared_error: 0.0274 - val_loss: 5.1414e-04 - val_root_mean_squared_error: 0.0227\n",
      "Epoch 59/150\n",
      "\u001b[1m612/612\u001b[0m \u001b[32m━━━━━━━━━━━━━━━━━━━━\u001b[0m\u001b[37m\u001b[0m \u001b[1m5s\u001b[0m 8ms/step - loss: 7.5892e-04 - root_mean_squared_error: 0.0275 - val_loss: 5.2851e-04 - val_root_mean_squared_error: 0.0230\n",
      "Epoch 60/150\n",
      "\u001b[1m612/612\u001b[0m \u001b[32m━━━━━━━━━━━━━━━━━━━━\u001b[0m\u001b[37m\u001b[0m \u001b[1m6s\u001b[0m 10ms/step - loss: 7.6867e-04 - root_mean_squared_error: 0.0276 - val_loss: 5.1068e-04 - val_root_mean_squared_error: 0.0226\n",
      "Epoch 61/150\n",
      "\u001b[1m612/612\u001b[0m \u001b[32m━━━━━━━━━━━━━━━━━━━━\u001b[0m\u001b[37m\u001b[0m \u001b[1m5s\u001b[0m 9ms/step - loss: 7.5400e-04 - root_mean_squared_error: 0.0274 - val_loss: 5.1144e-04 - val_root_mean_squared_error: 0.0226\n",
      "Epoch 62/150\n",
      "\u001b[1m612/612\u001b[0m \u001b[32m━━━━━━━━━━━━━━━━━━━━\u001b[0m\u001b[37m\u001b[0m \u001b[1m5s\u001b[0m 9ms/step - loss: 7.5203e-04 - root_mean_squared_error: 0.0273 - val_loss: 5.2128e-04 - val_root_mean_squared_error: 0.0228\n",
      "Epoch 63/150\n",
      "\u001b[1m612/612\u001b[0m \u001b[32m━━━━━━━━━━━━━━━━━━━━\u001b[0m\u001b[37m\u001b[0m \u001b[1m6s\u001b[0m 9ms/step - loss: 7.4955e-04 - root_mean_squared_error: 0.0273 - val_loss: 5.0247e-04 - val_root_mean_squared_error: 0.0224\n",
      "Epoch 64/150\n",
      "\u001b[1m612/612\u001b[0m \u001b[32m━━━━━━━━━━━━━━━━━━━━\u001b[0m\u001b[37m\u001b[0m \u001b[1m6s\u001b[0m 9ms/step - loss: 7.6406e-04 - root_mean_squared_error: 0.0275 - val_loss: 5.2498e-04 - val_root_mean_squared_error: 0.0229\n",
      "Epoch 65/150\n",
      "\u001b[1m612/612\u001b[0m \u001b[32m━━━━━━━━━━━━━━━━━━━━\u001b[0m\u001b[37m\u001b[0m \u001b[1m6s\u001b[0m 9ms/step - loss: 7.4770e-04 - root_mean_squared_error: 0.0273 - val_loss: 5.3795e-04 - val_root_mean_squared_error: 0.0232\n",
      "Epoch 66/150\n",
      "\u001b[1m612/612\u001b[0m \u001b[32m━━━━━━━━━━━━━━━━━━━━\u001b[0m\u001b[37m\u001b[0m \u001b[1m6s\u001b[0m 9ms/step - loss: 7.6625e-04 - root_mean_squared_error: 0.0276 - val_loss: 5.2948e-04 - val_root_mean_squared_error: 0.0230\n",
      "Epoch 67/150\n",
      "\u001b[1m612/612\u001b[0m \u001b[32m━━━━━━━━━━━━━━━━━━━━\u001b[0m\u001b[37m\u001b[0m \u001b[1m5s\u001b[0m 9ms/step - loss: 7.5601e-04 - root_mean_squared_error: 0.0274 - val_loss: 5.2630e-04 - val_root_mean_squared_error: 0.0229\n",
      "Epoch 68/150\n",
      "\u001b[1m612/612\u001b[0m \u001b[32m━━━━━━━━━━━━━━━━━━━━\u001b[0m\u001b[37m\u001b[0m \u001b[1m5s\u001b[0m 9ms/step - loss: 7.3934e-04 - root_mean_squared_error: 0.0271 - val_loss: 5.2139e-04 - val_root_mean_squared_error: 0.0228\n",
      "Epoch 69/150\n",
      "\u001b[1m612/612\u001b[0m \u001b[32m━━━━━━━━━━━━━━━━━━━━\u001b[0m\u001b[37m\u001b[0m \u001b[1m5s\u001b[0m 8ms/step - loss: 7.5901e-04 - root_mean_squared_error: 0.0275 - val_loss: 5.2602e-04 - val_root_mean_squared_error: 0.0229\n",
      "Epoch 70/150\n",
      "\u001b[1m612/612\u001b[0m \u001b[32m━━━━━━━━━━━━━━━━━━━━\u001b[0m\u001b[37m\u001b[0m \u001b[1m5s\u001b[0m 8ms/step - loss: 7.4983e-04 - root_mean_squared_error: 0.0273 - val_loss: 5.3483e-04 - val_root_mean_squared_error: 0.0231\n",
      "Epoch 71/150\n",
      "\u001b[1m612/612\u001b[0m \u001b[32m━━━━━━━━━━━━━━━━━━━━\u001b[0m\u001b[37m\u001b[0m \u001b[1m5s\u001b[0m 8ms/step - loss: 7.5870e-04 - root_mean_squared_error: 0.0274 - val_loss: 5.6022e-04 - val_root_mean_squared_error: 0.0237\n",
      "Epoch 72/150\n",
      "\u001b[1m612/612\u001b[0m \u001b[32m━━━━━━━━━━━━━━━━━━━━\u001b[0m\u001b[37m\u001b[0m \u001b[1m5s\u001b[0m 8ms/step - loss: 7.5044e-04 - root_mean_squared_error: 0.0273 - val_loss: 5.4835e-04 - val_root_mean_squared_error: 0.0234\n",
      "Epoch 73/150\n",
      "\u001b[1m612/612\u001b[0m \u001b[32m━━━━━━━━━━━━━━━━━━━━\u001b[0m\u001b[37m\u001b[0m \u001b[1m5s\u001b[0m 8ms/step - loss: 7.4708e-04 - root_mean_squared_error: 0.0273 - val_loss: 5.3667e-04 - val_root_mean_squared_error: 0.0232\n",
      "Epoch 74/150\n",
      "\u001b[1m612/612\u001b[0m \u001b[32m━━━━━━━━━━━━━━━━━━━━\u001b[0m\u001b[37m\u001b[0m \u001b[1m5s\u001b[0m 9ms/step - loss: 7.4610e-04 - root_mean_squared_error: 0.0272 - val_loss: 5.1442e-04 - val_root_mean_squared_error: 0.0227\n",
      "Epoch 75/150\n",
      "\u001b[1m612/612\u001b[0m \u001b[32m━━━━━━━━━━━━━━━━━━━━\u001b[0m\u001b[37m\u001b[0m \u001b[1m5s\u001b[0m 8ms/step - loss: 7.4515e-04 - root_mean_squared_error: 0.0272 - val_loss: 5.3892e-04 - val_root_mean_squared_error: 0.0232\n",
      "Epoch 76/150\n",
      "\u001b[1m612/612\u001b[0m \u001b[32m━━━━━━━━━━━━━━━━━━━━\u001b[0m\u001b[37m\u001b[0m \u001b[1m5s\u001b[0m 8ms/step - loss: 7.4176e-04 - root_mean_squared_error: 0.0271 - val_loss: 5.2632e-04 - val_root_mean_squared_error: 0.0229\n",
      "Epoch 77/150\n",
      "\u001b[1m612/612\u001b[0m \u001b[32m━━━━━━━━━━━━━━━━━━━━\u001b[0m\u001b[37m\u001b[0m \u001b[1m5s\u001b[0m 9ms/step - loss: 7.3804e-04 - root_mean_squared_error: 0.0271 - val_loss: 5.2185e-04 - val_root_mean_squared_error: 0.0228\n",
      "Epoch 78/150\n",
      "\u001b[1m612/612\u001b[0m \u001b[32m━━━━━━━━━━━━━━━━━━━━\u001b[0m\u001b[37m\u001b[0m \u001b[1m6s\u001b[0m 9ms/step - loss: 7.4717e-04 - root_mean_squared_error: 0.0272 - val_loss: 5.1834e-04 - val_root_mean_squared_error: 0.0228\n",
      "Epoch 79/150\n",
      "\u001b[1m612/612\u001b[0m \u001b[32m━━━━━━━━━━━━━━━━━━━━\u001b[0m\u001b[37m\u001b[0m \u001b[1m5s\u001b[0m 9ms/step - loss: 7.3407e-04 - root_mean_squared_error: 0.0270 - val_loss: 5.2571e-04 - val_root_mean_squared_error: 0.0229\n",
      "Epoch 80/150\n",
      "\u001b[1m612/612\u001b[0m \u001b[32m━━━━━━━━━━━━━━━━━━━━\u001b[0m\u001b[37m\u001b[0m \u001b[1m5s\u001b[0m 9ms/step - loss: 7.3970e-04 - root_mean_squared_error: 0.0271 - val_loss: 5.1512e-04 - val_root_mean_squared_error: 0.0227\n",
      "Epoch 81/150\n",
      "\u001b[1m612/612\u001b[0m \u001b[32m━━━━━━━━━━━━━━━━━━━━\u001b[0m\u001b[37m\u001b[0m \u001b[1m6s\u001b[0m 9ms/step - loss: 7.2900e-04 - root_mean_squared_error: 0.0269 - val_loss: 5.4455e-04 - val_root_mean_squared_error: 0.0233\n",
      "Epoch 82/150\n",
      "\u001b[1m612/612\u001b[0m \u001b[32m━━━━━━━━━━━━━━━━━━━━\u001b[0m\u001b[37m\u001b[0m \u001b[1m6s\u001b[0m 9ms/step - loss: 7.3717e-04 - root_mean_squared_error: 0.0271 - val_loss: 5.2769e-04 - val_root_mean_squared_error: 0.0230\n",
      "Epoch 83/150\n",
      "\u001b[1m612/612\u001b[0m \u001b[32m━━━━━━━━━━━━━━━━━━━━\u001b[0m\u001b[37m\u001b[0m \u001b[1m6s\u001b[0m 9ms/step - loss: 7.3625e-04 - root_mean_squared_error: 0.0271 - val_loss: 5.1370e-04 - val_root_mean_squared_error: 0.0227\n",
      "Epoch 84/150\n",
      "\u001b[1m612/612\u001b[0m \u001b[32m━━━━━━━━━━━━━━━━━━━━\u001b[0m\u001b[37m\u001b[0m \u001b[1m6s\u001b[0m 10ms/step - loss: 7.4026e-04 - root_mean_squared_error: 0.0271 - val_loss: 5.3476e-04 - val_root_mean_squared_error: 0.0231\n",
      "Epoch 85/150\n",
      "\u001b[1m612/612\u001b[0m \u001b[32m━━━━━━━━━━━━━━━━━━━━\u001b[0m\u001b[37m\u001b[0m \u001b[1m6s\u001b[0m 10ms/step - loss: 7.4109e-04 - root_mean_squared_error: 0.0271 - val_loss: 5.4113e-04 - val_root_mean_squared_error: 0.0233\n",
      "Epoch 86/150\n",
      "\u001b[1m612/612\u001b[0m \u001b[32m━━━━━━━━━━━━━━━━━━━━\u001b[0m\u001b[37m\u001b[0m \u001b[1m6s\u001b[0m 10ms/step - loss: 7.4284e-04 - root_mean_squared_error: 0.0272 - val_loss: 5.4061e-04 - val_root_mean_squared_error: 0.0233\n",
      "Epoch 87/150\n",
      "\u001b[1m612/612\u001b[0m \u001b[32m━━━━━━━━━━━━━━━━━━━━\u001b[0m\u001b[37m\u001b[0m \u001b[1m6s\u001b[0m 10ms/step - loss: 7.4371e-04 - root_mean_squared_error: 0.0272 - val_loss: 4.9456e-04 - val_root_mean_squared_error: 0.0222\n",
      "Epoch 88/150\n",
      "\u001b[1m612/612\u001b[0m \u001b[32m━━━━━━━━━━━━━━━━━━━━\u001b[0m\u001b[37m\u001b[0m \u001b[1m6s\u001b[0m 9ms/step - loss: 7.2743e-04 - root_mean_squared_error: 0.0269 - val_loss: 5.3227e-04 - val_root_mean_squared_error: 0.0231\n",
      "Epoch 89/150\n",
      "\u001b[1m612/612\u001b[0m \u001b[32m━━━━━━━━━━━━━━━━━━━━\u001b[0m\u001b[37m\u001b[0m \u001b[1m5s\u001b[0m 9ms/step - loss: 7.3903e-04 - root_mean_squared_error: 0.0271 - val_loss: 5.4457e-04 - val_root_mean_squared_error: 0.0233\n",
      "Epoch 90/150\n",
      "\u001b[1m612/612\u001b[0m \u001b[32m━━━━━━━━━━━━━━━━━━━━\u001b[0m\u001b[37m\u001b[0m \u001b[1m5s\u001b[0m 9ms/step - loss: 7.3930e-04 - root_mean_squared_error: 0.0271 - val_loss: 5.2773e-04 - val_root_mean_squared_error: 0.0230\n",
      "Epoch 91/150\n",
      "\u001b[1m612/612\u001b[0m \u001b[32m━━━━━━━━━━━━━━━━━━━━\u001b[0m\u001b[37m\u001b[0m \u001b[1m6s\u001b[0m 9ms/step - loss: 7.3478e-04 - root_mean_squared_error: 0.0270 - val_loss: 5.2209e-04 - val_root_mean_squared_error: 0.0228\n",
      "Epoch 92/150\n",
      "\u001b[1m612/612\u001b[0m \u001b[32m━━━━━━━━━━━━━━━━━━━━\u001b[0m\u001b[37m\u001b[0m \u001b[1m5s\u001b[0m 9ms/step - loss: 7.3996e-04 - root_mean_squared_error: 0.0271 - val_loss: 5.1890e-04 - val_root_mean_squared_error: 0.0228\n",
      "Epoch 93/150\n",
      "\u001b[1m612/612\u001b[0m \u001b[32m━━━━━━━━━━━━━━━━━━━━\u001b[0m\u001b[37m\u001b[0m \u001b[1m5s\u001b[0m 8ms/step - loss: 7.3819e-04 - root_mean_squared_error: 0.0271 - val_loss: 5.4361e-04 - val_root_mean_squared_error: 0.0233\n",
      "Epoch 94/150\n",
      "\u001b[1m612/612\u001b[0m \u001b[32m━━━━━━━━━━━━━━━━━━━━\u001b[0m\u001b[37m\u001b[0m \u001b[1m5s\u001b[0m 9ms/step - loss: 7.3636e-04 - root_mean_squared_error: 0.0271 - val_loss: 4.9842e-04 - val_root_mean_squared_error: 0.0223\n",
      "Epoch 95/150\n",
      "\u001b[1m612/612\u001b[0m \u001b[32m━━━━━━━━━━━━━━━━━━━━\u001b[0m\u001b[37m\u001b[0m \u001b[1m5s\u001b[0m 8ms/step - loss: 7.2857e-04 - root_mean_squared_error: 0.0269 - val_loss: 5.3514e-04 - val_root_mean_squared_error: 0.0231\n",
      "Epoch 96/150\n",
      "\u001b[1m612/612\u001b[0m \u001b[32m━━━━━━━━━━━━━━━━━━━━\u001b[0m\u001b[37m\u001b[0m \u001b[1m6s\u001b[0m 9ms/step - loss: 7.3152e-04 - root_mean_squared_error: 0.0270 - val_loss: 5.3469e-04 - val_root_mean_squared_error: 0.0231\n",
      "Epoch 97/150\n",
      "\u001b[1m612/612\u001b[0m \u001b[32m━━━━━━━━━━━━━━━━━━━━\u001b[0m\u001b[37m\u001b[0m \u001b[1m5s\u001b[0m 9ms/step - loss: 7.2893e-04 - root_mean_squared_error: 0.0269 - val_loss: 5.2604e-04 - val_root_mean_squared_error: 0.0229\n",
      "Epoch 98/150\n",
      "\u001b[1m612/612\u001b[0m \u001b[32m━━━━━━━━━━━━━━━━━━━━\u001b[0m\u001b[37m\u001b[0m \u001b[1m6s\u001b[0m 9ms/step - loss: 7.3598e-04 - root_mean_squared_error: 0.0270 - val_loss: 5.2331e-04 - val_root_mean_squared_error: 0.0229\n",
      "Epoch 99/150\n",
      "\u001b[1m612/612\u001b[0m \u001b[32m━━━━━━━━━━━━━━━━━━━━\u001b[0m\u001b[37m\u001b[0m \u001b[1m5s\u001b[0m 9ms/step - loss: 7.2442e-04 - root_mean_squared_error: 0.0268 - val_loss: 5.1080e-04 - val_root_mean_squared_error: 0.0226\n",
      "Epoch 100/150\n",
      "\u001b[1m612/612\u001b[0m \u001b[32m━━━━━━━━━━━━━━━━━━━━\u001b[0m\u001b[37m\u001b[0m \u001b[1m5s\u001b[0m 8ms/step - loss: 7.2369e-04 - root_mean_squared_error: 0.0268 - val_loss: 5.4305e-04 - val_root_mean_squared_error: 0.0233\n",
      "Epoch 101/150\n",
      "\u001b[1m612/612\u001b[0m \u001b[32m━━━━━━━━━━━━━━━━━━━━\u001b[0m\u001b[37m\u001b[0m \u001b[1m5s\u001b[0m 8ms/step - loss: 7.4269e-04 - root_mean_squared_error: 0.0272 - val_loss: 5.3362e-04 - val_root_mean_squared_error: 0.0231\n",
      "Epoch 102/150\n",
      "\u001b[1m612/612\u001b[0m \u001b[32m━━━━━━━━━━━━━━━━━━━━\u001b[0m\u001b[37m\u001b[0m \u001b[1m5s\u001b[0m 9ms/step - loss: 7.2477e-04 - root_mean_squared_error: 0.0268 - val_loss: 5.1037e-04 - val_root_mean_squared_error: 0.0226\n",
      "Epoch 103/150\n",
      "\u001b[1m612/612\u001b[0m \u001b[32m━━━━━━━━━━━━━━━━━━━━\u001b[0m\u001b[37m\u001b[0m \u001b[1m5s\u001b[0m 9ms/step - loss: 7.2931e-04 - root_mean_squared_error: 0.0269 - val_loss: 5.4727e-04 - val_root_mean_squared_error: 0.0234\n",
      "Epoch 104/150\n",
      "\u001b[1m612/612\u001b[0m \u001b[32m━━━━━━━━━━━━━━━━━━━━\u001b[0m\u001b[37m\u001b[0m \u001b[1m5s\u001b[0m 9ms/step - loss: 7.2044e-04 - root_mean_squared_error: 0.0268 - val_loss: 5.3166e-04 - val_root_mean_squared_error: 0.0231\n",
      "Epoch 105/150\n",
      "\u001b[1m612/612\u001b[0m \u001b[32m━━━━━━━━━━━━━━━━━━━━\u001b[0m\u001b[37m\u001b[0m \u001b[1m5s\u001b[0m 9ms/step - loss: 7.3561e-04 - root_mean_squared_error: 0.0270 - val_loss: 5.4337e-04 - val_root_mean_squared_error: 0.0233\n",
      "Epoch 106/150\n",
      "\u001b[1m612/612\u001b[0m \u001b[32m━━━━━━━━━━━━━━━━━━━━\u001b[0m\u001b[37m\u001b[0m \u001b[1m5s\u001b[0m 9ms/step - loss: 7.2338e-04 - root_mean_squared_error: 0.0268 - val_loss: 5.3579e-04 - val_root_mean_squared_error: 0.0231\n",
      "Epoch 107/150\n",
      "\u001b[1m612/612\u001b[0m \u001b[32m━━━━━━━━━━━━━━━━━━━━\u001b[0m\u001b[37m\u001b[0m \u001b[1m6s\u001b[0m 9ms/step - loss: 7.2964e-04 - root_mean_squared_error: 0.0269 - val_loss: 5.4052e-04 - val_root_mean_squared_error: 0.0232\n",
      "Epoch 108/150\n",
      "\u001b[1m612/612\u001b[0m \u001b[32m━━━━━━━━━━━━━━━━━━━━\u001b[0m\u001b[37m\u001b[0m \u001b[1m6s\u001b[0m 9ms/step - loss: 7.2761e-04 - root_mean_squared_error: 0.0269 - val_loss: 5.2494e-04 - val_root_mean_squared_error: 0.0229\n",
      "Epoch 109/150\n",
      "\u001b[1m612/612\u001b[0m \u001b[32m━━━━━━━━━━━━━━━━━━━━\u001b[0m\u001b[37m\u001b[0m \u001b[1m5s\u001b[0m 9ms/step - loss: 7.2108e-04 - root_mean_squared_error: 0.0268 - val_loss: 5.3059e-04 - val_root_mean_squared_error: 0.0230\n",
      "Epoch 110/150\n",
      "\u001b[1m612/612\u001b[0m \u001b[32m━━━━━━━━━━━━━━━━━━━━\u001b[0m\u001b[37m\u001b[0m \u001b[1m6s\u001b[0m 9ms/step - loss: 7.2591e-04 - root_mean_squared_error: 0.0269 - val_loss: 5.4029e-04 - val_root_mean_squared_error: 0.0232\n",
      "Epoch 111/150\n",
      "\u001b[1m612/612\u001b[0m \u001b[32m━━━━━━━━━━━━━━━━━━━━\u001b[0m\u001b[37m\u001b[0m \u001b[1m6s\u001b[0m 10ms/step - loss: 7.3419e-04 - root_mean_squared_error: 0.0270 - val_loss: 5.3348e-04 - val_root_mean_squared_error: 0.0231\n",
      "Epoch 112/150\n",
      "\u001b[1m612/612\u001b[0m \u001b[32m━━━━━━━━━━━━━━━━━━━━\u001b[0m\u001b[37m\u001b[0m \u001b[1m6s\u001b[0m 9ms/step - loss: 7.2059e-04 - root_mean_squared_error: 0.0268 - val_loss: 5.4115e-04 - val_root_mean_squared_error: 0.0233\n",
      "Epoch 113/150\n",
      "\u001b[1m612/612\u001b[0m \u001b[32m━━━━━━━━━━━━━━━━━━━━\u001b[0m\u001b[37m\u001b[0m \u001b[1m6s\u001b[0m 10ms/step - loss: 7.1829e-04 - root_mean_squared_error: 0.0267 - val_loss: 5.3442e-04 - val_root_mean_squared_error: 0.0231\n",
      "Epoch 114/150\n",
      "\u001b[1m612/612\u001b[0m \u001b[32m━━━━━━━━━━━━━━━━━━━━\u001b[0m\u001b[37m\u001b[0m \u001b[1m5s\u001b[0m 9ms/step - loss: 7.1988e-04 - root_mean_squared_error: 0.0268 - val_loss: 5.4114e-04 - val_root_mean_squared_error: 0.0233\n",
      "Epoch 115/150\n",
      "\u001b[1m612/612\u001b[0m \u001b[32m━━━━━━━━━━━━━━━━━━━━\u001b[0m\u001b[37m\u001b[0m \u001b[1m6s\u001b[0m 9ms/step - loss: 7.3250e-04 - root_mean_squared_error: 0.0270 - val_loss: 5.2534e-04 - val_root_mean_squared_error: 0.0229\n",
      "Epoch 116/150\n",
      "\u001b[1m612/612\u001b[0m \u001b[32m━━━━━━━━━━━━━━━━━━━━\u001b[0m\u001b[37m\u001b[0m \u001b[1m5s\u001b[0m 9ms/step - loss: 7.2542e-04 - root_mean_squared_error: 0.0268 - val_loss: 5.6039e-04 - val_root_mean_squared_error: 0.0237\n",
      "Epoch 117/150\n",
      "\u001b[1m612/612\u001b[0m \u001b[32m━━━━━━━━━━━━━━━━━━━━\u001b[0m\u001b[37m\u001b[0m \u001b[1m5s\u001b[0m 9ms/step - loss: 7.2082e-04 - root_mean_squared_error: 0.0268 - val_loss: 5.0360e-04 - val_root_mean_squared_error: 0.0224\n",
      "Epoch 118/150\n",
      "\u001b[1m612/612\u001b[0m \u001b[32m━━━━━━━━━━━━━━━━━━━━\u001b[0m\u001b[37m\u001b[0m \u001b[1m6s\u001b[0m 9ms/step - loss: 7.0563e-04 - root_mean_squared_error: 0.0265 - val_loss: 5.5367e-04 - val_root_mean_squared_error: 0.0235\n",
      "Epoch 119/150\n",
      "\u001b[1m612/612\u001b[0m \u001b[32m━━━━━━━━━━━━━━━━━━━━\u001b[0m\u001b[37m\u001b[0m \u001b[1m5s\u001b[0m 9ms/step - loss: 7.2543e-04 - root_mean_squared_error: 0.0268 - val_loss: 5.4608e-04 - val_root_mean_squared_error: 0.0234\n",
      "Epoch 120/150\n",
      "\u001b[1m612/612\u001b[0m \u001b[32m━━━━━━━━━━━━━━━━━━━━\u001b[0m\u001b[37m\u001b[0m \u001b[1m5s\u001b[0m 8ms/step - loss: 7.1110e-04 - root_mean_squared_error: 0.0266 - val_loss: 5.4285e-04 - val_root_mean_squared_error: 0.0233\n",
      "Epoch 121/150\n",
      "\u001b[1m612/612\u001b[0m \u001b[32m━━━━━━━━━━━━━━━━━━━━\u001b[0m\u001b[37m\u001b[0m \u001b[1m6s\u001b[0m 9ms/step - loss: 7.3304e-04 - root_mean_squared_error: 0.0270 - val_loss: 5.6226e-04 - val_root_mean_squared_error: 0.0237\n",
      "Epoch 122/150\n",
      "\u001b[1m612/612\u001b[0m \u001b[32m━━━━━━━━━━━━━━━━━━━━\u001b[0m\u001b[37m\u001b[0m \u001b[1m6s\u001b[0m 9ms/step - loss: 7.2962e-04 - root_mean_squared_error: 0.0269 - val_loss: 5.4177e-04 - val_root_mean_squared_error: 0.0233\n",
      "Epoch 123/150\n",
      "\u001b[1m612/612\u001b[0m \u001b[32m━━━━━━━━━━━━━━━━━━━━\u001b[0m\u001b[37m\u001b[0m \u001b[1m5s\u001b[0m 9ms/step - loss: 7.1500e-04 - root_mean_squared_error: 0.0267 - val_loss: 5.4469e-04 - val_root_mean_squared_error: 0.0233\n",
      "Epoch 124/150\n",
      "\u001b[1m612/612\u001b[0m \u001b[32m━━━━━━━━━━━━━━━━━━━━\u001b[0m\u001b[37m\u001b[0m \u001b[1m5s\u001b[0m 9ms/step - loss: 7.1606e-04 - root_mean_squared_error: 0.0267 - val_loss: 5.2732e-04 - val_root_mean_squared_error: 0.0230\n",
      "Epoch 125/150\n",
      "\u001b[1m612/612\u001b[0m \u001b[32m━━━━━━━━━━━━━━━━━━━━\u001b[0m\u001b[37m\u001b[0m \u001b[1m5s\u001b[0m 9ms/step - loss: 7.1891e-04 - root_mean_squared_error: 0.0267 - val_loss: 5.6268e-04 - val_root_mean_squared_error: 0.0237\n",
      "Epoch 126/150\n",
      "\u001b[1m612/612\u001b[0m \u001b[32m━━━━━━━━━━━━━━━━━━━━\u001b[0m\u001b[37m\u001b[0m \u001b[1m6s\u001b[0m 10ms/step - loss: 7.2488e-04 - root_mean_squared_error: 0.0268 - val_loss: 5.6029e-04 - val_root_mean_squared_error: 0.0237\n",
      "Epoch 127/150\n",
      "\u001b[1m612/612\u001b[0m \u001b[32m━━━━━━━━━━━━━━━━━━━━\u001b[0m\u001b[37m\u001b[0m \u001b[1m5s\u001b[0m 9ms/step - loss: 7.2363e-04 - root_mean_squared_error: 0.0268 - val_loss: 5.5870e-04 - val_root_mean_squared_error: 0.0236\n",
      "Epoch 128/150\n",
      "\u001b[1m612/612\u001b[0m \u001b[32m━━━━━━━━━━━━━━━━━━━━\u001b[0m\u001b[37m\u001b[0m \u001b[1m6s\u001b[0m 10ms/step - loss: 7.1101e-04 - root_mean_squared_error: 0.0266 - val_loss: 5.4722e-04 - val_root_mean_squared_error: 0.0234\n",
      "Epoch 129/150\n",
      "\u001b[1m612/612\u001b[0m \u001b[32m━━━━━━━━━━━━━━━━━━━━\u001b[0m\u001b[37m\u001b[0m \u001b[1m6s\u001b[0m 10ms/step - loss: 7.1775e-04 - root_mean_squared_error: 0.0267 - val_loss: 5.6484e-04 - val_root_mean_squared_error: 0.0238\n",
      "Epoch 130/150\n",
      "\u001b[1m612/612\u001b[0m \u001b[32m━━━━━━━━━━━━━━━━━━━━\u001b[0m\u001b[37m\u001b[0m \u001b[1m6s\u001b[0m 10ms/step - loss: 7.1134e-04 - root_mean_squared_error: 0.0266 - val_loss: 5.6165e-04 - val_root_mean_squared_error: 0.0237\n",
      "Epoch 131/150\n",
      "\u001b[1m612/612\u001b[0m \u001b[32m━━━━━━━━━━━━━━━━━━━━\u001b[0m\u001b[37m\u001b[0m \u001b[1m6s\u001b[0m 10ms/step - loss: 7.0869e-04 - root_mean_squared_error: 0.0265 - val_loss: 5.5235e-04 - val_root_mean_squared_error: 0.0235\n",
      "Epoch 132/150\n",
      "\u001b[1m612/612\u001b[0m \u001b[32m━━━━━━━━━━━━━━━━━━━━\u001b[0m\u001b[37m\u001b[0m \u001b[1m6s\u001b[0m 10ms/step - loss: 7.1413e-04 - root_mean_squared_error: 0.0266 - val_loss: 5.5704e-04 - val_root_mean_squared_error: 0.0236\n",
      "Epoch 133/150\n",
      "\u001b[1m612/612\u001b[0m \u001b[32m━━━━━━━━━━━━━━━━━━━━\u001b[0m\u001b[37m\u001b[0m \u001b[1m5s\u001b[0m 9ms/step - loss: 7.1000e-04 - root_mean_squared_error: 0.0266 - val_loss: 5.7318e-04 - val_root_mean_squared_error: 0.0239\n",
      "Epoch 134/150\n",
      "\u001b[1m612/612\u001b[0m \u001b[32m━━━━━━━━━━━━━━━━━━━━\u001b[0m\u001b[37m\u001b[0m \u001b[1m6s\u001b[0m 10ms/step - loss: 7.2571e-04 - root_mean_squared_error: 0.0268 - val_loss: 5.5291e-04 - val_root_mean_squared_error: 0.0235\n",
      "Epoch 135/150\n",
      "\u001b[1m612/612\u001b[0m \u001b[32m━━━━━━━━━━━━━━━━━━━━\u001b[0m\u001b[37m\u001b[0m \u001b[1m6s\u001b[0m 10ms/step - loss: 7.2501e-04 - root_mean_squared_error: 0.0268 - val_loss: 5.3700e-04 - val_root_mean_squared_error: 0.0232\n",
      "Epoch 136/150\n",
      "\u001b[1m612/612\u001b[0m \u001b[32m━━━━━━━━━━━━━━━━━━━━\u001b[0m\u001b[37m\u001b[0m \u001b[1m6s\u001b[0m 10ms/step - loss: 7.2077e-04 - root_mean_squared_error: 0.0268 - val_loss: 5.5236e-04 - val_root_mean_squared_error: 0.0235\n",
      "Epoch 137/150\n",
      "\u001b[1m612/612\u001b[0m \u001b[32m━━━━━━━━━━━━━━━━━━━━\u001b[0m\u001b[37m\u001b[0m \u001b[1m6s\u001b[0m 10ms/step - loss: 7.2759e-04 - root_mean_squared_error: 0.0269 - val_loss: 5.8352e-04 - val_root_mean_squared_error: 0.0242\n",
      "Epoch 138/150\n",
      "\u001b[1m612/612\u001b[0m \u001b[32m━━━━━━━━━━━━━━━━━━━━\u001b[0m\u001b[37m\u001b[0m \u001b[1m6s\u001b[0m 10ms/step - loss: 7.2668e-04 - root_mean_squared_error: 0.0269 - val_loss: 5.5327e-04 - val_root_mean_squared_error: 0.0235\n",
      "Epoch 139/150\n",
      "\u001b[1m612/612\u001b[0m \u001b[32m━━━━━━━━━━━━━━━━━━━━\u001b[0m\u001b[37m\u001b[0m \u001b[1m6s\u001b[0m 10ms/step - loss: 7.0477e-04 - root_mean_squared_error: 0.0265 - val_loss: 5.4209e-04 - val_root_mean_squared_error: 0.0233\n",
      "Epoch 140/150\n",
      "\u001b[1m612/612\u001b[0m \u001b[32m━━━━━━━━━━━━━━━━━━━━\u001b[0m\u001b[37m\u001b[0m \u001b[1m6s\u001b[0m 9ms/step - loss: 7.1721e-04 - root_mean_squared_error: 0.0267 - val_loss: 5.5674e-04 - val_root_mean_squared_error: 0.0236\n",
      "Epoch 141/150\n",
      "\u001b[1m612/612\u001b[0m \u001b[32m━━━━━━━━━━━━━━━━━━━━\u001b[0m\u001b[37m\u001b[0m \u001b[1m5s\u001b[0m 9ms/step - loss: 7.1939e-04 - root_mean_squared_error: 0.0267 - val_loss: 6.2862e-04 - val_root_mean_squared_error: 0.0251\n",
      "Epoch 142/150\n",
      "\u001b[1m612/612\u001b[0m \u001b[32m━━━━━━━━━━━━━━━━━━━━\u001b[0m\u001b[37m\u001b[0m \u001b[1m6s\u001b[0m 9ms/step - loss: 7.1492e-04 - root_mean_squared_error: 0.0267 - val_loss: 5.6135e-04 - val_root_mean_squared_error: 0.0237\n",
      "Epoch 143/150\n",
      "\u001b[1m612/612\u001b[0m \u001b[32m━━━━━━━━━━━━━━━━━━━━\u001b[0m\u001b[37m\u001b[0m \u001b[1m6s\u001b[0m 10ms/step - loss: 7.0852e-04 - root_mean_squared_error: 0.0265 - val_loss: 5.7355e-04 - val_root_mean_squared_error: 0.0239\n",
      "Epoch 144/150\n",
      "\u001b[1m612/612\u001b[0m \u001b[32m━━━━━━━━━━━━━━━━━━━━\u001b[0m\u001b[37m\u001b[0m \u001b[1m6s\u001b[0m 11ms/step - loss: 7.2986e-04 - root_mean_squared_error: 0.0269 - val_loss: 5.4881e-04 - val_root_mean_squared_error: 0.0234\n",
      "Epoch 145/150\n",
      "\u001b[1m612/612\u001b[0m \u001b[32m━━━━━━━━━━━━━━━━━━━━\u001b[0m\u001b[37m\u001b[0m \u001b[1m7s\u001b[0m 11ms/step - loss: 7.0640e-04 - root_mean_squared_error: 0.0265 - val_loss: 5.8789e-04 - val_root_mean_squared_error: 0.0242\n",
      "Epoch 146/150\n",
      "\u001b[1m612/612\u001b[0m \u001b[32m━━━━━━━━━━━━━━━━━━━━\u001b[0m\u001b[37m\u001b[0m \u001b[1m6s\u001b[0m 9ms/step - loss: 7.1384e-04 - root_mean_squared_error: 0.0266 - val_loss: 5.5801e-04 - val_root_mean_squared_error: 0.0236\n",
      "Epoch 147/150\n",
      "\u001b[1m612/612\u001b[0m \u001b[32m━━━━━━━━━━━━━━━━━━━━\u001b[0m\u001b[37m\u001b[0m \u001b[1m6s\u001b[0m 10ms/step - loss: 7.0701e-04 - root_mean_squared_error: 0.0265 - val_loss: 5.5588e-04 - val_root_mean_squared_error: 0.0236\n",
      "Epoch 148/150\n",
      "\u001b[1m612/612\u001b[0m \u001b[32m━━━━━━━━━━━━━━━━━━━━\u001b[0m\u001b[37m\u001b[0m \u001b[1m6s\u001b[0m 10ms/step - loss: 7.0112e-04 - root_mean_squared_error: 0.0264 - val_loss: 5.9802e-04 - val_root_mean_squared_error: 0.0245\n",
      "Epoch 149/150\n",
      "\u001b[1m612/612\u001b[0m \u001b[32m━━━━━━━━━━━━━━━━━━━━\u001b[0m\u001b[37m\u001b[0m \u001b[1m6s\u001b[0m 10ms/step - loss: 7.1963e-04 - root_mean_squared_error: 0.0267 - val_loss: 6.2345e-04 - val_root_mean_squared_error: 0.0250\n",
      "Epoch 150/150\n",
      "\u001b[1m612/612\u001b[0m \u001b[32m━━━━━━━━━━━━━━━━━━━━\u001b[0m\u001b[37m\u001b[0m \u001b[1m6s\u001b[0m 10ms/step - loss: 7.1105e-04 - root_mean_squared_error: 0.0266 - val_loss: 5.7386e-04 - val_root_mean_squared_error: 0.0240\n"
     ]
    }
   ],
   "source": [
    "with tf.device('/CPU:0'):\n",
    "    test4 = MV_LSTM.fit(X_train, y_train, epochs=17, validation_split=0.1, batch_size=64,shuffle=False)"
   ]
  },
  {
   "cell_type": "markdown",
   "metadata": {},
   "source": [
    "Now evaluate on test "
   ]
  },
  {
   "cell_type": "code",
   "execution_count": 78,
   "metadata": {},
   "outputs": [
    {
     "name": "stdout",
     "output_type": "stream",
     "text": [
      "Epoch 1/150\n",
      "\u001b[1m612/612\u001b[0m \u001b[32m━━━━━━━━━━━━━━━━━━━━\u001b[0m\u001b[37m\u001b[0m \u001b[1m11s\u001b[0m 15ms/step - loss: 7.1565e-04 - root_mean_squared_error: 0.0267 - val_loss: 5.5957e-04 - val_root_mean_squared_error: 0.0237\n",
      "Epoch 2/150\n",
      "\u001b[1m612/612\u001b[0m \u001b[32m━━━━━━━━━━━━━━━━━━━━\u001b[0m\u001b[37m\u001b[0m \u001b[1m8s\u001b[0m 14ms/step - loss: 7.0150e-04 - root_mean_squared_error: 0.0264 - val_loss: 5.4820e-04 - val_root_mean_squared_error: 0.0234\n",
      "Epoch 3/150\n",
      "\u001b[1m612/612\u001b[0m \u001b[32m━━━━━━━━━━━━━━━━━━━━\u001b[0m\u001b[37m\u001b[0m \u001b[1m9s\u001b[0m 14ms/step - loss: 7.0708e-04 - root_mean_squared_error: 0.0265 - val_loss: 5.4114e-04 - val_root_mean_squared_error: 0.0233\n",
      "Epoch 4/150\n",
      "\u001b[1m612/612\u001b[0m \u001b[32m━━━━━━━━━━━━━━━━━━━━\u001b[0m\u001b[37m\u001b[0m \u001b[1m8s\u001b[0m 14ms/step - loss: 7.0842e-04 - root_mean_squared_error: 0.0265 - val_loss: 5.5124e-04 - val_root_mean_squared_error: 0.0235\n",
      "Epoch 5/150\n",
      "\u001b[1m612/612\u001b[0m \u001b[32m━━━━━━━━━━━━━━━━━━━━\u001b[0m\u001b[37m\u001b[0m \u001b[1m9s\u001b[0m 15ms/step - loss: 7.1348e-04 - root_mean_squared_error: 0.0266 - val_loss: 5.8908e-04 - val_root_mean_squared_error: 0.0243\n",
      "Epoch 6/150\n",
      "\u001b[1m612/612\u001b[0m \u001b[32m━━━━━━━━━━━━━━━━━━━━\u001b[0m\u001b[37m\u001b[0m \u001b[1m10s\u001b[0m 16ms/step - loss: 7.0340e-04 - root_mean_squared_error: 0.0264 - val_loss: 5.8457e-04 - val_root_mean_squared_error: 0.0242\n",
      "Epoch 7/150\n",
      "\u001b[1m225/612\u001b[0m \u001b[32m━━━━━━━\u001b[0m\u001b[37m━━━━━━━━━━━━━\u001b[0m \u001b[1m5s\u001b[0m 15ms/step - loss: 7.9087e-04 - root_mean_squared_error: 0.0280"
     ]
    },
    {
     "ename": "KeyboardInterrupt",
     "evalue": "",
     "output_type": "error",
     "traceback": [
      "\u001b[0;31m---------------------------------------------------------------------------\u001b[0m",
      "\u001b[0;31mKeyboardInterrupt\u001b[0m                         Traceback (most recent call last)",
      "Cell \u001b[0;32mIn[78], line 2\u001b[0m\n\u001b[1;32m      1\u001b[0m \u001b[38;5;28;01mwith\u001b[39;00m tf\u001b[38;5;241m.\u001b[39mdevice(\u001b[38;5;124m'\u001b[39m\u001b[38;5;124m/GPU:0\u001b[39m\u001b[38;5;124m'\u001b[39m):\n\u001b[0;32m----> 2\u001b[0m     test4 \u001b[38;5;241m=\u001b[39m \u001b[43mMV_LSTM\u001b[49m\u001b[38;5;241;43m.\u001b[39;49m\u001b[43mfit\u001b[49m\u001b[43m(\u001b[49m\u001b[43mX_train\u001b[49m\u001b[43m,\u001b[49m\u001b[43m \u001b[49m\u001b[43my_train\u001b[49m\u001b[43m,\u001b[49m\u001b[43m \u001b[49m\u001b[43mepochs\u001b[49m\u001b[38;5;241;43m=\u001b[39;49m\u001b[38;5;241;43m150\u001b[39;49m\u001b[43m,\u001b[49m\u001b[43m \u001b[49m\u001b[43mvalidation_split\u001b[49m\u001b[38;5;241;43m=\u001b[39;49m\u001b[38;5;241;43m0.1\u001b[39;49m\u001b[43m,\u001b[49m\u001b[43m \u001b[49m\u001b[43mbatch_size\u001b[49m\u001b[38;5;241;43m=\u001b[39;49m\u001b[38;5;241;43m64\u001b[39;49m\u001b[43m,\u001b[49m\u001b[43mshuffle\u001b[49m\u001b[38;5;241;43m=\u001b[39;49m\u001b[38;5;28;43;01mFalse\u001b[39;49;00m\u001b[43m)\u001b[49m\n",
      "File \u001b[0;32m~/Library/Python/3.9/lib/python/site-packages/keras/src/utils/traceback_utils.py:117\u001b[0m, in \u001b[0;36mfilter_traceback.<locals>.error_handler\u001b[0;34m(*args, **kwargs)\u001b[0m\n\u001b[1;32m    115\u001b[0m filtered_tb \u001b[38;5;241m=\u001b[39m \u001b[38;5;28;01mNone\u001b[39;00m\n\u001b[1;32m    116\u001b[0m \u001b[38;5;28;01mtry\u001b[39;00m:\n\u001b[0;32m--> 117\u001b[0m     \u001b[38;5;28;01mreturn\u001b[39;00m \u001b[43mfn\u001b[49m\u001b[43m(\u001b[49m\u001b[38;5;241;43m*\u001b[39;49m\u001b[43margs\u001b[49m\u001b[43m,\u001b[49m\u001b[43m \u001b[49m\u001b[38;5;241;43m*\u001b[39;49m\u001b[38;5;241;43m*\u001b[39;49m\u001b[43mkwargs\u001b[49m\u001b[43m)\u001b[49m\n\u001b[1;32m    118\u001b[0m \u001b[38;5;28;01mexcept\u001b[39;00m \u001b[38;5;167;01mException\u001b[39;00m \u001b[38;5;28;01mas\u001b[39;00m e:\n\u001b[1;32m    119\u001b[0m     filtered_tb \u001b[38;5;241m=\u001b[39m _process_traceback_frames(e\u001b[38;5;241m.\u001b[39m__traceback__)\n",
      "File \u001b[0;32m~/Library/Python/3.9/lib/python/site-packages/keras/src/backend/tensorflow/trainer.py:320\u001b[0m, in \u001b[0;36mTensorFlowTrainer.fit\u001b[0;34m(self, x, y, batch_size, epochs, verbose, callbacks, validation_split, validation_data, shuffle, class_weight, sample_weight, initial_epoch, steps_per_epoch, validation_steps, validation_batch_size, validation_freq)\u001b[0m\n\u001b[1;32m    318\u001b[0m \u001b[38;5;28;01mfor\u001b[39;00m step, iterator \u001b[38;5;129;01min\u001b[39;00m epoch_iterator\u001b[38;5;241m.\u001b[39menumerate_epoch():\n\u001b[1;32m    319\u001b[0m     callbacks\u001b[38;5;241m.\u001b[39mon_train_batch_begin(step)\n\u001b[0;32m--> 320\u001b[0m     logs \u001b[38;5;241m=\u001b[39m \u001b[38;5;28;43mself\u001b[39;49m\u001b[38;5;241;43m.\u001b[39;49m\u001b[43mtrain_function\u001b[49m\u001b[43m(\u001b[49m\u001b[43miterator\u001b[49m\u001b[43m)\u001b[49m\n\u001b[1;32m    321\u001b[0m     callbacks\u001b[38;5;241m.\u001b[39mon_train_batch_end(step, logs)\n\u001b[1;32m    322\u001b[0m     \u001b[38;5;28;01mif\u001b[39;00m \u001b[38;5;28mself\u001b[39m\u001b[38;5;241m.\u001b[39mstop_training:\n",
      "File \u001b[0;32m~/Library/Python/3.9/lib/python/site-packages/tensorflow/python/util/traceback_utils.py:150\u001b[0m, in \u001b[0;36mfilter_traceback.<locals>.error_handler\u001b[0;34m(*args, **kwargs)\u001b[0m\n\u001b[1;32m    148\u001b[0m filtered_tb \u001b[38;5;241m=\u001b[39m \u001b[38;5;28;01mNone\u001b[39;00m\n\u001b[1;32m    149\u001b[0m \u001b[38;5;28;01mtry\u001b[39;00m:\n\u001b[0;32m--> 150\u001b[0m   \u001b[38;5;28;01mreturn\u001b[39;00m \u001b[43mfn\u001b[49m\u001b[43m(\u001b[49m\u001b[38;5;241;43m*\u001b[39;49m\u001b[43margs\u001b[49m\u001b[43m,\u001b[49m\u001b[43m \u001b[49m\u001b[38;5;241;43m*\u001b[39;49m\u001b[38;5;241;43m*\u001b[39;49m\u001b[43mkwargs\u001b[49m\u001b[43m)\u001b[49m\n\u001b[1;32m    151\u001b[0m \u001b[38;5;28;01mexcept\u001b[39;00m \u001b[38;5;167;01mException\u001b[39;00m \u001b[38;5;28;01mas\u001b[39;00m e:\n\u001b[1;32m    152\u001b[0m   filtered_tb \u001b[38;5;241m=\u001b[39m _process_traceback_frames(e\u001b[38;5;241m.\u001b[39m__traceback__)\n",
      "File \u001b[0;32m~/Library/Python/3.9/lib/python/site-packages/tensorflow/python/eager/polymorphic_function/polymorphic_function.py:833\u001b[0m, in \u001b[0;36mFunction.__call__\u001b[0;34m(self, *args, **kwds)\u001b[0m\n\u001b[1;32m    830\u001b[0m compiler \u001b[38;5;241m=\u001b[39m \u001b[38;5;124m\"\u001b[39m\u001b[38;5;124mxla\u001b[39m\u001b[38;5;124m\"\u001b[39m \u001b[38;5;28;01mif\u001b[39;00m \u001b[38;5;28mself\u001b[39m\u001b[38;5;241m.\u001b[39m_jit_compile \u001b[38;5;28;01melse\u001b[39;00m \u001b[38;5;124m\"\u001b[39m\u001b[38;5;124mnonXla\u001b[39m\u001b[38;5;124m\"\u001b[39m\n\u001b[1;32m    832\u001b[0m \u001b[38;5;28;01mwith\u001b[39;00m OptionalXlaContext(\u001b[38;5;28mself\u001b[39m\u001b[38;5;241m.\u001b[39m_jit_compile):\n\u001b[0;32m--> 833\u001b[0m   result \u001b[38;5;241m=\u001b[39m \u001b[38;5;28;43mself\u001b[39;49m\u001b[38;5;241;43m.\u001b[39;49m\u001b[43m_call\u001b[49m\u001b[43m(\u001b[49m\u001b[38;5;241;43m*\u001b[39;49m\u001b[43margs\u001b[49m\u001b[43m,\u001b[49m\u001b[43m \u001b[49m\u001b[38;5;241;43m*\u001b[39;49m\u001b[38;5;241;43m*\u001b[39;49m\u001b[43mkwds\u001b[49m\u001b[43m)\u001b[49m\n\u001b[1;32m    835\u001b[0m new_tracing_count \u001b[38;5;241m=\u001b[39m \u001b[38;5;28mself\u001b[39m\u001b[38;5;241m.\u001b[39mexperimental_get_tracing_count()\n\u001b[1;32m    836\u001b[0m without_tracing \u001b[38;5;241m=\u001b[39m (tracing_count \u001b[38;5;241m==\u001b[39m new_tracing_count)\n",
      "File \u001b[0;32m~/Library/Python/3.9/lib/python/site-packages/tensorflow/python/eager/polymorphic_function/polymorphic_function.py:878\u001b[0m, in \u001b[0;36mFunction._call\u001b[0;34m(self, *args, **kwds)\u001b[0m\n\u001b[1;32m    875\u001b[0m \u001b[38;5;28mself\u001b[39m\u001b[38;5;241m.\u001b[39m_lock\u001b[38;5;241m.\u001b[39mrelease()\n\u001b[1;32m    876\u001b[0m \u001b[38;5;66;03m# In this case we have not created variables on the first call. So we can\u001b[39;00m\n\u001b[1;32m    877\u001b[0m \u001b[38;5;66;03m# run the first trace but we should fail if variables are created.\u001b[39;00m\n\u001b[0;32m--> 878\u001b[0m results \u001b[38;5;241m=\u001b[39m \u001b[43mtracing_compilation\u001b[49m\u001b[38;5;241;43m.\u001b[39;49m\u001b[43mcall_function\u001b[49m\u001b[43m(\u001b[49m\n\u001b[1;32m    879\u001b[0m \u001b[43m    \u001b[49m\u001b[43margs\u001b[49m\u001b[43m,\u001b[49m\u001b[43m \u001b[49m\u001b[43mkwds\u001b[49m\u001b[43m,\u001b[49m\u001b[43m \u001b[49m\u001b[38;5;28;43mself\u001b[39;49m\u001b[38;5;241;43m.\u001b[39;49m\u001b[43m_variable_creation_config\u001b[49m\n\u001b[1;32m    880\u001b[0m \u001b[43m\u001b[49m\u001b[43m)\u001b[49m\n\u001b[1;32m    881\u001b[0m \u001b[38;5;28;01mif\u001b[39;00m \u001b[38;5;28mself\u001b[39m\u001b[38;5;241m.\u001b[39m_created_variables:\n\u001b[1;32m    882\u001b[0m   \u001b[38;5;28;01mraise\u001b[39;00m \u001b[38;5;167;01mValueError\u001b[39;00m(\u001b[38;5;124m\"\u001b[39m\u001b[38;5;124mCreating variables on a non-first call to a function\u001b[39m\u001b[38;5;124m\"\u001b[39m\n\u001b[1;32m    883\u001b[0m                    \u001b[38;5;124m\"\u001b[39m\u001b[38;5;124m decorated with tf.function.\u001b[39m\u001b[38;5;124m\"\u001b[39m)\n",
      "File \u001b[0;32m~/Library/Python/3.9/lib/python/site-packages/tensorflow/python/eager/polymorphic_function/tracing_compilation.py:139\u001b[0m, in \u001b[0;36mcall_function\u001b[0;34m(args, kwargs, tracing_options)\u001b[0m\n\u001b[1;32m    137\u001b[0m bound_args \u001b[38;5;241m=\u001b[39m function\u001b[38;5;241m.\u001b[39mfunction_type\u001b[38;5;241m.\u001b[39mbind(\u001b[38;5;241m*\u001b[39margs, \u001b[38;5;241m*\u001b[39m\u001b[38;5;241m*\u001b[39mkwargs)\n\u001b[1;32m    138\u001b[0m flat_inputs \u001b[38;5;241m=\u001b[39m function\u001b[38;5;241m.\u001b[39mfunction_type\u001b[38;5;241m.\u001b[39munpack_inputs(bound_args)\n\u001b[0;32m--> 139\u001b[0m \u001b[38;5;28;01mreturn\u001b[39;00m \u001b[43mfunction\u001b[49m\u001b[38;5;241;43m.\u001b[39;49m\u001b[43m_call_flat\u001b[49m\u001b[43m(\u001b[49m\u001b[43m  \u001b[49m\u001b[38;5;66;43;03m# pylint: disable=protected-access\u001b[39;49;00m\n\u001b[1;32m    140\u001b[0m \u001b[43m    \u001b[49m\u001b[43mflat_inputs\u001b[49m\u001b[43m,\u001b[49m\u001b[43m \u001b[49m\u001b[43mcaptured_inputs\u001b[49m\u001b[38;5;241;43m=\u001b[39;49m\u001b[43mfunction\u001b[49m\u001b[38;5;241;43m.\u001b[39;49m\u001b[43mcaptured_inputs\u001b[49m\n\u001b[1;32m    141\u001b[0m \u001b[43m\u001b[49m\u001b[43m)\u001b[49m\n",
      "File \u001b[0;32m~/Library/Python/3.9/lib/python/site-packages/tensorflow/python/eager/polymorphic_function/concrete_function.py:1322\u001b[0m, in \u001b[0;36mConcreteFunction._call_flat\u001b[0;34m(self, tensor_inputs, captured_inputs)\u001b[0m\n\u001b[1;32m   1318\u001b[0m possible_gradient_type \u001b[38;5;241m=\u001b[39m gradients_util\u001b[38;5;241m.\u001b[39mPossibleTapeGradientTypes(args)\n\u001b[1;32m   1319\u001b[0m \u001b[38;5;28;01mif\u001b[39;00m (possible_gradient_type \u001b[38;5;241m==\u001b[39m gradients_util\u001b[38;5;241m.\u001b[39mPOSSIBLE_GRADIENT_TYPES_NONE\n\u001b[1;32m   1320\u001b[0m     \u001b[38;5;129;01mand\u001b[39;00m executing_eagerly):\n\u001b[1;32m   1321\u001b[0m   \u001b[38;5;66;03m# No tape is watching; skip to running the function.\u001b[39;00m\n\u001b[0;32m-> 1322\u001b[0m   \u001b[38;5;28;01mreturn\u001b[39;00m \u001b[38;5;28;43mself\u001b[39;49m\u001b[38;5;241;43m.\u001b[39;49m\u001b[43m_inference_function\u001b[49m\u001b[38;5;241;43m.\u001b[39;49m\u001b[43mcall_preflattened\u001b[49m\u001b[43m(\u001b[49m\u001b[43margs\u001b[49m\u001b[43m)\u001b[49m\n\u001b[1;32m   1323\u001b[0m forward_backward \u001b[38;5;241m=\u001b[39m \u001b[38;5;28mself\u001b[39m\u001b[38;5;241m.\u001b[39m_select_forward_and_backward_functions(\n\u001b[1;32m   1324\u001b[0m     args,\n\u001b[1;32m   1325\u001b[0m     possible_gradient_type,\n\u001b[1;32m   1326\u001b[0m     executing_eagerly)\n\u001b[1;32m   1327\u001b[0m forward_function, args_with_tangents \u001b[38;5;241m=\u001b[39m forward_backward\u001b[38;5;241m.\u001b[39mforward()\n",
      "File \u001b[0;32m~/Library/Python/3.9/lib/python/site-packages/tensorflow/python/eager/polymorphic_function/atomic_function.py:216\u001b[0m, in \u001b[0;36mAtomicFunction.call_preflattened\u001b[0;34m(self, args)\u001b[0m\n\u001b[1;32m    214\u001b[0m \u001b[38;5;28;01mdef\u001b[39;00m \u001b[38;5;21mcall_preflattened\u001b[39m(\u001b[38;5;28mself\u001b[39m, args: Sequence[core\u001b[38;5;241m.\u001b[39mTensor]) \u001b[38;5;241m-\u001b[39m\u001b[38;5;241m>\u001b[39m Any:\n\u001b[1;32m    215\u001b[0m \u001b[38;5;250m  \u001b[39m\u001b[38;5;124;03m\"\"\"Calls with flattened tensor inputs and returns the structured output.\"\"\"\u001b[39;00m\n\u001b[0;32m--> 216\u001b[0m   flat_outputs \u001b[38;5;241m=\u001b[39m \u001b[38;5;28;43mself\u001b[39;49m\u001b[38;5;241;43m.\u001b[39;49m\u001b[43mcall_flat\u001b[49m\u001b[43m(\u001b[49m\u001b[38;5;241;43m*\u001b[39;49m\u001b[43margs\u001b[49m\u001b[43m)\u001b[49m\n\u001b[1;32m    217\u001b[0m   \u001b[38;5;28;01mreturn\u001b[39;00m \u001b[38;5;28mself\u001b[39m\u001b[38;5;241m.\u001b[39mfunction_type\u001b[38;5;241m.\u001b[39mpack_output(flat_outputs)\n",
      "File \u001b[0;32m~/Library/Python/3.9/lib/python/site-packages/tensorflow/python/eager/polymorphic_function/atomic_function.py:251\u001b[0m, in \u001b[0;36mAtomicFunction.call_flat\u001b[0;34m(self, *args)\u001b[0m\n\u001b[1;32m    249\u001b[0m \u001b[38;5;28;01mwith\u001b[39;00m record\u001b[38;5;241m.\u001b[39mstop_recording():\n\u001b[1;32m    250\u001b[0m   \u001b[38;5;28;01mif\u001b[39;00m \u001b[38;5;28mself\u001b[39m\u001b[38;5;241m.\u001b[39m_bound_context\u001b[38;5;241m.\u001b[39mexecuting_eagerly():\n\u001b[0;32m--> 251\u001b[0m     outputs \u001b[38;5;241m=\u001b[39m \u001b[38;5;28;43mself\u001b[39;49m\u001b[38;5;241;43m.\u001b[39;49m\u001b[43m_bound_context\u001b[49m\u001b[38;5;241;43m.\u001b[39;49m\u001b[43mcall_function\u001b[49m\u001b[43m(\u001b[49m\n\u001b[1;32m    252\u001b[0m \u001b[43m        \u001b[49m\u001b[38;5;28;43mself\u001b[39;49m\u001b[38;5;241;43m.\u001b[39;49m\u001b[43mname\u001b[49m\u001b[43m,\u001b[49m\n\u001b[1;32m    253\u001b[0m \u001b[43m        \u001b[49m\u001b[38;5;28;43mlist\u001b[39;49m\u001b[43m(\u001b[49m\u001b[43margs\u001b[49m\u001b[43m)\u001b[49m\u001b[43m,\u001b[49m\n\u001b[1;32m    254\u001b[0m \u001b[43m        \u001b[49m\u001b[38;5;28;43mlen\u001b[39;49m\u001b[43m(\u001b[49m\u001b[38;5;28;43mself\u001b[39;49m\u001b[38;5;241;43m.\u001b[39;49m\u001b[43mfunction_type\u001b[49m\u001b[38;5;241;43m.\u001b[39;49m\u001b[43mflat_outputs\u001b[49m\u001b[43m)\u001b[49m\u001b[43m,\u001b[49m\n\u001b[1;32m    255\u001b[0m \u001b[43m    \u001b[49m\u001b[43m)\u001b[49m\n\u001b[1;32m    256\u001b[0m   \u001b[38;5;28;01melse\u001b[39;00m:\n\u001b[1;32m    257\u001b[0m     outputs \u001b[38;5;241m=\u001b[39m make_call_op_in_graph(\n\u001b[1;32m    258\u001b[0m         \u001b[38;5;28mself\u001b[39m,\n\u001b[1;32m    259\u001b[0m         \u001b[38;5;28mlist\u001b[39m(args),\n\u001b[1;32m    260\u001b[0m         \u001b[38;5;28mself\u001b[39m\u001b[38;5;241m.\u001b[39m_bound_context\u001b[38;5;241m.\u001b[39mfunction_call_options\u001b[38;5;241m.\u001b[39mas_attrs(),\n\u001b[1;32m    261\u001b[0m     )\n",
      "File \u001b[0;32m~/Library/Python/3.9/lib/python/site-packages/tensorflow/python/eager/context.py:1500\u001b[0m, in \u001b[0;36mContext.call_function\u001b[0;34m(self, name, tensor_inputs, num_outputs)\u001b[0m\n\u001b[1;32m   1498\u001b[0m cancellation_context \u001b[38;5;241m=\u001b[39m cancellation\u001b[38;5;241m.\u001b[39mcontext()\n\u001b[1;32m   1499\u001b[0m \u001b[38;5;28;01mif\u001b[39;00m cancellation_context \u001b[38;5;129;01mis\u001b[39;00m \u001b[38;5;28;01mNone\u001b[39;00m:\n\u001b[0;32m-> 1500\u001b[0m   outputs \u001b[38;5;241m=\u001b[39m \u001b[43mexecute\u001b[49m\u001b[38;5;241;43m.\u001b[39;49m\u001b[43mexecute\u001b[49m\u001b[43m(\u001b[49m\n\u001b[1;32m   1501\u001b[0m \u001b[43m      \u001b[49m\u001b[43mname\u001b[49m\u001b[38;5;241;43m.\u001b[39;49m\u001b[43mdecode\u001b[49m\u001b[43m(\u001b[49m\u001b[38;5;124;43m\"\u001b[39;49m\u001b[38;5;124;43mutf-8\u001b[39;49m\u001b[38;5;124;43m\"\u001b[39;49m\u001b[43m)\u001b[49m\u001b[43m,\u001b[49m\n\u001b[1;32m   1502\u001b[0m \u001b[43m      \u001b[49m\u001b[43mnum_outputs\u001b[49m\u001b[38;5;241;43m=\u001b[39;49m\u001b[43mnum_outputs\u001b[49m\u001b[43m,\u001b[49m\n\u001b[1;32m   1503\u001b[0m \u001b[43m      \u001b[49m\u001b[43minputs\u001b[49m\u001b[38;5;241;43m=\u001b[39;49m\u001b[43mtensor_inputs\u001b[49m\u001b[43m,\u001b[49m\n\u001b[1;32m   1504\u001b[0m \u001b[43m      \u001b[49m\u001b[43mattrs\u001b[49m\u001b[38;5;241;43m=\u001b[39;49m\u001b[43mattrs\u001b[49m\u001b[43m,\u001b[49m\n\u001b[1;32m   1505\u001b[0m \u001b[43m      \u001b[49m\u001b[43mctx\u001b[49m\u001b[38;5;241;43m=\u001b[39;49m\u001b[38;5;28;43mself\u001b[39;49m\u001b[43m,\u001b[49m\n\u001b[1;32m   1506\u001b[0m \u001b[43m  \u001b[49m\u001b[43m)\u001b[49m\n\u001b[1;32m   1507\u001b[0m \u001b[38;5;28;01melse\u001b[39;00m:\n\u001b[1;32m   1508\u001b[0m   outputs \u001b[38;5;241m=\u001b[39m execute\u001b[38;5;241m.\u001b[39mexecute_with_cancellation(\n\u001b[1;32m   1509\u001b[0m       name\u001b[38;5;241m.\u001b[39mdecode(\u001b[38;5;124m\"\u001b[39m\u001b[38;5;124mutf-8\u001b[39m\u001b[38;5;124m\"\u001b[39m),\n\u001b[1;32m   1510\u001b[0m       num_outputs\u001b[38;5;241m=\u001b[39mnum_outputs,\n\u001b[0;32m   (...)\u001b[0m\n\u001b[1;32m   1514\u001b[0m       cancellation_manager\u001b[38;5;241m=\u001b[39mcancellation_context,\n\u001b[1;32m   1515\u001b[0m   )\n",
      "File \u001b[0;32m~/Library/Python/3.9/lib/python/site-packages/tensorflow/python/eager/execute.py:53\u001b[0m, in \u001b[0;36mquick_execute\u001b[0;34m(op_name, num_outputs, inputs, attrs, ctx, name)\u001b[0m\n\u001b[1;32m     51\u001b[0m \u001b[38;5;28;01mtry\u001b[39;00m:\n\u001b[1;32m     52\u001b[0m   ctx\u001b[38;5;241m.\u001b[39mensure_initialized()\n\u001b[0;32m---> 53\u001b[0m   tensors \u001b[38;5;241m=\u001b[39m \u001b[43mpywrap_tfe\u001b[49m\u001b[38;5;241;43m.\u001b[39;49m\u001b[43mTFE_Py_Execute\u001b[49m\u001b[43m(\u001b[49m\u001b[43mctx\u001b[49m\u001b[38;5;241;43m.\u001b[39;49m\u001b[43m_handle\u001b[49m\u001b[43m,\u001b[49m\u001b[43m \u001b[49m\u001b[43mdevice_name\u001b[49m\u001b[43m,\u001b[49m\u001b[43m \u001b[49m\u001b[43mop_name\u001b[49m\u001b[43m,\u001b[49m\n\u001b[1;32m     54\u001b[0m \u001b[43m                                      \u001b[49m\u001b[43minputs\u001b[49m\u001b[43m,\u001b[49m\u001b[43m \u001b[49m\u001b[43mattrs\u001b[49m\u001b[43m,\u001b[49m\u001b[43m \u001b[49m\u001b[43mnum_outputs\u001b[49m\u001b[43m)\u001b[49m\n\u001b[1;32m     55\u001b[0m \u001b[38;5;28;01mexcept\u001b[39;00m core\u001b[38;5;241m.\u001b[39m_NotOkStatusException \u001b[38;5;28;01mas\u001b[39;00m e:\n\u001b[1;32m     56\u001b[0m   \u001b[38;5;28;01mif\u001b[39;00m name \u001b[38;5;129;01mis\u001b[39;00m \u001b[38;5;129;01mnot\u001b[39;00m \u001b[38;5;28;01mNone\u001b[39;00m:\n",
      "\u001b[0;31mKeyboardInterrupt\u001b[0m: "
     ]
    }
   ],
   "source": [
    "with tf.device('/GPU:0'):\n",
    "    test4 = MV_LSTM.fit(X_train, y_train, epochs=17, validation_split=0.1, batch_size=64,shuffle=False)"
   ]
  },
  {
   "cell_type": "markdown",
   "metadata": {},
   "source": [
    "# AUTOENCODERS"
   ]
  },
  {
   "cell_type": "markdown",
   "metadata": {},
   "source": [
    "Autoencoders for anomaly detection in pollution levels."
   ]
  },
  {
   "cell_type": "markdown",
   "metadata": {},
   "source": [
    "- Anomaly detection is critical for identifying abnormalities in time series data\n",
    "- LSTM autoencoders leverage LSTM networks to encode time series into vector representations and reconstruct inputs\n",
    "- High reconstruction error signifies anomalies not seen during training\n",
    "- LSTMs help capture time dependencies well for accurate anomaly evaluation\n",
    "- Autoencoder training must be optimized carefully to distinguish anomalies effectively"
   ]
  },
  {
   "cell_type": "code",
   "execution_count": 88,
   "metadata": {},
   "outputs": [
    {
     "data": {
      "text/plain": [
       "(43452, 12, 8)"
      ]
     },
     "execution_count": 88,
     "metadata": {},
     "output_type": "execute_result"
    }
   ],
   "source": [
    "X_train.shape"
   ]
  },
  {
   "cell_type": "markdown",
   "metadata": {},
   "source": [
    "The model needs time to learn the important features so increase epochs and introduce early stopping."
   ]
  },
  {
   "cell_type": "code",
   "execution_count": 37,
   "metadata": {},
   "outputs": [
    {
     "data": {
      "text/html": [
       "<pre style=\"white-space:pre;overflow-x:auto;line-height:normal;font-family:Menlo,'DejaVu Sans Mono',consolas,'Courier New',monospace\"><span style=\"font-weight: bold\">Model: \"sequential_3\"</span>\n",
       "</pre>\n"
      ],
      "text/plain": [
       "\u001b[1mModel: \"sequential_3\"\u001b[0m\n"
      ]
     },
     "metadata": {},
     "output_type": "display_data"
    },
    {
     "data": {
      "text/html": [
       "<pre style=\"white-space:pre;overflow-x:auto;line-height:normal;font-family:Menlo,'DejaVu Sans Mono',consolas,'Courier New',monospace\">┏━━━━━━━━━━━━━━━━━━━━━━━━━━━━━━━━━┳━━━━━━━━━━━━━━━━━━━━━━━━┳━━━━━━━━━━━━━━━┓\n",
       "┃<span style=\"font-weight: bold\"> Layer (type)                    </span>┃<span style=\"font-weight: bold\"> Output Shape           </span>┃<span style=\"font-weight: bold\">       Param # </span>┃\n",
       "┡━━━━━━━━━━━━━━━━━━━━━━━━━━━━━━━━━╇━━━━━━━━━━━━━━━━━━━━━━━━╇━━━━━━━━━━━━━━━┩\n",
       "│ lstm_4 (<span style=\"color: #0087ff; text-decoration-color: #0087ff\">LSTM</span>)                   │ (<span style=\"color: #00d7ff; text-decoration-color: #00d7ff\">None</span>, <span style=\"color: #00af00; text-decoration-color: #00af00\">50</span>)             │        <span style=\"color: #00af00; text-decoration-color: #00af00\">11,800</span> │\n",
       "├─────────────────────────────────┼────────────────────────┼───────────────┤\n",
       "│ repeat_vector_2 (<span style=\"color: #0087ff; text-decoration-color: #0087ff\">RepeatVector</span>)  │ (<span style=\"color: #00d7ff; text-decoration-color: #00d7ff\">None</span>, <span style=\"color: #00af00; text-decoration-color: #00af00\">12</span>, <span style=\"color: #00af00; text-decoration-color: #00af00\">50</span>)         │             <span style=\"color: #00af00; text-decoration-color: #00af00\">0</span> │\n",
       "├─────────────────────────────────┼────────────────────────┼───────────────┤\n",
       "│ lstm_5 (<span style=\"color: #0087ff; text-decoration-color: #0087ff\">LSTM</span>)                   │ (<span style=\"color: #00d7ff; text-decoration-color: #00d7ff\">None</span>, <span style=\"color: #00af00; text-decoration-color: #00af00\">12</span>, <span style=\"color: #00af00; text-decoration-color: #00af00\">50</span>)         │        <span style=\"color: #00af00; text-decoration-color: #00af00\">20,200</span> │\n",
       "├─────────────────────────────────┼────────────────────────┼───────────────┤\n",
       "│ time_distributed_2              │ (<span style=\"color: #00d7ff; text-decoration-color: #00d7ff\">None</span>, <span style=\"color: #00af00; text-decoration-color: #00af00\">12</span>, <span style=\"color: #00af00; text-decoration-color: #00af00\">8</span>)          │           <span style=\"color: #00af00; text-decoration-color: #00af00\">408</span> │\n",
       "│ (<span style=\"color: #0087ff; text-decoration-color: #0087ff\">TimeDistributed</span>)               │                        │               │\n",
       "└─────────────────────────────────┴────────────────────────┴───────────────┘\n",
       "</pre>\n"
      ],
      "text/plain": [
       "┏━━━━━━━━━━━━━━━━━━━━━━━━━━━━━━━━━┳━━━━━━━━━━━━━━━━━━━━━━━━┳━━━━━━━━━━━━━━━┓\n",
       "┃\u001b[1m \u001b[0m\u001b[1mLayer (type)                   \u001b[0m\u001b[1m \u001b[0m┃\u001b[1m \u001b[0m\u001b[1mOutput Shape          \u001b[0m\u001b[1m \u001b[0m┃\u001b[1m \u001b[0m\u001b[1m      Param #\u001b[0m\u001b[1m \u001b[0m┃\n",
       "┡━━━━━━━━━━━━━━━━━━━━━━━━━━━━━━━━━╇━━━━━━━━━━━━━━━━━━━━━━━━╇━━━━━━━━━━━━━━━┩\n",
       "│ lstm_4 (\u001b[38;5;33mLSTM\u001b[0m)                   │ (\u001b[38;5;45mNone\u001b[0m, \u001b[38;5;34m50\u001b[0m)             │        \u001b[38;5;34m11,800\u001b[0m │\n",
       "├─────────────────────────────────┼────────────────────────┼───────────────┤\n",
       "│ repeat_vector_2 (\u001b[38;5;33mRepeatVector\u001b[0m)  │ (\u001b[38;5;45mNone\u001b[0m, \u001b[38;5;34m12\u001b[0m, \u001b[38;5;34m50\u001b[0m)         │             \u001b[38;5;34m0\u001b[0m │\n",
       "├─────────────────────────────────┼────────────────────────┼───────────────┤\n",
       "│ lstm_5 (\u001b[38;5;33mLSTM\u001b[0m)                   │ (\u001b[38;5;45mNone\u001b[0m, \u001b[38;5;34m12\u001b[0m, \u001b[38;5;34m50\u001b[0m)         │        \u001b[38;5;34m20,200\u001b[0m │\n",
       "├─────────────────────────────────┼────────────────────────┼───────────────┤\n",
       "│ time_distributed_2              │ (\u001b[38;5;45mNone\u001b[0m, \u001b[38;5;34m12\u001b[0m, \u001b[38;5;34m8\u001b[0m)          │           \u001b[38;5;34m408\u001b[0m │\n",
       "│ (\u001b[38;5;33mTimeDistributed\u001b[0m)               │                        │               │\n",
       "└─────────────────────────────────┴────────────────────────┴───────────────┘\n"
      ]
     },
     "metadata": {},
     "output_type": "display_data"
    },
    {
     "data": {
      "text/html": [
       "<pre style=\"white-space:pre;overflow-x:auto;line-height:normal;font-family:Menlo,'DejaVu Sans Mono',consolas,'Courier New',monospace\"><span style=\"font-weight: bold\"> Total params: </span><span style=\"color: #00af00; text-decoration-color: #00af00\">32,408</span> (126.59 KB)\n",
       "</pre>\n"
      ],
      "text/plain": [
       "\u001b[1m Total params: \u001b[0m\u001b[38;5;34m32,408\u001b[0m (126.59 KB)\n"
      ]
     },
     "metadata": {},
     "output_type": "display_data"
    },
    {
     "data": {
      "text/html": [
       "<pre style=\"white-space:pre;overflow-x:auto;line-height:normal;font-family:Menlo,'DejaVu Sans Mono',consolas,'Courier New',monospace\"><span style=\"font-weight: bold\"> Trainable params: </span><span style=\"color: #00af00; text-decoration-color: #00af00\">32,408</span> (126.59 KB)\n",
       "</pre>\n"
      ],
      "text/plain": [
       "\u001b[1m Trainable params: \u001b[0m\u001b[38;5;34m32,408\u001b[0m (126.59 KB)\n"
      ]
     },
     "metadata": {},
     "output_type": "display_data"
    },
    {
     "data": {
      "text/html": [
       "<pre style=\"white-space:pre;overflow-x:auto;line-height:normal;font-family:Menlo,'DejaVu Sans Mono',consolas,'Courier New',monospace\"><span style=\"font-weight: bold\"> Non-trainable params: </span><span style=\"color: #00af00; text-decoration-color: #00af00\">0</span> (0.00 B)\n",
       "</pre>\n"
      ],
      "text/plain": [
       "\u001b[1m Non-trainable params: \u001b[0m\u001b[38;5;34m0\u001b[0m (0.00 B)\n"
      ]
     },
     "metadata": {},
     "output_type": "display_data"
    }
   ],
   "source": [
    "from keras.layers import LSTM, Dense, RepeatVector, TimeDistributed\n",
    "from keras.models import Sequential\n",
    "\n",
    "\n",
    "n_steps = X_train.shape[1]\n",
    "n_features = X_train.shape[2]\n",
    "n_outputs = y_train.shape[1]\n",
    "encoder_decoder = Sequential()\n",
    "encoder_decoder.add(Input(shape =(n_steps, n_features)))\n",
    "encoder_decoder.add(LSTM(50, return_sequences=False))\n",
    "encoder_decoder.add(RepeatVector(n_steps))  # Repeat the bottleneck vector to match the time steps\n",
    "encoder_decoder.add(LSTM(50, return_sequences=True))\n",
    "encoder_decoder.add(TimeDistributed(Dense(n_features, activation='linear')))  # Output layer to produce one value per time step\n",
    "\n",
    "#Compile the model\n",
    "metrics=\"RootMeanSquaredError()\"\n",
    "optimzer=\"adam\"\n",
    "loss = 'mse'\n",
    "\n",
    "# Autoencoder\n",
    "encoder_decoder.compile(optimizer=Adam(learning_rate = 0.001), loss=loss, metrics = [RootMeanSquaredError()])\n",
    "\n",
    "early_stopping = EarlyStopping(monitor='val_loss', patience=5, restore_best_weights=True)\n",
    "\n",
    "\n",
    "\n",
    "\n",
    "encoder_decoder.summary()"
   ]
  },
  {
   "cell_type": "code",
   "execution_count": 38,
   "metadata": {},
   "outputs": [
    {
     "name": "stdout",
     "output_type": "stream",
     "text": [
      "Epoch 1/150\n",
      "\u001b[1m612/612\u001b[0m \u001b[32m━━━━━━━━━━━━━━━━━━━━\u001b[0m\u001b[37m\u001b[0m \u001b[1m12s\u001b[0m 14ms/step - loss: 0.0233 - root_mean_squared_error: 0.1486 - val_loss: 0.0162 - val_root_mean_squared_error: 0.1272\n",
      "Epoch 2/150\n",
      "\u001b[1m612/612\u001b[0m \u001b[32m━━━━━━━━━━━━━━━━━━━━\u001b[0m\u001b[37m\u001b[0m \u001b[1m7s\u001b[0m 12ms/step - loss: 0.0113 - root_mean_squared_error: 0.1059 - val_loss: 0.0121 - val_root_mean_squared_error: 0.1101\n",
      "Epoch 3/150\n",
      "\u001b[1m612/612\u001b[0m \u001b[32m━━━━━━━━━━━━━━━━━━━━\u001b[0m\u001b[37m\u001b[0m \u001b[1m8s\u001b[0m 14ms/step - loss: 0.0094 - root_mean_squared_error: 0.0969 - val_loss: 0.0106 - val_root_mean_squared_error: 0.1029\n",
      "Epoch 4/150\n",
      "\u001b[1m612/612\u001b[0m \u001b[32m━━━━━━━━━━━━━━━━━━━━\u001b[0m\u001b[37m\u001b[0m \u001b[1m7s\u001b[0m 11ms/step - loss: 0.0084 - root_mean_squared_error: 0.0918 - val_loss: 0.0095 - val_root_mean_squared_error: 0.0973\n",
      "Epoch 5/150\n",
      "\u001b[1m612/612\u001b[0m \u001b[32m━━━━━━━━━━━━━━━━━━━━\u001b[0m\u001b[37m\u001b[0m \u001b[1m7s\u001b[0m 11ms/step - loss: 0.0078 - root_mean_squared_error: 0.0884 - val_loss: 0.0091 - val_root_mean_squared_error: 0.0953\n",
      "Epoch 6/150\n",
      "\u001b[1m612/612\u001b[0m \u001b[32m━━━━━━━━━━━━━━━━━━━━\u001b[0m\u001b[37m\u001b[0m \u001b[1m7s\u001b[0m 12ms/step - loss: 0.0072 - root_mean_squared_error: 0.0849 - val_loss: 0.0079 - val_root_mean_squared_error: 0.0887\n",
      "Epoch 7/150\n",
      "\u001b[1m612/612\u001b[0m \u001b[32m━━━━━━━━━━━━━━━━━━━━\u001b[0m\u001b[37m\u001b[0m \u001b[1m7s\u001b[0m 11ms/step - loss: 0.0066 - root_mean_squared_error: 0.0813 - val_loss: 0.0075 - val_root_mean_squared_error: 0.0865\n",
      "Epoch 8/150\n",
      "\u001b[1m612/612\u001b[0m \u001b[32m━━━━━━━━━━━━━━━━━━━━\u001b[0m\u001b[37m\u001b[0m \u001b[1m7s\u001b[0m 11ms/step - loss: 0.0062 - root_mean_squared_error: 0.0788 - val_loss: 0.0068 - val_root_mean_squared_error: 0.0822\n",
      "Epoch 9/150\n",
      "\u001b[1m612/612\u001b[0m \u001b[32m━━━━━━━━━━━━━━━━━━━━\u001b[0m\u001b[37m\u001b[0m \u001b[1m7s\u001b[0m 11ms/step - loss: 0.0058 - root_mean_squared_error: 0.0760 - val_loss: 0.0065 - val_root_mean_squared_error: 0.0804\n",
      "Epoch 10/150\n",
      "\u001b[1m612/612\u001b[0m \u001b[32m━━━━━━━━━━━━━━━━━━━━\u001b[0m\u001b[37m\u001b[0m \u001b[1m7s\u001b[0m 12ms/step - loss: 0.0056 - root_mean_squared_error: 0.0749 - val_loss: 0.0060 - val_root_mean_squared_error: 0.0778\n",
      "Epoch 11/150\n",
      "\u001b[1m612/612\u001b[0m \u001b[32m━━━━━━━━━━━━━━━━━━━━\u001b[0m\u001b[37m\u001b[0m \u001b[1m7s\u001b[0m 12ms/step - loss: 0.0052 - root_mean_squared_error: 0.0723 - val_loss: 0.0055 - val_root_mean_squared_error: 0.0742\n",
      "Epoch 12/150\n",
      "\u001b[1m612/612\u001b[0m \u001b[32m━━━━━━━━━━━━━━━━━━━━\u001b[0m\u001b[37m\u001b[0m \u001b[1m7s\u001b[0m 11ms/step - loss: 0.0048 - root_mean_squared_error: 0.0694 - val_loss: 0.0051 - val_root_mean_squared_error: 0.0714\n",
      "Epoch 13/150\n",
      "\u001b[1m612/612\u001b[0m \u001b[32m━━━━━━━━━━━━━━━━━━━━\u001b[0m\u001b[37m\u001b[0m \u001b[1m7s\u001b[0m 12ms/step - loss: 0.0044 - root_mean_squared_error: 0.0667 - val_loss: 0.0047 - val_root_mean_squared_error: 0.0686\n",
      "Epoch 14/150\n",
      "\u001b[1m612/612\u001b[0m \u001b[32m━━━━━━━━━━━━━━━━━━━━\u001b[0m\u001b[37m\u001b[0m \u001b[1m7s\u001b[0m 12ms/step - loss: 0.0041 - root_mean_squared_error: 0.0641 - val_loss: 0.0045 - val_root_mean_squared_error: 0.0671\n",
      "Epoch 15/150\n",
      "\u001b[1m612/612\u001b[0m \u001b[32m━━━━━━━━━━━━━━━━━━━━\u001b[0m\u001b[37m\u001b[0m \u001b[1m8s\u001b[0m 13ms/step - loss: 0.0038 - root_mean_squared_error: 0.0618 - val_loss: 0.0040 - val_root_mean_squared_error: 0.0630\n",
      "Epoch 16/150\n",
      "\u001b[1m612/612\u001b[0m \u001b[32m━━━━━━━━━━━━━━━━━━━━\u001b[0m\u001b[37m\u001b[0m \u001b[1m8s\u001b[0m 13ms/step - loss: 0.0034 - root_mean_squared_error: 0.0583 - val_loss: 0.0038 - val_root_mean_squared_error: 0.0613\n",
      "Epoch 17/150\n",
      "\u001b[1m612/612\u001b[0m \u001b[32m━━━━━━━━━━━━━━━━━━━━\u001b[0m\u001b[37m\u001b[0m \u001b[1m7s\u001b[0m 11ms/step - loss: 0.0033 - root_mean_squared_error: 0.0570 - val_loss: 0.0034 - val_root_mean_squared_error: 0.0582\n",
      "Epoch 18/150\n",
      "\u001b[1m612/612\u001b[0m \u001b[32m━━━━━━━━━━━━━━━━━━━━\u001b[0m\u001b[37m\u001b[0m \u001b[1m7s\u001b[0m 11ms/step - loss: 0.0029 - root_mean_squared_error: 0.0537 - val_loss: 0.0030 - val_root_mean_squared_error: 0.0549\n",
      "Epoch 19/150\n",
      "\u001b[1m612/612\u001b[0m \u001b[32m━━━━━━━━━━━━━━━━━━━━\u001b[0m\u001b[37m\u001b[0m \u001b[1m6s\u001b[0m 10ms/step - loss: 0.0027 - root_mean_squared_error: 0.0519 - val_loss: 0.0029 - val_root_mean_squared_error: 0.0542\n",
      "Epoch 20/150\n",
      "\u001b[1m612/612\u001b[0m \u001b[32m━━━━━━━━━━━━━━━━━━━━\u001b[0m\u001b[37m\u001b[0m \u001b[1m6s\u001b[0m 10ms/step - loss: 0.0026 - root_mean_squared_error: 0.0509 - val_loss: 0.0028 - val_root_mean_squared_error: 0.0527\n",
      "Epoch 21/150\n",
      "\u001b[1m612/612\u001b[0m \u001b[32m━━━━━━━━━━━━━━━━━━━━\u001b[0m\u001b[37m\u001b[0m \u001b[1m6s\u001b[0m 10ms/step - loss: 0.0023 - root_mean_squared_error: 0.0480 - val_loss: 0.0024 - val_root_mean_squared_error: 0.0487\n",
      "Epoch 22/150\n",
      "\u001b[1m612/612\u001b[0m \u001b[32m━━━━━━━━━━━━━━━━━━━━\u001b[0m\u001b[37m\u001b[0m \u001b[1m6s\u001b[0m 10ms/step - loss: 0.0020 - root_mean_squared_error: 0.0447 - val_loss: 0.0021 - val_root_mean_squared_error: 0.0455\n",
      "Epoch 23/150\n",
      "\u001b[1m612/612\u001b[0m \u001b[32m━━━━━━━━━━━━━━━━━━━━\u001b[0m\u001b[37m\u001b[0m \u001b[1m6s\u001b[0m 10ms/step - loss: 0.0019 - root_mean_squared_error: 0.0432 - val_loss: 0.0020 - val_root_mean_squared_error: 0.0443\n",
      "Epoch 24/150\n",
      "\u001b[1m612/612\u001b[0m \u001b[32m━━━━━━━━━━━━━━━━━━━━\u001b[0m\u001b[37m\u001b[0m \u001b[1m6s\u001b[0m 10ms/step - loss: 0.0017 - root_mean_squared_error: 0.0417 - val_loss: 0.0018 - val_root_mean_squared_error: 0.0429\n",
      "Epoch 25/150\n",
      "\u001b[1m612/612\u001b[0m \u001b[32m━━━━━━━━━━━━━━━━━━━━\u001b[0m\u001b[37m\u001b[0m \u001b[1m6s\u001b[0m 10ms/step - loss: 0.0016 - root_mean_squared_error: 0.0393 - val_loss: 0.0014 - val_root_mean_squared_error: 0.0376\n",
      "Epoch 26/150\n",
      "\u001b[1m612/612\u001b[0m \u001b[32m━━━━━━━━━━━━━━━━━━━━\u001b[0m\u001b[37m\u001b[0m \u001b[1m6s\u001b[0m 10ms/step - loss: 0.0013 - root_mean_squared_error: 0.0357 - val_loss: 0.0012 - val_root_mean_squared_error: 0.0350\n",
      "Epoch 27/150\n",
      "\u001b[1m612/612\u001b[0m \u001b[32m━━━━━━━━━━━━━━━━━━━━\u001b[0m\u001b[37m\u001b[0m \u001b[1m6s\u001b[0m 10ms/step - loss: 0.0012 - root_mean_squared_error: 0.0340 - val_loss: 0.0011 - val_root_mean_squared_error: 0.0337\n",
      "Epoch 28/150\n",
      "\u001b[1m612/612\u001b[0m \u001b[32m━━━━━━━━━━━━━━━━━━━━\u001b[0m\u001b[37m\u001b[0m \u001b[1m6s\u001b[0m 10ms/step - loss: 0.0011 - root_mean_squared_error: 0.0327 - val_loss: 0.0010 - val_root_mean_squared_error: 0.0320\n",
      "Epoch 29/150\n",
      "\u001b[1m612/612\u001b[0m \u001b[32m━━━━━━━━━━━━━━━━━━━━\u001b[0m\u001b[37m\u001b[0m \u001b[1m6s\u001b[0m 10ms/step - loss: 9.7922e-04 - root_mean_squared_error: 0.0311 - val_loss: 8.1863e-04 - val_root_mean_squared_error: 0.0286\n",
      "Epoch 30/150\n",
      "\u001b[1m612/612\u001b[0m \u001b[32m━━━━━━━━━━━━━━━━━━━━\u001b[0m\u001b[37m\u001b[0m \u001b[1m6s\u001b[0m 10ms/step - loss: 7.7858e-04 - root_mean_squared_error: 0.0277 - val_loss: 6.4748e-04 - val_root_mean_squared_error: 0.0254\n",
      "Epoch 31/150\n",
      "\u001b[1m612/612\u001b[0m \u001b[32m━━━━━━━━━━━━━━━━━━━━\u001b[0m\u001b[37m\u001b[0m \u001b[1m6s\u001b[0m 10ms/step - loss: 7.1251e-04 - root_mean_squared_error: 0.0264 - val_loss: 5.6250e-04 - val_root_mean_squared_error: 0.0237\n",
      "Epoch 32/150\n",
      "\u001b[1m612/612\u001b[0m \u001b[32m━━━━━━━━━━━━━━━━━━━━\u001b[0m\u001b[37m\u001b[0m \u001b[1m6s\u001b[0m 10ms/step - loss: 6.4700e-04 - root_mean_squared_error: 0.0252 - val_loss: 7.0530e-04 - val_root_mean_squared_error: 0.0266\n",
      "Epoch 33/150\n",
      "\u001b[1m612/612\u001b[0m \u001b[32m━━━━━━━━━━━━━━━━━━━━\u001b[0m\u001b[37m\u001b[0m \u001b[1m6s\u001b[0m 10ms/step - loss: 6.2045e-04 - root_mean_squared_error: 0.0246 - val_loss: 5.8533e-04 - val_root_mean_squared_error: 0.0242\n",
      "Epoch 34/150\n",
      "\u001b[1m612/612\u001b[0m \u001b[32m━━━━━━━━━━━━━━━━━━━━\u001b[0m\u001b[37m\u001b[0m \u001b[1m6s\u001b[0m 10ms/step - loss: 5.9068e-04 - root_mean_squared_error: 0.0240 - val_loss: 4.8487e-04 - val_root_mean_squared_error: 0.0220\n",
      "Epoch 35/150\n",
      "\u001b[1m612/612\u001b[0m \u001b[32m━━━━━━━━━━━━━━━━━━━━\u001b[0m\u001b[37m\u001b[0m \u001b[1m6s\u001b[0m 10ms/step - loss: 5.5815e-04 - root_mean_squared_error: 0.0234 - val_loss: 5.0853e-04 - val_root_mean_squared_error: 0.0226\n",
      "Epoch 36/150\n",
      "\u001b[1m612/612\u001b[0m \u001b[32m━━━━━━━━━━━━━━━━━━━━\u001b[0m\u001b[37m\u001b[0m \u001b[1m6s\u001b[0m 10ms/step - loss: 5.3211e-04 - root_mean_squared_error: 0.0228 - val_loss: 4.8224e-04 - val_root_mean_squared_error: 0.0220\n",
      "Epoch 37/150\n",
      "\u001b[1m612/612\u001b[0m \u001b[32m━━━━━━━━━━━━━━━━━━━━\u001b[0m\u001b[37m\u001b[0m \u001b[1m6s\u001b[0m 10ms/step - loss: 5.1495e-04 - root_mean_squared_error: 0.0224 - val_loss: 4.6916e-04 - val_root_mean_squared_error: 0.0217\n",
      "Epoch 38/150\n",
      "\u001b[1m612/612\u001b[0m \u001b[32m━━━━━━━━━━━━━━━━━━━━\u001b[0m\u001b[37m\u001b[0m \u001b[1m6s\u001b[0m 9ms/step - loss: 5.0691e-04 - root_mean_squared_error: 0.0223 - val_loss: 4.1086e-04 - val_root_mean_squared_error: 0.0203\n",
      "Epoch 39/150\n",
      "\u001b[1m612/612\u001b[0m \u001b[32m━━━━━━━━━━━━━━━━━━━━\u001b[0m\u001b[37m\u001b[0m \u001b[1m6s\u001b[0m 10ms/step - loss: 5.2469e-04 - root_mean_squared_error: 0.0227 - val_loss: 3.8451e-04 - val_root_mean_squared_error: 0.0196\n",
      "Epoch 40/150\n",
      "\u001b[1m612/612\u001b[0m \u001b[32m━━━━━━━━━━━━━━━━━━━━\u001b[0m\u001b[37m\u001b[0m \u001b[1m6s\u001b[0m 10ms/step - loss: 4.7545e-04 - root_mean_squared_error: 0.0216 - val_loss: 3.9989e-04 - val_root_mean_squared_error: 0.0200\n",
      "Epoch 41/150\n",
      "\u001b[1m612/612\u001b[0m \u001b[32m━━━━━━━━━━━━━━━━━━━━\u001b[0m\u001b[37m\u001b[0m \u001b[1m6s\u001b[0m 10ms/step - loss: 4.6142e-04 - root_mean_squared_error: 0.0213 - val_loss: 4.0054e-04 - val_root_mean_squared_error: 0.0200\n",
      "Epoch 42/150\n",
      "\u001b[1m612/612\u001b[0m \u001b[32m━━━━━━━━━━━━━━━━━━━━\u001b[0m\u001b[37m\u001b[0m \u001b[1m6s\u001b[0m 10ms/step - loss: 4.4667e-04 - root_mean_squared_error: 0.0209 - val_loss: 3.8093e-04 - val_root_mean_squared_error: 0.0195\n",
      "Epoch 43/150\n",
      "\u001b[1m612/612\u001b[0m \u001b[32m━━━━━━━━━━━━━━━━━━━━\u001b[0m\u001b[37m\u001b[0m \u001b[1m6s\u001b[0m 10ms/step - loss: 4.4974e-04 - root_mean_squared_error: 0.0210 - val_loss: 3.5941e-04 - val_root_mean_squared_error: 0.0190\n",
      "Epoch 44/150\n",
      "\u001b[1m612/612\u001b[0m \u001b[32m━━━━━━━━━━━━━━━━━━━━\u001b[0m\u001b[37m\u001b[0m \u001b[1m6s\u001b[0m 10ms/step - loss: 4.3095e-04 - root_mean_squared_error: 0.0206 - val_loss: 3.8799e-04 - val_root_mean_squared_error: 0.0197\n",
      "Epoch 45/150\n",
      "\u001b[1m612/612\u001b[0m \u001b[32m━━━━━━━━━━━━━━━━━━━━\u001b[0m\u001b[37m\u001b[0m \u001b[1m6s\u001b[0m 10ms/step - loss: 4.4925e-04 - root_mean_squared_error: 0.0210 - val_loss: 3.3535e-04 - val_root_mean_squared_error: 0.0183\n",
      "Epoch 46/150\n",
      "\u001b[1m612/612\u001b[0m \u001b[32m━━━━━━━━━━━━━━━━━━━━\u001b[0m\u001b[37m\u001b[0m \u001b[1m6s\u001b[0m 11ms/step - loss: 4.1314e-04 - root_mean_squared_error: 0.0201 - val_loss: 3.7909e-04 - val_root_mean_squared_error: 0.0195\n",
      "Epoch 47/150\n",
      "\u001b[1m612/612\u001b[0m \u001b[32m━━━━━━━━━━━━━━━━━━━━\u001b[0m\u001b[37m\u001b[0m \u001b[1m7s\u001b[0m 12ms/step - loss: 4.4621e-04 - root_mean_squared_error: 0.0209 - val_loss: 3.3642e-04 - val_root_mean_squared_error: 0.0183\n",
      "Epoch 48/150\n",
      "\u001b[1m612/612\u001b[0m \u001b[32m━━━━━━━━━━━━━━━━━━━━\u001b[0m\u001b[37m\u001b[0m \u001b[1m8s\u001b[0m 12ms/step - loss: 4.1089e-04 - root_mean_squared_error: 0.0200 - val_loss: 3.4198e-04 - val_root_mean_squared_error: 0.0185\n",
      "Epoch 49/150\n",
      "\u001b[1m612/612\u001b[0m \u001b[32m━━━━━━━━━━━━━━━━━━━━\u001b[0m\u001b[37m\u001b[0m \u001b[1m6s\u001b[0m 11ms/step - loss: 4.1130e-04 - root_mean_squared_error: 0.0201 - val_loss: 3.1879e-04 - val_root_mean_squared_error: 0.0179\n",
      "Epoch 50/150\n",
      "\u001b[1m612/612\u001b[0m \u001b[32m━━━━━━━━━━━━━━━━━━━━\u001b[0m\u001b[37m\u001b[0m \u001b[1m6s\u001b[0m 11ms/step - loss: 3.7910e-04 - root_mean_squared_error: 0.0193 - val_loss: 3.4774e-04 - val_root_mean_squared_error: 0.0186\n",
      "Epoch 51/150\n",
      "\u001b[1m612/612\u001b[0m \u001b[32m━━━━━━━━━━━━━━━━━━━━\u001b[0m\u001b[37m\u001b[0m \u001b[1m7s\u001b[0m 12ms/step - loss: 4.2989e-04 - root_mean_squared_error: 0.0206 - val_loss: 2.9405e-04 - val_root_mean_squared_error: 0.0171\n",
      "Epoch 52/150\n",
      "\u001b[1m612/612\u001b[0m \u001b[32m━━━━━━━━━━━━━━━━━━━━\u001b[0m\u001b[37m\u001b[0m \u001b[1m7s\u001b[0m 11ms/step - loss: 3.6845e-04 - root_mean_squared_error: 0.0190 - val_loss: 3.1054e-04 - val_root_mean_squared_error: 0.0176\n",
      "Epoch 53/150\n",
      "\u001b[1m612/612\u001b[0m \u001b[32m━━━━━━━━━━━━━━━━━━━━\u001b[0m\u001b[37m\u001b[0m \u001b[1m7s\u001b[0m 11ms/step - loss: 3.6860e-04 - root_mean_squared_error: 0.0190 - val_loss: 3.1736e-04 - val_root_mean_squared_error: 0.0178\n",
      "Epoch 54/150\n",
      "\u001b[1m612/612\u001b[0m \u001b[32m━━━━━━━━━━━━━━━━━━━━\u001b[0m\u001b[37m\u001b[0m \u001b[1m7s\u001b[0m 11ms/step - loss: 3.8988e-04 - root_mean_squared_error: 0.0196 - val_loss: 2.8623e-04 - val_root_mean_squared_error: 0.0169\n",
      "Epoch 55/150\n",
      "\u001b[1m612/612\u001b[0m \u001b[32m━━━━━━━━━━━━━━━━━━━━\u001b[0m\u001b[37m\u001b[0m \u001b[1m6s\u001b[0m 10ms/step - loss: 3.4705e-04 - root_mean_squared_error: 0.0185 - val_loss: 3.1890e-04 - val_root_mean_squared_error: 0.0179\n",
      "Epoch 56/150\n",
      "\u001b[1m612/612\u001b[0m \u001b[32m━━━━━━━━━━━━━━━━━━━━\u001b[0m\u001b[37m\u001b[0m \u001b[1m7s\u001b[0m 12ms/step - loss: 3.8239e-04 - root_mean_squared_error: 0.0194 - val_loss: 2.7158e-04 - val_root_mean_squared_error: 0.0165\n",
      "Epoch 57/150\n",
      "\u001b[1m612/612\u001b[0m \u001b[32m━━━━━━━━━━━━━━━━━━━━\u001b[0m\u001b[37m\u001b[0m \u001b[1m6s\u001b[0m 10ms/step - loss: 3.3751e-04 - root_mean_squared_error: 0.0182 - val_loss: 3.0432e-04 - val_root_mean_squared_error: 0.0174\n",
      "Epoch 58/150\n",
      "\u001b[1m612/612\u001b[0m \u001b[32m━━━━━━━━━━━━━━━━━━━━\u001b[0m\u001b[37m\u001b[0m \u001b[1m7s\u001b[0m 11ms/step - loss: 3.6137e-04 - root_mean_squared_error: 0.0189 - val_loss: 2.5561e-04 - val_root_mean_squared_error: 0.0160\n",
      "Epoch 59/150\n",
      "\u001b[1m612/612\u001b[0m \u001b[32m━━━━━━━━━━━━━━━━━━━━\u001b[0m\u001b[37m\u001b[0m \u001b[1m7s\u001b[0m 11ms/step - loss: 3.2242e-04 - root_mean_squared_error: 0.0178 - val_loss: 3.1055e-04 - val_root_mean_squared_error: 0.0176\n",
      "Epoch 60/150\n",
      "\u001b[1m612/612\u001b[0m \u001b[32m━━━━━━━━━━━━━━━━━━━━\u001b[0m\u001b[37m\u001b[0m \u001b[1m6s\u001b[0m 10ms/step - loss: 3.5391e-04 - root_mean_squared_error: 0.0186 - val_loss: 2.4877e-04 - val_root_mean_squared_error: 0.0158\n",
      "Epoch 61/150\n",
      "\u001b[1m612/612\u001b[0m \u001b[32m━━━━━━━━━━━━━━━━━━━━\u001b[0m\u001b[37m\u001b[0m \u001b[1m6s\u001b[0m 11ms/step - loss: 3.2012e-04 - root_mean_squared_error: 0.0178 - val_loss: 2.8559e-04 - val_root_mean_squared_error: 0.0169\n",
      "Epoch 62/150\n",
      "\u001b[1m612/612\u001b[0m \u001b[32m━━━━━━━━━━━━━━━━━━━━\u001b[0m\u001b[37m\u001b[0m \u001b[1m7s\u001b[0m 11ms/step - loss: 3.2079e-04 - root_mean_squared_error: 0.0178 - val_loss: 2.5894e-04 - val_root_mean_squared_error: 0.0161\n",
      "Epoch 63/150\n",
      "\u001b[1m612/612\u001b[0m \u001b[32m━━━━━━━━━━━━━━━━━━━━\u001b[0m\u001b[37m\u001b[0m \u001b[1m8s\u001b[0m 14ms/step - loss: 3.1298e-04 - root_mean_squared_error: 0.0176 - val_loss: 2.5680e-04 - val_root_mean_squared_error: 0.0160\n",
      "Epoch 64/150\n",
      "\u001b[1m612/612\u001b[0m \u001b[32m━━━━━━━━━━━━━━━━━━━━\u001b[0m\u001b[37m\u001b[0m \u001b[1m9s\u001b[0m 14ms/step - loss: 3.2609e-04 - root_mean_squared_error: 0.0179 - val_loss: 2.3197e-04 - val_root_mean_squared_error: 0.0152\n",
      "Epoch 65/150\n",
      "\u001b[1m612/612\u001b[0m \u001b[32m━━━━━━━━━━━━━━━━━━━━\u001b[0m\u001b[37m\u001b[0m \u001b[1m7s\u001b[0m 12ms/step - loss: 2.9543e-04 - root_mean_squared_error: 0.0171 - val_loss: 2.6376e-04 - val_root_mean_squared_error: 0.0162\n",
      "Epoch 66/150\n",
      "\u001b[1m612/612\u001b[0m \u001b[32m━━━━━━━━━━━━━━━━━━━━\u001b[0m\u001b[37m\u001b[0m \u001b[1m7s\u001b[0m 12ms/step - loss: 3.0848e-04 - root_mean_squared_error: 0.0174 - val_loss: 2.4698e-04 - val_root_mean_squared_error: 0.0157\n",
      "Epoch 67/150\n",
      "\u001b[1m612/612\u001b[0m \u001b[32m━━━━━━━━━━━━━━━━━━━━\u001b[0m\u001b[37m\u001b[0m \u001b[1m6s\u001b[0m 10ms/step - loss: 2.9358e-04 - root_mean_squared_error: 0.0170 - val_loss: 2.5478e-04 - val_root_mean_squared_error: 0.0160\n",
      "Epoch 68/150\n",
      "\u001b[1m612/612\u001b[0m \u001b[32m━━━━━━━━━━━━━━━━━━━━\u001b[0m\u001b[37m\u001b[0m \u001b[1m7s\u001b[0m 11ms/step - loss: 3.0278e-04 - root_mean_squared_error: 0.0173 - val_loss: 2.5312e-04 - val_root_mean_squared_error: 0.0159\n",
      "Epoch 69/150\n",
      "\u001b[1m612/612\u001b[0m \u001b[32m━━━━━━━━━━━━━━━━━━━━\u001b[0m\u001b[37m\u001b[0m \u001b[1m7s\u001b[0m 11ms/step - loss: 2.8468e-04 - root_mean_squared_error: 0.0167 - val_loss: 2.4387e-04 - val_root_mean_squared_error: 0.0156\n"
     ]
    }
   ],
   "source": [
    "with tf.device('/CPU:0'):\n",
    "    test4 = encoder_decoder.fit(X_train, X_train, epochs= 150,callbacks=[early_stopping],  validation_split=0.1, batch_size=64,shuffle=False)"
   ]
  },
  {
   "cell_type": "code",
   "execution_count": 39,
   "metadata": {},
   "outputs": [
    {
     "data": {
      "text/plain": [
       "((43452, 12, 8), (43452, 1))"
      ]
     },
     "execution_count": 39,
     "metadata": {},
     "output_type": "execute_result"
    }
   ],
   "source": [
    "X_train.shape, y_train.shape"
   ]
  },
  {
   "cell_type": "markdown",
   "metadata": {},
   "source": [
    "You should be aware that the better the autoencoder is able to reconstruct the input the better it internally encodes the input, in other words if we have a good autoencoder we probably will have an equally good encoder."
   ]
  },
  {
   "cell_type": "markdown",
   "metadata": {},
   "source": [
    "Let's take a look at the layers of the encoder_decoder model:\n"
   ]
  },
  {
   "cell_type": "markdown",
   "metadata": {},
   "source": [
    "Assess how well the reconstructed dataset matches the original."
   ]
  },
  {
   "cell_type": "markdown",
   "metadata": {},
   "source": []
  },
  {
   "cell_type": "code",
   "execution_count": 42,
   "metadata": {},
   "outputs": [],
   "source": [
    "import tensorflow.keras.layers as L\n",
    "from tensorflow.keras import optimizers, Sequential, Model"
   ]
  },
  {
   "cell_type": "markdown",
   "metadata": {},
   "source": [
    "## Extract reduced feature encoder"
   ]
  },
  {
   "cell_type": "code",
   "execution_count": 43,
   "metadata": {},
   "outputs": [
    {
     "name": "stderr",
     "output_type": "stream",
     "text": [
      "/Users/matt/Library/Python/3.9/lib/python/site-packages/keras/src/models/functional.py:225: UserWarning: The structure of `inputs` doesn't match the expected structure: ['keras_tensor_22']. Received: the structure of inputs=*\n",
      "  warnings.warn(\n"
     ]
    },
    {
     "name": "stdout",
     "output_type": "stream",
     "text": [
      "\u001b[1m1358/1358\u001b[0m \u001b[32m━━━━━━━━━━━━━━━━━━━━\u001b[0m\u001b[37m\u001b[0m \u001b[1m3s\u001b[0m 1ms/step\n",
      "Shape of Reduced Features: (43452, 12, 50)\n",
      "Sample Reduced Feature Vector: [[-0.340924   -0.00336055 -0.03830194 -0.14871076 -0.02434931  0.02754746\n",
      "  -0.0034116  -0.26713535 -0.3227343   0.04537307  0.0391059   0.00834395\n",
      "  -0.03194964  0.06336298  0.01539541  0.11949487 -0.26491892  0.09776741\n",
      "  -0.07389797 -0.00266432 -0.00736532 -0.0875183  -0.05794762 -0.04488153\n",
      "   0.06621736 -0.3605616  -0.02312522  0.5151794  -0.01300688  0.3202132\n",
      "  -0.04286701  0.01268022  0.0180891   0.01219168  0.03214499  0.08128574\n",
      "   0.07719193  0.11458668  0.04975875 -0.0420186  -0.10452947 -0.4622988\n",
      "  -0.35491905 -0.07809107 -0.08187971 -0.35508895 -0.14061408  0.09652963\n",
      "   0.02427463 -0.33088505]\n",
      " [-0.340924   -0.00336055 -0.03830194 -0.14871076 -0.02434931  0.02754746\n",
      "  -0.0034116  -0.26713535 -0.3227343   0.04537307  0.0391059   0.00834395\n",
      "  -0.03194964  0.06336298  0.01539541  0.11949487 -0.26491892  0.09776741\n",
      "  -0.07389797 -0.00266432 -0.00736532 -0.0875183  -0.05794762 -0.04488153\n",
      "   0.06621736 -0.3605616  -0.02312522  0.5151794  -0.01300688  0.3202132\n",
      "  -0.04286701  0.01268022  0.0180891   0.01219168  0.03214499  0.08128574\n",
      "   0.07719193  0.11458668  0.04975875 -0.0420186  -0.10452947 -0.4622988\n",
      "  -0.35491905 -0.07809107 -0.08187971 -0.35508895 -0.14061408  0.09652963\n",
      "   0.02427463 -0.33088505]\n",
      " [-0.340924   -0.00336055 -0.03830194 -0.14871076 -0.02434931  0.02754746\n",
      "  -0.0034116  -0.26713535 -0.3227343   0.04537307  0.0391059   0.00834395\n",
      "  -0.03194964  0.06336298  0.01539541  0.11949487 -0.26491892  0.09776741\n",
      "  -0.07389797 -0.00266432 -0.00736532 -0.0875183  -0.05794762 -0.04488153\n",
      "   0.06621736 -0.3605616  -0.02312522  0.5151794  -0.01300688  0.3202132\n",
      "  -0.04286701  0.01268022  0.0180891   0.01219168  0.03214499  0.08128574\n",
      "   0.07719193  0.11458668  0.04975875 -0.0420186  -0.10452947 -0.4622988\n",
      "  -0.35491905 -0.07809107 -0.08187971 -0.35508895 -0.14061408  0.09652963\n",
      "   0.02427463 -0.33088505]\n",
      " [-0.340924   -0.00336055 -0.03830194 -0.14871076 -0.02434931  0.02754746\n",
      "  -0.0034116  -0.26713535 -0.3227343   0.04537307  0.0391059   0.00834395\n",
      "  -0.03194964  0.06336298  0.01539541  0.11949487 -0.26491892  0.09776741\n",
      "  -0.07389797 -0.00266432 -0.00736532 -0.0875183  -0.05794762 -0.04488153\n",
      "   0.06621736 -0.3605616  -0.02312522  0.5151794  -0.01300688  0.3202132\n",
      "  -0.04286701  0.01268022  0.0180891   0.01219168  0.03214499  0.08128574\n",
      "   0.07719193  0.11458668  0.04975875 -0.0420186  -0.10452947 -0.4622988\n",
      "  -0.35491905 -0.07809107 -0.08187971 -0.35508895 -0.14061408  0.09652963\n",
      "   0.02427463 -0.33088505]\n",
      " [-0.340924   -0.00336055 -0.03830194 -0.14871076 -0.02434931  0.02754746\n",
      "  -0.0034116  -0.26713535 -0.3227343   0.04537307  0.0391059   0.00834395\n",
      "  -0.03194964  0.06336298  0.01539541  0.11949487 -0.26491892  0.09776741\n",
      "  -0.07389797 -0.00266432 -0.00736532 -0.0875183  -0.05794762 -0.04488153\n",
      "   0.06621736 -0.3605616  -0.02312522  0.5151794  -0.01300688  0.3202132\n",
      "  -0.04286701  0.01268022  0.0180891   0.01219168  0.03214499  0.08128574\n",
      "   0.07719193  0.11458668  0.04975875 -0.0420186  -0.10452947 -0.4622988\n",
      "  -0.35491905 -0.07809107 -0.08187971 -0.35508895 -0.14061408  0.09652963\n",
      "   0.02427463 -0.33088505]\n",
      " [-0.340924   -0.00336055 -0.03830194 -0.14871076 -0.02434931  0.02754746\n",
      "  -0.0034116  -0.26713535 -0.3227343   0.04537307  0.0391059   0.00834395\n",
      "  -0.03194964  0.06336298  0.01539541  0.11949487 -0.26491892  0.09776741\n",
      "  -0.07389797 -0.00266432 -0.00736532 -0.0875183  -0.05794762 -0.04488153\n",
      "   0.06621736 -0.3605616  -0.02312522  0.5151794  -0.01300688  0.3202132\n",
      "  -0.04286701  0.01268022  0.0180891   0.01219168  0.03214499  0.08128574\n",
      "   0.07719193  0.11458668  0.04975875 -0.0420186  -0.10452947 -0.4622988\n",
      "  -0.35491905 -0.07809107 -0.08187971 -0.35508895 -0.14061408  0.09652963\n",
      "   0.02427463 -0.33088505]\n",
      " [-0.340924   -0.00336055 -0.03830194 -0.14871076 -0.02434931  0.02754746\n",
      "  -0.0034116  -0.26713535 -0.3227343   0.04537307  0.0391059   0.00834395\n",
      "  -0.03194964  0.06336298  0.01539541  0.11949487 -0.26491892  0.09776741\n",
      "  -0.07389797 -0.00266432 -0.00736532 -0.0875183  -0.05794762 -0.04488153\n",
      "   0.06621736 -0.3605616  -0.02312522  0.5151794  -0.01300688  0.3202132\n",
      "  -0.04286701  0.01268022  0.0180891   0.01219168  0.03214499  0.08128574\n",
      "   0.07719193  0.11458668  0.04975875 -0.0420186  -0.10452947 -0.4622988\n",
      "  -0.35491905 -0.07809107 -0.08187971 -0.35508895 -0.14061408  0.09652963\n",
      "   0.02427463 -0.33088505]\n",
      " [-0.340924   -0.00336055 -0.03830194 -0.14871076 -0.02434931  0.02754746\n",
      "  -0.0034116  -0.26713535 -0.3227343   0.04537307  0.0391059   0.00834395\n",
      "  -0.03194964  0.06336298  0.01539541  0.11949487 -0.26491892  0.09776741\n",
      "  -0.07389797 -0.00266432 -0.00736532 -0.0875183  -0.05794762 -0.04488153\n",
      "   0.06621736 -0.3605616  -0.02312522  0.5151794  -0.01300688  0.3202132\n",
      "  -0.04286701  0.01268022  0.0180891   0.01219168  0.03214499  0.08128574\n",
      "   0.07719193  0.11458668  0.04975875 -0.0420186  -0.10452947 -0.4622988\n",
      "  -0.35491905 -0.07809107 -0.08187971 -0.35508895 -0.14061408  0.09652963\n",
      "   0.02427463 -0.33088505]\n",
      " [-0.340924   -0.00336055 -0.03830194 -0.14871076 -0.02434931  0.02754746\n",
      "  -0.0034116  -0.26713535 -0.3227343   0.04537307  0.0391059   0.00834395\n",
      "  -0.03194964  0.06336298  0.01539541  0.11949487 -0.26491892  0.09776741\n",
      "  -0.07389797 -0.00266432 -0.00736532 -0.0875183  -0.05794762 -0.04488153\n",
      "   0.06621736 -0.3605616  -0.02312522  0.5151794  -0.01300688  0.3202132\n",
      "  -0.04286701  0.01268022  0.0180891   0.01219168  0.03214499  0.08128574\n",
      "   0.07719193  0.11458668  0.04975875 -0.0420186  -0.10452947 -0.4622988\n",
      "  -0.35491905 -0.07809107 -0.08187971 -0.35508895 -0.14061408  0.09652963\n",
      "   0.02427463 -0.33088505]\n",
      " [-0.340924   -0.00336055 -0.03830194 -0.14871076 -0.02434931  0.02754746\n",
      "  -0.0034116  -0.26713535 -0.3227343   0.04537307  0.0391059   0.00834395\n",
      "  -0.03194964  0.06336298  0.01539541  0.11949487 -0.26491892  0.09776741\n",
      "  -0.07389797 -0.00266432 -0.00736532 -0.0875183  -0.05794762 -0.04488153\n",
      "   0.06621736 -0.3605616  -0.02312522  0.5151794  -0.01300688  0.3202132\n",
      "  -0.04286701  0.01268022  0.0180891   0.01219168  0.03214499  0.08128574\n",
      "   0.07719193  0.11458668  0.04975875 -0.0420186  -0.10452947 -0.4622988\n",
      "  -0.35491905 -0.07809107 -0.08187971 -0.35508895 -0.14061408  0.09652963\n",
      "   0.02427463 -0.33088505]\n",
      " [-0.340924   -0.00336055 -0.03830194 -0.14871076 -0.02434931  0.02754746\n",
      "  -0.0034116  -0.26713535 -0.3227343   0.04537307  0.0391059   0.00834395\n",
      "  -0.03194964  0.06336298  0.01539541  0.11949487 -0.26491892  0.09776741\n",
      "  -0.07389797 -0.00266432 -0.00736532 -0.0875183  -0.05794762 -0.04488153\n",
      "   0.06621736 -0.3605616  -0.02312522  0.5151794  -0.01300688  0.3202132\n",
      "  -0.04286701  0.01268022  0.0180891   0.01219168  0.03214499  0.08128574\n",
      "   0.07719193  0.11458668  0.04975875 -0.0420186  -0.10452947 -0.4622988\n",
      "  -0.35491905 -0.07809107 -0.08187971 -0.35508895 -0.14061408  0.09652963\n",
      "   0.02427463 -0.33088505]\n",
      " [-0.340924   -0.00336055 -0.03830194 -0.14871076 -0.02434931  0.02754746\n",
      "  -0.0034116  -0.26713535 -0.3227343   0.04537307  0.0391059   0.00834395\n",
      "  -0.03194964  0.06336298  0.01539541  0.11949487 -0.26491892  0.09776741\n",
      "  -0.07389797 -0.00266432 -0.00736532 -0.0875183  -0.05794762 -0.04488153\n",
      "   0.06621736 -0.3605616  -0.02312522  0.5151794  -0.01300688  0.3202132\n",
      "  -0.04286701  0.01268022  0.0180891   0.01219168  0.03214499  0.08128574\n",
      "   0.07719193  0.11458668  0.04975875 -0.0420186  -0.10452947 -0.4622988\n",
      "  -0.35491905 -0.07809107 -0.08187971 -0.35508895 -0.14061408  0.09652963\n",
      "   0.02427463 -0.33088505]]\n"
     ]
    }
   ],
   "source": [
    "\n",
    "rpt_vector_layer = Model(inputs=encoder_decoder.inputs, outputs=encoder_decoder.layers[1].output)\n",
    "bottleneck_features = rpt_vector_layer.predict(X_train)\n",
    "print(\"Shape of Reduced Features:\", bottleneck_features.shape)\n",
    "print(\"Sample Reduced Feature Vector:\", bottleneck_features[0])"
   ]
  },
  {
   "cell_type": "markdown",
   "metadata": {},
   "source": [
    "Train a new model MLP or LSTM using bottleneck_features\n",
    "- try clustering "
   ]
  },
  {
   "cell_type": "code",
   "execution_count": 44,
   "metadata": {},
   "outputs": [
    {
     "data": {
      "text/plain": [
       "[<LSTM name=lstm_4, built=True>,\n",
       " <RepeatVector name=repeat_vector_2, built=True>,\n",
       " <LSTM name=lstm_5, built=True>,\n",
       " <TimeDistributed name=time_distributed_2, built=True>]"
      ]
     },
     "execution_count": 44,
     "metadata": {},
     "output_type": "execute_result"
    }
   ],
   "source": [
    "\n",
    "time_dist_layer = Model(inputs=encoder_decoder.inputs, outputs=encoder_decoder.layers[3].output)\n",
    "encoder_decoder.layers"
   ]
  },
  {
   "cell_type": "code",
   "execution_count": 45,
   "metadata": {},
   "outputs": [
    {
     "name": "stdout",
     "output_type": "stream",
     "text": [
      "\u001b[1m1/1\u001b[0m \u001b[32m━━━━━━━━━━━━━━━━━━━━\u001b[0m\u001b[37m\u001b[0m \u001b[1m0s\u001b[0m 448ms/step\n",
      "Repeat vector output shape (1, 12, 50)\n",
      "Repeat vector output sample\n",
      "[[-0.34092402 -0.0033605  -0.03830186 -0.14871076 -0.02434931  0.02754746\n",
      "  -0.00341167 -0.26713526 -0.32273424  0.04537304  0.0391059   0.00834391\n",
      "  -0.03194964  0.0633629   0.01539536  0.11949487 -0.26491898  0.09776745\n",
      "  -0.07389794 -0.00266426 -0.00736534 -0.0875183  -0.05794763 -0.04488148\n",
      "   0.0662174  -0.36056167 -0.02312529  0.5151794  -0.01300671  0.32021314\n",
      "  -0.04286701  0.0126804   0.01808918  0.01219172  0.03214503  0.08128577\n",
      "   0.07719186  0.11458668  0.04975865 -0.0420186  -0.10452946 -0.46229884\n",
      "  -0.35491914 -0.07809104 -0.08187971 -0.35508898 -0.14061409  0.09652964\n",
      "   0.02427461 -0.33088508]\n",
      " [-0.34092402 -0.0033605  -0.03830186 -0.14871076 -0.02434931  0.02754746\n",
      "  -0.00341167 -0.26713526 -0.32273424  0.04537304  0.0391059   0.00834391\n",
      "  -0.03194964  0.0633629   0.01539536  0.11949487 -0.26491898  0.09776745\n",
      "  -0.07389794 -0.00266426 -0.00736534 -0.0875183  -0.05794763 -0.04488148\n",
      "   0.0662174  -0.36056167 -0.02312529  0.5151794  -0.01300671  0.32021314\n",
      "  -0.04286701  0.0126804   0.01808918  0.01219172  0.03214503  0.08128577\n",
      "   0.07719186  0.11458668  0.04975865 -0.0420186  -0.10452946 -0.46229884\n",
      "  -0.35491914 -0.07809104 -0.08187971 -0.35508898 -0.14061409  0.09652964\n",
      "   0.02427461 -0.33088508]\n",
      " [-0.34092402 -0.0033605  -0.03830186 -0.14871076 -0.02434931  0.02754746\n",
      "  -0.00341167 -0.26713526 -0.32273424  0.04537304  0.0391059   0.00834391\n",
      "  -0.03194964  0.0633629   0.01539536  0.11949487 -0.26491898  0.09776745\n",
      "  -0.07389794 -0.00266426 -0.00736534 -0.0875183  -0.05794763 -0.04488148\n",
      "   0.0662174  -0.36056167 -0.02312529  0.5151794  -0.01300671  0.32021314\n",
      "  -0.04286701  0.0126804   0.01808918  0.01219172  0.03214503  0.08128577\n",
      "   0.07719186  0.11458668  0.04975865 -0.0420186  -0.10452946 -0.46229884\n",
      "  -0.35491914 -0.07809104 -0.08187971 -0.35508898 -0.14061409  0.09652964\n",
      "   0.02427461 -0.33088508]\n",
      " [-0.34092402 -0.0033605  -0.03830186 -0.14871076 -0.02434931  0.02754746\n",
      "  -0.00341167 -0.26713526 -0.32273424  0.04537304  0.0391059   0.00834391\n",
      "  -0.03194964  0.0633629   0.01539536  0.11949487 -0.26491898  0.09776745\n",
      "  -0.07389794 -0.00266426 -0.00736534 -0.0875183  -0.05794763 -0.04488148\n",
      "   0.0662174  -0.36056167 -0.02312529  0.5151794  -0.01300671  0.32021314\n",
      "  -0.04286701  0.0126804   0.01808918  0.01219172  0.03214503  0.08128577\n",
      "   0.07719186  0.11458668  0.04975865 -0.0420186  -0.10452946 -0.46229884\n",
      "  -0.35491914 -0.07809104 -0.08187971 -0.35508898 -0.14061409  0.09652964\n",
      "   0.02427461 -0.33088508]\n",
      " [-0.34092402 -0.0033605  -0.03830186 -0.14871076 -0.02434931  0.02754746\n",
      "  -0.00341167 -0.26713526 -0.32273424  0.04537304  0.0391059   0.00834391\n",
      "  -0.03194964  0.0633629   0.01539536  0.11949487 -0.26491898  0.09776745\n",
      "  -0.07389794 -0.00266426 -0.00736534 -0.0875183  -0.05794763 -0.04488148\n",
      "   0.0662174  -0.36056167 -0.02312529  0.5151794  -0.01300671  0.32021314\n",
      "  -0.04286701  0.0126804   0.01808918  0.01219172  0.03214503  0.08128577\n",
      "   0.07719186  0.11458668  0.04975865 -0.0420186  -0.10452946 -0.46229884\n",
      "  -0.35491914 -0.07809104 -0.08187971 -0.35508898 -0.14061409  0.09652964\n",
      "   0.02427461 -0.33088508]\n",
      " [-0.34092402 -0.0033605  -0.03830186 -0.14871076 -0.02434931  0.02754746\n",
      "  -0.00341167 -0.26713526 -0.32273424  0.04537304  0.0391059   0.00834391\n",
      "  -0.03194964  0.0633629   0.01539536  0.11949487 -0.26491898  0.09776745\n",
      "  -0.07389794 -0.00266426 -0.00736534 -0.0875183  -0.05794763 -0.04488148\n",
      "   0.0662174  -0.36056167 -0.02312529  0.5151794  -0.01300671  0.32021314\n",
      "  -0.04286701  0.0126804   0.01808918  0.01219172  0.03214503  0.08128577\n",
      "   0.07719186  0.11458668  0.04975865 -0.0420186  -0.10452946 -0.46229884\n",
      "  -0.35491914 -0.07809104 -0.08187971 -0.35508898 -0.14061409  0.09652964\n",
      "   0.02427461 -0.33088508]\n",
      " [-0.34092402 -0.0033605  -0.03830186 -0.14871076 -0.02434931  0.02754746\n",
      "  -0.00341167 -0.26713526 -0.32273424  0.04537304  0.0391059   0.00834391\n",
      "  -0.03194964  0.0633629   0.01539536  0.11949487 -0.26491898  0.09776745\n",
      "  -0.07389794 -0.00266426 -0.00736534 -0.0875183  -0.05794763 -0.04488148\n",
      "   0.0662174  -0.36056167 -0.02312529  0.5151794  -0.01300671  0.32021314\n",
      "  -0.04286701  0.0126804   0.01808918  0.01219172  0.03214503  0.08128577\n",
      "   0.07719186  0.11458668  0.04975865 -0.0420186  -0.10452946 -0.46229884\n",
      "  -0.35491914 -0.07809104 -0.08187971 -0.35508898 -0.14061409  0.09652964\n",
      "   0.02427461 -0.33088508]\n",
      " [-0.34092402 -0.0033605  -0.03830186 -0.14871076 -0.02434931  0.02754746\n",
      "  -0.00341167 -0.26713526 -0.32273424  0.04537304  0.0391059   0.00834391\n",
      "  -0.03194964  0.0633629   0.01539536  0.11949487 -0.26491898  0.09776745\n",
      "  -0.07389794 -0.00266426 -0.00736534 -0.0875183  -0.05794763 -0.04488148\n",
      "   0.0662174  -0.36056167 -0.02312529  0.5151794  -0.01300671  0.32021314\n",
      "  -0.04286701  0.0126804   0.01808918  0.01219172  0.03214503  0.08128577\n",
      "   0.07719186  0.11458668  0.04975865 -0.0420186  -0.10452946 -0.46229884\n",
      "  -0.35491914 -0.07809104 -0.08187971 -0.35508898 -0.14061409  0.09652964\n",
      "   0.02427461 -0.33088508]\n",
      " [-0.34092402 -0.0033605  -0.03830186 -0.14871076 -0.02434931  0.02754746\n",
      "  -0.00341167 -0.26713526 -0.32273424  0.04537304  0.0391059   0.00834391\n",
      "  -0.03194964  0.0633629   0.01539536  0.11949487 -0.26491898  0.09776745\n",
      "  -0.07389794 -0.00266426 -0.00736534 -0.0875183  -0.05794763 -0.04488148\n",
      "   0.0662174  -0.36056167 -0.02312529  0.5151794  -0.01300671  0.32021314\n",
      "  -0.04286701  0.0126804   0.01808918  0.01219172  0.03214503  0.08128577\n",
      "   0.07719186  0.11458668  0.04975865 -0.0420186  -0.10452946 -0.46229884\n",
      "  -0.35491914 -0.07809104 -0.08187971 -0.35508898 -0.14061409  0.09652964\n",
      "   0.02427461 -0.33088508]\n",
      " [-0.34092402 -0.0033605  -0.03830186 -0.14871076 -0.02434931  0.02754746\n",
      "  -0.00341167 -0.26713526 -0.32273424  0.04537304  0.0391059   0.00834391\n",
      "  -0.03194964  0.0633629   0.01539536  0.11949487 -0.26491898  0.09776745\n",
      "  -0.07389794 -0.00266426 -0.00736534 -0.0875183  -0.05794763 -0.04488148\n",
      "   0.0662174  -0.36056167 -0.02312529  0.5151794  -0.01300671  0.32021314\n",
      "  -0.04286701  0.0126804   0.01808918  0.01219172  0.03214503  0.08128577\n",
      "   0.07719186  0.11458668  0.04975865 -0.0420186  -0.10452946 -0.46229884\n",
      "  -0.35491914 -0.07809104 -0.08187971 -0.35508898 -0.14061409  0.09652964\n",
      "   0.02427461 -0.33088508]\n",
      " [-0.34092402 -0.0033605  -0.03830186 -0.14871076 -0.02434931  0.02754746\n",
      "  -0.00341167 -0.26713526 -0.32273424  0.04537304  0.0391059   0.00834391\n",
      "  -0.03194964  0.0633629   0.01539536  0.11949487 -0.26491898  0.09776745\n",
      "  -0.07389794 -0.00266426 -0.00736534 -0.0875183  -0.05794763 -0.04488148\n",
      "   0.0662174  -0.36056167 -0.02312529  0.5151794  -0.01300671  0.32021314\n",
      "  -0.04286701  0.0126804   0.01808918  0.01219172  0.03214503  0.08128577\n",
      "   0.07719186  0.11458668  0.04975865 -0.0420186  -0.10452946 -0.46229884\n",
      "  -0.35491914 -0.07809104 -0.08187971 -0.35508898 -0.14061409  0.09652964\n",
      "   0.02427461 -0.33088508]\n",
      " [-0.34092402 -0.0033605  -0.03830186 -0.14871076 -0.02434931  0.02754746\n",
      "  -0.00341167 -0.26713526 -0.32273424  0.04537304  0.0391059   0.00834391\n",
      "  -0.03194964  0.0633629   0.01539536  0.11949487 -0.26491898  0.09776745\n",
      "  -0.07389794 -0.00266426 -0.00736534 -0.0875183  -0.05794763 -0.04488148\n",
      "   0.0662174  -0.36056167 -0.02312529  0.5151794  -0.01300671  0.32021314\n",
      "  -0.04286701  0.0126804   0.01808918  0.01219172  0.03214503  0.08128577\n",
      "   0.07719186  0.11458668  0.04975865 -0.0420186  -0.10452946 -0.46229884\n",
      "  -0.35491914 -0.07809104 -0.08187971 -0.35508898 -0.14061409  0.09652964\n",
      "   0.02427461 -0.33088508]]\n"
     ]
    }
   ],
   "source": [
    "rpt_vector_layer_output = rpt_vector_layer.predict(X_train[:1])\n",
    "print('Repeat vector output shape', rpt_vector_layer_output.shape)\n",
    "print('Repeat vector output sample')\n",
    "print(rpt_vector_layer_output[0])"
   ]
  },
  {
   "cell_type": "code",
   "execution_count": 46,
   "metadata": {},
   "outputs": [
    {
     "name": "stdout",
     "output_type": "stream",
     "text": [
      "[0.12817925 0.1310645  0.13793959 0.13653094 0.13016084 0.11606238\n",
      " 0.10185628 0.09883869 0.10284048 0.11283571 0.12243301 0.12856635]\n"
     ]
    }
   ],
   "source": [
    "from keras.utils import plot_model\n",
    "\n",
    "plot_model(encoder_decoder, show_shapes=True, to_file='reconstruct_lstm_autoencoder.png')\n",
    "# demonstrate recreation\n",
    "yhat = encoder_decoder.predict(X_train, verbose=0)\n",
    "print(yhat[0,:,0])"
   ]
  },
  {
   "cell_type": "markdown",
   "metadata": {},
   "source": [
    "Plot the original sequence and reconstructed sequence to see how well the model is performing visually"
   ]
  },
  {
   "cell_type": "code",
   "execution_count": 47,
   "metadata": {},
   "outputs": [
    {
     "data": {
      "image/png": "[encoded data removed]",
      "text/plain": [
       "<Figure size 640x480 with 1 Axes>"
      ]
     },
     "metadata": {},
     "output_type": "display_data"
    }
   ],
   "source": [
    "\n",
    "plt.plot(X_train[0, :, 0], label='Original')\n",
    "plt.plot(yhat[0, :, 0], label='Reconstructed')\n",
    "plt.legend()\n",
    "plt.show()"
   ]
  },
  {
   "cell_type": "markdown",
   "metadata": {},
   "source": [
    "The reconstructed sequence follows the general trend of the original sequence but does not perfectly match the exact values. For example, the reconstructed values seem to lag slightly behind the original at certain points and do not capture sharp peaks."
   ]
  },
  {
   "cell_type": "code",
   "execution_count": 48,
   "metadata": {},
   "outputs": [
    {
     "name": "stderr",
     "output_type": "stream",
     "text": [
      "/Users/matt/Library/Python/3.9/lib/python/site-packages/keras/src/layers/rnn/rnn.py:204: UserWarning: Do not pass an `input_shape`/`input_dim` argument to a layer. When using Sequential models, prefer using an `Input(shape)` object as the first layer in the model instead.\n",
      "  super().__init__(**kwargs)\n"
     ]
    },
    {
     "name": "stdout",
     "output_type": "stream",
     "text": [
      "Epoch 1/50\n",
      "\u001b[1m1223/1223\u001b[0m \u001b[32m━━━━━━━━━━━━━━━━━━━━\u001b[0m\u001b[37m\u001b[0m \u001b[1m13s\u001b[0m 9ms/step - loss: 0.0023 - root_mean_squared_error: 0.0458 - val_loss: 8.2536e-04 - val_root_mean_squared_error: 0.0287\n",
      "Epoch 2/50\n",
      "\u001b[1m1223/1223\u001b[0m \u001b[32m━━━━━━━━━━━━━━━━━━━━\u001b[0m\u001b[37m\u001b[0m \u001b[1m12s\u001b[0m 10ms/step - loss: 0.0012 - root_mean_squared_error: 0.0339 - val_loss: 7.0709e-04 - val_root_mean_squared_error: 0.0266\n",
      "Epoch 3/50\n",
      "\u001b[1m1223/1223\u001b[0m \u001b[32m━━━━━━━━━━━━━━━━━━━━\u001b[0m\u001b[37m\u001b[0m \u001b[1m10s\u001b[0m 8ms/step - loss: 0.0012 - root_mean_squared_error: 0.0350 - val_loss: 7.6605e-04 - val_root_mean_squared_error: 0.0277\n",
      "Epoch 4/50\n",
      "\u001b[1m1223/1223\u001b[0m \u001b[32m━━━━━━━━━━━━━━━━━━━━\u001b[0m\u001b[37m\u001b[0m \u001b[1m10s\u001b[0m 8ms/step - loss: 0.0011 - root_mean_squared_error: 0.0330 - val_loss: 8.1824e-04 - val_root_mean_squared_error: 0.0286\n",
      "Epoch 5/50\n",
      "\u001b[1m1223/1223\u001b[0m \u001b[32m━━━━━━━━━━━━━━━━━━━━\u001b[0m\u001b[37m\u001b[0m \u001b[1m10s\u001b[0m 8ms/step - loss: 0.0011 - root_mean_squared_error: 0.0336 - val_loss: 7.2101e-04 - val_root_mean_squared_error: 0.0269\n",
      "Epoch 6/50\n",
      "\u001b[1m1223/1223\u001b[0m \u001b[32m━━━━━━━━━━━━━━━━━━━━\u001b[0m\u001b[37m\u001b[0m \u001b[1m9s\u001b[0m 8ms/step - loss: 0.0011 - root_mean_squared_error: 0.0331 - val_loss: 8.8664e-04 - val_root_mean_squared_error: 0.0298\n",
      "Epoch 7/50\n",
      "\u001b[1m1223/1223\u001b[0m \u001b[32m━━━━━━━━━━━━━━━━━━━━\u001b[0m\u001b[37m\u001b[0m \u001b[1m10s\u001b[0m 8ms/step - loss: 0.0010 - root_mean_squared_error: 0.0322 - val_loss: 6.9911e-04 - val_root_mean_squared_error: 0.0264\n",
      "Epoch 8/50\n",
      "\u001b[1m1223/1223\u001b[0m \u001b[32m━━━━━━━━━━━━━━━━━━━━\u001b[0m\u001b[37m\u001b[0m \u001b[1m9s\u001b[0m 7ms/step - loss: 0.0011 - root_mean_squared_error: 0.0326 - val_loss: 8.6181e-04 - val_root_mean_squared_error: 0.0294\n",
      "Epoch 9/50\n",
      "\u001b[1m1223/1223\u001b[0m \u001b[32m━━━━━━━━━━━━━━━━━━━━\u001b[0m\u001b[37m\u001b[0m \u001b[1m9s\u001b[0m 7ms/step - loss: 0.0010 - root_mean_squared_error: 0.0323 - val_loss: 7.0601e-04 - val_root_mean_squared_error: 0.0266\n",
      "Epoch 10/50\n",
      "\u001b[1m1223/1223\u001b[0m \u001b[32m━━━━━━━━━━━━━━━━━━━━\u001b[0m\u001b[37m\u001b[0m \u001b[1m10s\u001b[0m 8ms/step - loss: 0.0011 - root_mean_squared_error: 0.0326 - val_loss: 7.2085e-04 - val_root_mean_squared_error: 0.0268\n",
      "Epoch 11/50\n",
      "\u001b[1m1223/1223\u001b[0m \u001b[32m━━━━━━━━━━━━━━━━━━━━\u001b[0m\u001b[37m\u001b[0m \u001b[1m10s\u001b[0m 9ms/step - loss: 9.9858e-04 - root_mean_squared_error: 0.0316 - val_loss: 6.7989e-04 - val_root_mean_squared_error: 0.0261\n",
      "Epoch 12/50\n",
      "\u001b[1m1223/1223\u001b[0m \u001b[32m━━━━━━━━━━━━━━━━━━━━\u001b[0m\u001b[37m\u001b[0m \u001b[1m11s\u001b[0m 9ms/step - loss: 9.3604e-04 - root_mean_squared_error: 0.0306 - val_loss: 6.6037e-04 - val_root_mean_squared_error: 0.0257\n",
      "Epoch 13/50\n",
      "\u001b[1m1223/1223\u001b[0m \u001b[32m━━━━━━━━━━━━━━━━━━━━\u001b[0m\u001b[37m\u001b[0m \u001b[1m10s\u001b[0m 8ms/step - loss: 9.6989e-04 - root_mean_squared_error: 0.0311 - val_loss: 7.2569e-04 - val_root_mean_squared_error: 0.0269\n",
      "Epoch 14/50\n",
      "\u001b[1m1223/1223\u001b[0m \u001b[32m━━━━━━━━━━━━━━━━━━━━\u001b[0m\u001b[37m\u001b[0m \u001b[1m11s\u001b[0m 9ms/step - loss: 9.5180e-04 - root_mean_squared_error: 0.0308 - val_loss: 6.4045e-04 - val_root_mean_squared_error: 0.0253\n",
      "Epoch 15/50\n",
      "\u001b[1m1223/1223\u001b[0m \u001b[32m━━━━━━━━━━━━━━━━━━━━\u001b[0m\u001b[37m\u001b[0m \u001b[1m9s\u001b[0m 7ms/step - loss: 9.6222e-04 - root_mean_squared_error: 0.0310 - val_loss: 6.4033e-04 - val_root_mean_squared_error: 0.0253\n",
      "Epoch 16/50\n",
      "\u001b[1m1223/1223\u001b[0m \u001b[32m━━━━━━━━━━━━━━━━━━━━\u001b[0m\u001b[37m\u001b[0m \u001b[1m10s\u001b[0m 9ms/step - loss: 9.8935e-04 - root_mean_squared_error: 0.0314 - val_loss: 6.3892e-04 - val_root_mean_squared_error: 0.0253\n",
      "Epoch 17/50\n",
      "\u001b[1m1223/1223\u001b[0m \u001b[32m━━━━━━━━━━━━━━━━━━━━\u001b[0m\u001b[37m\u001b[0m \u001b[1m11s\u001b[0m 9ms/step - loss: 0.0010 - root_mean_squared_error: 0.0321 - val_loss: 6.3945e-04 - val_root_mean_squared_error: 0.0253\n",
      "Epoch 18/50\n",
      "\u001b[1m1223/1223\u001b[0m \u001b[32m━━━━━━━━━━━━━━━━━━━━\u001b[0m\u001b[37m\u001b[0m \u001b[1m11s\u001b[0m 9ms/step - loss: 0.0010 - root_mean_squared_error: 0.0320 - val_loss: 6.6301e-04 - val_root_mean_squared_error: 0.0257\n",
      "Epoch 19/50\n",
      "\u001b[1m1223/1223\u001b[0m \u001b[32m━━━━━━━━━━━━━━━━━━━━\u001b[0m\u001b[37m\u001b[0m \u001b[1m11s\u001b[0m 9ms/step - loss: 9.9445e-04 - root_mean_squared_error: 0.0315 - val_loss: 7.5149e-04 - val_root_mean_squared_error: 0.0274\n",
      "Epoch 20/50\n",
      "\u001b[1m1223/1223\u001b[0m \u001b[32m━━━━━━━━━━━━━━━━━━━━\u001b[0m\u001b[37m\u001b[0m \u001b[1m11s\u001b[0m 9ms/step - loss: 9.5647e-04 - root_mean_squared_error: 0.0309 - val_loss: 6.5478e-04 - val_root_mean_squared_error: 0.0256\n",
      "Epoch 21/50\n",
      "\u001b[1m1223/1223\u001b[0m \u001b[32m━━━━━━━━━━━━━━━━━━━━\u001b[0m\u001b[37m\u001b[0m \u001b[1m11s\u001b[0m 9ms/step - loss: 9.3069e-04 - root_mean_squared_error: 0.0305 - val_loss: 6.7847e-04 - val_root_mean_squared_error: 0.0260\n",
      "Epoch 22/50\n",
      "\u001b[1m1223/1223\u001b[0m \u001b[32m━━━━━━━━━━━━━━━━━━━━\u001b[0m\u001b[37m\u001b[0m \u001b[1m11s\u001b[0m 9ms/step - loss: 8.8616e-04 - root_mean_squared_error: 0.0298 - val_loss: 6.7248e-04 - val_root_mean_squared_error: 0.0259\n",
      "Epoch 23/50\n",
      "\u001b[1m1223/1223\u001b[0m \u001b[32m━━━━━━━━━━━━━━━━━━━━\u001b[0m\u001b[37m\u001b[0m \u001b[1m10s\u001b[0m 8ms/step - loss: 8.7489e-04 - root_mean_squared_error: 0.0296 - val_loss: 6.5100e-04 - val_root_mean_squared_error: 0.0255\n",
      "Epoch 24/50\n",
      "\u001b[1m1223/1223\u001b[0m \u001b[32m━━━━━━━━━━━━━━━━━━━━\u001b[0m\u001b[37m\u001b[0m \u001b[1m10s\u001b[0m 8ms/step - loss: 9.2744e-04 - root_mean_squared_error: 0.0304 - val_loss: 6.3607e-04 - val_root_mean_squared_error: 0.0252\n",
      "Epoch 25/50\n",
      "\u001b[1m1223/1223\u001b[0m \u001b[32m━━━━━━━━━━━━━━━━━━━━\u001b[0m\u001b[37m\u001b[0m \u001b[1m11s\u001b[0m 9ms/step - loss: 9.3266e-04 - root_mean_squared_error: 0.0305 - val_loss: 6.5507e-04 - val_root_mean_squared_error: 0.0256\n",
      "Epoch 26/50\n",
      "\u001b[1m1223/1223\u001b[0m \u001b[32m━━━━━━━━━━━━━━━━━━━━\u001b[0m\u001b[37m\u001b[0m \u001b[1m12s\u001b[0m 10ms/step - loss: 9.5695e-04 - root_mean_squared_error: 0.0309 - val_loss: 6.3124e-04 - val_root_mean_squared_error: 0.0251\n",
      "Epoch 27/50\n",
      "\u001b[1m1223/1223\u001b[0m \u001b[32m━━━━━━━━━━━━━━━━━━━━\u001b[0m\u001b[37m\u001b[0m \u001b[1m11s\u001b[0m 9ms/step - loss: 8.6192e-04 - root_mean_squared_error: 0.0293 - val_loss: 6.1960e-04 - val_root_mean_squared_error: 0.0249\n",
      "Epoch 28/50\n",
      "\u001b[1m1223/1223\u001b[0m \u001b[32m━━━━━━━━━━━━━━━━━━━━\u001b[0m\u001b[37m\u001b[0m \u001b[1m10s\u001b[0m 8ms/step - loss: 8.5748e-04 - root_mean_squared_error: 0.0293 - val_loss: 6.4086e-04 - val_root_mean_squared_error: 0.0253\n",
      "Epoch 29/50\n",
      "\u001b[1m1223/1223\u001b[0m \u001b[32m━━━━━━━━━━━━━━━━━━━━\u001b[0m\u001b[37m\u001b[0m \u001b[1m11s\u001b[0m 9ms/step - loss: 9.3434e-04 - root_mean_squared_error: 0.0306 - val_loss: 6.5481e-04 - val_root_mean_squared_error: 0.0256\n",
      "Epoch 30/50\n",
      "\u001b[1m1223/1223\u001b[0m \u001b[32m━━━━━━━━━━━━━━━━━━━━\u001b[0m\u001b[37m\u001b[0m \u001b[1m10s\u001b[0m 8ms/step - loss: 8.6318e-04 - root_mean_squared_error: 0.0294 - val_loss: 6.4743e-04 - val_root_mean_squared_error: 0.0254\n",
      "Epoch 31/50\n",
      "\u001b[1m1223/1223\u001b[0m \u001b[32m━━━━━━━━━━━━━━━━━━━━\u001b[0m\u001b[37m\u001b[0m \u001b[1m9s\u001b[0m 7ms/step - loss: 8.7082e-04 - root_mean_squared_error: 0.0295 - val_loss: 6.5271e-04 - val_root_mean_squared_error: 0.0255\n",
      "Epoch 32/50\n",
      "\u001b[1m1223/1223\u001b[0m \u001b[32m━━━━━━━━━━━━━━━━━━━━\u001b[0m\u001b[37m\u001b[0m \u001b[1m9s\u001b[0m 8ms/step - loss: 9.0662e-04 - root_mean_squared_error: 0.0301 - val_loss: 6.6343e-04 - val_root_mean_squared_error: 0.0258\n",
      "Epoch 33/50\n",
      "\u001b[1m1223/1223\u001b[0m \u001b[32m━━━━━━━━━━━━━━━━━━━━\u001b[0m\u001b[37m\u001b[0m \u001b[1m9s\u001b[0m 8ms/step - loss: 8.6101e-04 - root_mean_squared_error: 0.0293 - val_loss: 6.3259e-04 - val_root_mean_squared_error: 0.0252\n",
      "Epoch 34/50\n",
      "\u001b[1m1223/1223\u001b[0m \u001b[32m━━━━━━━━━━━━━━━━━━━━\u001b[0m\u001b[37m\u001b[0m \u001b[1m9s\u001b[0m 8ms/step - loss: 9.1481e-04 - root_mean_squared_error: 0.0302 - val_loss: 6.7961e-04 - val_root_mean_squared_error: 0.0261\n",
      "Epoch 35/50\n",
      "\u001b[1m1223/1223\u001b[0m \u001b[32m━━━━━━━━━━━━━━━━━━━━\u001b[0m\u001b[37m\u001b[0m \u001b[1m9s\u001b[0m 8ms/step - loss: 9.2044e-04 - root_mean_squared_error: 0.0303 - val_loss: 6.2766e-04 - val_root_mean_squared_error: 0.0251\n",
      "Epoch 36/50\n",
      "\u001b[1m1223/1223\u001b[0m \u001b[32m━━━━━━━━━━━━━━━━━━━━\u001b[0m\u001b[37m\u001b[0m \u001b[1m9s\u001b[0m 8ms/step - loss: 8.5637e-04 - root_mean_squared_error: 0.0293 - val_loss: 6.2706e-04 - val_root_mean_squared_error: 0.0250\n",
      "Epoch 37/50\n",
      "\u001b[1m1223/1223\u001b[0m \u001b[32m━━━━━━━━━━━━━━━━━━━━\u001b[0m\u001b[37m\u001b[0m \u001b[1m9s\u001b[0m 8ms/step - loss: 8.2744e-04 - root_mean_squared_error: 0.0288 - val_loss: 7.4535e-04 - val_root_mean_squared_error: 0.0273\n",
      "Epoch 38/50\n",
      "\u001b[1m1223/1223\u001b[0m \u001b[32m━━━━━━━━━━━━━━━━━━━━\u001b[0m\u001b[37m\u001b[0m \u001b[1m9s\u001b[0m 7ms/step - loss: 8.7258e-04 - root_mean_squared_error: 0.0295 - val_loss: 6.2824e-04 - val_root_mean_squared_error: 0.0251\n",
      "Epoch 39/50\n",
      "\u001b[1m1223/1223\u001b[0m \u001b[32m━━━━━━━━━━━━━━━━━━━━\u001b[0m\u001b[37m\u001b[0m \u001b[1m9s\u001b[0m 7ms/step - loss: 9.1384e-04 - root_mean_squared_error: 0.0302 - val_loss: 6.2892e-04 - val_root_mean_squared_error: 0.0251\n",
      "Epoch 40/50\n",
      "\u001b[1m1223/1223\u001b[0m \u001b[32m━━━━━━━━━━━━━━━━━━━━\u001b[0m\u001b[37m\u001b[0m \u001b[1m9s\u001b[0m 8ms/step - loss: 8.0347e-04 - root_mean_squared_error: 0.0283 - val_loss: 6.5281e-04 - val_root_mean_squared_error: 0.0256\n",
      "Epoch 41/50\n",
      "\u001b[1m1223/1223\u001b[0m \u001b[32m━━━━━━━━━━━━━━━━━━━━\u001b[0m\u001b[37m\u001b[0m \u001b[1m9s\u001b[0m 8ms/step - loss: 8.5649e-04 - root_mean_squared_error: 0.0293 - val_loss: 6.0368e-04 - val_root_mean_squared_error: 0.0246\n",
      "Epoch 42/50\n",
      "\u001b[1m1223/1223\u001b[0m \u001b[32m━━━━━━━━━━━━━━━━━━━━\u001b[0m\u001b[37m\u001b[0m \u001b[1m9s\u001b[0m 7ms/step - loss: 8.2588e-04 - root_mean_squared_error: 0.0287 - val_loss: 6.5710e-04 - val_root_mean_squared_error: 0.0256\n",
      "Epoch 43/50\n",
      "\u001b[1m1223/1223\u001b[0m \u001b[32m━━━━━━━━━━━━━━━━━━━━\u001b[0m\u001b[37m\u001b[0m \u001b[1m9s\u001b[0m 7ms/step - loss: 8.2742e-04 - root_mean_squared_error: 0.0287 - val_loss: 6.2964e-04 - val_root_mean_squared_error: 0.0251\n",
      "Epoch 44/50\n",
      "\u001b[1m1223/1223\u001b[0m \u001b[32m━━━━━━━━━━━━━━━━━━━━\u001b[0m\u001b[37m\u001b[0m \u001b[1m10s\u001b[0m 8ms/step - loss: 8.4847e-04 - root_mean_squared_error: 0.0291 - val_loss: 6.5785e-04 - val_root_mean_squared_error: 0.0256\n",
      "Epoch 45/50\n",
      "\u001b[1m1223/1223\u001b[0m \u001b[32m━━━━━━━━━━━━━━━━━━━━\u001b[0m\u001b[37m\u001b[0m \u001b[1m9s\u001b[0m 8ms/step - loss: 8.1473e-04 - root_mean_squared_error: 0.0285 - val_loss: 6.1275e-04 - val_root_mean_squared_error: 0.0248\n",
      "Epoch 46/50\n",
      "\u001b[1m1223/1223\u001b[0m \u001b[32m━━━━━━━━━━━━━━━━━━━━\u001b[0m\u001b[37m\u001b[0m \u001b[1m9s\u001b[0m 8ms/step - loss: 8.0473e-04 - root_mean_squared_error: 0.0284 - val_loss: 8.7331e-04 - val_root_mean_squared_error: 0.0296\n",
      "Epoch 47/50\n",
      "\u001b[1m1223/1223\u001b[0m \u001b[32m━━━━━━━━━━━━━━━━━━━━\u001b[0m\u001b[37m\u001b[0m \u001b[1m10s\u001b[0m 8ms/step - loss: 7.8806e-04 - root_mean_squared_error: 0.0281 - val_loss: 6.2387e-04 - val_root_mean_squared_error: 0.0250\n",
      "Epoch 48/50\n",
      "\u001b[1m1223/1223\u001b[0m \u001b[32m━━━━━━━━━━━━━━━━━━━━\u001b[0m\u001b[37m\u001b[0m \u001b[1m10s\u001b[0m 9ms/step - loss: 8.0908e-04 - root_mean_squared_error: 0.0284 - val_loss: 6.6500e-04 - val_root_mean_squared_error: 0.0258\n",
      "Epoch 49/50\n",
      "\u001b[1m1223/1223\u001b[0m \u001b[32m━━━━━━━━━━━━━━━━━━━━\u001b[0m\u001b[37m\u001b[0m \u001b[1m9s\u001b[0m 8ms/step - loss: 8.3366e-04 - root_mean_squared_error: 0.0289 - val_loss: 6.4511e-04 - val_root_mean_squared_error: 0.0254\n",
      "Epoch 50/50\n",
      "\u001b[1m1223/1223\u001b[0m \u001b[32m━━━━━━━━━━━━━━━━━━━━\u001b[0m\u001b[37m\u001b[0m \u001b[1m9s\u001b[0m 8ms/step - loss: 8.2007e-04 - root_mean_squared_error: 0.0286 - val_loss: 6.6585e-04 - val_root_mean_squared_error: 0.0258\n"
     ]
    },
    {
     "data": {
      "text/plain": [
       "<keras.src.callbacks.history.History at 0x31c1c8520>"
      ]
     },
     "execution_count": 48,
     "metadata": {},
     "output_type": "execute_result"
    }
   ],
   "source": [
    "from keras.models import Sequential\n",
    "from keras.layers import LSTM, Dense\n",
    "\n",
    "# Reshape bottleneck features for LSTM input\n",
    "bottleneck_features_reshaped = bottleneck_features.reshape(bottleneck_features.shape[0], n_steps, -1)\n",
    "\n",
    "# LSTM for regression\n",
    "lstm = Sequential()\n",
    "lstm.add(LSTM(64, activation='tanh', input_shape=(n_steps, bottleneck_features_reshaped.shape[2])))\n",
    "lstm.add(Dense(1, activation='linear'))\n",
    "\n",
    "lstm.compile(optimizer=Adam(learning_rate=0.001), loss='mse', metrics=[RootMeanSquaredError()])\n",
    "lstm.fit(bottleneck_features_reshaped, y_train, epochs=50, batch_size=32, validation_split=0.1)\n"
   ]
  },
  {
   "cell_type": "code",
   "execution_count": 49,
   "metadata": {},
   "outputs": [
    {
     "name": "stdout",
     "output_type": "stream",
     "text": [
      "\u001b[1m11/11\u001b[0m \u001b[32m━━━━━━━━━━━━━━━━━━━━\u001b[0m\u001b[37m\u001b[0m \u001b[1m0s\u001b[0m 16ms/step\n"
     ]
    },
    {
     "data": {
      "text/html": [
       "<div>\n",
       "<style scoped>\n",
       "    .dataframe tbody tr th:only-of-type {\n",
       "        vertical-align: middle;\n",
       "    }\n",
       "\n",
       "    .dataframe tbody tr th {\n",
       "        vertical-align: top;\n",
       "    }\n",
       "\n",
       "    .dataframe thead th {\n",
       "        text-align: right;\n",
       "    }\n",
       "</style>\n",
       "<table border=\"1\" class=\"dataframe\">\n",
       "  <thead>\n",
       "    <tr style=\"text-align: right;\">\n",
       "      <th></th>\n",
       "      <th>Model Predictions</th>\n",
       "      <th>Actual</th>\n",
       "    </tr>\n",
       "  </thead>\n",
       "  <tbody>\n",
       "    <tr>\n",
       "      <th>0</th>\n",
       "      <td>1.007365</td>\n",
       "      <td>0.132797</td>\n",
       "    </tr>\n",
       "    <tr>\n",
       "      <th>1</th>\n",
       "      <td>0.906132</td>\n",
       "      <td>0.133803</td>\n",
       "    </tr>\n",
       "    <tr>\n",
       "      <th>2</th>\n",
       "      <td>1.027235</td>\n",
       "      <td>0.142857</td>\n",
       "    </tr>\n",
       "    <tr>\n",
       "      <th>3</th>\n",
       "      <td>1.039873</td>\n",
       "      <td>0.163984</td>\n",
       "    </tr>\n",
       "    <tr>\n",
       "      <th>4</th>\n",
       "      <td>1.035616</td>\n",
       "      <td>0.167002</td>\n",
       "    </tr>\n",
       "  </tbody>\n",
       "</table>\n",
       "</div>"
      ],
      "text/plain": [
       "   Model Predictions    Actual\n",
       "0           1.007365  0.132797\n",
       "1           0.906132  0.133803\n",
       "2           1.027235  0.142857\n",
       "3           1.039873  0.163984\n",
       "4           1.035616  0.167002"
      ]
     },
     "execution_count": 49,
     "metadata": {},
     "output_type": "execute_result"
    }
   ],
   "source": [
    "test_predictions = lstm.predict(X_test).flatten()\n",
    "actual_predictions = y_test.flatten()\n",
    "test_predictions.shape, actual_predictions.shape\n",
    "\n",
    "test_results = pd.DataFrame(data={\n",
    "        'Model Predictions': test_predictions,\n",
    "        'Actual':actual_predictions})\n",
    "test_results.head()"
   ]
  },
  {
   "cell_type": "code",
   "execution_count": 50,
   "metadata": {},
   "outputs": [
    {
     "name": "stdout",
     "output_type": "stream",
     "text": [
      "\u001b[1m11/11\u001b[0m \u001b[32m━━━━━━━━━━━━━━━━━━━━\u001b[0m\u001b[37m\u001b[0m \u001b[1m0s\u001b[0m 4ms/step \n",
      "Test RMSE: 812.895\n"
     ]
    }
   ],
   "source": [
    "test_predictions = lstm.predict(X_test)\n",
    "\n",
    "X_test_rescaled=X_test[:, -1, :].copy()\n",
    "\n",
    "# Invert scaling for the forecast\n",
    "inv_test_predictions = concatenate((test_predictions, X_test_rescaled[:, 1:]), axis=1)\n",
    "inv_test_predictions = scaler.inverse_transform(inv_test_predictions)\n",
    "inv_test_predictions = inv_test_predictions[:, 0]  # Extract the pollution column\n",
    "\n",
    "y_test = y_test.reshape((len(y_test),1))\n",
    "inv_actual_predictions = concatenate((y_test, X_test_rescaled[:, 1:]), axis=1)\n",
    "inv_actual_predictions = scaler.inverse_transform(inv_actual_predictions)\n",
    "inv_actual_predictions = inv_actual_predictions[:,0]\n",
    "\n",
    "\n",
    "test_results = pd.DataFrame(data={\n",
    "        'Model Predictions': inv_test_predictions,\n",
    "        'Actual':inv_actual_predictions})\n",
    "  \n",
    "\n",
    "# calculate RMSE\n",
    "rmse = sqrt(mean_squared_error(inv_actual_predictions, inv_test_predictions))\n",
    "print('Test RMSE: %.3f' % rmse)"
   ]
  },
  {
   "cell_type": "code",
   "execution_count": 51,
   "metadata": {},
   "outputs": [
    {
     "data": {
      "image/png": "[encoded data removed]",
      "text/plain": [
       "<Figure size 640x480 with 1 Axes>"
      ]
     },
     "metadata": {},
     "output_type": "display_data"
    }
   ],
   "source": [
    "plt.plot(test_results['Model Predictions'][:300], label='Predicted Values')\n",
    "plt.plot(test_results['Actual'][:300], label='True Values')\n",
    "plt.legend()\n",
    "plt.show()"
   ]
  },
  {
   "cell_type": "code",
   "execution_count": null,
   "metadata": {},
   "outputs": [],
   "source": [
    "\n",
    "# Calculate reconstruction errors for each sample\n",
    "reconstruction_errors = np.mean(np.square(X_train - yhat), axis=(1, 2))\n",
    "\n",
    "# Average reconstruction error across all samples\n",
    "mean_reconstruction_error = np.mean(reconstruction_errors)\n",
    "print(\"Mean Reconstruction Error:\", mean_reconstruction_error)\n",
    "\n",
    "\n",
    "plt.hist(reconstruction_errors, bins=50)\n",
    "plt.xlabel(\"Reconstruction Error\")\n",
    "plt.ylabel(\"Number of Samples\")\n",
    "plt.title(\"Distribution of Reconstruction Errors\")\n",
    "plt.show()"
   ]
  },
  {
   "cell_type": "code",
   "execution_count": null,
   "metadata": {},
   "outputs": [
    {
     "name": "stdout",
     "output_type": "stream",
     "text": [
      "[0.13243482 0.13483289 0.13909769 0.14202374 0.14107472 0.1346105\n",
      " 0.12371591 0.11455051 0.11061565 0.10822196 0.10639656 0.10655204]\n"
     ]
    }
   ],
   "source": [
    "from keras.utils import plot_model\n",
    "\n",
    "plot_model(encoder_decoder, show_shapes=True, to_file='reconstruct_lstm_autoencoder.png')\n",
    "# demonstrate recreation\n",
    "yhat = encoder_decoder.predict(X_train, verbose=0)\n",
    "print(yhat[0,:,0])"
   ]
  },
  {
   "cell_type": "markdown",
   "metadata": {},
   "source": [
    "## Create an Encoder"
   ]
  },
  {
   "cell_type": "code",
   "execution_count": 109,
   "metadata": {},
   "outputs": [
    {
     "name": "stderr",
     "output_type": "stream",
     "text": [
      "/Users/matt/Library/Python/3.9/lib/python/site-packages/keras/src/models/functional.py:225: UserWarning: The structure of `inputs` doesn't match the expected structure: ['keras_tensor_145']. Received: the structure of inputs=*\n",
      "  warnings.warn(\n"
     ]
    },
    {
     "name": "stdout",
     "output_type": "stream",
     "text": [
      "\u001b[1m1358/1358\u001b[0m \u001b[32m━━━━━━━━━━━━━━━━━━━━\u001b[0m\u001b[37m\u001b[0m \u001b[1m2s\u001b[0m 1ms/step\n",
      "[[ 0.02477075 -0.14855123  0.04066667  0.31723383  0.01424882  0.1406128\n",
      "   0.23440184  0.07330938 -0.04356735  0.00339562 -0.01546647 -0.05253506\n",
      "   0.03424504 -0.05253672 -0.0235427  -0.03868997 -0.00424934 -0.09577399\n",
      "   0.01113609 -0.45186275 -0.05720314 -0.02597363 -0.00460299  0.08491086\n",
      "  -0.46075177  0.00499575  0.18865551 -0.08488303 -0.03617538 -0.00785539\n",
      "   0.3292493  -0.07771883]\n",
      " [ 0.02477075 -0.14855123  0.04066667  0.31723383  0.01424882  0.1406128\n",
      "   0.23440184  0.07330938 -0.04356735  0.00339562 -0.01546647 -0.05253506\n",
      "   0.03424504 -0.05253672 -0.0235427  -0.03868997 -0.00424934 -0.09577399\n",
      "   0.01113609 -0.45186275 -0.05720314 -0.02597363 -0.00460299  0.08491086\n",
      "  -0.46075177  0.00499575  0.18865551 -0.08488303 -0.03617538 -0.00785539\n",
      "   0.3292493  -0.07771883]\n",
      " [ 0.02477075 -0.14855123  0.04066667  0.31723383  0.01424882  0.1406128\n",
      "   0.23440184  0.07330938 -0.04356735  0.00339562 -0.01546647 -0.05253506\n",
      "   0.03424504 -0.05253672 -0.0235427  -0.03868997 -0.00424934 -0.09577399\n",
      "   0.01113609 -0.45186275 -0.05720314 -0.02597363 -0.00460299  0.08491086\n",
      "  -0.46075177  0.00499575  0.18865551 -0.08488303 -0.03617538 -0.00785539\n",
      "   0.3292493  -0.07771883]\n",
      " [ 0.02477075 -0.14855123  0.04066667  0.31723383  0.01424882  0.1406128\n",
      "   0.23440184  0.07330938 -0.04356735  0.00339562 -0.01546647 -0.05253506\n",
      "   0.03424504 -0.05253672 -0.0235427  -0.03868997 -0.00424934 -0.09577399\n",
      "   0.01113609 -0.45186275 -0.05720314 -0.02597363 -0.00460299  0.08491086\n",
      "  -0.46075177  0.00499575  0.18865551 -0.08488303 -0.03617538 -0.00785539\n",
      "   0.3292493  -0.07771883]\n",
      " [ 0.02477075 -0.14855123  0.04066667  0.31723383  0.01424882  0.1406128\n",
      "   0.23440184  0.07330938 -0.04356735  0.00339562 -0.01546647 -0.05253506\n",
      "   0.03424504 -0.05253672 -0.0235427  -0.03868997 -0.00424934 -0.09577399\n",
      "   0.01113609 -0.45186275 -0.05720314 -0.02597363 -0.00460299  0.08491086\n",
      "  -0.46075177  0.00499575  0.18865551 -0.08488303 -0.03617538 -0.00785539\n",
      "   0.3292493  -0.07771883]\n",
      " [ 0.02477075 -0.14855123  0.04066667  0.31723383  0.01424882  0.1406128\n",
      "   0.23440184  0.07330938 -0.04356735  0.00339562 -0.01546647 -0.05253506\n",
      "   0.03424504 -0.05253672 -0.0235427  -0.03868997 -0.00424934 -0.09577399\n",
      "   0.01113609 -0.45186275 -0.05720314 -0.02597363 -0.00460299  0.08491086\n",
      "  -0.46075177  0.00499575  0.18865551 -0.08488303 -0.03617538 -0.00785539\n",
      "   0.3292493  -0.07771883]\n",
      " [ 0.02477075 -0.14855123  0.04066667  0.31723383  0.01424882  0.1406128\n",
      "   0.23440184  0.07330938 -0.04356735  0.00339562 -0.01546647 -0.05253506\n",
      "   0.03424504 -0.05253672 -0.0235427  -0.03868997 -0.00424934 -0.09577399\n",
      "   0.01113609 -0.45186275 -0.05720314 -0.02597363 -0.00460299  0.08491086\n",
      "  -0.46075177  0.00499575  0.18865551 -0.08488303 -0.03617538 -0.00785539\n",
      "   0.3292493  -0.07771883]\n",
      " [ 0.02477075 -0.14855123  0.04066667  0.31723383  0.01424882  0.1406128\n",
      "   0.23440184  0.07330938 -0.04356735  0.00339562 -0.01546647 -0.05253506\n",
      "   0.03424504 -0.05253672 -0.0235427  -0.03868997 -0.00424934 -0.09577399\n",
      "   0.01113609 -0.45186275 -0.05720314 -0.02597363 -0.00460299  0.08491086\n",
      "  -0.46075177  0.00499575  0.18865551 -0.08488303 -0.03617538 -0.00785539\n",
      "   0.3292493  -0.07771883]\n",
      " [ 0.02477075 -0.14855123  0.04066667  0.31723383  0.01424882  0.1406128\n",
      "   0.23440184  0.07330938 -0.04356735  0.00339562 -0.01546647 -0.05253506\n",
      "   0.03424504 -0.05253672 -0.0235427  -0.03868997 -0.00424934 -0.09577399\n",
      "   0.01113609 -0.45186275 -0.05720314 -0.02597363 -0.00460299  0.08491086\n",
      "  -0.46075177  0.00499575  0.18865551 -0.08488303 -0.03617538 -0.00785539\n",
      "   0.3292493  -0.07771883]\n",
      " [ 0.02477075 -0.14855123  0.04066667  0.31723383  0.01424882  0.1406128\n",
      "   0.23440184  0.07330938 -0.04356735  0.00339562 -0.01546647 -0.05253506\n",
      "   0.03424504 -0.05253672 -0.0235427  -0.03868997 -0.00424934 -0.09577399\n",
      "   0.01113609 -0.45186275 -0.05720314 -0.02597363 -0.00460299  0.08491086\n",
      "  -0.46075177  0.00499575  0.18865551 -0.08488303 -0.03617538 -0.00785539\n",
      "   0.3292493  -0.07771883]\n",
      " [ 0.02477075 -0.14855123  0.04066667  0.31723383  0.01424882  0.1406128\n",
      "   0.23440184  0.07330938 -0.04356735  0.00339562 -0.01546647 -0.05253506\n",
      "   0.03424504 -0.05253672 -0.0235427  -0.03868997 -0.00424934 -0.09577399\n",
      "   0.01113609 -0.45186275 -0.05720314 -0.02597363 -0.00460299  0.08491086\n",
      "  -0.46075177  0.00499575  0.18865551 -0.08488303 -0.03617538 -0.00785539\n",
      "   0.3292493  -0.07771883]\n",
      " [ 0.02477075 -0.14855123  0.04066667  0.31723383  0.01424882  0.1406128\n",
      "   0.23440184  0.07330938 -0.04356735  0.00339562 -0.01546647 -0.05253506\n",
      "   0.03424504 -0.05253672 -0.0235427  -0.03868997 -0.00424934 -0.09577399\n",
      "   0.01113609 -0.45186275 -0.05720314 -0.02597363 -0.00460299  0.08491086\n",
      "  -0.46075177  0.00499575  0.18865551 -0.08488303 -0.03617538 -0.00785539\n",
      "   0.3292493  -0.07771883]]\n"
     ]
    }
   ],
   "source": [
    "encoder_input = encoder_decoder.input\n",
    "encoder_output = encoder_decoder.layers[1].output  #The output of the encoder LSTM layer\n",
    "encoder_model = Model(inputs=encoder_input, outputs=encoder_output)\n"
   ]
  },
  {
   "cell_type": "code",
   "execution_count": null,
   "metadata": {},
   "outputs": [],
   "source": [
    "#Get Bottleneck Features (Compressed Representation)\n",
    "bottleneck_features = encoder_model.predict(X_train)\n",
    "print('Bottleneck Features Shape:', bottleneck_features.shape)\n",
    "print('Bottleneck Feature Sample:', bottleneck_features[0])"
   ]
  },
  {
   "cell_type": "code",
   "execution_count": null,
   "metadata": {},
   "outputs": [],
   "source": [
    "# Plot Model Diagram\n",
    "plot_model(encoder_decoder, show_shapes=True, to_file='reconstruct_lstm_autoencoder.png')\n"
   ]
  },
  {
   "cell_type": "code",
   "execution_count": null,
   "metadata": {},
   "outputs": [],
   "source": [
    "# Demonstrate Reconstruction\n",
    "yhat = encoder_decoder.predict(X_train, verbose=0)\n"
   ]
  },
  {
   "cell_type": "code",
   "execution_count": null,
   "metadata": {},
   "outputs": [],
   "source": [
    "# Plot Original vs Reconstructed Data\n",
    "plt.plot(X_train[0, :, 0], label='Original')\n",
    "plt.plot(yhat[0, :, 0], label='Reconstructed')\n",
    "plt.legend()\n",
    "plt.title('Original vs Reconstructed Sequence')\n",
    "plt.show()\n",
    "\n",
    "# Calculate Reconstruction Errors\n",
    "reconstruction_errors = np.mean(np.square(X_train - yhat), axis=(1, 2))\n",
    "print(\"Reconstruction Errors:\", reconstruction_errors)"
   ]
  },
  {
   "cell_type": "markdown",
   "metadata": {},
   "source": [
    "## PredictionLSTM Autoencoder "
   ]
  },
  {
   "cell_type": "markdown",
   "metadata": {},
   "source": [
    "## Modify the decoder to predict future time steps instead of reconstructing the input."
   ]
  },
  {
   "cell_type": "code",
   "execution_count": 113,
   "metadata": {},
   "outputs": [
    {
     "data": {
      "text/html": [
       "<pre style=\"white-space:pre;overflow-x:auto;line-height:normal;font-family:Menlo,'DejaVu Sans Mono',consolas,'Courier New',monospace\"><span style=\"font-weight: bold\">Model: \"sequential_33\"</span>\n",
       "</pre>\n"
      ],
      "text/plain": [
       "\u001b[1mModel: \"sequential_33\"\u001b[0m\n"
      ]
     },
     "metadata": {},
     "output_type": "display_data"
    },
    {
     "data": {
      "text/html": [
       "<pre style=\"white-space:pre;overflow-x:auto;line-height:normal;font-family:Menlo,'DejaVu Sans Mono',consolas,'Courier New',monospace\">┏━━━━━━━━━━━━━━━━━━━━━━━━━━━━━━━━━┳━━━━━━━━━━━━━━━━━━━━━━━━┳━━━━━━━━━━━━━━━┓\n",
       "┃<span style=\"font-weight: bold\"> Layer (type)                    </span>┃<span style=\"font-weight: bold\"> Output Shape           </span>┃<span style=\"font-weight: bold\">       Param # </span>┃\n",
       "┡━━━━━━━━━━━━━━━━━━━━━━━━━━━━━━━━━╇━━━━━━━━━━━━━━━━━━━━━━━━╇━━━━━━━━━━━━━━━┩\n",
       "│ lstm_34 (<span style=\"color: #0087ff; text-decoration-color: #0087ff\">LSTM</span>)                  │ (<span style=\"color: #00d7ff; text-decoration-color: #00d7ff\">None</span>, <span style=\"color: #00af00; text-decoration-color: #00af00\">32</span>)             │         <span style=\"color: #00af00; text-decoration-color: #00af00\">5,248</span> │\n",
       "├─────────────────────────────────┼────────────────────────┼───────────────┤\n",
       "│ repeat_vector_8 (<span style=\"color: #0087ff; text-decoration-color: #0087ff\">RepeatVector</span>)  │ (<span style=\"color: #00d7ff; text-decoration-color: #00d7ff\">None</span>, <span style=\"color: #00af00; text-decoration-color: #00af00\">12</span>, <span style=\"color: #00af00; text-decoration-color: #00af00\">32</span>)         │             <span style=\"color: #00af00; text-decoration-color: #00af00\">0</span> │\n",
       "├─────────────────────────────────┼────────────────────────┼───────────────┤\n",
       "│ lstm_35 (<span style=\"color: #0087ff; text-decoration-color: #0087ff\">LSTM</span>)                  │ (<span style=\"color: #00d7ff; text-decoration-color: #00d7ff\">None</span>, <span style=\"color: #00af00; text-decoration-color: #00af00\">12</span>, <span style=\"color: #00af00; text-decoration-color: #00af00\">32</span>)         │         <span style=\"color: #00af00; text-decoration-color: #00af00\">8,320</span> │\n",
       "├─────────────────────────────────┼────────────────────────┼───────────────┤\n",
       "│ time_distributed_5              │ (<span style=\"color: #00d7ff; text-decoration-color: #00d7ff\">None</span>, <span style=\"color: #00af00; text-decoration-color: #00af00\">12</span>, <span style=\"color: #00af00; text-decoration-color: #00af00\">8</span>)          │           <span style=\"color: #00af00; text-decoration-color: #00af00\">264</span> │\n",
       "│ (<span style=\"color: #0087ff; text-decoration-color: #0087ff\">TimeDistributed</span>)               │                        │               │\n",
       "└─────────────────────────────────┴────────────────────────┴───────────────┘\n",
       "</pre>\n"
      ],
      "text/plain": [
       "┏━━━━━━━━━━━━━━━━━━━━━━━━━━━━━━━━━┳━━━━━━━━━━━━━━━━━━━━━━━━┳━━━━━━━━━━━━━━━┓\n",
       "┃\u001b[1m \u001b[0m\u001b[1mLayer (type)                   \u001b[0m\u001b[1m \u001b[0m┃\u001b[1m \u001b[0m\u001b[1mOutput Shape          \u001b[0m\u001b[1m \u001b[0m┃\u001b[1m \u001b[0m\u001b[1m      Param #\u001b[0m\u001b[1m \u001b[0m┃\n",
       "┡━━━━━━━━━━━━━━━━━━━━━━━━━━━━━━━━━╇━━━━━━━━━━━━━━━━━━━━━━━━╇━━━━━━━━━━━━━━━┩\n",
       "│ lstm_34 (\u001b[38;5;33mLSTM\u001b[0m)                  │ (\u001b[38;5;45mNone\u001b[0m, \u001b[38;5;34m32\u001b[0m)             │         \u001b[38;5;34m5,248\u001b[0m │\n",
       "├─────────────────────────────────┼────────────────────────┼───────────────┤\n",
       "│ repeat_vector_8 (\u001b[38;5;33mRepeatVector\u001b[0m)  │ (\u001b[38;5;45mNone\u001b[0m, \u001b[38;5;34m12\u001b[0m, \u001b[38;5;34m32\u001b[0m)         │             \u001b[38;5;34m0\u001b[0m │\n",
       "├─────────────────────────────────┼────────────────────────┼───────────────┤\n",
       "│ lstm_35 (\u001b[38;5;33mLSTM\u001b[0m)                  │ (\u001b[38;5;45mNone\u001b[0m, \u001b[38;5;34m12\u001b[0m, \u001b[38;5;34m32\u001b[0m)         │         \u001b[38;5;34m8,320\u001b[0m │\n",
       "├─────────────────────────────────┼────────────────────────┼───────────────┤\n",
       "│ time_distributed_5              │ (\u001b[38;5;45mNone\u001b[0m, \u001b[38;5;34m12\u001b[0m, \u001b[38;5;34m8\u001b[0m)          │           \u001b[38;5;34m264\u001b[0m │\n",
       "│ (\u001b[38;5;33mTimeDistributed\u001b[0m)               │                        │               │\n",
       "└─────────────────────────────────┴────────────────────────┴───────────────┘\n"
      ]
     },
     "metadata": {},
     "output_type": "display_data"
    },
    {
     "data": {
      "text/html": [
       "<pre style=\"white-space:pre;overflow-x:auto;line-height:normal;font-family:Menlo,'DejaVu Sans Mono',consolas,'Courier New',monospace\"><span style=\"font-weight: bold\"> Total params: </span><span style=\"color: #00af00; text-decoration-color: #00af00\">13,832</span> (54.03 KB)\n",
       "</pre>\n"
      ],
      "text/plain": [
       "\u001b[1m Total params: \u001b[0m\u001b[38;5;34m13,832\u001b[0m (54.03 KB)\n"
      ]
     },
     "metadata": {},
     "output_type": "display_data"
    },
    {
     "data": {
      "text/html": [
       "<pre style=\"white-space:pre;overflow-x:auto;line-height:normal;font-family:Menlo,'DejaVu Sans Mono',consolas,'Courier New',monospace\"><span style=\"font-weight: bold\"> Trainable params: </span><span style=\"color: #00af00; text-decoration-color: #00af00\">13,832</span> (54.03 KB)\n",
       "</pre>\n"
      ],
      "text/plain": [
       "\u001b[1m Trainable params: \u001b[0m\u001b[38;5;34m13,832\u001b[0m (54.03 KB)\n"
      ]
     },
     "metadata": {},
     "output_type": "display_data"
    },
    {
     "data": {
      "text/html": [
       "<pre style=\"white-space:pre;overflow-x:auto;line-height:normal;font-family:Menlo,'DejaVu Sans Mono',consolas,'Courier New',monospace\"><span style=\"font-weight: bold\"> Non-trainable params: </span><span style=\"color: #00af00; text-decoration-color: #00af00\">0</span> (0.00 B)\n",
       "</pre>\n"
      ],
      "text/plain": [
       "\u001b[1m Non-trainable params: \u001b[0m\u001b[38;5;34m0\u001b[0m (0.00 B)\n"
      ]
     },
     "metadata": {},
     "output_type": "display_data"
    }
   ],
   "source": [
    "from keras.layers import LSTM, Dense, RepeatVector, TimeDistributed\n",
    "from keras.models import Sequential\n",
    "\n",
    "\n",
    "n_steps = X_train.shape[1]\n",
    "n_features = X_train.shape[2]\n",
    "n_outputs = y_train.shape[1]\n",
    "encoder_decoder = Sequential()\n",
    "encoder_decoder.add(Input(shape =(n_steps, n_features)))\n",
    "encoder_decoder.add(LSTM(32,activation='tanh', return_sequences=False))\n",
    "encoder_decoder.add(RepeatVector(n_steps))  # Repeat the bottleneck vector to match the time steps\n",
    "encoder_decoder.add(LSTM(32,activation='tanh', return_sequences=True))\n",
    "encoder_decoder.add(TimeDistributed(Dense(n_features)))  # Output layer to produce one value per time step\n",
    "\n",
    "#Compile the model\n",
    "metrics=\"RootMeanSquaredError()\"\n",
    "optimzer=\"adam\"\n",
    "loss = 'mse'\n",
    "\n",
    "# Autoencoder\n",
    "encoder_decoder.compile(optimizer=Adam(learning_rate = 0.001), loss=loss, metrics = [RootMeanSquaredError()])\n",
    "\n",
    "\n",
    "\n",
    "\n",
    "encoder_decoder.summary()"
   ]
  },
  {
   "cell_type": "code",
   "execution_count": null,
   "metadata": {},
   "outputs": [],
   "source": []
  },
  {
   "cell_type": "code",
   "execution_count": 114,
   "metadata": {},
   "outputs": [
    {
     "name": "stdout",
     "output_type": "stream",
     "text": [
      "Epoch 1/150\n"
     ]
    },
    {
     "name": "stderr",
     "output_type": "stream",
     "text": [
      "2024-11-15 12:34:21.714878: W tensorflow/core/framework/local_rendezvous.cc:404] Local rendezvous is aborting with status: INVALID_ARGUMENT: Incompatible shapes: [32,1] vs. [32,12,8]\n",
      "\t [[{{function_node __inference_one_step_on_data_3858362}}{{node compile_loss/mse/sub}}]]\n",
      "2024-11-15 12:34:21.714909: I tensorflow/core/framework/local_rendezvous.cc:422] Local rendezvous recv item cancelled. Key hash: 7325450256562127004\n",
      "2024-11-15 12:34:21.714914: I tensorflow/core/framework/local_rendezvous.cc:422] Local rendezvous recv item cancelled. Key hash: 3859884205947445022\n",
      "2024-11-15 12:34:21.714919: I tensorflow/core/framework/local_rendezvous.cc:422] Local rendezvous recv item cancelled. Key hash: 12805730785216710672\n",
      "2024-11-15 12:34:21.714923: W tensorflow/core/framework/local_rendezvous.cc:404] Local rendezvous is aborting with status: INVALID_ARGUMENT: Incompatible shapes: [32,1] vs. [32,12,8]\n",
      "\t [[{{function_node __inference_one_step_on_data_3858362}}{{node compile_loss/mse/sub}}]]\n",
      "\t [[StatefulPartitionedCall/adam/truediv_1/_180]]\n",
      "2024-11-15 12:34:21.714928: I tensorflow/core/framework/local_rendezvous.cc:422] Local rendezvous recv item cancelled. Key hash: 11252992210094883681\n",
      "2024-11-15 12:34:21.714932: I tensorflow/core/framework/local_rendezvous.cc:422] Local rendezvous recv item cancelled. Key hash: 7865509651431941241\n",
      "2024-11-15 12:34:21.714936: I tensorflow/core/framework/local_rendezvous.cc:422] Local rendezvous recv item cancelled. Key hash: 11673660722888329427\n",
      "2024-11-15 12:34:21.714939: I tensorflow/core/framework/local_rendezvous.cc:422] Local rendezvous recv item cancelled. Key hash: 971862771102951911\n",
      "2024-11-15 12:34:21.714943: I tensorflow/core/framework/local_rendezvous.cc:422] Local rendezvous recv item cancelled. Key hash: 1941517597305551621\n",
      "2024-11-15 12:34:21.714947: I tensorflow/core/framework/local_rendezvous.cc:422] Local rendezvous recv item cancelled. Key hash: 10860618006460268237\n",
      "2024-11-15 12:34:21.714951: I tensorflow/core/framework/local_rendezvous.cc:422] Local rendezvous recv item cancelled. Key hash: 10162984561630277535\n",
      "2024-11-15 12:34:21.715318: I tensorflow/core/framework/local_rendezvous.cc:422] Local rendezvous recv item cancelled. Key hash: 5493303792857663912\n",
      "2024-11-15 12:34:21.715328: I tensorflow/core/framework/local_rendezvous.cc:422] Local rendezvous recv item cancelled. Key hash: 17200907111632882678\n",
      "2024-11-15 12:34:21.715333: I tensorflow/core/framework/local_rendezvous.cc:422] Local rendezvous recv item cancelled. Key hash: 2062291120082932588\n",
      "2024-11-15 12:34:21.715337: I tensorflow/core/framework/local_rendezvous.cc:422] Local rendezvous recv item cancelled. Key hash: 12787073060007294514\n",
      "2024-11-15 12:34:21.715340: I tensorflow/core/framework/local_rendezvous.cc:422] Local rendezvous recv item cancelled. Key hash: 2662491274169554950\n",
      "2024-11-15 12:34:21.715344: I tensorflow/core/framework/local_rendezvous.cc:422] Local rendezvous recv item cancelled. Key hash: 2499273109466159644\n",
      "2024-11-15 12:34:21.715348: I tensorflow/core/framework/local_rendezvous.cc:422] Local rendezvous recv item cancelled. Key hash: 16647178534939794582\n",
      "2024-11-15 12:34:21.715351: I tensorflow/core/framework/local_rendezvous.cc:422] Local rendezvous recv item cancelled. Key hash: 17375136877463043178\n",
      "2024-11-15 12:34:21.715355: I tensorflow/core/framework/local_rendezvous.cc:422] Local rendezvous recv item cancelled. Key hash: 6462573652002798940\n",
      "2024-11-15 12:34:21.715405: I tensorflow/core/framework/local_rendezvous.cc:422] Local rendezvous recv item cancelled. Key hash: 14167049527958363960\n"
     ]
    },
    {
     "ename": "InvalidArgumentError",
     "evalue": "Graph execution error:\n\nDetected at node compile_loss/mse/sub defined at (most recent call last):\n  File \"/Library/Developer/CommandLineTools/Library/Frameworks/Python3.framework/Versions/3.9/lib/python3.9/runpy.py\", line 197, in _run_module_as_main\n\n  File \"/Library/Developer/CommandLineTools/Library/Frameworks/Python3.framework/Versions/3.9/lib/python3.9/runpy.py\", line 87, in _run_code\n\n  File \"/Users/matt/Library/Python/3.9/lib/python/site-packages/ipykernel_launcher.py\", line 17, in <module>\n\n  File \"/Users/matt/Library/Python/3.9/lib/python/site-packages/traitlets/config/application.py\", line 1043, in launch_instance\n\n  File \"/Users/matt/Library/Python/3.9/lib/python/site-packages/ipykernel/kernelapp.py\", line 725, in start\n\n  File \"/Users/matt/Library/Python/3.9/lib/python/site-packages/tornado/platform/asyncio.py\", line 215, in start\n\n  File \"/Library/Developer/CommandLineTools/Library/Frameworks/Python3.framework/Versions/3.9/lib/python3.9/asyncio/base_events.py\", line 596, in run_forever\n\n  File \"/Library/Developer/CommandLineTools/Library/Frameworks/Python3.framework/Versions/3.9/lib/python3.9/asyncio/base_events.py\", line 1890, in _run_once\n\n  File \"/Library/Developer/CommandLineTools/Library/Frameworks/Python3.framework/Versions/3.9/lib/python3.9/asyncio/events.py\", line 80, in _run\n\n  File \"/Users/matt/Library/Python/3.9/lib/python/site-packages/ipykernel/kernelbase.py\", line 513, in dispatch_queue\n\n  File \"/Users/matt/Library/Python/3.9/lib/python/site-packages/ipykernel/kernelbase.py\", line 502, in process_one\n\n  File \"/Users/matt/Library/Python/3.9/lib/python/site-packages/ipykernel/kernelbase.py\", line 409, in dispatch_shell\n\n  File \"/Users/matt/Library/Python/3.9/lib/python/site-packages/ipykernel/kernelbase.py\", line 729, in execute_request\n\n  File \"/Users/matt/Library/Python/3.9/lib/python/site-packages/ipykernel/ipkernel.py\", line 422, in do_execute\n\n  File \"/Users/matt/Library/Python/3.9/lib/python/site-packages/ipykernel/zmqshell.py\", line 540, in run_cell\n\n  File \"/Users/matt/Library/Python/3.9/lib/python/site-packages/IPython/core/interactiveshell.py\", line 2961, in run_cell\n\n  File \"/Users/matt/Library/Python/3.9/lib/python/site-packages/IPython/core/interactiveshell.py\", line 3016, in _run_cell\n\n  File \"/Users/matt/Library/Python/3.9/lib/python/site-packages/IPython/core/async_helpers.py\", line 129, in _pseudo_sync_runner\n\n  File \"/Users/matt/Library/Python/3.9/lib/python/site-packages/IPython/core/interactiveshell.py\", line 3221, in run_cell_async\n\n  File \"/Users/matt/Library/Python/3.9/lib/python/site-packages/IPython/core/interactiveshell.py\", line 3400, in run_ast_nodes\n\n  File \"/Users/matt/Library/Python/3.9/lib/python/site-packages/IPython/core/interactiveshell.py\", line 3460, in run_code\n\n  File \"/var/folders/5b/5l6jp2zn0sn5pggqy7bzs4b00000gn/T/ipykernel_33697/3581227147.py\", line 2, in <module>\n\n  File \"/Users/matt/Library/Python/3.9/lib/python/site-packages/keras/src/utils/traceback_utils.py\", line 117, in error_handler\n\n  File \"/Users/matt/Library/Python/3.9/lib/python/site-packages/keras/src/backend/tensorflow/trainer.py\", line 320, in fit\n\n  File \"/Users/matt/Library/Python/3.9/lib/python/site-packages/keras/src/backend/tensorflow/trainer.py\", line 121, in one_step_on_iterator\n\n  File \"/Users/matt/Library/Python/3.9/lib/python/site-packages/keras/src/backend/tensorflow/trainer.py\", line 108, in one_step_on_data\n\n  File \"/Users/matt/Library/Python/3.9/lib/python/site-packages/keras/src/backend/tensorflow/trainer.py\", line 54, in train_step\n\n  File \"/Users/matt/Library/Python/3.9/lib/python/site-packages/keras/src/trainers/trainer.py\", line 398, in _compute_loss\n\n  File \"/Users/matt/Library/Python/3.9/lib/python/site-packages/keras/src/trainers/trainer.py\", line 366, in compute_loss\n\n  File \"/Users/matt/Library/Python/3.9/lib/python/site-packages/keras/src/trainers/compile_utils.py\", line 618, in __call__\n\n  File \"/Users/matt/Library/Python/3.9/lib/python/site-packages/keras/src/trainers/compile_utils.py\", line 659, in call\n\n  File \"/Users/matt/Library/Python/3.9/lib/python/site-packages/keras/src/losses/loss.py\", line 60, in __call__\n\n  File \"/Users/matt/Library/Python/3.9/lib/python/site-packages/keras/src/losses/losses.py\", line 27, in call\n\n  File \"/Users/matt/Library/Python/3.9/lib/python/site-packages/keras/src/losses/losses.py\", line 1303, in mean_squared_error\n\nDetected at node compile_loss/mse/sub defined at (most recent call last):\n  File \"/Library/Developer/CommandLineTools/Library/Frameworks/Python3.framework/Versions/3.9/lib/python3.9/runpy.py\", line 197, in _run_module_as_main\n\n  File \"/Library/Developer/CommandLineTools/Library/Frameworks/Python3.framework/Versions/3.9/lib/python3.9/runpy.py\", line 87, in _run_code\n\n  File \"/Users/matt/Library/Python/3.9/lib/python/site-packages/ipykernel_launcher.py\", line 17, in <module>\n\n  File \"/Users/matt/Library/Python/3.9/lib/python/site-packages/traitlets/config/application.py\", line 1043, in launch_instance\n\n  File \"/Users/matt/Library/Python/3.9/lib/python/site-packages/ipykernel/kernelapp.py\", line 725, in start\n\n  File \"/Users/matt/Library/Python/3.9/lib/python/site-packages/tornado/platform/asyncio.py\", line 215, in start\n\n  File \"/Library/Developer/CommandLineTools/Library/Frameworks/Python3.framework/Versions/3.9/lib/python3.9/asyncio/base_events.py\", line 596, in run_forever\n\n  File \"/Library/Developer/CommandLineTools/Library/Frameworks/Python3.framework/Versions/3.9/lib/python3.9/asyncio/base_events.py\", line 1890, in _run_once\n\n  File \"/Library/Developer/CommandLineTools/Library/Frameworks/Python3.framework/Versions/3.9/lib/python3.9/asyncio/events.py\", line 80, in _run\n\n  File \"/Users/matt/Library/Python/3.9/lib/python/site-packages/ipykernel/kernelbase.py\", line 513, in dispatch_queue\n\n  File \"/Users/matt/Library/Python/3.9/lib/python/site-packages/ipykernel/kernelbase.py\", line 502, in process_one\n\n  File \"/Users/matt/Library/Python/3.9/lib/python/site-packages/ipykernel/kernelbase.py\", line 409, in dispatch_shell\n\n  File \"/Users/matt/Library/Python/3.9/lib/python/site-packages/ipykernel/kernelbase.py\", line 729, in execute_request\n\n  File \"/Users/matt/Library/Python/3.9/lib/python/site-packages/ipykernel/ipkernel.py\", line 422, in do_execute\n\n  File \"/Users/matt/Library/Python/3.9/lib/python/site-packages/ipykernel/zmqshell.py\", line 540, in run_cell\n\n  File \"/Users/matt/Library/Python/3.9/lib/python/site-packages/IPython/core/interactiveshell.py\", line 2961, in run_cell\n\n  File \"/Users/matt/Library/Python/3.9/lib/python/site-packages/IPython/core/interactiveshell.py\", line 3016, in _run_cell\n\n  File \"/Users/matt/Library/Python/3.9/lib/python/site-packages/IPython/core/async_helpers.py\", line 129, in _pseudo_sync_runner\n\n  File \"/Users/matt/Library/Python/3.9/lib/python/site-packages/IPython/core/interactiveshell.py\", line 3221, in run_cell_async\n\n  File \"/Users/matt/Library/Python/3.9/lib/python/site-packages/IPython/core/interactiveshell.py\", line 3400, in run_ast_nodes\n\n  File \"/Users/matt/Library/Python/3.9/lib/python/site-packages/IPython/core/interactiveshell.py\", line 3460, in run_code\n\n  File \"/var/folders/5b/5l6jp2zn0sn5pggqy7bzs4b00000gn/T/ipykernel_33697/3581227147.py\", line 2, in <module>\n\n  File \"/Users/matt/Library/Python/3.9/lib/python/site-packages/keras/src/utils/traceback_utils.py\", line 117, in error_handler\n\n  File \"/Users/matt/Library/Python/3.9/lib/python/site-packages/keras/src/backend/tensorflow/trainer.py\", line 320, in fit\n\n  File \"/Users/matt/Library/Python/3.9/lib/python/site-packages/keras/src/backend/tensorflow/trainer.py\", line 121, in one_step_on_iterator\n\n  File \"/Users/matt/Library/Python/3.9/lib/python/site-packages/keras/src/backend/tensorflow/trainer.py\", line 108, in one_step_on_data\n\n  File \"/Users/matt/Library/Python/3.9/lib/python/site-packages/keras/src/backend/tensorflow/trainer.py\", line 54, in train_step\n\n  File \"/Users/matt/Library/Python/3.9/lib/python/site-packages/keras/src/trainers/trainer.py\", line 398, in _compute_loss\n\n  File \"/Users/matt/Library/Python/3.9/lib/python/site-packages/keras/src/trainers/trainer.py\", line 366, in compute_loss\n\n  File \"/Users/matt/Library/Python/3.9/lib/python/site-packages/keras/src/trainers/compile_utils.py\", line 618, in __call__\n\n  File \"/Users/matt/Library/Python/3.9/lib/python/site-packages/keras/src/trainers/compile_utils.py\", line 659, in call\n\n  File \"/Users/matt/Library/Python/3.9/lib/python/site-packages/keras/src/losses/loss.py\", line 60, in __call__\n\n  File \"/Users/matt/Library/Python/3.9/lib/python/site-packages/keras/src/losses/losses.py\", line 27, in call\n\n  File \"/Users/matt/Library/Python/3.9/lib/python/site-packages/keras/src/losses/losses.py\", line 1303, in mean_squared_error\n\n2 root error(s) found.\n  (0) INVALID_ARGUMENT:  Incompatible shapes: [32,1] vs. [32,12,8]\n\t [[{{node compile_loss/mse/sub}}]]\n\t [[StatefulPartitionedCall/adam/truediv_1/_180]]\n  (1) INVALID_ARGUMENT:  Incompatible shapes: [32,1] vs. [32,12,8]\n\t [[{{node compile_loss/mse/sub}}]]\n0 successful operations.\n0 derived errors ignored. [Op:__inference_one_step_on_iterator_3858427]",
     "output_type": "error",
     "traceback": [
      "\u001b[0;31m---------------------------------------------------------------------------\u001b[0m",
      "\u001b[0;31mInvalidArgumentError\u001b[0m                      Traceback (most recent call last)",
      "Cell \u001b[0;32mIn[114], line 2\u001b[0m\n\u001b[1;32m      1\u001b[0m \u001b[38;5;28;01mwith\u001b[39;00m tf\u001b[38;5;241m.\u001b[39mdevice(\u001b[38;5;124m'\u001b[39m\u001b[38;5;124m/CPU:0\u001b[39m\u001b[38;5;124m'\u001b[39m):\n\u001b[0;32m----> 2\u001b[0m     test4 \u001b[38;5;241m=\u001b[39m \u001b[43mencoder_decoder\u001b[49m\u001b[38;5;241;43m.\u001b[39;49m\u001b[43mfit\u001b[49m\u001b[43m(\u001b[49m\u001b[43mX_train\u001b[49m\u001b[43m,\u001b[49m\u001b[43m \u001b[49m\u001b[43my_train\u001b[49m\u001b[43m \u001b[49m\u001b[43m,\u001b[49m\u001b[43m \u001b[49m\u001b[43mepochs\u001b[49m\u001b[38;5;241;43m=\u001b[39;49m\u001b[38;5;241;43m150\u001b[39;49m\u001b[43m,\u001b[49m\u001b[43m \u001b[49m\u001b[43mvalidation_split\u001b[49m\u001b[38;5;241;43m=\u001b[39;49m\u001b[38;5;241;43m0.1\u001b[39;49m\u001b[43m,\u001b[49m\u001b[43m \u001b[49m\u001b[43mbatch_size\u001b[49m\u001b[38;5;241;43m=\u001b[39;49m\u001b[38;5;241;43m32\u001b[39;49m\u001b[43m,\u001b[49m\u001b[43mshuffle\u001b[49m\u001b[38;5;241;43m=\u001b[39;49m\u001b[38;5;28;43;01mFalse\u001b[39;49;00m\u001b[43m)\u001b[49m\n",
      "File \u001b[0;32m~/Library/Python/3.9/lib/python/site-packages/keras/src/utils/traceback_utils.py:122\u001b[0m, in \u001b[0;36mfilter_traceback.<locals>.error_handler\u001b[0;34m(*args, **kwargs)\u001b[0m\n\u001b[1;32m    119\u001b[0m     filtered_tb \u001b[38;5;241m=\u001b[39m _process_traceback_frames(e\u001b[38;5;241m.\u001b[39m__traceback__)\n\u001b[1;32m    120\u001b[0m     \u001b[38;5;66;03m# To get the full stack trace, call:\u001b[39;00m\n\u001b[1;32m    121\u001b[0m     \u001b[38;5;66;03m# `keras.config.disable_traceback_filtering()`\u001b[39;00m\n\u001b[0;32m--> 122\u001b[0m     \u001b[38;5;28;01mraise\u001b[39;00m e\u001b[38;5;241m.\u001b[39mwith_traceback(filtered_tb) \u001b[38;5;28;01mfrom\u001b[39;00m \u001b[38;5;28mNone\u001b[39m\n\u001b[1;32m    123\u001b[0m \u001b[38;5;28;01mfinally\u001b[39;00m:\n\u001b[1;32m    124\u001b[0m     \u001b[38;5;28;01mdel\u001b[39;00m filtered_tb\n",
      "File \u001b[0;32m~/Library/Python/3.9/lib/python/site-packages/tensorflow/python/eager/execute.py:53\u001b[0m, in \u001b[0;36mquick_execute\u001b[0;34m(op_name, num_outputs, inputs, attrs, ctx, name)\u001b[0m\n\u001b[1;32m     51\u001b[0m \u001b[38;5;28;01mtry\u001b[39;00m:\n\u001b[1;32m     52\u001b[0m   ctx\u001b[38;5;241m.\u001b[39mensure_initialized()\n\u001b[0;32m---> 53\u001b[0m   tensors \u001b[38;5;241m=\u001b[39m pywrap_tfe\u001b[38;5;241m.\u001b[39mTFE_Py_Execute(ctx\u001b[38;5;241m.\u001b[39m_handle, device_name, op_name,\n\u001b[1;32m     54\u001b[0m                                       inputs, attrs, num_outputs)\n\u001b[1;32m     55\u001b[0m \u001b[38;5;28;01mexcept\u001b[39;00m core\u001b[38;5;241m.\u001b[39m_NotOkStatusException \u001b[38;5;28;01mas\u001b[39;00m e:\n\u001b[1;32m     56\u001b[0m   \u001b[38;5;28;01mif\u001b[39;00m name \u001b[38;5;129;01mis\u001b[39;00m \u001b[38;5;129;01mnot\u001b[39;00m \u001b[38;5;28;01mNone\u001b[39;00m:\n",
      "\u001b[0;31mInvalidArgumentError\u001b[0m: Graph execution error:\n\nDetected at node compile_loss/mse/sub defined at (most recent call last):\n  File \"/Library/Developer/CommandLineTools/Library/Frameworks/Python3.framework/Versions/3.9/lib/python3.9/runpy.py\", line 197, in _run_module_as_main\n\n  File \"/Library/Developer/CommandLineTools/Library/Frameworks/Python3.framework/Versions/3.9/lib/python3.9/runpy.py\", line 87, in _run_code\n\n  File \"/Users/matt/Library/Python/3.9/lib/python/site-packages/ipykernel_launcher.py\", line 17, in <module>\n\n  File \"/Users/matt/Library/Python/3.9/lib/python/site-packages/traitlets/config/application.py\", line 1043, in launch_instance\n\n  File \"/Users/matt/Library/Python/3.9/lib/python/site-packages/ipykernel/kernelapp.py\", line 725, in start\n\n  File \"/Users/matt/Library/Python/3.9/lib/python/site-packages/tornado/platform/asyncio.py\", line 215, in start\n\n  File \"/Library/Developer/CommandLineTools/Library/Frameworks/Python3.framework/Versions/3.9/lib/python3.9/asyncio/base_events.py\", line 596, in run_forever\n\n  File \"/Library/Developer/CommandLineTools/Library/Frameworks/Python3.framework/Versions/3.9/lib/python3.9/asyncio/base_events.py\", line 1890, in _run_once\n\n  File \"/Library/Developer/CommandLineTools/Library/Frameworks/Python3.framework/Versions/3.9/lib/python3.9/asyncio/events.py\", line 80, in _run\n\n  File \"/Users/matt/Library/Python/3.9/lib/python/site-packages/ipykernel/kernelbase.py\", line 513, in dispatch_queue\n\n  File \"/Users/matt/Library/Python/3.9/lib/python/site-packages/ipykernel/kernelbase.py\", line 502, in process_one\n\n  File \"/Users/matt/Library/Python/3.9/lib/python/site-packages/ipykernel/kernelbase.py\", line 409, in dispatch_shell\n\n  File \"/Users/matt/Library/Python/3.9/lib/python/site-packages/ipykernel/kernelbase.py\", line 729, in execute_request\n\n  File \"/Users/matt/Library/Python/3.9/lib/python/site-packages/ipykernel/ipkernel.py\", line 422, in do_execute\n\n  File \"/Users/matt/Library/Python/3.9/lib/python/site-packages/ipykernel/zmqshell.py\", line 540, in run_cell\n\n  File \"/Users/matt/Library/Python/3.9/lib/python/site-packages/IPython/core/interactiveshell.py\", line 2961, in run_cell\n\n  File \"/Users/matt/Library/Python/3.9/lib/python/site-packages/IPython/core/interactiveshell.py\", line 3016, in _run_cell\n\n  File \"/Users/matt/Library/Python/3.9/lib/python/site-packages/IPython/core/async_helpers.py\", line 129, in _pseudo_sync_runner\n\n  File \"/Users/matt/Library/Python/3.9/lib/python/site-packages/IPython/core/interactiveshell.py\", line 3221, in run_cell_async\n\n  File \"/Users/matt/Library/Python/3.9/lib/python/site-packages/IPython/core/interactiveshell.py\", line 3400, in run_ast_nodes\n\n  File \"/Users/matt/Library/Python/3.9/lib/python/site-packages/IPython/core/interactiveshell.py\", line 3460, in run_code\n\n  File \"/var/folders/5b/5l6jp2zn0sn5pggqy7bzs4b00000gn/T/ipykernel_33697/3581227147.py\", line 2, in <module>\n\n  File \"/Users/matt/Library/Python/3.9/lib/python/site-packages/keras/src/utils/traceback_utils.py\", line 117, in error_handler\n\n  File \"/Users/matt/Library/Python/3.9/lib/python/site-packages/keras/src/backend/tensorflow/trainer.py\", line 320, in fit\n\n  File \"/Users/matt/Library/Python/3.9/lib/python/site-packages/keras/src/backend/tensorflow/trainer.py\", line 121, in one_step_on_iterator\n\n  File \"/Users/matt/Library/Python/3.9/lib/python/site-packages/keras/src/backend/tensorflow/trainer.py\", line 108, in one_step_on_data\n\n  File \"/Users/matt/Library/Python/3.9/lib/python/site-packages/keras/src/backend/tensorflow/trainer.py\", line 54, in train_step\n\n  File \"/Users/matt/Library/Python/3.9/lib/python/site-packages/keras/src/trainers/trainer.py\", line 398, in _compute_loss\n\n  File \"/Users/matt/Library/Python/3.9/lib/python/site-packages/keras/src/trainers/trainer.py\", line 366, in compute_loss\n\n  File \"/Users/matt/Library/Python/3.9/lib/python/site-packages/keras/src/trainers/compile_utils.py\", line 618, in __call__\n\n  File \"/Users/matt/Library/Python/3.9/lib/python/site-packages/keras/src/trainers/compile_utils.py\", line 659, in call\n\n  File \"/Users/matt/Library/Python/3.9/lib/python/site-packages/keras/src/losses/loss.py\", line 60, in __call__\n\n  File \"/Users/matt/Library/Python/3.9/lib/python/site-packages/keras/src/losses/losses.py\", line 27, in call\n\n  File \"/Users/matt/Library/Python/3.9/lib/python/site-packages/keras/src/losses/losses.py\", line 1303, in mean_squared_error\n\nDetected at node compile_loss/mse/sub defined at (most recent call last):\n  File \"/Library/Developer/CommandLineTools/Library/Frameworks/Python3.framework/Versions/3.9/lib/python3.9/runpy.py\", line 197, in _run_module_as_main\n\n  File \"/Library/Developer/CommandLineTools/Library/Frameworks/Python3.framework/Versions/3.9/lib/python3.9/runpy.py\", line 87, in _run_code\n\n  File \"/Users/matt/Library/Python/3.9/lib/python/site-packages/ipykernel_launcher.py\", line 17, in <module>\n\n  File \"/Users/matt/Library/Python/3.9/lib/python/site-packages/traitlets/config/application.py\", line 1043, in launch_instance\n\n  File \"/Users/matt/Library/Python/3.9/lib/python/site-packages/ipykernel/kernelapp.py\", line 725, in start\n\n  File \"/Users/matt/Library/Python/3.9/lib/python/site-packages/tornado/platform/asyncio.py\", line 215, in start\n\n  File \"/Library/Developer/CommandLineTools/Library/Frameworks/Python3.framework/Versions/3.9/lib/python3.9/asyncio/base_events.py\", line 596, in run_forever\n\n  File \"/Library/Developer/CommandLineTools/Library/Frameworks/Python3.framework/Versions/3.9/lib/python3.9/asyncio/base_events.py\", line 1890, in _run_once\n\n  File \"/Library/Developer/CommandLineTools/Library/Frameworks/Python3.framework/Versions/3.9/lib/python3.9/asyncio/events.py\", line 80, in _run\n\n  File \"/Users/matt/Library/Python/3.9/lib/python/site-packages/ipykernel/kernelbase.py\", line 513, in dispatch_queue\n\n  File \"/Users/matt/Library/Python/3.9/lib/python/site-packages/ipykernel/kernelbase.py\", line 502, in process_one\n\n  File \"/Users/matt/Library/Python/3.9/lib/python/site-packages/ipykernel/kernelbase.py\", line 409, in dispatch_shell\n\n  File \"/Users/matt/Library/Python/3.9/lib/python/site-packages/ipykernel/kernelbase.py\", line 729, in execute_request\n\n  File \"/Users/matt/Library/Python/3.9/lib/python/site-packages/ipykernel/ipkernel.py\", line 422, in do_execute\n\n  File \"/Users/matt/Library/Python/3.9/lib/python/site-packages/ipykernel/zmqshell.py\", line 540, in run_cell\n\n  File \"/Users/matt/Library/Python/3.9/lib/python/site-packages/IPython/core/interactiveshell.py\", line 2961, in run_cell\n\n  File \"/Users/matt/Library/Python/3.9/lib/python/site-packages/IPython/core/interactiveshell.py\", line 3016, in _run_cell\n\n  File \"/Users/matt/Library/Python/3.9/lib/python/site-packages/IPython/core/async_helpers.py\", line 129, in _pseudo_sync_runner\n\n  File \"/Users/matt/Library/Python/3.9/lib/python/site-packages/IPython/core/interactiveshell.py\", line 3221, in run_cell_async\n\n  File \"/Users/matt/Library/Python/3.9/lib/python/site-packages/IPython/core/interactiveshell.py\", line 3400, in run_ast_nodes\n\n  File \"/Users/matt/Library/Python/3.9/lib/python/site-packages/IPython/core/interactiveshell.py\", line 3460, in run_code\n\n  File \"/var/folders/5b/5l6jp2zn0sn5pggqy7bzs4b00000gn/T/ipykernel_33697/3581227147.py\", line 2, in <module>\n\n  File \"/Users/matt/Library/Python/3.9/lib/python/site-packages/keras/src/utils/traceback_utils.py\", line 117, in error_handler\n\n  File \"/Users/matt/Library/Python/3.9/lib/python/site-packages/keras/src/backend/tensorflow/trainer.py\", line 320, in fit\n\n  File \"/Users/matt/Library/Python/3.9/lib/python/site-packages/keras/src/backend/tensorflow/trainer.py\", line 121, in one_step_on_iterator\n\n  File \"/Users/matt/Library/Python/3.9/lib/python/site-packages/keras/src/backend/tensorflow/trainer.py\", line 108, in one_step_on_data\n\n  File \"/Users/matt/Library/Python/3.9/lib/python/site-packages/keras/src/backend/tensorflow/trainer.py\", line 54, in train_step\n\n  File \"/Users/matt/Library/Python/3.9/lib/python/site-packages/keras/src/trainers/trainer.py\", line 398, in _compute_loss\n\n  File \"/Users/matt/Library/Python/3.9/lib/python/site-packages/keras/src/trainers/trainer.py\", line 366, in compute_loss\n\n  File \"/Users/matt/Library/Python/3.9/lib/python/site-packages/keras/src/trainers/compile_utils.py\", line 618, in __call__\n\n  File \"/Users/matt/Library/Python/3.9/lib/python/site-packages/keras/src/trainers/compile_utils.py\", line 659, in call\n\n  File \"/Users/matt/Library/Python/3.9/lib/python/site-packages/keras/src/losses/loss.py\", line 60, in __call__\n\n  File \"/Users/matt/Library/Python/3.9/lib/python/site-packages/keras/src/losses/losses.py\", line 27, in call\n\n  File \"/Users/matt/Library/Python/3.9/lib/python/site-packages/keras/src/losses/losses.py\", line 1303, in mean_squared_error\n\n2 root error(s) found.\n  (0) INVALID_ARGUMENT:  Incompatible shapes: [32,1] vs. [32,12,8]\n\t [[{{node compile_loss/mse/sub}}]]\n\t [[StatefulPartitionedCall/adam/truediv_1/_180]]\n  (1) INVALID_ARGUMENT:  Incompatible shapes: [32,1] vs. [32,12,8]\n\t [[{{node compile_loss/mse/sub}}]]\n0 successful operations.\n0 derived errors ignored. [Op:__inference_one_step_on_iterator_3858427]"
     ]
    }
   ],
   "source": [
    "with tf.device('/CPU:0'):\n",
    "    test4 = encoder_decoder.fit(X_train, y_train , epochs=17, validation_split=0.1, batch_size=64,shuffle=False)"
   ]
  },
  {
   "cell_type": "code",
   "execution_count": null,
   "metadata": {},
   "outputs": [],
   "source": []
  },
  {
   "cell_type": "markdown",
   "metadata": {},
   "source": [
    "## MLP with LSTM encoded feature"
   ]
  },
  {
   "cell_type": "code",
   "execution_count": 117,
   "metadata": {},
   "outputs": [],
   "source": [
    "encoder = Model(inputs=encoder_decoder.inputs, outputs=encoder_decoder.layers[1].output)"
   ]
  },
  {
   "cell_type": "code",
   "execution_count": null,
   "metadata": {},
   "outputs": [],
   "source": [
    "train['encoded'] = train_encoded\n",
    "train['label'] = Y_train\n",
    "\n",
    "valid['encoded'] = validation_encoded\n",
    "valid['label'] = Y_valid\n",
    "\n",
    "train.head(10)"
   ]
  },
  {
   "cell_type": "markdown",
   "metadata": {},
   "source": [
    "# PYSPARKING AN LSTM"
   ]
  },
  {
   "cell_type": "markdown",
   "metadata": {},
   "source": []
  }
 ],
 "metadata": {
  "kernelspec": {
   "display_name": "Python 3",
   "language": "python",
   "name": "python3"
  },
  "language_info": {
   "codemirror_mode": {
    "name": "ipython",
    "version": 3
   },
   "file_extension": ".py",
   "mimetype": "text/x-python",
   "name": "python",
   "nbconvert_exporter": "python",
   "pygments_lexer": "ipython3",
   "version": "3.9.6"
  }
 },
 "nbformat": 4,
 "nbformat_minor": 2
}
