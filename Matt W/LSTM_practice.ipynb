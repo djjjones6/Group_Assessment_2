{
 "cells": [
  {
   "cell_type": "markdown",
   "metadata": {},
   "source": [
    "LSTM is an RNN that can capture the pattern in sequential data. The benefit is that it can learn and remember for long sequences. In keras this is referred to as setting the stateful argument as true in the lstm layer \n",
    "Lstm includes three important gates: input gate, forget gate and the output gate. The interactive operation among these three gates makes LSTM have the sufficient ability to solve the problem of long-term dependencies\n",
    "which general RNNs cannot learn. \"The learning speed of the previous hidden layers is slower than the deeper\n",
    "hidden layers. This phenomenon may even lead to a decrease of accuracy rate as hidden layers\n",
    "increase [25]. However, the smart design of the memory cell in LSTM can effectively solve the problem\n",
    "of gradient vanishing in backpropagation and can learn the input sequence with longer time steps.\n",
    "Hence, LSTM is commonly used for solving applications related to time serial issues. \""
   ]
  },
  {
   "cell_type": "code",
   "execution_count": null,
   "metadata": {},
   "outputs": [],
   "source": []
  }
 ],
 "metadata": {
  "language_info": {
   "name": "python"
  }
 },
 "nbformat": 4,
 "nbformat_minor": 2
}
