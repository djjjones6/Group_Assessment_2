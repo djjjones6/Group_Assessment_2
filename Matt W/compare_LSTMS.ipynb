{
 "cells": [
  {
   "cell_type": "code",
   "execution_count": 43,
   "metadata": {},
   "outputs": [],
   "source": [
    "import numpy as np\n",
    "import pandas as pd\n",
    "import pickle \n",
    "import sklearn \n",
    "import matplotlib.pyplot as plt "
   ]
  },
  {
   "cell_type": "code",
   "execution_count": 44,
   "metadata": {},
   "outputs": [],
   "source": [
    "with open('../data/train_data.pickle', 'rb') as f:\n",
    "    train_data = pickle.load(f)"
   ]
  },
  {
   "cell_type": "code",
   "execution_count": 45,
   "metadata": {},
   "outputs": [],
   "source": [
    "with open('../data/test_data.pickle', 'rb') as f:\n",
    "    test_data = pickle.load(f)"
   ]
  },
  {
   "cell_type": "code",
   "execution_count": 46,
   "metadata": {},
   "outputs": [],
   "source": [
    "def generate_sequence(df,N, window_size):\n",
    "        \n",
    "    X_sequences = [df.iloc[i:i+window_size].values for i in range(N - window_size)]\n",
    "    Y_values = [df.iloc[i+window_size]['pollution'] for i in range(N - window_size)]\n",
    "\n",
    "    return np.array(X_sequences).astype('float64'), np.array(Y_values).astype('float64').reshape(-1,1)"
   ]
  },
  {
   "cell_type": "code",
   "execution_count": 47,
   "metadata": {},
   "outputs": [
    {
     "name": "stdout",
     "output_type": "stream",
     "text": [
      "(39410, 10, 8) (39410, 1)\n",
      "(4370, 10, 8) (4370, 1)\n"
     ]
    }
   ],
   "source": [
    "window_size = 10\n",
    "N= len(train_data)\n",
    "X_train_mv, y_train_mv = generate_sequence(train_data,N, window_size)\n",
    "print(X_train_mv.shape, y_train_mv.shape)\n",
    "\n",
    "M=len(test_data)\n",
    "X_test_mv, y_test_mv = generate_sequence(test_data,M,window_size)\n",
    "print(X_test_mv.shape,y_test_mv.shape)"
   ]
  },
  {
   "cell_type": "code",
   "execution_count": 48,
   "metadata": {},
   "outputs": [],
   "source": [
    "train_data_uv = train_data['pollution']\n",
    "test_data_uv = test_data['pollution']"
   ]
  },
  {
   "cell_type": "code",
   "execution_count": 49,
   "metadata": {},
   "outputs": [
    {
     "name": "stdout",
     "output_type": "stream",
     "text": [
      "X_train shape: (39410, 10), y_train shape: (39410,)\n",
      "X_test shape: (4370, 10), y_test shape: (4370,)\n"
     ]
    }
   ],
   "source": [
    "def create_sequences(data, sequence_length):\n",
    "    sequences = []\n",
    "    labels = []\n",
    "    for i in range(len(data) - sequence_length):\n",
    "        sequences.append(data.iloc[i:i+sequence_length].values)  # Sequence of pollution values\n",
    "        labels.append(data.iloc[i + sequence_length])  # Next time step's pollution value (target)\n",
    "    return np.array(sequences), np.array(labels)\n",
    "\n",
    "X_train_uv, y_train_uv = create_sequences(train_data_uv, 10)\n",
    "X_test_uv, y_test_uv = create_sequences(test_data_uv, 10)\n",
    "\n",
    "print(f\"X_train shape: {X_train_uv.shape}, y_train shape: {y_train_uv.shape}\")\n",
    "print(f\"X_test shape: {X_test_uv.shape}, y_test shape: {y_test_uv.shape}\")"
   ]
  },
  {
   "cell_type": "code",
   "execution_count": 50,
   "metadata": {},
   "outputs": [],
   "source": [
    "n_steps = X_train_mv.shape[1]\n",
    "n_features = X_train_mv.shape[2]\n",
    "n_outputs = y_train_mv.shape[1]\n",
    "\n"
   ]
  },
  {
   "cell_type": "code",
   "execution_count": 51,
   "metadata": {},
   "outputs": [],
   "source": [
    "import tensorflow as tf\n",
    "from tensorflow.keras.models import Sequential\n",
    "from tensorflow.keras.layers import LSTM, Dense, Dropout, Input\n",
    "from tensorflow.keras.optimizers import Adam\n",
    "from tensorflow.keras.losses import MeanSquaredError\n",
    "from tensorflow.keras.metrics import RootMeanSquaredError\n",
    "from tensorflow.keras.optimizers import Adam\n",
    "from tensorflow.keras.callbacks import EarlyStopping, ModelCheckpoint\n",
    "from numpy import concatenate\n",
    "from sklearn.metrics import mean_squared_error\n",
    "from math import sqrt\n",
    "from keras.layers import BatchNormalization\n",
    "from tensorflow.keras.callbacks import EarlyStopping\n",
    "from keras.layers import Dense\n",
    "from keras.layers import Flatten\n",
    "from keras.layers import ConvLSTM2D\n",
    "import time "
   ]
  },
  {
   "cell_type": "code",
   "execution_count": 52,
   "metadata": {},
   "outputs": [
    {
     "data": {
      "text/html": [
       "<pre style=\"white-space:pre;overflow-x:auto;line-height:normal;font-family:Menlo,'DejaVu Sans Mono',consolas,'Courier New',monospace\"><span style=\"font-weight: bold\">Model: \"sequential_6\"</span>\n",
       "</pre>\n"
      ],
      "text/plain": [
       "\u001b[1mModel: \"sequential_6\"\u001b[0m\n"
      ]
     },
     "metadata": {},
     "output_type": "display_data"
    },
    {
     "data": {
      "text/html": [
       "<pre style=\"white-space:pre;overflow-x:auto;line-height:normal;font-family:Menlo,'DejaVu Sans Mono',consolas,'Courier New',monospace\">┏━━━━━━━━━━━━━━━━━━━━━━━━━━━━━━━━━┳━━━━━━━━━━━━━━━━━━━━━━━━┳━━━━━━━━━━━━━━━┓\n",
       "┃<span style=\"font-weight: bold\"> Layer (type)                    </span>┃<span style=\"font-weight: bold\"> Output Shape           </span>┃<span style=\"font-weight: bold\">       Param # </span>┃\n",
       "┡━━━━━━━━━━━━━━━━━━━━━━━━━━━━━━━━━╇━━━━━━━━━━━━━━━━━━━━━━━━╇━━━━━━━━━━━━━━━┩\n",
       "│ lstm_9 (<span style=\"color: #0087ff; text-decoration-color: #0087ff\">LSTM</span>)                   │ (<span style=\"color: #00d7ff; text-decoration-color: #00d7ff\">None</span>, <span style=\"color: #00af00; text-decoration-color: #00af00\">10</span>, <span style=\"color: #00af00; text-decoration-color: #00af00\">32</span>)         │         <span style=\"color: #00af00; text-decoration-color: #00af00\">5,248</span> │\n",
       "├─────────────────────────────────┼────────────────────────┼───────────────┤\n",
       "│ dropout_3 (<span style=\"color: #0087ff; text-decoration-color: #0087ff\">Dropout</span>)             │ (<span style=\"color: #00d7ff; text-decoration-color: #00d7ff\">None</span>, <span style=\"color: #00af00; text-decoration-color: #00af00\">10</span>, <span style=\"color: #00af00; text-decoration-color: #00af00\">32</span>)         │             <span style=\"color: #00af00; text-decoration-color: #00af00\">0</span> │\n",
       "├─────────────────────────────────┼────────────────────────┼───────────────┤\n",
       "│ lstm_10 (<span style=\"color: #0087ff; text-decoration-color: #0087ff\">LSTM</span>)                  │ (<span style=\"color: #00d7ff; text-decoration-color: #00d7ff\">None</span>, <span style=\"color: #00af00; text-decoration-color: #00af00\">16</span>)             │         <span style=\"color: #00af00; text-decoration-color: #00af00\">3,136</span> │\n",
       "├─────────────────────────────────┼────────────────────────┼───────────────┤\n",
       "│ dense_6 (<span style=\"color: #0087ff; text-decoration-color: #0087ff\">Dense</span>)                 │ (<span style=\"color: #00d7ff; text-decoration-color: #00d7ff\">None</span>, <span style=\"color: #00af00; text-decoration-color: #00af00\">1</span>)              │            <span style=\"color: #00af00; text-decoration-color: #00af00\">17</span> │\n",
       "└─────────────────────────────────┴────────────────────────┴───────────────┘\n",
       "</pre>\n"
      ],
      "text/plain": [
       "┏━━━━━━━━━━━━━━━━━━━━━━━━━━━━━━━━━┳━━━━━━━━━━━━━━━━━━━━━━━━┳━━━━━━━━━━━━━━━┓\n",
       "┃\u001b[1m \u001b[0m\u001b[1mLayer (type)                   \u001b[0m\u001b[1m \u001b[0m┃\u001b[1m \u001b[0m\u001b[1mOutput Shape          \u001b[0m\u001b[1m \u001b[0m┃\u001b[1m \u001b[0m\u001b[1m      Param #\u001b[0m\u001b[1m \u001b[0m┃\n",
       "┡━━━━━━━━━━━━━━━━━━━━━━━━━━━━━━━━━╇━━━━━━━━━━━━━━━━━━━━━━━━╇━━━━━━━━━━━━━━━┩\n",
       "│ lstm_9 (\u001b[38;5;33mLSTM\u001b[0m)                   │ (\u001b[38;5;45mNone\u001b[0m, \u001b[38;5;34m10\u001b[0m, \u001b[38;5;34m32\u001b[0m)         │         \u001b[38;5;34m5,248\u001b[0m │\n",
       "├─────────────────────────────────┼────────────────────────┼───────────────┤\n",
       "│ dropout_3 (\u001b[38;5;33mDropout\u001b[0m)             │ (\u001b[38;5;45mNone\u001b[0m, \u001b[38;5;34m10\u001b[0m, \u001b[38;5;34m32\u001b[0m)         │             \u001b[38;5;34m0\u001b[0m │\n",
       "├─────────────────────────────────┼────────────────────────┼───────────────┤\n",
       "│ lstm_10 (\u001b[38;5;33mLSTM\u001b[0m)                  │ (\u001b[38;5;45mNone\u001b[0m, \u001b[38;5;34m16\u001b[0m)             │         \u001b[38;5;34m3,136\u001b[0m │\n",
       "├─────────────────────────────────┼────────────────────────┼───────────────┤\n",
       "│ dense_6 (\u001b[38;5;33mDense\u001b[0m)                 │ (\u001b[38;5;45mNone\u001b[0m, \u001b[38;5;34m1\u001b[0m)              │            \u001b[38;5;34m17\u001b[0m │\n",
       "└─────────────────────────────────┴────────────────────────┴───────────────┘\n"
      ]
     },
     "metadata": {},
     "output_type": "display_data"
    },
    {
     "data": {
      "text/html": [
       "<pre style=\"white-space:pre;overflow-x:auto;line-height:normal;font-family:Menlo,'DejaVu Sans Mono',consolas,'Courier New',monospace\"><span style=\"font-weight: bold\"> Total params: </span><span style=\"color: #00af00; text-decoration-color: #00af00\">8,401</span> (32.82 KB)\n",
       "</pre>\n"
      ],
      "text/plain": [
       "\u001b[1m Total params: \u001b[0m\u001b[38;5;34m8,401\u001b[0m (32.82 KB)\n"
      ]
     },
     "metadata": {},
     "output_type": "display_data"
    },
    {
     "data": {
      "text/html": [
       "<pre style=\"white-space:pre;overflow-x:auto;line-height:normal;font-family:Menlo,'DejaVu Sans Mono',consolas,'Courier New',monospace\"><span style=\"font-weight: bold\"> Trainable params: </span><span style=\"color: #00af00; text-decoration-color: #00af00\">8,401</span> (32.82 KB)\n",
       "</pre>\n"
      ],
      "text/plain": [
       "\u001b[1m Trainable params: \u001b[0m\u001b[38;5;34m8,401\u001b[0m (32.82 KB)\n"
      ]
     },
     "metadata": {},
     "output_type": "display_data"
    },
    {
     "data": {
      "text/html": [
       "<pre style=\"white-space:pre;overflow-x:auto;line-height:normal;font-family:Menlo,'DejaVu Sans Mono',consolas,'Courier New',monospace\"><span style=\"font-weight: bold\"> Non-trainable params: </span><span style=\"color: #00af00; text-decoration-color: #00af00\">0</span> (0.00 B)\n",
       "</pre>\n"
      ],
      "text/plain": [
       "\u001b[1m Non-trainable params: \u001b[0m\u001b[38;5;34m0\u001b[0m (0.00 B)\n"
      ]
     },
     "metadata": {},
     "output_type": "display_data"
    }
   ],
   "source": [
    "tf.random.set_seed(7)\n",
    "MV_LSTM = Sequential()\n",
    "MV_LSTM.add(Input(shape =(10, 8)))\n",
    "MV_LSTM.add(LSTM(32,return_sequences=True))\n",
    "MV_LSTM.add(Dropout(0.1)) #Prevent overfitting\n",
    "MV_LSTM.add(LSTM(16, return_sequences=False))\n",
    "MV_LSTM.add(Dense(n_outputs, activation ='linear')) \n",
    "\n",
    "MV_LSTM.compile(optimizer=Adam(learning_rate = 0.001), loss='mse', metrics = [RootMeanSquaredError()])\n",
    "\n",
    "# Save the initial weights of the model right after it is defined and compiled\n",
    "mv_weights = MV_LSTM.get_weights()\n",
    "\n",
    "MV_LSTM.summary()"
   ]
  },
  {
   "cell_type": "code",
   "execution_count": 53,
   "metadata": {},
   "outputs": [
    {
     "data": {
      "text/html": [
       "<pre style=\"white-space:pre;overflow-x:auto;line-height:normal;font-family:Menlo,'DejaVu Sans Mono',consolas,'Courier New',monospace\"><span style=\"font-weight: bold\">Model: \"sequential_7\"</span>\n",
       "</pre>\n"
      ],
      "text/plain": [
       "\u001b[1mModel: \"sequential_7\"\u001b[0m\n"
      ]
     },
     "metadata": {},
     "output_type": "display_data"
    },
    {
     "data": {
      "text/html": [
       "<pre style=\"white-space:pre;overflow-x:auto;line-height:normal;font-family:Menlo,'DejaVu Sans Mono',consolas,'Courier New',monospace\">┏━━━━━━━━━━━━━━━━━━━━━━━━━━━━━━━━━┳━━━━━━━━━━━━━━━━━━━━━━━━┳━━━━━━━━━━━━━━━┓\n",
       "┃<span style=\"font-weight: bold\"> Layer (type)                    </span>┃<span style=\"font-weight: bold\"> Output Shape           </span>┃<span style=\"font-weight: bold\">       Param # </span>┃\n",
       "┡━━━━━━━━━━━━━━━━━━━━━━━━━━━━━━━━━╇━━━━━━━━━━━━━━━━━━━━━━━━╇━━━━━━━━━━━━━━━┩\n",
       "│ lstm_11 (<span style=\"color: #0087ff; text-decoration-color: #0087ff\">LSTM</span>)                  │ (<span style=\"color: #00d7ff; text-decoration-color: #00d7ff\">None</span>, <span style=\"color: #00af00; text-decoration-color: #00af00\">50</span>)             │        <span style=\"color: #00af00; text-decoration-color: #00af00\">10,400</span> │\n",
       "├─────────────────────────────────┼────────────────────────┼───────────────┤\n",
       "│ dense_7 (<span style=\"color: #0087ff; text-decoration-color: #0087ff\">Dense</span>)                 │ (<span style=\"color: #00d7ff; text-decoration-color: #00d7ff\">None</span>, <span style=\"color: #00af00; text-decoration-color: #00af00\">1</span>)              │            <span style=\"color: #00af00; text-decoration-color: #00af00\">51</span> │\n",
       "└─────────────────────────────────┴────────────────────────┴───────────────┘\n",
       "</pre>\n"
      ],
      "text/plain": [
       "┏━━━━━━━━━━━━━━━━━━━━━━━━━━━━━━━━━┳━━━━━━━━━━━━━━━━━━━━━━━━┳━━━━━━━━━━━━━━━┓\n",
       "┃\u001b[1m \u001b[0m\u001b[1mLayer (type)                   \u001b[0m\u001b[1m \u001b[0m┃\u001b[1m \u001b[0m\u001b[1mOutput Shape          \u001b[0m\u001b[1m \u001b[0m┃\u001b[1m \u001b[0m\u001b[1m      Param #\u001b[0m\u001b[1m \u001b[0m┃\n",
       "┡━━━━━━━━━━━━━━━━━━━━━━━━━━━━━━━━━╇━━━━━━━━━━━━━━━━━━━━━━━━╇━━━━━━━━━━━━━━━┩\n",
       "│ lstm_11 (\u001b[38;5;33mLSTM\u001b[0m)                  │ (\u001b[38;5;45mNone\u001b[0m, \u001b[38;5;34m50\u001b[0m)             │        \u001b[38;5;34m10,400\u001b[0m │\n",
       "├─────────────────────────────────┼────────────────────────┼───────────────┤\n",
       "│ dense_7 (\u001b[38;5;33mDense\u001b[0m)                 │ (\u001b[38;5;45mNone\u001b[0m, \u001b[38;5;34m1\u001b[0m)              │            \u001b[38;5;34m51\u001b[0m │\n",
       "└─────────────────────────────────┴────────────────────────┴───────────────┘\n"
      ]
     },
     "metadata": {},
     "output_type": "display_data"
    },
    {
     "data": {
      "text/html": [
       "<pre style=\"white-space:pre;overflow-x:auto;line-height:normal;font-family:Menlo,'DejaVu Sans Mono',consolas,'Courier New',monospace\"><span style=\"font-weight: bold\"> Total params: </span><span style=\"color: #00af00; text-decoration-color: #00af00\">10,451</span> (40.82 KB)\n",
       "</pre>\n"
      ],
      "text/plain": [
       "\u001b[1m Total params: \u001b[0m\u001b[38;5;34m10,451\u001b[0m (40.82 KB)\n"
      ]
     },
     "metadata": {},
     "output_type": "display_data"
    },
    {
     "data": {
      "text/html": [
       "<pre style=\"white-space:pre;overflow-x:auto;line-height:normal;font-family:Menlo,'DejaVu Sans Mono',consolas,'Courier New',monospace\"><span style=\"font-weight: bold\"> Trainable params: </span><span style=\"color: #00af00; text-decoration-color: #00af00\">10,451</span> (40.82 KB)\n",
       "</pre>\n"
      ],
      "text/plain": [
       "\u001b[1m Trainable params: \u001b[0m\u001b[38;5;34m10,451\u001b[0m (40.82 KB)\n"
      ]
     },
     "metadata": {},
     "output_type": "display_data"
    },
    {
     "data": {
      "text/html": [
       "<pre style=\"white-space:pre;overflow-x:auto;line-height:normal;font-family:Menlo,'DejaVu Sans Mono',consolas,'Courier New',monospace\"><span style=\"font-weight: bold\"> Non-trainable params: </span><span style=\"color: #00af00; text-decoration-color: #00af00\">0</span> (0.00 B)\n",
       "</pre>\n"
      ],
      "text/plain": [
       "\u001b[1m Non-trainable params: \u001b[0m\u001b[38;5;34m0\u001b[0m (0.00 B)\n"
      ]
     },
     "metadata": {},
     "output_type": "display_data"
    }
   ],
   "source": [
    "UV_LSTM = Sequential()\n",
    "UV_LSTM.add(Input(shape=(10, 1)))  \n",
    "UV_LSTM.add(LSTM(units=50, return_sequences=False)) #return_sequences = False used, common in time series prediction and non-stacked models\n",
    "UV_LSTM.add(Dense(1))\n",
    "UV_LSTM.compile(optimizer=Adam(learning_rate=0.001), loss='mean_squared_error', metrics=[RootMeanSquaredError()])\n",
    "\n",
    "uv_weights = UV_LSTM.get_weights()\n",
    "\n",
    "UV_LSTM.summary()"
   ]
  },
  {
   "cell_type": "code",
   "execution_count": 54,
   "metadata": {},
   "outputs": [
    {
     "name": "stdout",
     "output_type": "stream",
     "text": [
      "Epoch 1/25\n",
      "\u001b[1m355/355\u001b[0m \u001b[32m━━━━━━━━━━━━━━━━━━━━\u001b[0m\u001b[37m\u001b[0m \u001b[1m4s\u001b[0m 9ms/step - loss: 0.0073 - root_mean_squared_error: 0.0843 - val_loss: 0.0377 - val_root_mean_squared_error: 0.1943\n",
      "Epoch 2/25\n",
      "\u001b[1m355/355\u001b[0m \u001b[32m━━━━━━━━━━━━━━━━━━━━\u001b[0m\u001b[37m\u001b[0m \u001b[1m3s\u001b[0m 8ms/step - loss: 0.0036 - root_mean_squared_error: 0.0598 - val_loss: 0.0315 - val_root_mean_squared_error: 0.1776\n",
      "Epoch 3/25\n",
      "\u001b[1m355/355\u001b[0m \u001b[32m━━━━━━━━━━━━━━━━━━━━\u001b[0m\u001b[37m\u001b[0m \u001b[1m3s\u001b[0m 10ms/step - loss: 0.0028 - root_mean_squared_error: 0.0530 - val_loss: 0.0257 - val_root_mean_squared_error: 0.1603\n",
      "Epoch 4/25\n",
      "\u001b[1m355/355\u001b[0m \u001b[32m━━━━━━━━━━━━━━━━━━━━\u001b[0m\u001b[37m\u001b[0m \u001b[1m3s\u001b[0m 8ms/step - loss: 0.0022 - root_mean_squared_error: 0.0473 - val_loss: 0.0220 - val_root_mean_squared_error: 0.1485\n",
      "Epoch 5/25\n",
      "\u001b[1m355/355\u001b[0m \u001b[32m━━━━━━━━━━━━━━━━━━━━\u001b[0m\u001b[37m\u001b[0m \u001b[1m4s\u001b[0m 10ms/step - loss: 0.0020 - root_mean_squared_error: 0.0441 - val_loss: 0.0197 - val_root_mean_squared_error: 0.1403\n",
      "Epoch 6/25\n",
      "\u001b[1m355/355\u001b[0m \u001b[32m━━━━━━━━━━━━━━━━━━━━\u001b[0m\u001b[37m\u001b[0m \u001b[1m3s\u001b[0m 8ms/step - loss: 0.0018 - root_mean_squared_error: 0.0422 - val_loss: 0.0177 - val_root_mean_squared_error: 0.1332\n",
      "Epoch 7/25\n",
      "\u001b[1m355/355\u001b[0m \u001b[32m━━━━━━━━━━━━━━━━━━━━\u001b[0m\u001b[37m\u001b[0m \u001b[1m3s\u001b[0m 8ms/step - loss: 0.0017 - root_mean_squared_error: 0.0408 - val_loss: 0.0174 - val_root_mean_squared_error: 0.1319\n",
      "Epoch 8/25\n",
      "\u001b[1m355/355\u001b[0m \u001b[32m━━━━━━━━━━━━━━━━━━━━\u001b[0m\u001b[37m\u001b[0m \u001b[1m4s\u001b[0m 11ms/step - loss: 0.0016 - root_mean_squared_error: 0.0401 - val_loss: 0.0151 - val_root_mean_squared_error: 0.1229\n",
      "Epoch 9/25\n",
      "\u001b[1m355/355\u001b[0m \u001b[32m━━━━━━━━━━━━━━━━━━━━\u001b[0m\u001b[37m\u001b[0m \u001b[1m3s\u001b[0m 8ms/step - loss: 0.0016 - root_mean_squared_error: 0.0397 - val_loss: 0.0145 - val_root_mean_squared_error: 0.1204\n",
      "Epoch 10/25\n",
      "\u001b[1m355/355\u001b[0m \u001b[32m━━━━━━━━━━━━━━━━━━━━\u001b[0m\u001b[37m\u001b[0m \u001b[1m3s\u001b[0m 9ms/step - loss: 0.0015 - root_mean_squared_error: 0.0390 - val_loss: 0.0129 - val_root_mean_squared_error: 0.1135\n",
      "Epoch 11/25\n",
      "\u001b[1m355/355\u001b[0m \u001b[32m━━━━━━━━━━━━━━━━━━━━\u001b[0m\u001b[37m\u001b[0m \u001b[1m3s\u001b[0m 9ms/step - loss: 0.0015 - root_mean_squared_error: 0.0384 - val_loss: 0.0124 - val_root_mean_squared_error: 0.1113\n",
      "Epoch 12/25\n",
      "\u001b[1m355/355\u001b[0m \u001b[32m━━━━━━━━━━━━━━━━━━━━\u001b[0m\u001b[37m\u001b[0m \u001b[1m5s\u001b[0m 13ms/step - loss: 0.0015 - root_mean_squared_error: 0.0385 - val_loss: 0.0114 - val_root_mean_squared_error: 0.1069\n",
      "Epoch 13/25\n",
      "\u001b[1m355/355\u001b[0m \u001b[32m━━━━━━━━━━━━━━━━━━━━\u001b[0m\u001b[37m\u001b[0m \u001b[1m3s\u001b[0m 10ms/step - loss: 0.0014 - root_mean_squared_error: 0.0374 - val_loss: 0.0102 - val_root_mean_squared_error: 0.1011\n",
      "Epoch 14/25\n",
      "\u001b[1m355/355\u001b[0m \u001b[32m━━━━━━━━━━━━━━━━━━━━\u001b[0m\u001b[37m\u001b[0m \u001b[1m5s\u001b[0m 15ms/step - loss: 0.0014 - root_mean_squared_error: 0.0372 - val_loss: 0.0101 - val_root_mean_squared_error: 0.1003\n",
      "Epoch 15/25\n",
      "\u001b[1m355/355\u001b[0m \u001b[32m━━━━━━━━━━━━━━━━━━━━\u001b[0m\u001b[37m\u001b[0m \u001b[1m4s\u001b[0m 11ms/step - loss: 0.0014 - root_mean_squared_error: 0.0369 - val_loss: 0.0084 - val_root_mean_squared_error: 0.0917\n",
      "Epoch 16/25\n",
      "\u001b[1m355/355\u001b[0m \u001b[32m━━━━━━━━━━━━━━━━━━━━\u001b[0m\u001b[37m\u001b[0m \u001b[1m4s\u001b[0m 12ms/step - loss: 0.0013 - root_mean_squared_error: 0.0364 - val_loss: 0.0078 - val_root_mean_squared_error: 0.0884\n",
      "Epoch 17/25\n",
      "\u001b[1m355/355\u001b[0m \u001b[32m━━━━━━━━━━━━━━━━━━━━\u001b[0m\u001b[37m\u001b[0m \u001b[1m3s\u001b[0m 9ms/step - loss: 0.0013 - root_mean_squared_error: 0.0360 - val_loss: 0.0071 - val_root_mean_squared_error: 0.0843\n",
      "Epoch 18/25\n",
      "\u001b[1m355/355\u001b[0m \u001b[32m━━━━━━━━━━━━━━━━━━━━\u001b[0m\u001b[37m\u001b[0m \u001b[1m3s\u001b[0m 9ms/step - loss: 0.0013 - root_mean_squared_error: 0.0355 - val_loss: 0.0063 - val_root_mean_squared_error: 0.0795\n",
      "Epoch 19/25\n",
      "\u001b[1m355/355\u001b[0m \u001b[32m━━━━━━━━━━━━━━━━━━━━\u001b[0m\u001b[37m\u001b[0m \u001b[1m4s\u001b[0m 10ms/step - loss: 0.0012 - root_mean_squared_error: 0.0349 - val_loss: 0.0059 - val_root_mean_squared_error: 0.0765\n",
      "Epoch 20/25\n",
      "\u001b[1m355/355\u001b[0m \u001b[32m━━━━━━━━━━━━━━━━━━━━\u001b[0m\u001b[37m\u001b[0m \u001b[1m3s\u001b[0m 9ms/step - loss: 0.0012 - root_mean_squared_error: 0.0343 - val_loss: 0.0056 - val_root_mean_squared_error: 0.0747\n",
      "Epoch 21/25\n",
      "\u001b[1m355/355\u001b[0m \u001b[32m━━━━━━━━━━━━━━━━━━━━\u001b[0m\u001b[37m\u001b[0m \u001b[1m3s\u001b[0m 9ms/step - loss: 0.0012 - root_mean_squared_error: 0.0338 - val_loss: 0.0052 - val_root_mean_squared_error: 0.0719\n",
      "Epoch 22/25\n",
      "\u001b[1m355/355\u001b[0m \u001b[32m━━━━━━━━━━━━━━━━━━━━\u001b[0m\u001b[37m\u001b[0m \u001b[1m4s\u001b[0m 10ms/step - loss: 0.0011 - root_mean_squared_error: 0.0335 - val_loss: 0.0049 - val_root_mean_squared_error: 0.0697\n",
      "Epoch 23/25\n",
      "\u001b[1m355/355\u001b[0m \u001b[32m━━━━━━━━━━━━━━━━━━━━\u001b[0m\u001b[37m\u001b[0m \u001b[1m3s\u001b[0m 8ms/step - loss: 0.0011 - root_mean_squared_error: 0.0332 - val_loss: 0.0046 - val_root_mean_squared_error: 0.0680\n",
      "Epoch 24/25\n",
      "\u001b[1m355/355\u001b[0m \u001b[32m━━━━━━━━━━━━━━━━━━━━\u001b[0m\u001b[37m\u001b[0m \u001b[1m4s\u001b[0m 10ms/step - loss: 0.0011 - root_mean_squared_error: 0.0329 - val_loss: 0.0045 - val_root_mean_squared_error: 0.0667\n",
      "Epoch 25/25\n",
      "\u001b[1m355/355\u001b[0m \u001b[32m━━━━━━━━━━━━━━━━━━━━\u001b[0m\u001b[37m\u001b[0m \u001b[1m5s\u001b[0m 13ms/step - loss: 0.0011 - root_mean_squared_error: 0.0326 - val_loss: 0.0045 - val_root_mean_squared_error: 0.0671\n",
      "Epoch 1/25\n",
      "\u001b[1m355/355\u001b[0m \u001b[32m━━━━━━━━━━━━━━━━━━━━\u001b[0m\u001b[37m\u001b[0m \u001b[1m11s\u001b[0m 26ms/step - loss: 0.0061 - root_mean_squared_error: 0.0761 - val_loss: 0.0143 - val_root_mean_squared_error: 0.1196\n",
      "Epoch 2/25\n",
      "\u001b[1m355/355\u001b[0m \u001b[32m━━━━━━━━━━━━━━━━━━━━\u001b[0m\u001b[37m\u001b[0m \u001b[1m6s\u001b[0m 16ms/step - loss: 0.0018 - root_mean_squared_error: 0.0429 - val_loss: 0.0071 - val_root_mean_squared_error: 0.0842\n",
      "Epoch 3/25\n",
      "\u001b[1m355/355\u001b[0m \u001b[32m━━━━━━━━━━━━━━━━━━━━\u001b[0m\u001b[37m\u001b[0m \u001b[1m5s\u001b[0m 15ms/step - loss: 0.0014 - root_mean_squared_error: 0.0378 - val_loss: 0.0056 - val_root_mean_squared_error: 0.0751\n",
      "Epoch 4/25\n",
      "\u001b[1m355/355\u001b[0m \u001b[32m━━━━━━━━━━━━━━━━━━━━\u001b[0m\u001b[37m\u001b[0m \u001b[1m5s\u001b[0m 13ms/step - loss: 0.0013 - root_mean_squared_error: 0.0353 - val_loss: 0.0044 - val_root_mean_squared_error: 0.0666\n",
      "Epoch 5/25\n",
      "\u001b[1m355/355\u001b[0m \u001b[32m━━━━━━━━━━━━━━━━━━━━\u001b[0m\u001b[37m\u001b[0m \u001b[1m5s\u001b[0m 14ms/step - loss: 0.0012 - root_mean_squared_error: 0.0339 - val_loss: 0.0035 - val_root_mean_squared_error: 0.0591\n",
      "Epoch 6/25\n",
      "\u001b[1m355/355\u001b[0m \u001b[32m━━━━━━━━━━━━━━━━━━━━\u001b[0m\u001b[37m\u001b[0m \u001b[1m5s\u001b[0m 14ms/step - loss: 0.0011 - root_mean_squared_error: 0.0327 - val_loss: 0.0028 - val_root_mean_squared_error: 0.0525\n",
      "Epoch 7/25\n",
      "\u001b[1m355/355\u001b[0m \u001b[32m━━━━━━━━━━━━━━━━━━━━\u001b[0m\u001b[37m\u001b[0m \u001b[1m5s\u001b[0m 15ms/step - loss: 0.0010 - root_mean_squared_error: 0.0321 - val_loss: 0.0023 - val_root_mean_squared_error: 0.0478\n",
      "Epoch 8/25\n",
      "\u001b[1m355/355\u001b[0m \u001b[32m━━━━━━━━━━━━━━━━━━━━\u001b[0m\u001b[37m\u001b[0m \u001b[1m5s\u001b[0m 14ms/step - loss: 0.0011 - root_mean_squared_error: 0.0322 - val_loss: 0.0018 - val_root_mean_squared_error: 0.0423\n",
      "Epoch 9/25\n",
      "\u001b[1m355/355\u001b[0m \u001b[32m━━━━━━━━━━━━━━━━━━━━\u001b[0m\u001b[37m\u001b[0m \u001b[1m5s\u001b[0m 14ms/step - loss: 0.0010 - root_mean_squared_error: 0.0314 - val_loss: 0.0016 - val_root_mean_squared_error: 0.0401\n",
      "Epoch 10/25\n",
      "\u001b[1m355/355\u001b[0m \u001b[32m━━━━━━━━━━━━━━━━━━━━\u001b[0m\u001b[37m\u001b[0m \u001b[1m6s\u001b[0m 16ms/step - loss: 0.0010 - root_mean_squared_error: 0.0314 - val_loss: 0.0014 - val_root_mean_squared_error: 0.0371\n",
      "Epoch 11/25\n",
      "\u001b[1m355/355\u001b[0m \u001b[32m━━━━━━━━━━━━━━━━━━━━\u001b[0m\u001b[37m\u001b[0m \u001b[1m5s\u001b[0m 15ms/step - loss: 9.9637e-04 - root_mean_squared_error: 0.0313 - val_loss: 0.0014 - val_root_mean_squared_error: 0.0371\n",
      "Epoch 12/25\n",
      "\u001b[1m355/355\u001b[0m \u001b[32m━━━━━━━━━━━━━━━━━━━━\u001b[0m\u001b[37m\u001b[0m \u001b[1m5s\u001b[0m 14ms/step - loss: 9.9126e-04 - root_mean_squared_error: 0.0312 - val_loss: 0.0013 - val_root_mean_squared_error: 0.0354\n",
      "Epoch 13/25\n",
      "\u001b[1m355/355\u001b[0m \u001b[32m━━━━━━━━━━━━━━━━━━━━\u001b[0m\u001b[37m\u001b[0m \u001b[1m5s\u001b[0m 15ms/step - loss: 9.4377e-04 - root_mean_squared_error: 0.0305 - val_loss: 0.0012 - val_root_mean_squared_error: 0.0346\n",
      "Epoch 14/25\n",
      "\u001b[1m355/355\u001b[0m \u001b[32m━━━━━━━━━━━━━━━━━━━━\u001b[0m\u001b[37m\u001b[0m \u001b[1m5s\u001b[0m 14ms/step - loss: 9.5197e-04 - root_mean_squared_error: 0.0306 - val_loss: 0.0012 - val_root_mean_squared_error: 0.0342\n",
      "Epoch 15/25\n",
      "\u001b[1m355/355\u001b[0m \u001b[32m━━━━━━━━━━━━━━━━━━━━\u001b[0m\u001b[37m\u001b[0m \u001b[1m6s\u001b[0m 16ms/step - loss: 9.8402e-04 - root_mean_squared_error: 0.0311 - val_loss: 0.0012 - val_root_mean_squared_error: 0.0343\n",
      "Epoch 16/25\n",
      "\u001b[1m355/355\u001b[0m \u001b[32m━━━━━━━━━━━━━━━━━━━━\u001b[0m\u001b[37m\u001b[0m \u001b[1m5s\u001b[0m 15ms/step - loss: 9.5099e-04 - root_mean_squared_error: 0.0306 - val_loss: 0.0011 - val_root_mean_squared_error: 0.0337\n",
      "Epoch 17/25\n",
      "\u001b[1m355/355\u001b[0m \u001b[32m━━━━━━━━━━━━━━━━━━━━\u001b[0m\u001b[37m\u001b[0m \u001b[1m5s\u001b[0m 15ms/step - loss: 9.5709e-04 - root_mean_squared_error: 0.0307 - val_loss: 0.0011 - val_root_mean_squared_error: 0.0330\n",
      "Epoch 18/25\n",
      "\u001b[1m355/355\u001b[0m \u001b[32m━━━━━━━━━━━━━━━━━━━━\u001b[0m\u001b[37m\u001b[0m \u001b[1m6s\u001b[0m 16ms/step - loss: 9.0667e-04 - root_mean_squared_error: 0.0299 - val_loss: 0.0012 - val_root_mean_squared_error: 0.0339\n",
      "Epoch 19/25\n",
      "\u001b[1m355/355\u001b[0m \u001b[32m━━━━━━━━━━━━━━━━━━━━\u001b[0m\u001b[37m\u001b[0m \u001b[1m6s\u001b[0m 16ms/step - loss: 9.3263e-04 - root_mean_squared_error: 0.0303 - val_loss: 0.0012 - val_root_mean_squared_error: 0.0346\n",
      "Epoch 20/25\n",
      "\u001b[1m355/355\u001b[0m \u001b[32m━━━━━━━━━━━━━━━━━━━━\u001b[0m\u001b[37m\u001b[0m \u001b[1m6s\u001b[0m 15ms/step - loss: 9.2145e-04 - root_mean_squared_error: 0.0301 - val_loss: 0.0011 - val_root_mean_squared_error: 0.0338\n",
      "Epoch 21/25\n",
      "\u001b[1m355/355\u001b[0m \u001b[32m━━━━━━━━━━━━━━━━━━━━\u001b[0m\u001b[37m\u001b[0m \u001b[1m5s\u001b[0m 14ms/step - loss: 9.2667e-04 - root_mean_squared_error: 0.0302 - val_loss: 0.0012 - val_root_mean_squared_error: 0.0341\n",
      "Epoch 22/25\n",
      "\u001b[1m355/355\u001b[0m \u001b[32m━━━━━━━━━━━━━━━━━━━━\u001b[0m\u001b[37m\u001b[0m \u001b[1m5s\u001b[0m 14ms/step - loss: 9.1905e-04 - root_mean_squared_error: 0.0301 - val_loss: 0.0012 - val_root_mean_squared_error: 0.0345\n",
      "Epoch 23/25\n",
      "\u001b[1m355/355\u001b[0m \u001b[32m━━━━━━━━━━━━━━━━━━━━\u001b[0m\u001b[37m\u001b[0m \u001b[1m5s\u001b[0m 13ms/step - loss: 9.1652e-04 - root_mean_squared_error: 0.0300 - val_loss: 0.0013 - val_root_mean_squared_error: 0.0357\n",
      "Epoch 24/25\n",
      "\u001b[1m355/355\u001b[0m \u001b[32m━━━━━━━━━━━━━━━━━━━━\u001b[0m\u001b[37m\u001b[0m \u001b[1m5s\u001b[0m 15ms/step - loss: 9.0237e-04 - root_mean_squared_error: 0.0298 - val_loss: 0.0012 - val_root_mean_squared_error: 0.0353\n",
      "Epoch 25/25\n",
      "\u001b[1m355/355\u001b[0m \u001b[32m━━━━━━━━━━━━━━━━━━━━\u001b[0m\u001b[37m\u001b[0m \u001b[1m5s\u001b[0m 15ms/step - loss: 8.9406e-04 - root_mean_squared_error: 0.0297 - val_loss: 0.0013 - val_root_mean_squared_error: 0.0365\n",
      "Epoch 1/30\n",
      "\u001b[1m278/278\u001b[0m \u001b[32m━━━━━━━━━━━━━━━━━━━━\u001b[0m\u001b[37m\u001b[0m \u001b[1m2s\u001b[0m 6ms/step - loss: 0.0043 - root_mean_squared_error: 0.0638 - val_loss: 0.0012 - val_root_mean_squared_error: 0.0349\n",
      "Epoch 2/30\n",
      "\u001b[1m278/278\u001b[0m \u001b[32m━━━━━━━━━━━━━━━━━━━━\u001b[0m\u001b[37m\u001b[0m \u001b[1m2s\u001b[0m 7ms/step - loss: 0.0015 - root_mean_squared_error: 0.0388 - val_loss: 9.3027e-04 - val_root_mean_squared_error: 0.0305\n",
      "Epoch 3/30\n",
      "\u001b[1m278/278\u001b[0m \u001b[32m━━━━━━━━━━━━━━━━━━━━\u001b[0m\u001b[37m\u001b[0m \u001b[1m2s\u001b[0m 7ms/step - loss: 0.0012 - root_mean_squared_error: 0.0343 - val_loss: 7.6447e-04 - val_root_mean_squared_error: 0.0276\n",
      "Epoch 4/30\n",
      "\u001b[1m278/278\u001b[0m \u001b[32m━━━━━━━━━━━━━━━━━━━━\u001b[0m\u001b[37m\u001b[0m \u001b[1m2s\u001b[0m 8ms/step - loss: 0.0010 - root_mean_squared_error: 0.0322 - val_loss: 7.0623e-04 - val_root_mean_squared_error: 0.0266\n",
      "Epoch 5/30\n",
      "\u001b[1m278/278\u001b[0m \u001b[32m━━━━━━━━━━━━━━━━━━━━\u001b[0m\u001b[37m\u001b[0m \u001b[1m2s\u001b[0m 7ms/step - loss: 9.8658e-04 - root_mean_squared_error: 0.0312 - val_loss: 6.6809e-04 - val_root_mean_squared_error: 0.0258\n",
      "Epoch 6/30\n",
      "\u001b[1m278/278\u001b[0m \u001b[32m━━━━━━━━━━━━━━━━━━━━\u001b[0m\u001b[37m\u001b[0m \u001b[1m2s\u001b[0m 7ms/step - loss: 9.7763e-04 - root_mean_squared_error: 0.0310 - val_loss: 6.5857e-04 - val_root_mean_squared_error: 0.0257\n",
      "Epoch 7/30\n",
      "\u001b[1m278/278\u001b[0m \u001b[32m━━━━━━━━━━━━━━━━━━━━\u001b[0m\u001b[37m\u001b[0m \u001b[1m2s\u001b[0m 8ms/step - loss: 9.8307e-04 - root_mean_squared_error: 0.0311 - val_loss: 6.5895e-04 - val_root_mean_squared_error: 0.0257\n",
      "Epoch 8/30\n",
      "\u001b[1m278/278\u001b[0m \u001b[32m━━━━━━━━━━━━━━━━━━━━\u001b[0m\u001b[37m\u001b[0m \u001b[1m2s\u001b[0m 7ms/step - loss: 9.8480e-04 - root_mean_squared_error: 0.0311 - val_loss: 6.6015e-04 - val_root_mean_squared_error: 0.0257\n",
      "Epoch 9/30\n",
      "\u001b[1m278/278\u001b[0m \u001b[32m━━━━━━━━━━━━━━━━━━━━\u001b[0m\u001b[37m\u001b[0m \u001b[1m1s\u001b[0m 5ms/step - loss: 9.8476e-04 - root_mean_squared_error: 0.0311 - val_loss: 6.6099e-04 - val_root_mean_squared_error: 0.0257\n",
      "Epoch 10/30\n",
      "\u001b[1m278/278\u001b[0m \u001b[32m━━━━━━━━━━━━━━━━━━━━\u001b[0m\u001b[37m\u001b[0m \u001b[1m2s\u001b[0m 6ms/step - loss: 9.8362e-04 - root_mean_squared_error: 0.0310 - val_loss: 6.6169e-04 - val_root_mean_squared_error: 0.0257\n",
      "Epoch 11/30\n",
      "\u001b[1m278/278\u001b[0m \u001b[32m━━━━━━━━━━━━━━━━━━━━\u001b[0m\u001b[37m\u001b[0m \u001b[1m2s\u001b[0m 6ms/step - loss: 9.8187e-04 - root_mean_squared_error: 0.0310 - val_loss: 6.6231e-04 - val_root_mean_squared_error: 0.0257\n",
      "Epoch 12/30\n",
      "\u001b[1m278/278\u001b[0m \u001b[32m━━━━━━━━━━━━━━━━━━━━\u001b[0m\u001b[37m\u001b[0m \u001b[1m1s\u001b[0m 5ms/step - loss: 9.7987e-04 - root_mean_squared_error: 0.0310 - val_loss: 6.6288e-04 - val_root_mean_squared_error: 0.0257\n",
      "Epoch 13/30\n",
      "\u001b[1m278/278\u001b[0m \u001b[32m━━━━━━━━━━━━━━━━━━━━\u001b[0m\u001b[37m\u001b[0m \u001b[1m2s\u001b[0m 6ms/step - loss: 9.7777e-04 - root_mean_squared_error: 0.0309 - val_loss: 6.6342e-04 - val_root_mean_squared_error: 0.0258\n",
      "Epoch 14/30\n",
      "\u001b[1m278/278\u001b[0m \u001b[32m━━━━━━━━━━━━━━━━━━━━\u001b[0m\u001b[37m\u001b[0m \u001b[1m2s\u001b[0m 5ms/step - loss: 9.7565e-04 - root_mean_squared_error: 0.0309 - val_loss: 6.6395e-04 - val_root_mean_squared_error: 0.0258\n",
      "Epoch 15/30\n",
      "\u001b[1m278/278\u001b[0m \u001b[32m━━━━━━━━━━━━━━━━━━━━\u001b[0m\u001b[37m\u001b[0m \u001b[1m1s\u001b[0m 5ms/step - loss: 9.7354e-04 - root_mean_squared_error: 0.0309 - val_loss: 6.6449e-04 - val_root_mean_squared_error: 0.0258\n",
      "Epoch 16/30\n",
      "\u001b[1m278/278\u001b[0m \u001b[32m━━━━━━━━━━━━━━━━━━━━\u001b[0m\u001b[37m\u001b[0m \u001b[1m1s\u001b[0m 5ms/step - loss: 9.7149e-04 - root_mean_squared_error: 0.0308 - val_loss: 6.6506e-04 - val_root_mean_squared_error: 0.0258\n",
      "Epoch 17/30\n",
      "\u001b[1m278/278\u001b[0m \u001b[32m━━━━━━━━━━━━━━━━━━━━\u001b[0m\u001b[37m\u001b[0m \u001b[1m2s\u001b[0m 5ms/step - loss: 9.6949e-04 - root_mean_squared_error: 0.0308 - val_loss: 6.6570e-04 - val_root_mean_squared_error: 0.0258\n",
      "Epoch 18/30\n",
      "\u001b[1m278/278\u001b[0m \u001b[32m━━━━━━━━━━━━━━━━━━━━\u001b[0m\u001b[37m\u001b[0m \u001b[1m1s\u001b[0m 5ms/step - loss: 9.6756e-04 - root_mean_squared_error: 0.0308 - val_loss: 6.6641e-04 - val_root_mean_squared_error: 0.0258\n",
      "Epoch 19/30\n",
      "\u001b[1m278/278\u001b[0m \u001b[32m━━━━━━━━━━━━━━━━━━━━\u001b[0m\u001b[37m\u001b[0m \u001b[1m1s\u001b[0m 5ms/step - loss: 9.6570e-04 - root_mean_squared_error: 0.0308 - val_loss: 6.6719e-04 - val_root_mean_squared_error: 0.0258\n",
      "Epoch 20/30\n",
      "\u001b[1m278/278\u001b[0m \u001b[32m━━━━━━━━━━━━━━━━━━━━\u001b[0m\u001b[37m\u001b[0m \u001b[1m2s\u001b[0m 6ms/step - loss: 9.6394e-04 - root_mean_squared_error: 0.0307 - val_loss: 6.6801e-04 - val_root_mean_squared_error: 0.0258\n",
      "Epoch 21/30\n",
      "\u001b[1m278/278\u001b[0m \u001b[32m━━━━━━━━━━━━━━━━━━━━\u001b[0m\u001b[37m\u001b[0m \u001b[1m2s\u001b[0m 5ms/step - loss: 9.6227e-04 - root_mean_squared_error: 0.0307 - val_loss: 6.6881e-04 - val_root_mean_squared_error: 0.0259\n",
      "Epoch 22/30\n",
      "\u001b[1m278/278\u001b[0m \u001b[32m━━━━━━━━━━━━━━━━━━━━\u001b[0m\u001b[37m\u001b[0m \u001b[1m1s\u001b[0m 5ms/step - loss: 9.6069e-04 - root_mean_squared_error: 0.0307 - val_loss: 6.6955e-04 - val_root_mean_squared_error: 0.0259\n",
      "Epoch 23/30\n",
      "\u001b[1m278/278\u001b[0m \u001b[32m━━━━━━━━━━━━━━━━━━━━\u001b[0m\u001b[37m\u001b[0m \u001b[1m1s\u001b[0m 5ms/step - loss: 9.5920e-04 - root_mean_squared_error: 0.0307 - val_loss: 6.7018e-04 - val_root_mean_squared_error: 0.0259\n",
      "Epoch 24/30\n",
      "\u001b[1m278/278\u001b[0m \u001b[32m━━━━━━━━━━━━━━━━━━━━\u001b[0m\u001b[37m\u001b[0m \u001b[1m2s\u001b[0m 6ms/step - loss: 9.5780e-04 - root_mean_squared_error: 0.0306 - val_loss: 6.7065e-04 - val_root_mean_squared_error: 0.0259\n",
      "Epoch 25/30\n",
      "\u001b[1m278/278\u001b[0m \u001b[32m━━━━━━━━━━━━━━━━━━━━\u001b[0m\u001b[37m\u001b[0m \u001b[1m2s\u001b[0m 6ms/step - loss: 9.5647e-04 - root_mean_squared_error: 0.0306 - val_loss: 6.7096e-04 - val_root_mean_squared_error: 0.0259\n",
      "Epoch 26/30\n",
      "\u001b[1m278/278\u001b[0m \u001b[32m━━━━━━━━━━━━━━━━━━━━\u001b[0m\u001b[37m\u001b[0m \u001b[1m2s\u001b[0m 6ms/step - loss: 9.5522e-04 - root_mean_squared_error: 0.0306 - val_loss: 6.7112e-04 - val_root_mean_squared_error: 0.0259\n",
      "Epoch 27/30\n",
      "\u001b[1m278/278\u001b[0m \u001b[32m━━━━━━━━━━━━━━━━━━━━\u001b[0m\u001b[37m\u001b[0m \u001b[1m2s\u001b[0m 7ms/step - loss: 9.5402e-04 - root_mean_squared_error: 0.0306 - val_loss: 6.7120e-04 - val_root_mean_squared_error: 0.0259\n",
      "Epoch 28/30\n",
      "\u001b[1m278/278\u001b[0m \u001b[32m━━━━━━━━━━━━━━━━━━━━\u001b[0m\u001b[37m\u001b[0m \u001b[1m2s\u001b[0m 6ms/step - loss: 9.5287e-04 - root_mean_squared_error: 0.0306 - val_loss: 6.7121e-04 - val_root_mean_squared_error: 0.0259\n",
      "Epoch 29/30\n",
      "\u001b[1m278/278\u001b[0m \u001b[32m━━━━━━━━━━━━━━━━━━━━\u001b[0m\u001b[37m\u001b[0m \u001b[1m2s\u001b[0m 6ms/step - loss: 9.5176e-04 - root_mean_squared_error: 0.0306 - val_loss: 6.7115e-04 - val_root_mean_squared_error: 0.0259\n",
      "Epoch 30/30\n",
      "\u001b[1m278/278\u001b[0m \u001b[32m━━━━━━━━━━━━━━━━━━━━\u001b[0m\u001b[37m\u001b[0m \u001b[1m4s\u001b[0m 13ms/step - loss: 9.5070e-04 - root_mean_squared_error: 0.0305 - val_loss: 6.7103e-04 - val_root_mean_squared_error: 0.0259\n",
      "Epoch 1/30\n"
     ]
    }
   ],
   "source": [
    "times = {\"CPU\": {}, \"GPU\": {}}\n",
    "\n",
    "with tf.device('/CPU:0'):\n",
    "    #Reset weights\n",
    "    MV_LSTM.set_weights(mv_weights)\n",
    "    start_time = time.time()\n",
    "    MV_LSTM.fit(X_train_mv, y_train_mv, epochs=25, validation_split=0.1, batch_size=100,shuffle=False)\n",
    "    times[\"CPU\"][\"Multivariate\"] = time.time() - start_time\n",
    "\n",
    "with tf.device('/GPU:0'):\n",
    "    #Reset weights\n",
    "    MV_LSTM.set_weights(mv_weights)\n",
    "    start_time = time.time()\n",
    "    MV_LSTM.fit(X_train_mv, y_train_mv, epochs=25, validation_split=0.1, batch_size=100,shuffle=False)\n",
    "    times[\"GPU\"][\"Multivariate\"] = time.time() - start_time\n",
    "\n",
    "    \n",
    "with tf.device('/CPU:0'):\n",
    "    UV_LSTM.set_weights(uv_weights)\n",
    "    start_time = time.time()\n",
    "    UV_LSTM.fit(X_train_uv, y_train_uv, epochs=30,batch_size=128, validation_split=0.1,shuffle=False)\n",
    "    times[\"CPU\"][\"Univariate\"] = time.time() - start_time\n",
    "\n",
    "with tf.device('/GPU:0'):\n",
    "    UV_LSTM.set_weights(uv_weights)\n",
    "    start_time = time.time()\n",
    "    UV_LSTM.fit(X_train_uv, y_train_uv, epochs=30,batch_size=128, validation_split=0.1,shuffle=False)\n",
    "    times[\"GPU\"][\"Univariate\"] = time.time() - start_time\n",
    "\n",
    "# Print timings for reference\n",
    "print(f\"Timings (in seconds):{times}\")\n"
   ]
  }
 ],
 "metadata": {
  "kernelspec": {
   "display_name": "Python 3",
   "language": "python",
   "name": "python3"
  },
  "language_info": {
   "codemirror_mode": {
    "name": "ipython",
    "version": 3
   },
   "file_extension": ".py",
   "mimetype": "text/x-python",
   "name": "python",
   "nbconvert_exporter": "python",
   "pygments_lexer": "ipython3",
   "version": "3.9.6"
  }
 },
 "nbformat": 4,
 "nbformat_minor": 2
}
