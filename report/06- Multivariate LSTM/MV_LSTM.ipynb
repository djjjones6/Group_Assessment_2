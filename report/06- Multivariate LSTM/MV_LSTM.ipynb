{
 "cells": [
  {
   "cell_type": "markdown",
   "metadata": {},
   "source": [
    "## Import Necessary Functions"
   ]
  },
  {
   "cell_type": "code",
   "execution_count": 1,
   "metadata": {},
   "outputs": [],
   "source": [
    "import numpy as np\n",
    "import pandas as pd\n",
    "import pickle \n",
    "import sklearn \n",
    "import matplotlib.pyplot as plt "
   ]
  },
  {
   "cell_type": "markdown",
   "metadata": {},
   "source": [
    "## Import Train/Test Splits and Scaler"
   ]
  },
  {
   "cell_type": "code",
   "execution_count": 2,
   "metadata": {},
   "outputs": [],
   "source": [
    "with open('../data/train_data.pickle', 'rb') as f:\n",
    "    train_data = pickle.load(f)"
   ]
  },
  {
   "cell_type": "code",
   "execution_count": 3,
   "metadata": {},
   "outputs": [],
   "source": [
    "with open('../data/test_data.pickle', 'rb') as f:\n",
    "    test_data = pickle.load(f)"
   ]
  },
  {
   "cell_type": "code",
   "execution_count": 4,
   "metadata": {},
   "outputs": [],
   "source": [
    "with open('../data/scaler_mv.pickle', 'rb') as f:\n",
    "    scaler = pickle.load(f)"
   ]
  },
  {
   "cell_type": "code",
   "execution_count": 5,
   "metadata": {},
   "outputs": [
    {
     "data": {
      "text/html": [
       "<div>\n",
       "<style scoped>\n",
       "    .dataframe tbody tr th:only-of-type {\n",
       "        vertical-align: middle;\n",
       "    }\n",
       "\n",
       "    .dataframe tbody tr th {\n",
       "        vertical-align: top;\n",
       "    }\n",
       "\n",
       "    .dataframe thead th {\n",
       "        text-align: right;\n",
       "    }\n",
       "</style>\n",
       "<table border=\"1\" class=\"dataframe\">\n",
       "  <thead>\n",
       "    <tr style=\"text-align: right;\">\n",
       "      <th></th>\n",
       "      <th>pollution</th>\n",
       "      <th>dew</th>\n",
       "      <th>temp</th>\n",
       "      <th>press</th>\n",
       "      <th>wnd_dir</th>\n",
       "      <th>wnd_spd</th>\n",
       "      <th>snow</th>\n",
       "      <th>rain</th>\n",
       "    </tr>\n",
       "    <tr>\n",
       "      <th>date</th>\n",
       "      <th></th>\n",
       "      <th></th>\n",
       "      <th></th>\n",
       "      <th></th>\n",
       "      <th></th>\n",
       "      <th></th>\n",
       "      <th></th>\n",
       "      <th></th>\n",
       "    </tr>\n",
       "  </thead>\n",
       "  <tbody>\n",
       "    <tr>\n",
       "      <th>2010-01-02 00:00:00</th>\n",
       "      <td>0.129779</td>\n",
       "      <td>0.352941</td>\n",
       "      <td>0.245902</td>\n",
       "      <td>0.527273</td>\n",
       "      <td>0.333333</td>\n",
       "      <td>0.002290</td>\n",
       "      <td>0.000000</td>\n",
       "      <td>0.0</td>\n",
       "    </tr>\n",
       "    <tr>\n",
       "      <th>2010-01-02 01:00:00</th>\n",
       "      <td>0.148893</td>\n",
       "      <td>0.367647</td>\n",
       "      <td>0.245902</td>\n",
       "      <td>0.527273</td>\n",
       "      <td>0.333333</td>\n",
       "      <td>0.003811</td>\n",
       "      <td>0.000000</td>\n",
       "      <td>0.0</td>\n",
       "    </tr>\n",
       "    <tr>\n",
       "      <th>2010-01-02 02:00:00</th>\n",
       "      <td>0.159960</td>\n",
       "      <td>0.426471</td>\n",
       "      <td>0.229508</td>\n",
       "      <td>0.545455</td>\n",
       "      <td>0.333333</td>\n",
       "      <td>0.005332</td>\n",
       "      <td>0.000000</td>\n",
       "      <td>0.0</td>\n",
       "    </tr>\n",
       "    <tr>\n",
       "      <th>2010-01-02 03:00:00</th>\n",
       "      <td>0.182093</td>\n",
       "      <td>0.485294</td>\n",
       "      <td>0.229508</td>\n",
       "      <td>0.563636</td>\n",
       "      <td>0.333333</td>\n",
       "      <td>0.008391</td>\n",
       "      <td>0.037037</td>\n",
       "      <td>0.0</td>\n",
       "    </tr>\n",
       "    <tr>\n",
       "      <th>2010-01-02 04:00:00</th>\n",
       "      <td>0.138833</td>\n",
       "      <td>0.485294</td>\n",
       "      <td>0.229508</td>\n",
       "      <td>0.563636</td>\n",
       "      <td>0.333333</td>\n",
       "      <td>0.009912</td>\n",
       "      <td>0.074074</td>\n",
       "      <td>0.0</td>\n",
       "    </tr>\n",
       "  </tbody>\n",
       "</table>\n",
       "</div>"
      ],
      "text/plain": [
       "                     pollution       dew      temp     press   wnd_dir  \\\n",
       "date                                                                     \n",
       "2010-01-02 00:00:00   0.129779  0.352941  0.245902  0.527273  0.333333   \n",
       "2010-01-02 01:00:00   0.148893  0.367647  0.245902  0.527273  0.333333   \n",
       "2010-01-02 02:00:00   0.159960  0.426471  0.229508  0.545455  0.333333   \n",
       "2010-01-02 03:00:00   0.182093  0.485294  0.229508  0.563636  0.333333   \n",
       "2010-01-02 04:00:00   0.138833  0.485294  0.229508  0.563636  0.333333   \n",
       "\n",
       "                      wnd_spd      snow  rain  \n",
       "date                                           \n",
       "2010-01-02 00:00:00  0.002290  0.000000   0.0  \n",
       "2010-01-02 01:00:00  0.003811  0.000000   0.0  \n",
       "2010-01-02 02:00:00  0.005332  0.000000   0.0  \n",
       "2010-01-02 03:00:00  0.008391  0.037037   0.0  \n",
       "2010-01-02 04:00:00  0.009912  0.074074   0.0  "
      ]
     },
     "execution_count": 5,
     "metadata": {},
     "output_type": "execute_result"
    }
   ],
   "source": [
    "train_data.head(5)"
   ]
  },
  {
   "cell_type": "code",
   "execution_count": 6,
   "metadata": {},
   "outputs": [
    {
     "data": {
      "text/html": [
       "<div>\n",
       "<style scoped>\n",
       "    .dataframe tbody tr th:only-of-type {\n",
       "        vertical-align: middle;\n",
       "    }\n",
       "\n",
       "    .dataframe tbody tr th {\n",
       "        vertical-align: top;\n",
       "    }\n",
       "\n",
       "    .dataframe thead th {\n",
       "        text-align: right;\n",
       "    }\n",
       "</style>\n",
       "<table border=\"1\" class=\"dataframe\">\n",
       "  <thead>\n",
       "    <tr style=\"text-align: right;\">\n",
       "      <th></th>\n",
       "      <th>pollution</th>\n",
       "      <th>dew</th>\n",
       "      <th>temp</th>\n",
       "      <th>press</th>\n",
       "      <th>wnd_dir</th>\n",
       "      <th>wnd_spd</th>\n",
       "      <th>snow</th>\n",
       "      <th>rain</th>\n",
       "    </tr>\n",
       "    <tr>\n",
       "      <th>date</th>\n",
       "      <th></th>\n",
       "      <th></th>\n",
       "      <th></th>\n",
       "      <th></th>\n",
       "      <th></th>\n",
       "      <th></th>\n",
       "      <th></th>\n",
       "      <th></th>\n",
       "    </tr>\n",
       "  </thead>\n",
       "  <tbody>\n",
       "    <tr>\n",
       "      <th>2014-07-02 12:00:00</th>\n",
       "      <td>0.056338</td>\n",
       "      <td>0.897059</td>\n",
       "      <td>0.704918</td>\n",
       "      <td>0.218182</td>\n",
       "      <td>0.333333</td>\n",
       "      <td>0.005349</td>\n",
       "      <td>0.0</td>\n",
       "      <td>0.0</td>\n",
       "    </tr>\n",
       "    <tr>\n",
       "      <th>2014-07-02 13:00:00</th>\n",
       "      <td>0.064386</td>\n",
       "      <td>0.897059</td>\n",
       "      <td>0.721311</td>\n",
       "      <td>0.218182</td>\n",
       "      <td>1.000000</td>\n",
       "      <td>0.000752</td>\n",
       "      <td>0.0</td>\n",
       "      <td>0.0</td>\n",
       "    </tr>\n",
       "    <tr>\n",
       "      <th>2014-07-02 14:00:00</th>\n",
       "      <td>0.066398</td>\n",
       "      <td>0.897059</td>\n",
       "      <td>0.721311</td>\n",
       "      <td>0.200000</td>\n",
       "      <td>1.000000</td>\n",
       "      <td>0.002273</td>\n",
       "      <td>0.0</td>\n",
       "      <td>0.0</td>\n",
       "    </tr>\n",
       "    <tr>\n",
       "      <th>2014-07-02 15:00:00</th>\n",
       "      <td>0.072435</td>\n",
       "      <td>0.897059</td>\n",
       "      <td>0.737705</td>\n",
       "      <td>0.200000</td>\n",
       "      <td>1.000000</td>\n",
       "      <td>0.003794</td>\n",
       "      <td>0.0</td>\n",
       "      <td>0.0</td>\n",
       "    </tr>\n",
       "    <tr>\n",
       "      <th>2014-07-02 16:00:00</th>\n",
       "      <td>0.078471</td>\n",
       "      <td>0.897059</td>\n",
       "      <td>0.737705</td>\n",
       "      <td>0.200000</td>\n",
       "      <td>1.000000</td>\n",
       "      <td>0.005315</td>\n",
       "      <td>0.0</td>\n",
       "      <td>0.0</td>\n",
       "    </tr>\n",
       "  </tbody>\n",
       "</table>\n",
       "</div>"
      ],
      "text/plain": [
       "                     pollution       dew      temp     press   wnd_dir  \\\n",
       "date                                                                     \n",
       "2014-07-02 12:00:00   0.056338  0.897059  0.704918  0.218182  0.333333   \n",
       "2014-07-02 13:00:00   0.064386  0.897059  0.721311  0.218182  1.000000   \n",
       "2014-07-02 14:00:00   0.066398  0.897059  0.721311  0.200000  1.000000   \n",
       "2014-07-02 15:00:00   0.072435  0.897059  0.737705  0.200000  1.000000   \n",
       "2014-07-02 16:00:00   0.078471  0.897059  0.737705  0.200000  1.000000   \n",
       "\n",
       "                      wnd_spd  snow  rain  \n",
       "date                                       \n",
       "2014-07-02 12:00:00  0.005349   0.0   0.0  \n",
       "2014-07-02 13:00:00  0.000752   0.0   0.0  \n",
       "2014-07-02 14:00:00  0.002273   0.0   0.0  \n",
       "2014-07-02 15:00:00  0.003794   0.0   0.0  \n",
       "2014-07-02 16:00:00  0.005315   0.0   0.0  "
      ]
     },
     "execution_count": 6,
     "metadata": {},
     "output_type": "execute_result"
    }
   ],
   "source": [
    "test_data.head()"
   ]
  },
  {
   "cell_type": "markdown",
   "metadata": {},
   "source": [
    "Everything looks right!"
   ]
  },
  {
   "cell_type": "markdown",
   "metadata": {},
   "source": [
    "## Moving Window NOT CV"
   ]
  },
  {
   "cell_type": "markdown",
   "metadata": {},
   "source": [
    "The LSTM takes sequences of inputs in training. This is somewhat a \"moving window\" approach where the model learns a sequence of 10 data points from each of the features and predicts the 11th pollution datapoint. The following function prepares the time series data for LSTM training.\n",
    "\n",
    "X_sequences is an array of feature vectors for each time step in a 10-step sequence. The target variable (pollution) is the value at the subsequent point."
   ]
  },
  {
   "cell_type": "code",
   "execution_count": 7,
   "metadata": {},
   "outputs": [],
   "source": [
    "def generate_sequence(df,N, window_size):\n",
    "        \n",
    "    X_sequences = [df.iloc[i:i+window_size].values for i in range(N - window_size)]\n",
    "    Y_values = [df.iloc[i+window_size]['pollution'] for i in range(N - window_size)]\n",
    "\n",
    "    return np.array(X_sequences).astype('float64'), np.array(Y_values).astype('float64').reshape(-1,1)\n",
    "\n"
   ]
  },
  {
   "cell_type": "markdown",
   "metadata": {},
   "source": [
    "Sequence size is related to the vanishing gradient problem. There is a limit for how well an LSTM can learn dependencies far back in long sequences. This is because the gradients in backpropogation get very small, making it difficult for the model to learn long term relationships. Hence 10 is good enough to capture relatively short-term patterns in the data."
   ]
  },
  {
   "cell_type": "code",
   "execution_count": 8,
   "metadata": {},
   "outputs": [
    {
     "name": "stdout",
     "output_type": "stream",
     "text": [
      "(39410, 10, 8) (39410, 1)\n",
      "(4370, 10, 8) (4370, 1)\n"
     ]
    }
   ],
   "source": [
    "window_size = 10\n",
    "N= len(train_data)\n",
    "X_train, y_train = generate_sequence(train_data,N, window_size)\n",
    "print(X_train.shape, y_train.shape)\n",
    "\n",
    "M=len(test_data)\n",
    "X_test, y_test = generate_sequence(test_data,M,window_size)\n",
    "print(X_test.shape,y_test.shape)\n",
    "\n",
    "\n"
   ]
  },
  {
   "cell_type": "markdown",
   "metadata": {},
   "source": [
    "Note: we reshape input to be 3D [samples, timesteps, features]\n",
    "\n",
    "This lets us tell the LSTM which data points belong to the same sequence and what features each time step contains."
   ]
  },
  {
   "cell_type": "code",
   "execution_count": 9,
   "metadata": {},
   "outputs": [],
   "source": [
    "n_steps = X_train.shape[1]\n",
    "n_features = X_train.shape[2]\n",
    "n_outputs = y_train.shape[1]\n"
   ]
  },
  {
   "cell_type": "code",
   "execution_count": 10,
   "metadata": {},
   "outputs": [
    {
     "name": "stderr",
     "output_type": "stream",
     "text": [
      "/Users/matt/Library/Python/3.9/lib/python/site-packages/urllib3/__init__.py:35: NotOpenSSLWarning: urllib3 v2 only supports OpenSSL 1.1.1+, currently the 'ssl' module is compiled with 'LibreSSL 2.8.3'. See: https://github.com/urllib3/urllib3/issues/3020\n",
      "  warnings.warn(\n"
     ]
    }
   ],
   "source": [
    "import tensorflow as tf\n",
    "from tensorflow.keras.models import Sequential, Model\n",
    "from tensorflow.keras.layers import LSTM, Dense, Dropout, Input, RepeatVector, TimeDistributed\n",
    "from tensorflow.keras.metrics import RootMeanSquaredError\n",
    "from tensorflow.keras.optimizers import Adam\n",
    "from tensorflow.keras.callbacks import EarlyStopping\n",
    "from numpy import concatenate\n",
    "from sklearn.metrics import mean_squared_error\n",
    "from math import sqrt\n",
    "\n",
    "\n"
   ]
  },
  {
   "cell_type": "code",
   "execution_count": 11,
   "metadata": {},
   "outputs": [],
   "source": [
    "np.random.seed(7)"
   ]
  },
  {
   "cell_type": "markdown",
   "metadata": {},
   "source": [
    "# Multivariate LSTM"
   ]
  },
  {
   "cell_type": "markdown",
   "metadata": {},
   "source": [
    "A multivariate LSTM is used to predict pollution based on multiple input features that also vollow time series. In contrast, the univariate LSTM only pollution   to predict pollution. It is simpler and focuses solely on the temporal patterns of pollution.\n",
    "\n",
    "We compare the two because MV LSTMs can learn how different variables influence each other over time, leading to potentially better predicitons if the features are indeed relevant. This addresses real world scenario where multiple variables might affect pollution e.g. Temperature. We want to know if the LSTM can pcik up on these real world dependencies or if the features simply add noise. If the univariate falls short in comparison on the left out data, then we can conclude there deeper dependencies lie in pollution prediction. And if not, we can conclude MV LSTM adds complexity and the increased computation reuqired is not necessary.\n",
    "\n",
    "Please assume any mention of LSTM in the proceeding document, unless stated otherwise, is reffering to the multivariate LSTM"
   ]
  },
  {
   "cell_type": "markdown",
   "metadata": {},
   "source": [
    "## Stacked LSTM"
   ]
  },
  {
   "cell_type": "markdown",
   "metadata": {},
   "source": [
    "After testing various architectures, we came to the conclusion that the following stacked LSTM model balanced rsme and computational efficiency best. In the trial and error process, several different configurations were tried out with different LSTM layers, parameters, activation functions (like tanh and ReLU), and even applying batch normalization. This is the setup which generalised best and had the lowest computational performance.\n",
    "\n",
    "A dropout layer of 10% is added after the first layer to avoid overfitting. Dropout helps to prevent overfitting by dropping a random portion of neurons during training which reduces sensitivity to the specific weights of individual neurons. For the Dense output layer, we have decided on a linear activation to output the final prediction. Tanh did well and shrunk extreme values better, and if we minmax scaled data to (-1,1) instead of (0,1), it would be preferred, but because the focus is on computational performance, linear was chosen.\n",
    "\n",
    "The model is optimised using Adam, known for its adaptiveness while training. The learning rate of 0.001 was chosen after some trial and error.\n",
    "\n",
    "A random seed is set because the dropout layer is randomly chosen by keras and we want to reproduce values."
   ]
  },
  {
   "cell_type": "code",
   "execution_count": 12,
   "metadata": {},
   "outputs": [
    {
     "name": "stderr",
     "output_type": "stream",
     "text": [
      "2024-11-27 00:12:49.328816: I metal_plugin/src/device/metal_device.cc:1154] Metal device set to: Apple M2\n",
      "2024-11-27 00:12:49.328953: I metal_plugin/src/device/metal_device.cc:296] systemMemory: 8.00 GB\n",
      "2024-11-27 00:12:49.328998: I metal_plugin/src/device/metal_device.cc:313] maxCacheSize: 2.67 GB\n",
      "2024-11-27 00:12:49.329484: I tensorflow/core/common_runtime/pluggable_device/pluggable_device_factory.cc:305] Could not identify NUMA node of platform GPU ID 0, defaulting to 0. Your kernel may not have been built with NUMA support.\n",
      "2024-11-27 00:12:49.329621: I tensorflow/core/common_runtime/pluggable_device/pluggable_device_factory.cc:271] Created TensorFlow device (/job:localhost/replica:0/task:0/device:GPU:0 with 0 MB memory) -> physical PluggableDevice (device: 0, name: METAL, pci bus id: <undefined>)\n"
     ]
    },
    {
     "data": {
      "text/html": [
       "<pre style=\"white-space:pre;overflow-x:auto;line-height:normal;font-family:Menlo,'DejaVu Sans Mono',consolas,'Courier New',monospace\"><span style=\"font-weight: bold\">Model: \"sequential\"</span>\n",
       "</pre>\n"
      ],
      "text/plain": [
       "\u001b[1mModel: \"sequential\"\u001b[0m\n"
      ]
     },
     "metadata": {},
     "output_type": "display_data"
    },
    {
     "data": {
      "text/html": [
       "<pre style=\"white-space:pre;overflow-x:auto;line-height:normal;font-family:Menlo,'DejaVu Sans Mono',consolas,'Courier New',monospace\">┏━━━━━━━━━━━━━━━━━━━━━━━━━━━━━━━━━┳━━━━━━━━━━━━━━━━━━━━━━━━┳━━━━━━━━━━━━━━━┓\n",
       "┃<span style=\"font-weight: bold\"> Layer (type)                    </span>┃<span style=\"font-weight: bold\"> Output Shape           </span>┃<span style=\"font-weight: bold\">       Param # </span>┃\n",
       "┡━━━━━━━━━━━━━━━━━━━━━━━━━━━━━━━━━╇━━━━━━━━━━━━━━━━━━━━━━━━╇━━━━━━━━━━━━━━━┩\n",
       "│ lstm (<span style=\"color: #0087ff; text-decoration-color: #0087ff\">LSTM</span>)                     │ (<span style=\"color: #00d7ff; text-decoration-color: #00d7ff\">None</span>, <span style=\"color: #00af00; text-decoration-color: #00af00\">10</span>, <span style=\"color: #00af00; text-decoration-color: #00af00\">32</span>)         │         <span style=\"color: #00af00; text-decoration-color: #00af00\">5,248</span> │\n",
       "├─────────────────────────────────┼────────────────────────┼───────────────┤\n",
       "│ dropout (<span style=\"color: #0087ff; text-decoration-color: #0087ff\">Dropout</span>)               │ (<span style=\"color: #00d7ff; text-decoration-color: #00d7ff\">None</span>, <span style=\"color: #00af00; text-decoration-color: #00af00\">10</span>, <span style=\"color: #00af00; text-decoration-color: #00af00\">32</span>)         │             <span style=\"color: #00af00; text-decoration-color: #00af00\">0</span> │\n",
       "├─────────────────────────────────┼────────────────────────┼───────────────┤\n",
       "│ lstm_1 (<span style=\"color: #0087ff; text-decoration-color: #0087ff\">LSTM</span>)                   │ (<span style=\"color: #00d7ff; text-decoration-color: #00d7ff\">None</span>, <span style=\"color: #00af00; text-decoration-color: #00af00\">16</span>)             │         <span style=\"color: #00af00; text-decoration-color: #00af00\">3,136</span> │\n",
       "├─────────────────────────────────┼────────────────────────┼───────────────┤\n",
       "│ dense (<span style=\"color: #0087ff; text-decoration-color: #0087ff\">Dense</span>)                   │ (<span style=\"color: #00d7ff; text-decoration-color: #00d7ff\">None</span>, <span style=\"color: #00af00; text-decoration-color: #00af00\">1</span>)              │            <span style=\"color: #00af00; text-decoration-color: #00af00\">17</span> │\n",
       "└─────────────────────────────────┴────────────────────────┴───────────────┘\n",
       "</pre>\n"
      ],
      "text/plain": [
       "┏━━━━━━━━━━━━━━━━━━━━━━━━━━━━━━━━━┳━━━━━━━━━━━━━━━━━━━━━━━━┳━━━━━━━━━━━━━━━┓\n",
       "┃\u001b[1m \u001b[0m\u001b[1mLayer (type)                   \u001b[0m\u001b[1m \u001b[0m┃\u001b[1m \u001b[0m\u001b[1mOutput Shape          \u001b[0m\u001b[1m \u001b[0m┃\u001b[1m \u001b[0m\u001b[1m      Param #\u001b[0m\u001b[1m \u001b[0m┃\n",
       "┡━━━━━━━━━━━━━━━━━━━━━━━━━━━━━━━━━╇━━━━━━━━━━━━━━━━━━━━━━━━╇━━━━━━━━━━━━━━━┩\n",
       "│ lstm (\u001b[38;5;33mLSTM\u001b[0m)                     │ (\u001b[38;5;45mNone\u001b[0m, \u001b[38;5;34m10\u001b[0m, \u001b[38;5;34m32\u001b[0m)         │         \u001b[38;5;34m5,248\u001b[0m │\n",
       "├─────────────────────────────────┼────────────────────────┼───────────────┤\n",
       "│ dropout (\u001b[38;5;33mDropout\u001b[0m)               │ (\u001b[38;5;45mNone\u001b[0m, \u001b[38;5;34m10\u001b[0m, \u001b[38;5;34m32\u001b[0m)         │             \u001b[38;5;34m0\u001b[0m │\n",
       "├─────────────────────────────────┼────────────────────────┼───────────────┤\n",
       "│ lstm_1 (\u001b[38;5;33mLSTM\u001b[0m)                   │ (\u001b[38;5;45mNone\u001b[0m, \u001b[38;5;34m16\u001b[0m)             │         \u001b[38;5;34m3,136\u001b[0m │\n",
       "├─────────────────────────────────┼────────────────────────┼───────────────┤\n",
       "│ dense (\u001b[38;5;33mDense\u001b[0m)                   │ (\u001b[38;5;45mNone\u001b[0m, \u001b[38;5;34m1\u001b[0m)              │            \u001b[38;5;34m17\u001b[0m │\n",
       "└─────────────────────────────────┴────────────────────────┴───────────────┘\n"
      ]
     },
     "metadata": {},
     "output_type": "display_data"
    },
    {
     "data": {
      "text/html": [
       "<pre style=\"white-space:pre;overflow-x:auto;line-height:normal;font-family:Menlo,'DejaVu Sans Mono',consolas,'Courier New',monospace\"><span style=\"font-weight: bold\"> Total params: </span><span style=\"color: #00af00; text-decoration-color: #00af00\">8,401</span> (32.82 KB)\n",
       "</pre>\n"
      ],
      "text/plain": [
       "\u001b[1m Total params: \u001b[0m\u001b[38;5;34m8,401\u001b[0m (32.82 KB)\n"
      ]
     },
     "metadata": {},
     "output_type": "display_data"
    },
    {
     "data": {
      "text/html": [
       "<pre style=\"white-space:pre;overflow-x:auto;line-height:normal;font-family:Menlo,'DejaVu Sans Mono',consolas,'Courier New',monospace\"><span style=\"font-weight: bold\"> Trainable params: </span><span style=\"color: #00af00; text-decoration-color: #00af00\">8,401</span> (32.82 KB)\n",
       "</pre>\n"
      ],
      "text/plain": [
       "\u001b[1m Trainable params: \u001b[0m\u001b[38;5;34m8,401\u001b[0m (32.82 KB)\n"
      ]
     },
     "metadata": {},
     "output_type": "display_data"
    },
    {
     "data": {
      "text/html": [
       "<pre style=\"white-space:pre;overflow-x:auto;line-height:normal;font-family:Menlo,'DejaVu Sans Mono',consolas,'Courier New',monospace\"><span style=\"font-weight: bold\"> Non-trainable params: </span><span style=\"color: #00af00; text-decoration-color: #00af00\">0</span> (0.00 B)\n",
       "</pre>\n"
      ],
      "text/plain": [
       "\u001b[1m Non-trainable params: \u001b[0m\u001b[38;5;34m0\u001b[0m (0.00 B)\n"
      ]
     },
     "metadata": {},
     "output_type": "display_data"
    }
   ],
   "source": [
    "tf.random.set_seed(7)\n",
    "STCK_LSTM = Sequential()\n",
    "STCK_LSTM.add(Input(shape =(n_steps, n_features)))\n",
    "STCK_LSTM.add(LSTM(32,return_sequences=True))\n",
    "STCK_LSTM.add(Dropout(0.1)) #Prevent overfitting\n",
    "STCK_LSTM.add(LSTM(16, return_sequences=False))\n",
    "STCK_LSTM.add(Dense(n_outputs, activation ='linear')) \n",
    "\n",
    "STCK_LSTM.compile(optimizer=Adam(learning_rate = 0.001), loss='mse', metrics = [RootMeanSquaredError()])\n",
    "\n",
    "# Save the initial weights of the model right after it is defined and compiled\n",
    "initial_weights = STCK_LSTM.get_weights()\n",
    "\n",
    "STCK_LSTM.summary()\n",
    "\n"
   ]
  },
  {
   "cell_type": "markdown",
   "metadata": {},
   "source": [
    "## Early Stopping"
   ]
  },
  {
   "cell_type": "code",
   "execution_count": 13,
   "metadata": {},
   "outputs": [],
   "source": [
    "early_stopping = EarlyStopping(monitor='val_loss', patience=10, restore_best_weights=True)"
   ]
  },
  {
   "cell_type": "markdown",
   "metadata": {},
   "source": [
    "Early stopping is used here, which will give us an approximation of how many epochs we might want to use. By monitoring the validation loss, the model stops training when performance on validation data stops improving, which in turn preventing overfitting.  The approach not only decreases computation time due to unnecessary epochs but also helps fine-tune future runs by giving insight into how many epochs are typically enough without overfitting."
   ]
  },
  {
   "cell_type": "markdown",
   "metadata": {},
   "source": [
    "Note:\n",
    "- We have to specify to use CPU because there were issues setting up a virtual environment and so the keras metal was being preferred by model. \n",
    "- We use the last 10% of data for validation, which is the same procedure for our left out set"
   ]
  },
  {
   "cell_type": "code",
   "execution_count": 14,
   "metadata": {},
   "outputs": [
    {
     "name": "stdout",
     "output_type": "stream",
     "text": [
      "Epoch 1/150\n"
     ]
    },
    {
     "name": "stderr",
     "output_type": "stream",
     "text": [
      "2024-11-27 00:12:50.483253: I tensorflow/core/grappler/optimizers/custom_graph_optimizer_registry.cc:117] Plugin optimizer for device_type GPU is enabled.\n"
     ]
    },
    {
     "name": "stdout",
     "output_type": "stream",
     "text": [
      "\u001b[1m555/555\u001b[0m \u001b[32m━━━━━━━━━━━━━━━━━━━━\u001b[0m\u001b[37m\u001b[0m \u001b[1m5s\u001b[0m 7ms/step - loss: 0.0046 - root_mean_squared_error: 0.0675 - val_loss: 0.0053 - val_root_mean_squared_error: 0.0730\n",
      "Epoch 2/150\n",
      "\u001b[1m555/555\u001b[0m \u001b[32m━━━━━━━━━━━━━━━━━━━━\u001b[0m\u001b[37m\u001b[0m \u001b[1m4s\u001b[0m 7ms/step - loss: 0.0024 - root_mean_squared_error: 0.0490 - val_loss: 0.0030 - val_root_mean_squared_error: 0.0547\n",
      "Epoch 3/150\n",
      "\u001b[1m555/555\u001b[0m \u001b[32m━━━━━━━━━━━━━━━━━━━━\u001b[0m\u001b[37m\u001b[0m \u001b[1m4s\u001b[0m 7ms/step - loss: 0.0018 - root_mean_squared_error: 0.0421 - val_loss: 0.0022 - val_root_mean_squared_error: 0.0473\n",
      "Epoch 4/150\n",
      "\u001b[1m555/555\u001b[0m \u001b[32m━━━━━━━━━━━━━━━━━━━━\u001b[0m\u001b[37m\u001b[0m \u001b[1m4s\u001b[0m 7ms/step - loss: 0.0014 - root_mean_squared_error: 0.0373 - val_loss: 0.0015 - val_root_mean_squared_error: 0.0389\n",
      "Epoch 5/150\n",
      "\u001b[1m555/555\u001b[0m \u001b[32m━━━━━━━━━━━━━━━━━━━━\u001b[0m\u001b[37m\u001b[0m \u001b[1m4s\u001b[0m 7ms/step - loss: 0.0012 - root_mean_squared_error: 0.0340 - val_loss: 0.0012 - val_root_mean_squared_error: 0.0342\n",
      "Epoch 6/150\n",
      "\u001b[1m555/555\u001b[0m \u001b[32m━━━━━━━━━━━━━━━━━━━━\u001b[0m\u001b[37m\u001b[0m \u001b[1m4s\u001b[0m 7ms/step - loss: 0.0010 - root_mean_squared_error: 0.0322 - val_loss: 8.3589e-04 - val_root_mean_squared_error: 0.0289\n",
      "Epoch 7/150\n",
      "\u001b[1m555/555\u001b[0m \u001b[32m━━━━━━━━━━━━━━━━━━━━\u001b[0m\u001b[37m\u001b[0m \u001b[1m4s\u001b[0m 7ms/step - loss: 0.0010 - root_mean_squared_error: 0.0322 - val_loss: 8.4803e-04 - val_root_mean_squared_error: 0.0291\n",
      "Epoch 8/150\n",
      "\u001b[1m555/555\u001b[0m \u001b[32m━━━━━━━━━━━━━━━━━━━━\u001b[0m\u001b[37m\u001b[0m \u001b[1m4s\u001b[0m 7ms/step - loss: 0.0011 - root_mean_squared_error: 0.0322 - val_loss: 9.1719e-04 - val_root_mean_squared_error: 0.0303\n",
      "Epoch 9/150\n",
      "\u001b[1m555/555\u001b[0m \u001b[32m━━━━━━━━━━━━━━━━━━━━\u001b[0m\u001b[37m\u001b[0m \u001b[1m4s\u001b[0m 7ms/step - loss: 0.0010 - root_mean_squared_error: 0.0314 - val_loss: 8.7635e-04 - val_root_mean_squared_error: 0.0296\n",
      "Epoch 10/150\n",
      "\u001b[1m555/555\u001b[0m \u001b[32m━━━━━━━━━━━━━━━━━━━━\u001b[0m\u001b[37m\u001b[0m \u001b[1m4s\u001b[0m 7ms/step - loss: 0.0010 - root_mean_squared_error: 0.0318 - val_loss: 8.1290e-04 - val_root_mean_squared_error: 0.0285\n",
      "Epoch 11/150\n",
      "\u001b[1m555/555\u001b[0m \u001b[32m━━━━━━━━━━━━━━━━━━━━\u001b[0m\u001b[37m\u001b[0m \u001b[1m4s\u001b[0m 8ms/step - loss: 0.0010 - root_mean_squared_error: 0.0316 - val_loss: 7.9921e-04 - val_root_mean_squared_error: 0.0283\n",
      "Epoch 12/150\n",
      "\u001b[1m555/555\u001b[0m \u001b[32m━━━━━━━━━━━━━━━━━━━━\u001b[0m\u001b[37m\u001b[0m \u001b[1m4s\u001b[0m 7ms/step - loss: 9.7760e-04 - root_mean_squared_error: 0.0310 - val_loss: 8.4794e-04 - val_root_mean_squared_error: 0.0291\n",
      "Epoch 13/150\n",
      "\u001b[1m555/555\u001b[0m \u001b[32m━━━━━━━━━━━━━━━━━━━━\u001b[0m\u001b[37m\u001b[0m \u001b[1m4s\u001b[0m 7ms/step - loss: 9.6628e-04 - root_mean_squared_error: 0.0309 - val_loss: 7.7880e-04 - val_root_mean_squared_error: 0.0279\n",
      "Epoch 14/150\n",
      "\u001b[1m555/555\u001b[0m \u001b[32m━━━━━━━━━━━━━━━━━━━━\u001b[0m\u001b[37m\u001b[0m \u001b[1m4s\u001b[0m 7ms/step - loss: 9.6540e-04 - root_mean_squared_error: 0.0308 - val_loss: 8.1807e-04 - val_root_mean_squared_error: 0.0286\n",
      "Epoch 15/150\n",
      "\u001b[1m555/555\u001b[0m \u001b[32m━━━━━━━━━━━━━━━━━━━━\u001b[0m\u001b[37m\u001b[0m \u001b[1m4s\u001b[0m 7ms/step - loss: 9.6375e-04 - root_mean_squared_error: 0.0308 - val_loss: 7.5245e-04 - val_root_mean_squared_error: 0.0274\n",
      "Epoch 16/150\n",
      "\u001b[1m555/555\u001b[0m \u001b[32m━━━━━━━━━━━━━━━━━━━━\u001b[0m\u001b[37m\u001b[0m \u001b[1m4s\u001b[0m 7ms/step - loss: 9.3630e-04 - root_mean_squared_error: 0.0304 - val_loss: 7.2886e-04 - val_root_mean_squared_error: 0.0270\n",
      "Epoch 17/150\n",
      "\u001b[1m555/555\u001b[0m \u001b[32m━━━━━━━━━━━━━━━━━━━━\u001b[0m\u001b[37m\u001b[0m \u001b[1m4s\u001b[0m 7ms/step - loss: 9.3124e-04 - root_mean_squared_error: 0.0303 - val_loss: 7.4099e-04 - val_root_mean_squared_error: 0.0272\n",
      "Epoch 18/150\n",
      "\u001b[1m555/555\u001b[0m \u001b[32m━━━━━━━━━━━━━━━━━━━━\u001b[0m\u001b[37m\u001b[0m \u001b[1m4s\u001b[0m 7ms/step - loss: 9.3203e-04 - root_mean_squared_error: 0.0303 - val_loss: 7.4334e-04 - val_root_mean_squared_error: 0.0273\n",
      "Epoch 19/150\n",
      "\u001b[1m555/555\u001b[0m \u001b[32m━━━━━━━━━━━━━━━━━━━━\u001b[0m\u001b[37m\u001b[0m \u001b[1m4s\u001b[0m 7ms/step - loss: 8.8926e-04 - root_mean_squared_error: 0.0296 - val_loss: 7.3825e-04 - val_root_mean_squared_error: 0.0272\n",
      "Epoch 20/150\n",
      "\u001b[1m555/555\u001b[0m \u001b[32m━━━━━━━━━━━━━━━━━━━━\u001b[0m\u001b[37m\u001b[0m \u001b[1m4s\u001b[0m 8ms/step - loss: 8.9808e-04 - root_mean_squared_error: 0.0298 - val_loss: 7.3810e-04 - val_root_mean_squared_error: 0.0272\n",
      "Epoch 21/150\n",
      "\u001b[1m555/555\u001b[0m \u001b[32m━━━━━━━━━━━━━━━━━━━━\u001b[0m\u001b[37m\u001b[0m \u001b[1m4s\u001b[0m 7ms/step - loss: 8.9915e-04 - root_mean_squared_error: 0.0298 - val_loss: 7.7521e-04 - val_root_mean_squared_error: 0.0278\n",
      "Epoch 22/150\n",
      "\u001b[1m555/555\u001b[0m \u001b[32m━━━━━━━━━━━━━━━━━━━━\u001b[0m\u001b[37m\u001b[0m \u001b[1m4s\u001b[0m 7ms/step - loss: 8.8229e-04 - root_mean_squared_error: 0.0295 - val_loss: 7.7677e-04 - val_root_mean_squared_error: 0.0279\n",
      "Epoch 23/150\n",
      "\u001b[1m555/555\u001b[0m \u001b[32m━━━━━━━━━━━━━━━━━━━━\u001b[0m\u001b[37m\u001b[0m \u001b[1m4s\u001b[0m 7ms/step - loss: 8.8367e-04 - root_mean_squared_error: 0.0295 - val_loss: 7.6458e-04 - val_root_mean_squared_error: 0.0277\n",
      "Epoch 24/150\n",
      "\u001b[1m555/555\u001b[0m \u001b[32m━━━━━━━━━━━━━━━━━━━━\u001b[0m\u001b[37m\u001b[0m \u001b[1m4s\u001b[0m 7ms/step - loss: 8.7369e-04 - root_mean_squared_error: 0.0294 - val_loss: 7.7736e-04 - val_root_mean_squared_error: 0.0279\n",
      "Epoch 25/150\n",
      "\u001b[1m555/555\u001b[0m \u001b[32m━━━━━━━━━━━━━━━━━━━━\u001b[0m\u001b[37m\u001b[0m \u001b[1m4s\u001b[0m 7ms/step - loss: 8.7439e-04 - root_mean_squared_error: 0.0294 - val_loss: 7.7131e-04 - val_root_mean_squared_error: 0.0278\n",
      "Epoch 26/150\n",
      "\u001b[1m555/555\u001b[0m \u001b[32m━━━━━━━━━━━━━━━━━━━━\u001b[0m\u001b[37m\u001b[0m \u001b[1m4s\u001b[0m 7ms/step - loss: 8.5881e-04 - root_mean_squared_error: 0.0291 - val_loss: 7.9899e-04 - val_root_mean_squared_error: 0.0283\n"
     ]
    }
   ],
   "source": [
    "with tf.device('/CPU:0'):\n",
    "    history = STCK_LSTM.fit(X_train, y_train, epochs=150, validation_split=0.1,  callbacks=[early_stopping], batch_size=64,shuffle=False)"
   ]
  },
  {
   "cell_type": "markdown",
   "metadata": {},
   "source": [
    "After 33 passes (epoch) the model has learnt enough and further iterations  of the dataset would only add to overfitting "
   ]
  },
  {
   "cell_type": "code",
   "execution_count": 15,
   "metadata": {},
   "outputs": [
    {
     "data": {
      "image/png": "[encoded data removed]",
      "text/plain": [
       "<Figure size 1500x600 with 1 Axes>"
      ]
     },
     "metadata": {},
     "output_type": "display_data"
    }
   ],
   "source": [
    "#Plot training and validation mse loss over epochs\n",
    "plt.figure(figsize=(15,6))\n",
    "plt.plot(history.history['loss'], label='Training Loss')      \n",
    "plt.plot(history.history['val_loss'], label='Validation Loss')  \n",
    "\n",
    "plt.xlabel('Epoch')   \n",
    "plt.ylabel('Loss')      \n",
    "plt.legend()\n",
    "plt.title('Training and Validat ion Loss Over Epochs')\n",
    "plt.show()"
   ]
  },
  {
   "cell_type": "markdown",
   "metadata": {},
   "source": [
    "- The gradual decay in mle loss tells us we chose a good learning rate for Adam optimiser. \n",
    "- The validation loss is just a bit higher than the training loss at the start, which means the model is not overfitting.\n",
    "- The training mse loss decreases steadily which means the model is correctly learning patterns in the training data. \n",
    "- The validation mse performs similar, decreasing until about epoch 10, where the early stopping kicked in soon after. Convergence of the two suggests that the model fits well because the validation mse loss does not diverge much from the training loss. \n",
    "- Stability after 10 suggests continuing training would overfit the training data."
   ]
  },
  {
   "cell_type": "code",
   "execution_count": 16,
   "metadata": {},
   "outputs": [],
   "source": [
    "split= int(0.9*len(X_train))"
   ]
  },
  {
   "cell_type": "markdown",
   "metadata": {},
   "source": [
    "## Model epoch and rmse performance "
   ]
  },
  {
   "cell_type": "markdown",
   "metadata": {},
   "source": [
    "The model is trained incrementally, but it retains the weights from previous iterations. This means that the total effective training time for the model is the cumulative epoch count (eon)."
   ]
  },
  {
   "cell_type": "markdown",
   "metadata": {},
   "source": [
    "**WARNING** this takes approx 8 minutes to run."
   ]
  },
  {
   "cell_type": "code",
   "execution_count": 17,
   "metadata": {},
   "outputs": [
    {
     "name": "stdout",
     "output_type": "stream",
     "text": [
      "epoch : 0\n",
      "Epoch 1/5\n",
      "\u001b[1m555/555\u001b[0m \u001b[32m━━━━━━━━━━━━━━━━━━━━\u001b[0m\u001b[37m\u001b[0m \u001b[1m8s\u001b[0m 13ms/step - loss: 0.0033 - root_mean_squared_error: 0.0562 - val_loss: 9.6053e-04 - val_root_mean_squared_error: 0.0310\n",
      "Epoch 2/5\n",
      "\u001b[1m555/555\u001b[0m \u001b[32m━━━━━━━━━━━━━━━━━━━━\u001b[0m\u001b[37m\u001b[0m \u001b[1m7s\u001b[0m 13ms/step - loss: 0.0012 - root_mean_squared_error: 0.0346 - val_loss: 6.8854e-04 - val_root_mean_squared_error: 0.0262\n",
      "Epoch 3/5\n",
      "\u001b[1m555/555\u001b[0m \u001b[32m━━━━━━━━━━━━━━━━━━━━\u001b[0m\u001b[37m\u001b[0m \u001b[1m7s\u001b[0m 13ms/step - loss: 9.2836e-04 - root_mean_squared_error: 0.0304 - val_loss: 6.3296e-04 - val_root_mean_squared_error: 0.0252\n",
      "Epoch 4/5\n",
      "\u001b[1m555/555\u001b[0m \u001b[32m━━━━━━━━━━━━━━━━━━━━\u001b[0m\u001b[37m\u001b[0m \u001b[1m7s\u001b[0m 13ms/step - loss: 8.9786e-04 - root_mean_squared_error: 0.0299 - val_loss: 6.2658e-04 - val_root_mean_squared_error: 0.0250\n",
      "Epoch 5/5\n",
      "\u001b[1m555/555\u001b[0m \u001b[32m━━━━━━━━━━━━━━━━━━━━\u001b[0m\u001b[37m\u001b[0m \u001b[1m7s\u001b[0m 12ms/step - loss: 8.4701e-04 - root_mean_squared_error: 0.0291 - val_loss: 6.2583e-04 - val_root_mean_squared_error: 0.0250\n",
      "\u001b[1m1109/1109\u001b[0m \u001b[32m━━━━━━━━━━━━━━━━━━━━\u001b[0m\u001b[37m\u001b[0m \u001b[1m4s\u001b[0m 3ms/step - loss: 9.2569e-04 - root_mean_squared_error: 0.0301\n",
      "\u001b[1m124/124\u001b[0m \u001b[32m━━━━━━━━━━━━━━━━━━━━\u001b[0m\u001b[37m\u001b[0m \u001b[1m1s\u001b[0m 5ms/step - loss: 7.8237e-04 - root_mean_squared_error: 0.0279\n",
      "epoch : 5\n",
      "Epoch 1/5\n",
      "\u001b[1m555/555\u001b[0m \u001b[32m━━━━━━━━━━━━━━━━━━━━\u001b[0m\u001b[37m\u001b[0m \u001b[1m7s\u001b[0m 12ms/step - loss: 8.4199e-04 - root_mean_squared_error: 0.0290 - val_loss: 6.5594e-04 - val_root_mean_squared_error: 0.0256\n",
      "Epoch 2/5\n",
      "\u001b[1m555/555\u001b[0m \u001b[32m━━━━━━━━━━━━━━━━━━━━\u001b[0m\u001b[37m\u001b[0m \u001b[1m7s\u001b[0m 13ms/step - loss: 8.2663e-04 - root_mean_squared_error: 0.0287 - val_loss: 6.3839e-04 - val_root_mean_squared_error: 0.0253\n",
      "Epoch 3/5\n",
      "\u001b[1m555/555\u001b[0m \u001b[32m━━━━━━━━━━━━━━━━━━━━\u001b[0m\u001b[37m\u001b[0m \u001b[1m7s\u001b[0m 12ms/step - loss: 8.1194e-04 - root_mean_squared_error: 0.0285 - val_loss: 6.8982e-04 - val_root_mean_squared_error: 0.0263\n",
      "Epoch 4/5\n",
      "\u001b[1m555/555\u001b[0m \u001b[32m━━━━━━━━━━━━━━━━━━━━\u001b[0m\u001b[37m\u001b[0m \u001b[1m7s\u001b[0m 13ms/step - loss: 7.9152e-04 - root_mean_squared_error: 0.0281 - val_loss: 6.8872e-04 - val_root_mean_squared_error: 0.0262\n",
      "Epoch 5/5\n",
      "\u001b[1m555/555\u001b[0m \u001b[32m━━━━━━━━━━━━━━━━━━━━\u001b[0m\u001b[37m\u001b[0m \u001b[1m7s\u001b[0m 13ms/step - loss: 7.9751e-04 - root_mean_squared_error: 0.0282 - val_loss: 6.8797e-04 - val_root_mean_squared_error: 0.0262\n",
      "\u001b[1m1109/1109\u001b[0m \u001b[32m━━━━━━━━━━━━━━━━━━━━\u001b[0m\u001b[37m\u001b[0m \u001b[1m4s\u001b[0m 3ms/step - loss: 9.4872e-04 - root_mean_squared_error: 0.0306\n",
      "\u001b[1m124/124\u001b[0m \u001b[32m━━━━━━━━━━━━━━━━━━━━\u001b[0m\u001b[37m\u001b[0m \u001b[1m0s\u001b[0m 3ms/step - loss: 8.4326e-04 - root_mean_squared_error: 0.0290\n",
      "epoch : 10\n",
      "Epoch 1/5\n",
      "\u001b[1m555/555\u001b[0m \u001b[32m━━━━━━━━━━━━━━━━━━━━\u001b[0m\u001b[37m\u001b[0m \u001b[1m7s\u001b[0m 12ms/step - loss: 8.0183e-04 - root_mean_squared_error: 0.0283 - val_loss: 6.7014e-04 - val_root_mean_squared_error: 0.0259\n",
      "Epoch 2/5\n",
      "\u001b[1m555/555\u001b[0m \u001b[32m━━━━━━━━━━━━━━━━━━━━\u001b[0m\u001b[37m\u001b[0m \u001b[1m7s\u001b[0m 13ms/step - loss: 7.6569e-04 - root_mean_squared_error: 0.0276 - val_loss: 7.0000e-04 - val_root_mean_squared_error: 0.0265\n",
      "Epoch 3/5\n",
      "\u001b[1m555/555\u001b[0m \u001b[32m━━━━━━━━━━━━━━━━━━━━\u001b[0m\u001b[37m\u001b[0m \u001b[1m7s\u001b[0m 13ms/step - loss: 7.7840e-04 - root_mean_squared_error: 0.0279 - val_loss: 6.7714e-04 - val_root_mean_squared_error: 0.0260\n",
      "Epoch 4/5\n",
      "\u001b[1m555/555\u001b[0m \u001b[32m━━━━━━━━━━━━━━━━━━━━\u001b[0m\u001b[37m\u001b[0m \u001b[1m7s\u001b[0m 12ms/step - loss: 7.7383e-04 - root_mean_squared_error: 0.0278 - val_loss: 6.6930e-04 - val_root_mean_squared_error: 0.0259\n",
      "Epoch 5/5\n",
      "\u001b[1m555/555\u001b[0m \u001b[32m━━━━━━━━━━━━━━━━━━━━\u001b[0m\u001b[37m\u001b[0m \u001b[1m7s\u001b[0m 13ms/step - loss: 7.7446e-04 - root_mean_squared_error: 0.0278 - val_loss: 6.9204e-04 - val_root_mean_squared_error: 0.0263\n",
      "\u001b[1m1109/1109\u001b[0m \u001b[32m━━━━━━━━━━━━━━━━━━━━\u001b[0m\u001b[37m\u001b[0m \u001b[1m4s\u001b[0m 3ms/step - loss: 9.2554e-04 - root_mean_squared_error: 0.0302\n",
      "\u001b[1m124/124\u001b[0m \u001b[32m━━━━━━━━━━━━━━━━━━━━\u001b[0m\u001b[37m\u001b[0m \u001b[1m0s\u001b[0m 3ms/step - loss: 8.4320e-04 - root_mean_squared_error: 0.0290\n",
      "epoch : 15\n",
      "Epoch 1/5\n",
      "\u001b[1m555/555\u001b[0m \u001b[32m━━━━━━━━━━━━━━━━━━━━\u001b[0m\u001b[37m\u001b[0m \u001b[1m7s\u001b[0m 13ms/step - loss: 7.6237e-04 - root_mean_squared_error: 0.0276 - val_loss: 6.9003e-04 - val_root_mean_squared_error: 0.0263\n",
      "Epoch 2/5\n",
      "\u001b[1m555/555\u001b[0m \u001b[32m━━━━━━━━━━━━━━━━━━━━\u001b[0m\u001b[37m\u001b[0m \u001b[1m7s\u001b[0m 13ms/step - loss: 7.7113e-04 - root_mean_squared_error: 0.0277 - val_loss: 6.5870e-04 - val_root_mean_squared_error: 0.0257\n",
      "Epoch 3/5\n",
      "\u001b[1m555/555\u001b[0m \u001b[32m━━━━━━━━━━━━━━━━━━━━\u001b[0m\u001b[37m\u001b[0m \u001b[1m7s\u001b[0m 13ms/step - loss: 7.5271e-04 - root_mean_squared_error: 0.0274 - val_loss: 6.7661e-04 - val_root_mean_squared_error: 0.0260\n",
      "Epoch 4/5\n",
      "\u001b[1m555/555\u001b[0m \u001b[32m━━━━━━━━━━━━━━━━━━━━\u001b[0m\u001b[37m\u001b[0m \u001b[1m7s\u001b[0m 13ms/step - loss: 7.4578e-04 - root_mean_squared_error: 0.0273 - val_loss: 6.5227e-04 - val_root_mean_squared_error: 0.0255\n",
      "Epoch 5/5\n",
      "\u001b[1m555/555\u001b[0m \u001b[32m━━━━━━━━━━━━━━━━━━━━\u001b[0m\u001b[37m\u001b[0m \u001b[1m7s\u001b[0m 13ms/step - loss: 7.5219e-04 - root_mean_squared_error: 0.0274 - val_loss: 6.6185e-04 - val_root_mean_squared_error: 0.0257\n",
      "\u001b[1m1109/1109\u001b[0m \u001b[32m━━━━━━━━━━━━━━━━━━━━\u001b[0m\u001b[37m\u001b[0m \u001b[1m3s\u001b[0m 3ms/step - loss: 8.7359e-04 - root_mean_squared_error: 0.0294\n",
      "\u001b[1m124/124\u001b[0m \u001b[32m━━━━━━━━━━━━━━━━━━━━\u001b[0m\u001b[37m\u001b[0m \u001b[1m0s\u001b[0m 3ms/step - loss: 8.0747e-04 - root_mean_squared_error: 0.0284\n",
      "epoch : 20\n",
      "Epoch 1/5\n",
      "\u001b[1m555/555\u001b[0m \u001b[32m━━━━━━━━━━━━━━━━━━━━\u001b[0m\u001b[37m\u001b[0m \u001b[1m7s\u001b[0m 13ms/step - loss: 7.5786e-04 - root_mean_squared_error: 0.0275 - val_loss: 6.6141e-04 - val_root_mean_squared_error: 0.0257\n",
      "Epoch 2/5\n",
      "\u001b[1m555/555\u001b[0m \u001b[32m━━━━━━━━━━━━━━━━━━━━\u001b[0m\u001b[37m\u001b[0m \u001b[1m7s\u001b[0m 13ms/step - loss: 7.3693e-04 - root_mean_squared_error: 0.0271 - val_loss: 6.3652e-04 - val_root_mean_squared_error: 0.0252\n",
      "Epoch 3/5\n",
      "\u001b[1m555/555\u001b[0m \u001b[32m━━━━━━━━━━━━━━━━━━━━\u001b[0m\u001b[37m\u001b[0m \u001b[1m7s\u001b[0m 13ms/step - loss: 7.2722e-04 - root_mean_squared_error: 0.0269 - val_loss: 6.4703e-04 - val_root_mean_squared_error: 0.0254\n",
      "Epoch 4/5\n",
      "\u001b[1m555/555\u001b[0m \u001b[32m━━━━━━━━━━━━━━━━━━━━\u001b[0m\u001b[37m\u001b[0m \u001b[1m7s\u001b[0m 13ms/step - loss: 7.2864e-04 - root_mean_squared_error: 0.0270 - val_loss: 6.4854e-04 - val_root_mean_squared_error: 0.0255\n",
      "Epoch 5/5\n",
      "\u001b[1m555/555\u001b[0m \u001b[32m━━━━━━━━━━━━━━━━━━━━\u001b[0m\u001b[37m\u001b[0m \u001b[1m7s\u001b[0m 13ms/step - loss: 7.2385e-04 - root_mean_squared_error: 0.0269 - val_loss: 6.5798e-04 - val_root_mean_squared_error: 0.0257\n",
      "\u001b[1m1109/1109\u001b[0m \u001b[32m━━━━━━━━━━━━━━━━━━━━\u001b[0m\u001b[37m\u001b[0m \u001b[1m4s\u001b[0m 3ms/step - loss: 8.4291e-04 - root_mean_squared_error: 0.0289\n",
      "\u001b[1m124/124\u001b[0m \u001b[32m━━━━━━━━━━━━━━━━━━━━\u001b[0m\u001b[37m\u001b[0m \u001b[1m0s\u001b[0m 3ms/step - loss: 8.0157e-04 - root_mean_squared_error: 0.0282\n",
      "epoch : 25\n",
      "Epoch 1/5\n",
      "\u001b[1m555/555\u001b[0m \u001b[32m━━━━━━━━━━━━━━━━━━━━\u001b[0m\u001b[37m\u001b[0m \u001b[1m7s\u001b[0m 12ms/step - loss: 7.2008e-04 - root_mean_squared_error: 0.0268 - val_loss: 6.4454e-04 - val_root_mean_squared_error: 0.0254\n",
      "Epoch 2/5\n",
      "\u001b[1m555/555\u001b[0m \u001b[32m━━━━━━━━━━━━━━━━━━━━\u001b[0m\u001b[37m\u001b[0m \u001b[1m7s\u001b[0m 12ms/step - loss: 7.1629e-04 - root_mean_squared_error: 0.0267 - val_loss: 6.3497e-04 - val_root_mean_squared_error: 0.0252\n",
      "Epoch 3/5\n",
      "\u001b[1m555/555\u001b[0m \u001b[32m━━━━━━━━━━━━━━━━━━━━\u001b[0m\u001b[37m\u001b[0m \u001b[1m7s\u001b[0m 13ms/step - loss: 7.1662e-04 - root_mean_squared_error: 0.0267 - val_loss: 6.2760e-04 - val_root_mean_squared_error: 0.0251\n",
      "Epoch 4/5\n",
      "\u001b[1m555/555\u001b[0m \u001b[32m━━━━━━━━━━━━━━━━━━━━\u001b[0m\u001b[37m\u001b[0m \u001b[1m7s\u001b[0m 13ms/step - loss: 7.1039e-04 - root_mean_squared_error: 0.0266 - val_loss: 6.3088e-04 - val_root_mean_squared_error: 0.0251\n",
      "Epoch 5/5\n",
      "\u001b[1m555/555\u001b[0m \u001b[32m━━━━━━━━━━━━━━━━━━━━\u001b[0m\u001b[37m\u001b[0m \u001b[1m7s\u001b[0m 13ms/step - loss: 7.0128e-04 - root_mean_squared_error: 0.0265 - val_loss: 6.1446e-04 - val_root_mean_squared_error: 0.0248\n",
      "\u001b[1m1109/1109\u001b[0m \u001b[32m━━━━━━━━━━━━━━━━━━━━\u001b[0m\u001b[37m\u001b[0m \u001b[1m4s\u001b[0m 3ms/step - loss: 7.8142e-04 - root_mean_squared_error: 0.0278\n",
      "\u001b[1m124/124\u001b[0m \u001b[32m━━━━━━━━━━━━━━━━━━━━\u001b[0m\u001b[37m\u001b[0m \u001b[1m0s\u001b[0m 3ms/step - loss: 7.5691e-04 - root_mean_squared_error: 0.0274\n",
      "epoch : 30\n",
      "Epoch 1/5\n",
      "\u001b[1m555/555\u001b[0m \u001b[32m━━━━━━━━━━━━━━━━━━━━\u001b[0m\u001b[37m\u001b[0m \u001b[1m7s\u001b[0m 13ms/step - loss: 7.0271e-04 - root_mean_squared_error: 0.0265 - val_loss: 6.1106e-04 - val_root_mean_squared_error: 0.0247\n",
      "Epoch 2/5\n",
      "\u001b[1m555/555\u001b[0m \u001b[32m━━━━━━━━━━━━━━━━━━━━\u001b[0m\u001b[37m\u001b[0m \u001b[1m7s\u001b[0m 13ms/step - loss: 6.9747e-04 - root_mean_squared_error: 0.0264 - val_loss: 6.2458e-04 - val_root_mean_squared_error: 0.0250\n",
      "Epoch 3/5\n",
      "\u001b[1m555/555\u001b[0m \u001b[32m━━━━━━━━━━━━━━━━━━━━\u001b[0m\u001b[37m\u001b[0m \u001b[1m7s\u001b[0m 13ms/step - loss: 6.9622e-04 - root_mean_squared_error: 0.0264 - val_loss: 6.0624e-04 - val_root_mean_squared_error: 0.0246\n",
      "Epoch 4/5\n",
      "\u001b[1m555/555\u001b[0m \u001b[32m━━━━━━━━━━━━━━━━━━━━\u001b[0m\u001b[37m\u001b[0m \u001b[1m7s\u001b[0m 12ms/step - loss: 6.8739e-04 - root_mean_squared_error: 0.0262 - val_loss: 6.0212e-04 - val_root_mean_squared_error: 0.0245\n",
      "Epoch 5/5\n",
      "\u001b[1m555/555\u001b[0m \u001b[32m━━━━━━━━━━━━━━━━━━━━\u001b[0m\u001b[37m\u001b[0m \u001b[1m7s\u001b[0m 13ms/step - loss: 6.8088e-04 - root_mean_squared_error: 0.0261 - val_loss: 6.0938e-04 - val_root_mean_squared_error: 0.0247\n",
      "\u001b[1m1109/1109\u001b[0m \u001b[32m━━━━━━━━━━━━━━━━━━━━\u001b[0m\u001b[37m\u001b[0m \u001b[1m4s\u001b[0m 3ms/step - loss: 7.6558e-04 - root_mean_squared_error: 0.0276\n",
      "\u001b[1m124/124\u001b[0m \u001b[32m━━━━━━━━━━━━━━━━━━━━\u001b[0m\u001b[37m\u001b[0m \u001b[1m0s\u001b[0m 3ms/step - loss: 7.5324e-04 - root_mean_squared_error: 0.0274\n",
      "epoch : 35\n",
      "Epoch 1/5\n",
      "\u001b[1m555/555\u001b[0m \u001b[32m━━━━━━━━━━━━━━━━━━━━\u001b[0m\u001b[37m\u001b[0m \u001b[1m7s\u001b[0m 13ms/step - loss: 6.7410e-04 - root_mean_squared_error: 0.0259 - val_loss: 5.9453e-04 - val_root_mean_squared_error: 0.0244\n",
      "Epoch 2/5\n",
      "\u001b[1m555/555\u001b[0m \u001b[32m━━━━━━━━━━━━━━━━━━━━\u001b[0m\u001b[37m\u001b[0m \u001b[1m7s\u001b[0m 13ms/step - loss: 6.7573e-04 - root_mean_squared_error: 0.0260 - val_loss: 6.0308e-04 - val_root_mean_squared_error: 0.0246\n",
      "Epoch 3/5\n",
      "\u001b[1m555/555\u001b[0m \u001b[32m━━━━━━━━━━━━━━━━━━━━\u001b[0m\u001b[37m\u001b[0m \u001b[1m7s\u001b[0m 13ms/step - loss: 6.6750e-04 - root_mean_squared_error: 0.0258 - val_loss: 5.9706e-04 - val_root_mean_squared_error: 0.0244\n",
      "Epoch 4/5\n",
      "\u001b[1m555/555\u001b[0m \u001b[32m━━━━━━━━━━━━━━━━━━━━\u001b[0m\u001b[37m\u001b[0m \u001b[1m7s\u001b[0m 13ms/step - loss: 6.6717e-04 - root_mean_squared_error: 0.0258 - val_loss: 5.8204e-04 - val_root_mean_squared_error: 0.0241\n",
      "Epoch 5/5\n",
      "\u001b[1m555/555\u001b[0m \u001b[32m━━━━━━━━━━━━━━━━━━━━\u001b[0m\u001b[37m\u001b[0m \u001b[1m7s\u001b[0m 13ms/step - loss: 6.6498e-04 - root_mean_squared_error: 0.0258 - val_loss: 5.8765e-04 - val_root_mean_squared_error: 0.0242\n",
      "\u001b[1m1109/1109\u001b[0m \u001b[32m━━━━━━━━━━━━━━━━━━━━\u001b[0m\u001b[37m\u001b[0m \u001b[1m4s\u001b[0m 3ms/step - loss: 7.3976e-04 - root_mean_squared_error: 0.0271\n",
      "\u001b[1m124/124\u001b[0m \u001b[32m━━━━━━━━━━━━━━━━━━━━\u001b[0m\u001b[37m\u001b[0m \u001b[1m1s\u001b[0m 4ms/step - loss: 7.3340e-04 - root_mean_squared_error: 0.0270\n",
      "epoch : 40\n",
      "Epoch 1/5\n",
      "\u001b[1m555/555\u001b[0m \u001b[32m━━━━━━━━━━━━━━━━━━━━\u001b[0m\u001b[37m\u001b[0m \u001b[1m7s\u001b[0m 13ms/step - loss: 6.6842e-04 - root_mean_squared_error: 0.0258 - val_loss: 5.8741e-04 - val_root_mean_squared_error: 0.0242\n",
      "Epoch 2/5\n",
      "\u001b[1m555/555\u001b[0m \u001b[32m━━━━━━━━━━━━━━━━━━━━\u001b[0m\u001b[37m\u001b[0m \u001b[1m7s\u001b[0m 12ms/step - loss: 6.6099e-04 - root_mean_squared_error: 0.0257 - val_loss: 5.8911e-04 - val_root_mean_squared_error: 0.0243\n",
      "Epoch 3/5\n",
      "\u001b[1m555/555\u001b[0m \u001b[32m━━━━━━━━━━━━━━━━━━━━\u001b[0m\u001b[37m\u001b[0m \u001b[1m7s\u001b[0m 12ms/step - loss: 6.6046e-04 - root_mean_squared_error: 0.0257 - val_loss: 5.8913e-04 - val_root_mean_squared_error: 0.0243\n",
      "Epoch 4/5\n",
      "\u001b[1m555/555\u001b[0m \u001b[32m━━━━━━━━━━━━━━━━━━━━\u001b[0m\u001b[37m\u001b[0m \u001b[1m7s\u001b[0m 13ms/step - loss: 6.5961e-04 - root_mean_squared_error: 0.0257 - val_loss: 5.7994e-04 - val_root_mean_squared_error: 0.0241\n",
      "Epoch 5/5\n",
      "\u001b[1m555/555\u001b[0m \u001b[32m━━━━━━━━━━━━━━━━━━━━\u001b[0m\u001b[37m\u001b[0m \u001b[1m7s\u001b[0m 13ms/step - loss: 6.6105e-04 - root_mean_squared_error: 0.0257 - val_loss: 5.6892e-04 - val_root_mean_squared_error: 0.0239\n",
      "\u001b[1m1109/1109\u001b[0m \u001b[32m━━━━━━━━━━━━━━━━━━━━\u001b[0m\u001b[37m\u001b[0m \u001b[1m4s\u001b[0m 3ms/step - loss: 7.2152e-04 - root_mean_squared_error: 0.0268\n",
      "\u001b[1m124/124\u001b[0m \u001b[32m━━━━━━━━━━━━━━━━━━━━\u001b[0m\u001b[37m\u001b[0m \u001b[1m0s\u001b[0m 3ms/step - loss: 7.1367e-04 - root_mean_squared_error: 0.0267\n",
      "epoch : 45\n",
      "Epoch 1/5\n",
      "\u001b[1m555/555\u001b[0m \u001b[32m━━━━━━━━━━━━━━━━━━━━\u001b[0m\u001b[37m\u001b[0m \u001b[1m7s\u001b[0m 13ms/step - loss: 6.5242e-04 - root_mean_squared_error: 0.0255 - val_loss: 5.7628e-04 - val_root_mean_squared_error: 0.0240\n",
      "Epoch 2/5\n",
      "\u001b[1m555/555\u001b[0m \u001b[32m━━━━━━━━━━━━━━━━━━━━\u001b[0m\u001b[37m\u001b[0m \u001b[1m7s\u001b[0m 13ms/step - loss: 6.5681e-04 - root_mean_squared_error: 0.0256 - val_loss: 5.8210e-04 - val_root_mean_squared_error: 0.0241\n",
      "Epoch 3/5\n",
      "\u001b[1m555/555\u001b[0m \u001b[32m━━━━━━━━━━━━━━━━━━━━\u001b[0m\u001b[37m\u001b[0m \u001b[1m7s\u001b[0m 13ms/step - loss: 6.4927e-04 - root_mean_squared_error: 0.0255 - val_loss: 5.7705e-04 - val_root_mean_squared_error: 0.0240\n",
      "Epoch 4/5\n",
      "\u001b[1m555/555\u001b[0m \u001b[32m━━━━━━━━━━━━━━━━━━━━\u001b[0m\u001b[37m\u001b[0m \u001b[1m7s\u001b[0m 13ms/step - loss: 6.4716e-04 - root_mean_squared_error: 0.0254 - val_loss: 5.7511e-04 - val_root_mean_squared_error: 0.0240\n",
      "Epoch 5/5\n",
      "\u001b[1m555/555\u001b[0m \u001b[32m━━━━━━━━━━━━━━━━━━━━\u001b[0m\u001b[37m\u001b[0m \u001b[1m7s\u001b[0m 13ms/step - loss: 6.4486e-04 - root_mean_squared_error: 0.0254 - val_loss: 5.8365e-04 - val_root_mean_squared_error: 0.0242\n",
      "\u001b[1m1109/1109\u001b[0m \u001b[32m━━━━━━━━━━━━━━━━━━━━\u001b[0m\u001b[37m\u001b[0m \u001b[1m4s\u001b[0m 3ms/step - loss: 7.2702e-04 - root_mean_squared_error: 0.0269\n",
      "\u001b[1m124/124\u001b[0m \u001b[32m━━━━━━━━━━━━━━━━━━━━\u001b[0m\u001b[37m\u001b[0m \u001b[1m0s\u001b[0m 3ms/step - loss: 7.3053e-04 - root_mean_squared_error: 0.0270\n"
     ]
    }
   ],
   "source": [
    "#Reset weights to initial weights before starting new training \n",
    "STCK_LSTM.set_weights(initial_weights)\n",
    "\n",
    "epochs=[]\n",
    "train_rmse=[]\n",
    "val_rmse=[]\n",
    "delta_epochs=5\n",
    "eon=0\n",
    "for i in range(0,10) : \n",
    "        print(\"epoch : \" + str(eon))\n",
    "        STCK_LSTM.fit(X_train, y_train, epochs=delta_epochs, batch_size=64,validation_split=0.1)\n",
    "        train_scores = STCK_LSTM.evaluate(X_train[:split], y_train[:split])   \n",
    "        val_scores = STCK_LSTM.evaluate(X_train[split:], y_train[split:])\n",
    "        eon+=delta_epochs\n",
    "        epochs.append(eon)\n",
    "        train_rmse.append(train_scores[1]) #rmse\n",
    "        val_rmse.append(val_scores[1])"
   ]
  },
  {
   "cell_type": "code",
   "execution_count": 18,
   "metadata": {},
   "outputs": [
    {
     "data": {
      "image/png": "[encoded data removed]",
      "text/plain": [
       "<Figure size 640x480 with 1 Axes>"
      ]
     },
     "metadata": {},
     "output_type": "display_data"
    }
   ],
   "source": [
    "results=[epochs,train_rmse,val_rmse]\n",
    "plt.plot(epochs,train_rmse,label='training rmse')\n",
    "plt.plot(epochs,val_rmse,label='validation rmse')\n",
    "plt.xlabel('Epoch') \n",
    "plt.ylabel('rmse') \n",
    "plt.legend()\n",
    "plt.show()"
   ]
  },
  {
   "cell_type": "markdown",
   "metadata": {},
   "source": [
    "In comparing the train and validation rmse over epochs, we observe both decrease steadily after 15 epochs suggesting the model is able to learn and fit better as training continues. We have to find a balance between learning the patterns well enough and not overfitting, it seems the training section rmse declines more rapidly after 25 epochs while the validation data is a more stable decline which tells us the model learns enough earlier on and shouldn't continue training if we want to avoid overfitting. \n",
    "\n",
    "Interestingly, the consistently lower validation rmse suggests that the model's predictions on the validation set are slightly more stable than its performance on the training set. This could be because the model struggles with handling relatively larger amounts of data, potentially. To test this hypothesis, we will experiment with randomly dropping out sections of time in our series. Since time series data are not exchangeable, meaning future patterns do not necessarily resemble the past, removing portions of the sequence should not significantly effect performance, but should tell us if less data generally means better performance for LSTM."
   ]
  },
  {
   "cell_type": "code",
   "execution_count": 19,
   "metadata": {},
   "outputs": [
    {
     "data": {
      "text/plain": [
       "((31847, 10, 8), (31847, 1))"
      ]
     },
     "execution_count": 19,
     "metadata": {},
     "output_type": "execute_result"
    }
   ],
   "source": [
    "\n",
    "chunk = 168  #Length of each time chunk to remove\n",
    "n_sections =  50      #Number of chunks to remove\n",
    "\n",
    "n_sequences = len(X_train)\n",
    "\n",
    "#Randomly select data points the chunk of time is from \n",
    "start_chunk = np.random.choice(range(n_sequences - chunk), size=n_sections, replace=False)\n",
    "\n",
    "removed_data = []\n",
    "for i in start_chunk:\n",
    "    removed_data.extend(range(i, i + chunk))\n",
    "\n",
    "removed_data = np.array(removed_data)  #We need sequences as array\n",
    "\n",
    "X_train_copy = X_train.copy() #We don't want to change X_train directly\n",
    "y_train_copy = y_train.copy()\n",
    "\n",
    "#Create new training set by excluding the randomly chosen time chunks\n",
    "X_train_reduced = np.delete(X_train_copy, removed_data, axis=0)\n",
    "y_train_reduced = np.delete(y_train_copy, removed_data, axis=0)\n",
    "\n",
    "X_train_reduced.shape, y_train_reduced.shape\n"
   ]
  },
  {
   "cell_type": "code",
   "execution_count": 20,
   "metadata": {},
   "outputs": [],
   "source": [
    "split= int(0.9*len(X_train_reduced))"
   ]
  },
  {
   "cell_type": "markdown",
   "metadata": {},
   "source": [
    "**WARNING** this takes approx 7 minutes to run."
   ]
  },
  {
   "cell_type": "code",
   "execution_count": 21,
   "metadata": {},
   "outputs": [
    {
     "name": "stdout",
     "output_type": "stream",
     "text": [
      "epoch : 0\n",
      "Epoch 1/5\n",
      "\u001b[1m448/448\u001b[0m \u001b[32m━━━━━━━━━━━━━━━━━━━━\u001b[0m\u001b[37m\u001b[0m \u001b[1m6s\u001b[0m 13ms/step - loss: 0.0034 - root_mean_squared_error: 0.0566 - val_loss: 9.9381e-04 - val_root_mean_squared_error: 0.0315\n",
      "Epoch 2/5\n",
      "\u001b[1m448/448\u001b[0m \u001b[32m━━━━━━━━━━━━━━━━━━━━\u001b[0m\u001b[37m\u001b[0m \u001b[1m6s\u001b[0m 12ms/step - loss: 0.0012 - root_mean_squared_error: 0.0345 - val_loss: 6.7044e-04 - val_root_mean_squared_error: 0.0259\n",
      "Epoch 3/5\n",
      "\u001b[1m448/448\u001b[0m \u001b[32m━━━━━━━━━━━━━━━━━━━━\u001b[0m\u001b[37m\u001b[0m \u001b[1m6s\u001b[0m 13ms/step - loss: 9.1391e-04 - root_mean_squared_error: 0.0302 - val_loss: 6.8749e-04 - val_root_mean_squared_error: 0.0262\n",
      "Epoch 4/5\n",
      "\u001b[1m448/448\u001b[0m \u001b[32m━━━━━━━━━━━━━━━━━━━━\u001b[0m\u001b[37m\u001b[0m \u001b[1m5s\u001b[0m 12ms/step - loss: 8.6483e-04 - root_mean_squared_error: 0.0294 - val_loss: 6.1733e-04 - val_root_mean_squared_error: 0.0248\n",
      "Epoch 5/5\n",
      "\u001b[1m448/448\u001b[0m \u001b[32m━━━━━━━━━━━━━━━━━━━━\u001b[0m\u001b[37m\u001b[0m \u001b[1m6s\u001b[0m 13ms/step - loss: 8.2076e-04 - root_mean_squared_error: 0.0286 - val_loss: 6.1813e-04 - val_root_mean_squared_error: 0.0249\n",
      "\u001b[1m896/896\u001b[0m \u001b[32m━━━━━━━━━━━━━━━━━━━━\u001b[0m\u001b[37m\u001b[0m \u001b[1m3s\u001b[0m 3ms/step - loss: 7.4400e-04 - root_mean_squared_error: 0.0271\n",
      "\u001b[1m100/100\u001b[0m \u001b[32m━━━━━━━━━━━━━━━━━━━━\u001b[0m\u001b[37m\u001b[0m \u001b[1m0s\u001b[0m 3ms/step - loss: 9.2997e-04 - root_mean_squared_error: 0.0300\n",
      "epoch : 5\n",
      "Epoch 1/5\n",
      "\u001b[1m448/448\u001b[0m \u001b[32m━━━━━━━━━━━━━━━━━━━━\u001b[0m\u001b[37m\u001b[0m \u001b[1m6s\u001b[0m 13ms/step - loss: 8.0828e-04 - root_mean_squared_error: 0.0284 - val_loss: 5.9641e-04 - val_root_mean_squared_error: 0.0244\n",
      "Epoch 2/5\n",
      "\u001b[1m448/448\u001b[0m \u001b[32m━━━━━━━━━━━━━━━━━━━━\u001b[0m\u001b[37m\u001b[0m \u001b[1m6s\u001b[0m 13ms/step - loss: 7.9652e-04 - root_mean_squared_error: 0.0282 - val_loss: 5.8516e-04 - val_root_mean_squared_error: 0.0242\n",
      "Epoch 3/5\n",
      "\u001b[1m448/448\u001b[0m \u001b[32m━━━━━━━━━━━━━━━━━━━━\u001b[0m\u001b[37m\u001b[0m \u001b[1m6s\u001b[0m 12ms/step - loss: 7.8500e-04 - root_mean_squared_error: 0.0280 - val_loss: 5.9219e-04 - val_root_mean_squared_error: 0.0243\n",
      "Epoch 4/5\n",
      "\u001b[1m448/448\u001b[0m \u001b[32m━━━━━━━━━━━━━━━━━━━━\u001b[0m\u001b[37m\u001b[0m \u001b[1m6s\u001b[0m 13ms/step - loss: 7.8877e-04 - root_mean_squared_error: 0.0281 - val_loss: 5.9995e-04 - val_root_mean_squared_error: 0.0245\n",
      "Epoch 5/5\n",
      "\u001b[1m448/448\u001b[0m \u001b[32m━━━━━━━━━━━━━━━━━━━━\u001b[0m\u001b[37m\u001b[0m \u001b[1m6s\u001b[0m 13ms/step - loss: 7.7744e-04 - root_mean_squared_error: 0.0279 - val_loss: 6.1720e-04 - val_root_mean_squared_error: 0.0248\n",
      "\u001b[1m896/896\u001b[0m \u001b[32m━━━━━━━━━━━━━━━━━━━━\u001b[0m\u001b[37m\u001b[0m \u001b[1m3s\u001b[0m 3ms/step - loss: 7.3725e-04 - root_mean_squared_error: 0.0270\n",
      "\u001b[1m100/100\u001b[0m \u001b[32m━━━━━━━━━━━━━━━━━━━━\u001b[0m\u001b[37m\u001b[0m \u001b[1m0s\u001b[0m 3ms/step - loss: 9.3231e-04 - root_mean_squared_error: 0.0300\n",
      "epoch : 10\n",
      "Epoch 1/5\n",
      "\u001b[1m448/448\u001b[0m \u001b[32m━━━━━━━━━━━━━━━━━━━━\u001b[0m\u001b[37m\u001b[0m \u001b[1m6s\u001b[0m 13ms/step - loss: 7.6384e-04 - root_mean_squared_error: 0.0276 - val_loss: 5.9818e-04 - val_root_mean_squared_error: 0.0245\n",
      "Epoch 2/5\n",
      "\u001b[1m448/448\u001b[0m \u001b[32m━━━━━━━━━━━━━━━━━━━━\u001b[0m\u001b[37m\u001b[0m \u001b[1m6s\u001b[0m 12ms/step - loss: 7.7543e-04 - root_mean_squared_error: 0.0278 - val_loss: 5.8577e-04 - val_root_mean_squared_error: 0.0242\n",
      "Epoch 3/5\n",
      "\u001b[1m448/448\u001b[0m \u001b[32m━━━━━━━━━━━━━━━━━━━━\u001b[0m\u001b[37m\u001b[0m \u001b[1m6s\u001b[0m 13ms/step - loss: 7.7077e-04 - root_mean_squared_error: 0.0278 - val_loss: 6.0192e-04 - val_root_mean_squared_error: 0.0245\n",
      "Epoch 4/5\n",
      "\u001b[1m448/448\u001b[0m \u001b[32m━━━━━━━━━━━━━━━━━━━━\u001b[0m\u001b[37m\u001b[0m \u001b[1m6s\u001b[0m 13ms/step - loss: 7.6491e-04 - root_mean_squared_error: 0.0276 - val_loss: 5.8033e-04 - val_root_mean_squared_error: 0.0241\n",
      "Epoch 5/5\n",
      "\u001b[1m448/448\u001b[0m \u001b[32m━━━━━━━━━━━━━━━━━━━━\u001b[0m\u001b[37m\u001b[0m \u001b[1m6s\u001b[0m 13ms/step - loss: 7.6222e-04 - root_mean_squared_error: 0.0276 - val_loss: 5.9164e-04 - val_root_mean_squared_error: 0.0243\n",
      "\u001b[1m896/896\u001b[0m \u001b[32m━━━━━━━━━━━━━━━━━━━━\u001b[0m\u001b[37m\u001b[0m \u001b[1m3s\u001b[0m 3ms/step - loss: 7.0608e-04 - root_mean_squared_error: 0.0264\n",
      "\u001b[1m100/100\u001b[0m \u001b[32m━━━━━━━━━━━━━━━━━━━━\u001b[0m\u001b[37m\u001b[0m \u001b[1m0s\u001b[0m 3ms/step - loss: 8.9726e-04 - root_mean_squared_error: 0.0294\n",
      "epoch : 15\n",
      "Epoch 1/5\n",
      "\u001b[1m448/448\u001b[0m \u001b[32m━━━━━━━━━━━━━━━━━━━━\u001b[0m\u001b[37m\u001b[0m \u001b[1m6s\u001b[0m 14ms/step - loss: 7.5967e-04 - root_mean_squared_error: 0.0276 - val_loss: 5.8767e-04 - val_root_mean_squared_error: 0.0242\n",
      "Epoch 2/5\n",
      "\u001b[1m448/448\u001b[0m \u001b[32m━━━━━━━━━━━━━━━━━━━━\u001b[0m\u001b[37m\u001b[0m \u001b[1m7s\u001b[0m 15ms/step - loss: 7.3995e-04 - root_mean_squared_error: 0.0272 - val_loss: 5.8533e-04 - val_root_mean_squared_error: 0.0242\n",
      "Epoch 3/5\n",
      "\u001b[1m448/448\u001b[0m \u001b[32m━━━━━━━━━━━━━━━━━━━━\u001b[0m\u001b[37m\u001b[0m \u001b[1m7s\u001b[0m 16ms/step - loss: 7.5515e-04 - root_mean_squared_error: 0.0275 - val_loss: 5.8235e-04 - val_root_mean_squared_error: 0.0241\n",
      "Epoch 4/5\n",
      "\u001b[1m448/448\u001b[0m \u001b[32m━━━━━━━━━━━━━━━━━━━━\u001b[0m\u001b[37m\u001b[0m \u001b[1m6s\u001b[0m 14ms/step - loss: 7.6022e-04 - root_mean_squared_error: 0.0276 - val_loss: 5.7267e-04 - val_root_mean_squared_error: 0.0239\n",
      "Epoch 5/5\n",
      "\u001b[1m448/448\u001b[0m \u001b[32m━━━━━━━━━━━━━━━━━━━━\u001b[0m\u001b[37m\u001b[0m \u001b[1m7s\u001b[0m 15ms/step - loss: 7.4319e-04 - root_mean_squared_error: 0.0273 - val_loss: 5.6883e-04 - val_root_mean_squared_error: 0.0239\n",
      "\u001b[1m896/896\u001b[0m \u001b[32m━━━━━━━━━━━━━━━━━━━━\u001b[0m\u001b[37m\u001b[0m \u001b[1m4s\u001b[0m 4ms/step - loss: 6.8936e-04 - root_mean_squared_error: 0.0261\n",
      "\u001b[1m100/100\u001b[0m \u001b[32m━━━━━━━━━━━━━━━━━━━━\u001b[0m\u001b[37m\u001b[0m \u001b[1m0s\u001b[0m 3ms/step - loss: 8.6956e-04 - root_mean_squared_error: 0.0289\n",
      "epoch : 20\n",
      "Epoch 1/5\n",
      "\u001b[1m448/448\u001b[0m \u001b[32m━━━━━━━━━━━━━━━━━━━━\u001b[0m\u001b[37m\u001b[0m \u001b[1m6s\u001b[0m 14ms/step - loss: 7.4424e-04 - root_mean_squared_error: 0.0273 - val_loss: 5.7803e-04 - val_root_mean_squared_error: 0.0240\n",
      "Epoch 2/5\n",
      "\u001b[1m448/448\u001b[0m \u001b[32m━━━━━━━━━━━━━━━━━━━━\u001b[0m\u001b[37m\u001b[0m \u001b[1m6s\u001b[0m 13ms/step - loss: 7.4618e-04 - root_mean_squared_error: 0.0273 - val_loss: 5.6483e-04 - val_root_mean_squared_error: 0.0238\n",
      "Epoch 3/5\n",
      "\u001b[1m448/448\u001b[0m \u001b[32m━━━━━━━━━━━━━━━━━━━━\u001b[0m\u001b[37m\u001b[0m \u001b[1m6s\u001b[0m 14ms/step - loss: 7.4437e-04 - root_mean_squared_error: 0.0273 - val_loss: 5.7413e-04 - val_root_mean_squared_error: 0.0240\n",
      "Epoch 4/5\n",
      "\u001b[1m448/448\u001b[0m \u001b[32m━━━━━━━━━━━━━━━━━━━━\u001b[0m\u001b[37m\u001b[0m \u001b[1m6s\u001b[0m 14ms/step - loss: 7.3930e-04 - root_mean_squared_error: 0.0272 - val_loss: 5.6621e-04 - val_root_mean_squared_error: 0.0238\n",
      "Epoch 5/5\n",
      "\u001b[1m448/448\u001b[0m \u001b[32m━━━━━━━━━━━━━━━━━━━━\u001b[0m\u001b[37m\u001b[0m \u001b[1m6s\u001b[0m 13ms/step - loss: 7.4244e-04 - root_mean_squared_error: 0.0272 - val_loss: 5.6652e-04 - val_root_mean_squared_error: 0.0238\n",
      "\u001b[1m896/896\u001b[0m \u001b[32m━━━━━━━━━━━━━━━━━━━━\u001b[0m\u001b[37m\u001b[0m \u001b[1m3s\u001b[0m 3ms/step - loss: 6.7980e-04 - root_mean_squared_error: 0.0260\n",
      "\u001b[1m100/100\u001b[0m \u001b[32m━━━━━━━━━━━━━━━━━━━━\u001b[0m\u001b[37m\u001b[0m \u001b[1m0s\u001b[0m 3ms/step - loss: 8.7258e-04 - root_mean_squared_error: 0.0289\n",
      "epoch : 25\n",
      "Epoch 1/5\n",
      "\u001b[1m448/448\u001b[0m \u001b[32m━━━━━━━━━━━━━━━━━━━━\u001b[0m\u001b[37m\u001b[0m \u001b[1m6s\u001b[0m 13ms/step - loss: 7.3855e-04 - root_mean_squared_error: 0.0272 - val_loss: 5.8808e-04 - val_root_mean_squared_error: 0.0243\n",
      "Epoch 2/5\n",
      "\u001b[1m448/448\u001b[0m \u001b[32m━━━━━━━━━━━━━━━━━━━━\u001b[0m\u001b[37m\u001b[0m \u001b[1m6s\u001b[0m 13ms/step - loss: 7.3661e-04 - root_mean_squared_error: 0.0271 - val_loss: 5.7994e-04 - val_root_mean_squared_error: 0.0241\n",
      "Epoch 3/5\n",
      "\u001b[1m448/448\u001b[0m \u001b[32m━━━━━━━━━━━━━━━━━━━━\u001b[0m\u001b[37m\u001b[0m \u001b[1m6s\u001b[0m 13ms/step - loss: 7.3511e-04 - root_mean_squared_error: 0.0271 - val_loss: 5.8186e-04 - val_root_mean_squared_error: 0.0241\n",
      "Epoch 4/5\n",
      "\u001b[1m448/448\u001b[0m \u001b[32m━━━━━━━━━━━━━━━━━━━━\u001b[0m\u001b[37m\u001b[0m \u001b[1m6s\u001b[0m 13ms/step - loss: 7.3242e-04 - root_mean_squared_error: 0.0271 - val_loss: 5.6807e-04 - val_root_mean_squared_error: 0.0238\n",
      "Epoch 5/5\n",
      "\u001b[1m448/448\u001b[0m \u001b[32m━━━━━━━━━━━━━━━━━━━━\u001b[0m\u001b[37m\u001b[0m \u001b[1m7s\u001b[0m 16ms/step - loss: 7.3734e-04 - root_mean_squared_error: 0.0271 - val_loss: 5.6388e-04 - val_root_mean_squared_error: 0.0237\n",
      "\u001b[1m896/896\u001b[0m \u001b[32m━━━━━━━━━━━━━━━━━━━━\u001b[0m\u001b[37m\u001b[0m \u001b[1m4s\u001b[0m 5ms/step - loss: 6.6431e-04 - root_mean_squared_error: 0.0257\n",
      "\u001b[1m100/100\u001b[0m \u001b[32m━━━━━━━━━━━━━━━━━━━━\u001b[0m\u001b[37m\u001b[0m \u001b[1m0s\u001b[0m 3ms/step - loss: 8.6731e-04 - root_mean_squared_error: 0.0288\n",
      "epoch : 30\n",
      "Epoch 1/5\n",
      "\u001b[1m448/448\u001b[0m \u001b[32m━━━━━━━━━━━━━━━━━━━━\u001b[0m\u001b[37m\u001b[0m \u001b[1m7s\u001b[0m 15ms/step - loss: 7.2578e-04 - root_mean_squared_error: 0.0269 - val_loss: 5.6924e-04 - val_root_mean_squared_error: 0.0239\n",
      "Epoch 2/5\n",
      "\u001b[1m448/448\u001b[0m \u001b[32m━━━━━━━━━━━━━━━━━━━━\u001b[0m\u001b[37m\u001b[0m \u001b[1m6s\u001b[0m 14ms/step - loss: 7.2102e-04 - root_mean_squared_error: 0.0268 - val_loss: 5.8354e-04 - val_root_mean_squared_error: 0.0242\n",
      "Epoch 3/5\n",
      "\u001b[1m448/448\u001b[0m \u001b[32m━━━━━━━━━━━━━━━━━━━━\u001b[0m\u001b[37m\u001b[0m \u001b[1m6s\u001b[0m 14ms/step - loss: 7.1718e-04 - root_mean_squared_error: 0.0268 - val_loss: 5.7075e-04 - val_root_mean_squared_error: 0.0239\n",
      "Epoch 4/5\n",
      "\u001b[1m448/448\u001b[0m \u001b[32m━━━━━━━━━━━━━━━━━━━━\u001b[0m\u001b[37m\u001b[0m \u001b[1m6s\u001b[0m 14ms/step - loss: 7.1226e-04 - root_mean_squared_error: 0.0267 - val_loss: 5.6028e-04 - val_root_mean_squared_error: 0.0237\n",
      "Epoch 5/5\n",
      "\u001b[1m448/448\u001b[0m \u001b[32m━━━━━━━━━━━━━━━━━━━━\u001b[0m\u001b[37m\u001b[0m \u001b[1m7s\u001b[0m 15ms/step - loss: 7.1287e-04 - root_mean_squared_error: 0.0267 - val_loss: 5.6277e-04 - val_root_mean_squared_error: 0.0237\n",
      "\u001b[1m896/896\u001b[0m \u001b[32m━━━━━━━━━━━━━━━━━━━━\u001b[0m\u001b[37m\u001b[0m \u001b[1m3s\u001b[0m 4ms/step - loss: 6.5198e-04 - root_mean_squared_error: 0.0254\n",
      "\u001b[1m100/100\u001b[0m \u001b[32m━━━━━━━━━━━━━━━━━━━━\u001b[0m\u001b[37m\u001b[0m \u001b[1m0s\u001b[0m 4ms/step - loss: 8.5948e-04 - root_mean_squared_error: 0.0287\n",
      "epoch : 35\n",
      "Epoch 1/5\n",
      "\u001b[1m448/448\u001b[0m \u001b[32m━━━━━━━━━━━━━━━━━━━━\u001b[0m\u001b[37m\u001b[0m \u001b[1m6s\u001b[0m 13ms/step - loss: 7.2532e-04 - root_mean_squared_error: 0.0269 - val_loss: 5.6050e-04 - val_root_mean_squared_error: 0.0237\n",
      "Epoch 2/5\n",
      "\u001b[1m448/448\u001b[0m \u001b[32m━━━━━━━━━━━━━━━━━━━━\u001b[0m\u001b[37m\u001b[0m \u001b[1m6s\u001b[0m 14ms/step - loss: 7.0842e-04 - root_mean_squared_error: 0.0266 - val_loss: 5.6722e-04 - val_root_mean_squared_error: 0.0238\n",
      "Epoch 3/5\n",
      "\u001b[1m448/448\u001b[0m \u001b[32m━━━━━━━━━━━━━━━━━━━━\u001b[0m\u001b[37m\u001b[0m \u001b[1m6s\u001b[0m 13ms/step - loss: 7.0925e-04 - root_mean_squared_error: 0.0266 - val_loss: 5.5501e-04 - val_root_mean_squared_error: 0.0236\n",
      "Epoch 4/5\n",
      "\u001b[1m448/448\u001b[0m \u001b[32m━━━━━━━━━━━━━━━━━━━━\u001b[0m\u001b[37m\u001b[0m \u001b[1m7s\u001b[0m 15ms/step - loss: 7.0576e-04 - root_mean_squared_error: 0.0266 - val_loss: 5.5583e-04 - val_root_mean_squared_error: 0.0236\n",
      "Epoch 5/5\n",
      "\u001b[1m448/448\u001b[0m \u001b[32m━━━━━━━━━━━━━━━━━━━━\u001b[0m\u001b[37m\u001b[0m \u001b[1m7s\u001b[0m 16ms/step - loss: 7.0867e-04 - root_mean_squared_error: 0.0266 - val_loss: 5.5513e-04 - val_root_mean_squared_error: 0.0236\n",
      "\u001b[1m896/896\u001b[0m \u001b[32m━━━━━━━━━━━━━━━━━━━━\u001b[0m\u001b[37m\u001b[0m \u001b[1m4s\u001b[0m 4ms/step - loss: 6.3696e-04 - root_mean_squared_error: 0.0252\n",
      "\u001b[1m100/100\u001b[0m \u001b[32m━━━━━━━━━━━━━━━━━━━━\u001b[0m\u001b[37m\u001b[0m \u001b[1m1s\u001b[0m 6ms/step - loss: 8.5105e-04 - root_mean_squared_error: 0.0286\n",
      "epoch : 40\n",
      "Epoch 1/5\n",
      "\u001b[1m448/448\u001b[0m \u001b[32m━━━━━━━━━━━━━━━━━━━━\u001b[0m\u001b[37m\u001b[0m \u001b[1m7s\u001b[0m 17ms/step - loss: 7.0580e-04 - root_mean_squared_error: 0.0266 - val_loss: 5.5487e-04 - val_root_mean_squared_error: 0.0236\n",
      "Epoch 2/5\n",
      "\u001b[1m448/448\u001b[0m \u001b[32m━━━━━━━━━━━━━━━━━━━━\u001b[0m\u001b[37m\u001b[0m \u001b[1m9s\u001b[0m 20ms/step - loss: 6.9741e-04 - root_mean_squared_error: 0.0264 - val_loss: 5.4333e-04 - val_root_mean_squared_error: 0.0233\n",
      "Epoch 3/5\n",
      "\u001b[1m448/448\u001b[0m \u001b[32m━━━━━━━━━━━━━━━━━━━━\u001b[0m\u001b[37m\u001b[0m \u001b[1m8s\u001b[0m 17ms/step - loss: 7.0492e-04 - root_mean_squared_error: 0.0265 - val_loss: 5.6820e-04 - val_root_mean_squared_error: 0.0238\n",
      "Epoch 4/5\n",
      "\u001b[1m448/448\u001b[0m \u001b[32m━━━━━━━━━━━━━━━━━━━━\u001b[0m\u001b[37m\u001b[0m \u001b[1m8s\u001b[0m 18ms/step - loss: 6.9939e-04 - root_mean_squared_error: 0.0264 - val_loss: 5.4627e-04 - val_root_mean_squared_error: 0.0234\n",
      "Epoch 5/5\n",
      "\u001b[1m448/448\u001b[0m \u001b[32m━━━━━━━━━━━━━━━━━━━━\u001b[0m\u001b[37m\u001b[0m \u001b[1m7s\u001b[0m 15ms/step - loss: 6.9288e-04 - root_mean_squared_error: 0.0263 - val_loss: 5.4625e-04 - val_root_mean_squared_error: 0.0234\n",
      "\u001b[1m896/896\u001b[0m \u001b[32m━━━━━━━━━━━━━━━━━━━━\u001b[0m\u001b[37m\u001b[0m \u001b[1m3s\u001b[0m 3ms/step - loss: 6.2896e-04 - root_mean_squared_error: 0.0250\n",
      "\u001b[1m100/100\u001b[0m \u001b[32m━━━━━━━━━━━━━━━━━━━━\u001b[0m\u001b[37m\u001b[0m \u001b[1m0s\u001b[0m 3ms/step - loss: 8.3627e-04 - root_mean_squared_error: 0.0283\n",
      "epoch : 45\n",
      "Epoch 1/5\n",
      "\u001b[1m448/448\u001b[0m \u001b[32m━━━━━━━━━━━━━━━━━━━━\u001b[0m\u001b[37m\u001b[0m \u001b[1m6s\u001b[0m 14ms/step - loss: 6.9134e-04 - root_mean_squared_error: 0.0263 - val_loss: 5.4259e-04 - val_root_mean_squared_error: 0.0233\n",
      "Epoch 2/5\n",
      "\u001b[1m448/448\u001b[0m \u001b[32m━━━━━━━━━━━━━━━━━━━━\u001b[0m\u001b[37m\u001b[0m \u001b[1m6s\u001b[0m 13ms/step - loss: 6.9178e-04 - root_mean_squared_error: 0.0263 - val_loss: 5.4437e-04 - val_root_mean_squared_error: 0.0233\n",
      "Epoch 3/5\n",
      "\u001b[1m448/448\u001b[0m \u001b[32m━━━━━━━━━━━━━━━━━━━━\u001b[0m\u001b[37m\u001b[0m \u001b[1m6s\u001b[0m 14ms/step - loss: 6.9044e-04 - root_mean_squared_error: 0.0263 - val_loss: 5.4327e-04 - val_root_mean_squared_error: 0.0233\n",
      "Epoch 4/5\n",
      "\u001b[1m448/448\u001b[0m \u001b[32m━━━━━━━━━━━━━━━━━━━━\u001b[0m\u001b[37m\u001b[0m \u001b[1m6s\u001b[0m 13ms/step - loss: 6.8560e-04 - root_mean_squared_error: 0.0262 - val_loss: 5.3508e-04 - val_root_mean_squared_error: 0.0231\n",
      "Epoch 5/5\n",
      "\u001b[1m448/448\u001b[0m \u001b[32m━━━━━━━━━━━━━━━━━━━━\u001b[0m\u001b[37m\u001b[0m \u001b[1m6s\u001b[0m 13ms/step - loss: 6.8771e-04 - root_mean_squared_error: 0.0262 - val_loss: 5.3016e-04 - val_root_mean_squared_error: 0.0230\n",
      "\u001b[1m896/896\u001b[0m \u001b[32m━━━━━━━━━━━━━━━━━━━━\u001b[0m\u001b[37m\u001b[0m \u001b[1m3s\u001b[0m 3ms/step - loss: 6.1431e-04 - root_mean_squared_error: 0.0247\n",
      "\u001b[1m100/100\u001b[0m \u001b[32m━━━━━━━━━━━━━━━━━━━━\u001b[0m\u001b[37m\u001b[0m \u001b[1m0s\u001b[0m 3ms/step - loss: 8.0877e-04 - root_mean_squared_error: 0.0279\n"
     ]
    }
   ],
   "source": [
    "# Reset weights to initial weights before starting new training \n",
    "STCK_LSTM.set_weights(initial_weights)\n",
    "\n",
    "epochs=[]\n",
    "train_rmse=[]\n",
    "val_rmse=[]\n",
    "delta_epochs=5\n",
    "eon=0 \n",
    "for i in range(0,10) : \n",
    "        print(\"epoch : \" + str(eon))\n",
    "        STCK_LSTM.fit(X_train_reduced, y_train_reduced, epochs=delta_epochs, batch_size=64,validation_split=0.1)\n",
    "        train_scores = STCK_LSTM.evaluate(X_train_reduced[:split], y_train_reduced[:split])   \n",
    "        val_scores = STCK_LSTM.evaluate(X_train_reduced[split:], y_train_reduced[split:])\n",
    "        eon+=delta_epochs\n",
    "        epochs.append(eon)\n",
    "        train_rmse.append(train_scores[1]) #rmse\n",
    "        val_rmse.append(val_scores[1])"
   ]
  },
  {
   "cell_type": "code",
   "execution_count": 22,
   "metadata": {},
   "outputs": [
    {
     "data": {
      "image/png": "[encoded data removed]",
      "text/plain": [
       "<Figure size 640x480 with 1 Axes>"
      ]
     },
     "metadata": {},
     "output_type": "display_data"
    }
   ],
   "source": [
    "results=[epochs,train_rmse,val_rmse]\n",
    "plt.plot(epochs,train_rmse,label='training rmse')\n",
    "plt.plot(epochs,val_rmse,label='validation rmse')\n",
    "plt.xlabel('Epoch') \n",
    "plt.ylabel('rmse') \n",
    "plt.legend()\n",
    "plt.show()"
   ]
  },
  {
   "cell_type": "markdown",
   "metadata": {},
   "source": [
    "The training rmse decreases consistently and quickly across epochs, agreeing that the model continues to fit the training data better with more epochs but risks overfitting. Meanwhile, the validation rmse starts high, decreases quickly, and stabilises after 30 epochs, indicating that larger epoch values only overfits the training data and has little effect on the validation set. \n",
    "\n",
    "Interestingly, the validation rmse is still slightly lower than the training even though both are performing more accurately than when the dataset was larger. This tells us that the lstm  performs better on smaller sets, and is better able to pick up on the patterns. It demonstrates that temporal continuity is not strictly necessary for the model to learn effectively.\n",
    "\n",
    "### Decision\n",
    "After much reasearch, testing and analysing we have decided 25 would be a good choice for the multivariate LSTM"
   ]
  },
  {
   "cell_type": "markdown",
   "metadata": {},
   "source": [
    "## GPU vs CPU Performance"
   ]
  },
  {
   "cell_type": "markdown",
   "metadata": {},
   "source": [
    "Using Apple's Metal API with Keras (TensorFlow)"
   ]
  },
  {
   "cell_type": "code",
   "execution_count": 23,
   "metadata": {},
   "outputs": [
    {
     "name": "stdout",
     "output_type": "stream",
     "text": [
      "Defaulting to user installation because normal site-packages is not writeable\n",
      "Requirement already satisfied: tensorflow-macos in /Users/matt/Library/Python/3.9/lib/python/site-packages (2.16.2)\n",
      "Requirement already satisfied: tensorflow==2.16.2 in /Users/matt/Library/Python/3.9/lib/python/site-packages (from tensorflow-macos) (2.16.2)\n",
      "Requirement already satisfied: absl-py>=1.0.0 in /Users/matt/Library/Python/3.9/lib/python/site-packages (from tensorflow==2.16.2->tensorflow-macos) (2.1.0)\n",
      "Requirement already satisfied: astunparse>=1.6.0 in /Users/matt/Library/Python/3.9/lib/python/site-packages (from tensorflow==2.16.2->tensorflow-macos) (1.6.3)\n",
      "Requirement already satisfied: flatbuffers>=23.5.26 in /Users/matt/Library/Python/3.9/lib/python/site-packages (from tensorflow==2.16.2->tensorflow-macos) (24.3.25)\n",
      "Requirement already satisfied: gast!=0.5.0,!=0.5.1,!=0.5.2,>=0.2.1 in /Users/matt/Library/Python/3.9/lib/python/site-packages (from tensorflow==2.16.2->tensorflow-macos) (0.6.0)\n",
      "Requirement already satisfied: google-pasta>=0.1.1 in /Users/matt/Library/Python/3.9/lib/python/site-packages (from tensorflow==2.16.2->tensorflow-macos) (0.2.0)\n",
      "Requirement already satisfied: h5py>=3.10.0 in /Users/matt/Library/Python/3.9/lib/python/site-packages (from tensorflow==2.16.2->tensorflow-macos) (3.12.1)\n",
      "Requirement already satisfied: libclang>=13.0.0 in /Users/matt/Library/Python/3.9/lib/python/site-packages (from tensorflow==2.16.2->tensorflow-macos) (18.1.1)\n",
      "Requirement already satisfied: ml-dtypes~=0.3.1 in /Users/matt/Library/Python/3.9/lib/python/site-packages (from tensorflow==2.16.2->tensorflow-macos) (0.3.2)\n",
      "Requirement already satisfied: opt-einsum>=2.3.2 in /Users/matt/Library/Python/3.9/lib/python/site-packages (from tensorflow==2.16.2->tensorflow-macos) (3.4.0)\n",
      "Requirement already satisfied: packaging in /Users/matt/Library/Python/3.9/lib/python/site-packages (from tensorflow==2.16.2->tensorflow-macos) (23.0)\n",
      "Requirement already satisfied: protobuf!=4.21.0,!=4.21.1,!=4.21.2,!=4.21.3,!=4.21.4,!=4.21.5,<5.0.0dev,>=3.20.3 in /Users/matt/Library/Python/3.9/lib/python/site-packages (from tensorflow==2.16.2->tensorflow-macos) (4.25.5)\n",
      "Requirement already satisfied: requests<3,>=2.21.0 in /Users/matt/Library/Python/3.9/lib/python/site-packages (from tensorflow==2.16.2->tensorflow-macos) (2.32.3)\n",
      "Requirement already satisfied: setuptools in /Library/Developer/CommandLineTools/Library/Frameworks/Python3.framework/Versions/3.9/lib/python3.9/site-packages (from tensorflow==2.16.2->tensorflow-macos) (58.0.4)\n",
      "Requirement already satisfied: six>=1.12.0 in /Library/Developer/CommandLineTools/Library/Frameworks/Python3.framework/Versions/3.9/lib/python3.9/site-packages (from tensorflow==2.16.2->tensorflow-macos) (1.15.0)\n",
      "Requirement already satisfied: termcolor>=1.1.0 in /Users/matt/Library/Python/3.9/lib/python/site-packages (from tensorflow==2.16.2->tensorflow-macos) (2.5.0)\n",
      "Requirement already satisfied: typing-extensions>=3.6.6 in /Users/matt/Library/Python/3.9/lib/python/site-packages (from tensorflow==2.16.2->tensorflow-macos) (4.12.2)\n",
      "Requirement already satisfied: wrapt>=1.11.0 in /Users/matt/Library/Python/3.9/lib/python/site-packages (from tensorflow==2.16.2->tensorflow-macos) (1.16.0)\n",
      "Requirement already satisfied: grpcio<2.0,>=1.24.3 in /Users/matt/Library/Python/3.9/lib/python/site-packages (from tensorflow==2.16.2->tensorflow-macos) (1.67.1)\n",
      "Requirement already satisfied: tensorboard<2.17,>=2.16 in /Users/matt/Library/Python/3.9/lib/python/site-packages (from tensorflow==2.16.2->tensorflow-macos) (2.16.2)\n",
      "Requirement already satisfied: keras>=3.0.0 in /Users/matt/Library/Python/3.9/lib/python/site-packages (from tensorflow==2.16.2->tensorflow-macos) (3.6.0)\n",
      "Requirement already satisfied: tensorflow-io-gcs-filesystem>=0.23.1 in /Users/matt/Library/Python/3.9/lib/python/site-packages (from tensorflow==2.16.2->tensorflow-macos) (0.37.1)\n",
      "Requirement already satisfied: numpy<2.0.0,>=1.23.5 in /Users/matt/Library/Python/3.9/lib/python/site-packages (from tensorflow==2.16.2->tensorflow-macos) (1.26.4)\n",
      "Requirement already satisfied: wheel<1.0,>=0.23.0 in /Library/Developer/CommandLineTools/Library/Frameworks/Python3.framework/Versions/3.9/lib/python3.9/site-packages (from astunparse>=1.6.0->tensorflow==2.16.2->tensorflow-macos) (0.37.0)\n",
      "Requirement already satisfied: rich in /Users/matt/Library/Python/3.9/lib/python/site-packages (from keras>=3.0.0->tensorflow==2.16.2->tensorflow-macos) (13.9.4)\n",
      "Requirement already satisfied: namex in /Users/matt/Library/Python/3.9/lib/python/site-packages (from keras>=3.0.0->tensorflow==2.16.2->tensorflow-macos) (0.0.8)\n",
      "Requirement already satisfied: optree in /Users/matt/Library/Python/3.9/lib/python/site-packages (from keras>=3.0.0->tensorflow==2.16.2->tensorflow-macos) (0.13.0)\n",
      "Requirement already satisfied: charset-normalizer<4,>=2 in /Users/matt/Library/Python/3.9/lib/python/site-packages (from requests<3,>=2.21.0->tensorflow==2.16.2->tensorflow-macos) (3.3.2)\n",
      "Requirement already satisfied: idna<4,>=2.5 in /Users/matt/Library/Python/3.9/lib/python/site-packages (from requests<3,>=2.21.0->tensorflow==2.16.2->tensorflow-macos) (3.4)\n",
      "Requirement already satisfied: urllib3<3,>=1.21.1 in /Users/matt/Library/Python/3.9/lib/python/site-packages (from requests<3,>=2.21.0->tensorflow==2.16.2->tensorflow-macos) (2.2.3)\n",
      "Requirement already satisfied: certifi>=2017.4.17 in /Users/matt/Library/Python/3.9/lib/python/site-packages (from requests<3,>=2.21.0->tensorflow==2.16.2->tensorflow-macos) (2024.8.30)\n",
      "Requirement already satisfied: markdown>=2.6.8 in /Users/matt/Library/Python/3.9/lib/python/site-packages (from tensorboard<2.17,>=2.16->tensorflow==2.16.2->tensorflow-macos) (3.7)\n",
      "Requirement already satisfied: tensorboard-data-server<0.8.0,>=0.7.0 in /Users/matt/Library/Python/3.9/lib/python/site-packages (from tensorboard<2.17,>=2.16->tensorflow==2.16.2->tensorflow-macos) (0.7.2)\n",
      "Requirement already satisfied: werkzeug>=1.0.1 in /Users/matt/Library/Python/3.9/lib/python/site-packages (from tensorboard<2.17,>=2.16->tensorflow==2.16.2->tensorflow-macos) (3.1.3)\n",
      "Requirement already satisfied: importlib-metadata>=4.4 in /Users/matt/Library/Python/3.9/lib/python/site-packages (from markdown>=2.6.8->tensorboard<2.17,>=2.16->tensorflow==2.16.2->tensorflow-macos) (6.0.0)\n",
      "Requirement already satisfied: MarkupSafe>=2.1.1 in /Users/matt/Library/Python/3.9/lib/python/site-packages (from werkzeug>=1.0.1->tensorboard<2.17,>=2.16->tensorflow==2.16.2->tensorflow-macos) (2.1.2)\n",
      "Requirement already satisfied: markdown-it-py>=2.2.0 in /Users/matt/Library/Python/3.9/lib/python/site-packages (from rich->keras>=3.0.0->tensorflow==2.16.2->tensorflow-macos) (3.0.0)\n",
      "Requirement already satisfied: pygments<3.0.0,>=2.13.0 in /Users/matt/Library/Python/3.9/lib/python/site-packages (from rich->keras>=3.0.0->tensorflow==2.16.2->tensorflow-macos) (2.14.0)\n",
      "Requirement already satisfied: zipp>=0.5 in /Users/matt/Library/Python/3.9/lib/python/site-packages (from importlib-metadata>=4.4->markdown>=2.6.8->tensorboard<2.17,>=2.16->tensorflow==2.16.2->tensorflow-macos) (3.15.0)\n",
      "Requirement already satisfied: mdurl~=0.1 in /Users/matt/Library/Python/3.9/lib/python/site-packages (from markdown-it-py>=2.2.0->rich->keras>=3.0.0->tensorflow==2.16.2->tensorflow-macos) (0.1.2)\n",
      "Defaulting to user installation because normal site-packages is not writeable\n",
      "Requirement already satisfied: tensorflow-metal in /Users/matt/Library/Python/3.9/lib/python/site-packages (1.1.0)\n",
      "Requirement already satisfied: wheel~=0.35 in /Library/Developer/CommandLineTools/Library/Frameworks/Python3.framework/Versions/3.9/lib/python3.9/site-packages (from tensorflow-metal) (0.37.0)\n",
      "Requirement already satisfied: six>=1.15.0 in /Library/Developer/CommandLineTools/Library/Frameworks/Python3.framework/Versions/3.9/lib/python3.9/site-packages (from tensorflow-metal) (1.15.0)\n"
     ]
    }
   ],
   "source": [
    "!pip install tensorflow-macos\n",
    "!pip install tensorflow-metal"
   ]
  },
  {
   "cell_type": "code",
   "execution_count": 24,
   "metadata": {},
   "outputs": [
    {
     "name": "stdout",
     "output_type": "stream",
     "text": [
      "Num GPUs Available:  1\n"
     ]
    }
   ],
   "source": [
    "print(\"Num GPUs Available: \", len(tf.config.experimental.list_physical_devices('GPU')))"
   ]
  },
  {
   "cell_type": "markdown",
   "metadata": {},
   "source": [
    "This checks for the number of GPUs available on the system using TensorFlow's API. On Apple devices, tensor uses Apple's metal backend, which optimises machine learning by providing GPU hardware."
   ]
  },
  {
   "cell_type": "markdown",
   "metadata": {},
   "source": [
    "## Preprocess Data for GPU Usage \n",
    "The GPU version of tensorflow works with 32 bit floats which is important because some records might now return NAN if we use the dataset as it is now. The GPU is optimised for float32 precision, while CPU can handle float64. "
   ]
  },
  {
   "cell_type": "code",
   "execution_count": 25,
   "metadata": {},
   "outputs": [
    {
     "data": {
      "text/plain": [
       "(dtype('float64'), dtype('float64'))"
      ]
     },
     "execution_count": 25,
     "metadata": {},
     "output_type": "execute_result"
    }
   ],
   "source": [
    "X_train.dtype, y_train.dtype"
   ]
  },
  {
   "cell_type": "code",
   "execution_count": 26,
   "metadata": {},
   "outputs": [],
   "source": [
    "\n",
    "def preprocess_sequences(X, y):\n",
    "    X = X.astype(np.float32)\n",
    "    y = y.astype(np.float32)\n",
    "\n",
    "    #Handle NAN and infinite values\n",
    "    X = np.nan_to_num(X, nan=0.0, posinf=np.finfo(np.float32).max, neginf=np.finfo(np.float32).min)\n",
    "    y = np.nan_to_num(y, nan=0.0, posinf=np.finfo(np.float32).max, neginf=np.finfo(np.float32).min)\n",
    "\n",
    "    #Cap extreme values \n",
    "    X = np.clip(X, -10, 10)  \n",
    "    y = np.clip(y, -10, 10)\n",
    "\n",
    "    return X, y\n",
    "\n",
    "\n",
    "X_train_gpu, y_train_gpu,   =  preprocess_sequences(X_train, y_train)\n",
    "X_test_gpu,y_test_gpu = preprocess_sequences(X_test, y_test)"
   ]
  },
  {
   "cell_type": "code",
   "execution_count": 27,
   "metadata": {},
   "outputs": [
    {
     "data": {
      "text/plain": [
       "(dtype('float32'), dtype('float32'), dtype('float64'), dtype('float64'))"
      ]
     },
     "execution_count": 27,
     "metadata": {},
     "output_type": "execute_result"
    }
   ],
   "source": [
    "X_train_gpu.dtype,y_train_gpu.dtype ,X_train.dtype, y_train.dtype"
   ]
  },
  {
   "cell_type": "markdown",
   "metadata": {},
   "source": [
    "## CPU vs GPU Performance on Batch Size"
   ]
  },
  {
   "cell_type": "code",
   "execution_count": 28,
   "metadata": {},
   "outputs": [],
   "source": [
    "import time"
   ]
  },
  {
   "cell_type": "markdown",
   "metadata": {},
   "source": [
    "Note: We care more about computation time than rmse score because we want to theoretical analyse how our models will peroform if the dataset was scaled significantly. However, we also take into account the prevention of a significant increase in rmse score. "
   ]
  },
  {
   "cell_type": "code",
   "execution_count": 29,
   "metadata": {},
   "outputs": [],
   "source": [
    "batch_sizes = [16, 32, 64, 128, 256]  # Different batch sizes to test\n",
    "results = {\"batch_size\": [], \"cpu_rmse\":[], \"cpu_time\": [],\"gpu_rmse\":[], \"gpu_time\": []}"
   ]
  },
  {
   "cell_type": "markdown",
   "metadata": {},
   "source": [
    "Smaller batch sizes require more updates per epoch, leading to better convergence but increased computational perforamnce. Larger batch sizes processes more sequences and thus faster training times, but may result in lower accuracy and overfitting. A common rule of thumb is to try powers of 2.\n",
    "\n",
    "Note: \n",
    "- GPUs theoreticcally should perform better with larger batch sizes because of their parallel processing capabilities, which efficiently handles more samples simultaneously.\n",
    "- CPUs perform well with smaller batches because they can store smaller amounts of information in cache which has high bandwidth access."
   ]
  },
  {
   "cell_type": "markdown",
   "metadata": {},
   "source": [
    "## Batch Size vs Training Time"
   ]
  },
  {
   "cell_type": "markdown",
   "metadata": {},
   "source": [
    "Note: we use epoch=10 otherwise testing will take quite some time."
   ]
  },
  {
   "cell_type": "code",
   "execution_count": 30,
   "metadata": {},
   "outputs": [],
   "source": [
    "split= int(0.9*len(X_train))"
   ]
  },
  {
   "cell_type": "markdown",
   "metadata": {},
   "source": [
    "**WARNING** this takes approx 18 minutes to run."
   ]
  },
  {
   "cell_type": "code",
   "execution_count": 31,
   "metadata": {},
   "outputs": [
    {
     "name": "stdout",
     "output_type": "stream",
     "text": [
      "Epoch 1/10\n",
      "\u001b[1m2217/2217\u001b[0m \u001b[32m━━━━━━━━━━━━━━━━━━━━\u001b[0m\u001b[37m\u001b[0m \u001b[1m17s\u001b[0m 7ms/step - loss: 0.0040 - root_mean_squared_error: 0.0617 - val_loss: 0.0014 - val_root_mean_squared_error: 0.0368\n",
      "Epoch 2/10\n",
      "\u001b[1m2217/2217\u001b[0m \u001b[32m━━━━━━━━━━━━━━━━━━━━\u001b[0m\u001b[37m\u001b[0m \u001b[1m16s\u001b[0m 7ms/step - loss: 0.0012 - root_mean_squared_error: 0.0339 - val_loss: 9.4454e-04 - val_root_mean_squared_error: 0.0307\n",
      "Epoch 3/10\n",
      "\u001b[1m2217/2217\u001b[0m \u001b[32m━━━━━━━━━━━━━━━━━━━━\u001b[0m\u001b[37m\u001b[0m \u001b[1m16s\u001b[0m 7ms/step - loss: 0.0011 - root_mean_squared_error: 0.0329 - val_loss: 0.0014 - val_root_mean_squared_error: 0.0372\n",
      "Epoch 4/10\n",
      "\u001b[1m2217/2217\u001b[0m \u001b[32m━━━━━━━━━━━━━━━━━━━━\u001b[0m\u001b[37m\u001b[0m \u001b[1m16s\u001b[0m 7ms/step - loss: 0.0010 - root_mean_squared_error: 0.0321 - val_loss: 0.0013 - val_root_mean_squared_error: 0.0359\n",
      "Epoch 5/10\n",
      "\u001b[1m2217/2217\u001b[0m \u001b[32m━━━━━━━━━━━━━━━━━━━━\u001b[0m\u001b[37m\u001b[0m \u001b[1m15s\u001b[0m 7ms/step - loss: 0.0010 - root_mean_squared_error: 0.0316 - val_loss: 0.0013 - val_root_mean_squared_error: 0.0362\n",
      "Epoch 6/10\n",
      "\u001b[1m2217/2217\u001b[0m \u001b[32m━━━━━━━━━━━━━━━━━━━━\u001b[0m\u001b[37m\u001b[0m \u001b[1m16s\u001b[0m 7ms/step - loss: 9.7832e-04 - root_mean_squared_error: 0.0310 - val_loss: 0.0013 - val_root_mean_squared_error: 0.0362\n",
      "Epoch 7/10\n",
      "\u001b[1m2217/2217\u001b[0m \u001b[32m━━━━━━━━━━━━━━━━━━━━\u001b[0m\u001b[37m\u001b[0m \u001b[1m16s\u001b[0m 7ms/step - loss: 9.5405e-04 - root_mean_squared_error: 0.0307 - val_loss: 0.0013 - val_root_mean_squared_error: 0.0356\n",
      "Epoch 8/10\n",
      "\u001b[1m2217/2217\u001b[0m \u001b[32m━━━━━━━━━━━━━━━━━━━━\u001b[0m\u001b[37m\u001b[0m \u001b[1m16s\u001b[0m 7ms/step - loss: 9.5425e-04 - root_mean_squared_error: 0.0307 - val_loss: 0.0012 - val_root_mean_squared_error: 0.0339\n",
      "Epoch 9/10\n",
      "\u001b[1m2217/2217\u001b[0m \u001b[32m━━━━━━━━━━━━━━━━━━━━\u001b[0m\u001b[37m\u001b[0m \u001b[1m16s\u001b[0m 7ms/step - loss: 8.9784e-04 - root_mean_squared_error: 0.0298 - val_loss: 0.0013 - val_root_mean_squared_error: 0.0365\n",
      "Epoch 10/10\n",
      "\u001b[1m2217/2217\u001b[0m \u001b[32m━━━━━━━━━━━━━━━━━━━━\u001b[0m\u001b[37m\u001b[0m \u001b[1m17s\u001b[0m 8ms/step - loss: 8.7149e-04 - root_mean_squared_error: 0.0294 - val_loss: 0.0013 - val_root_mean_squared_error: 0.0367\n",
      "\u001b[1m124/124\u001b[0m \u001b[32m━━━━━━━━━━━━━━━━━━━━\u001b[0m\u001b[37m\u001b[0m \u001b[1m0s\u001b[0m 3ms/step - loss: 0.0012 - root_mean_squared_error: 0.0349\n",
      "Epoch 1/10\n",
      "\u001b[1m2217/2217\u001b[0m \u001b[32m━━━━━━━━━━━━━━━━━━━━\u001b[0m\u001b[37m\u001b[0m \u001b[1m30s\u001b[0m 13ms/step - loss: 0.0041 - root_mean_squared_error: 0.0630 - val_loss: 0.0015 - val_root_mean_squared_error: 0.0388\n",
      "Epoch 2/10\n",
      "\u001b[1m2217/2217\u001b[0m \u001b[32m━━━━━━━━━━━━━━━━━━━━\u001b[0m\u001b[37m\u001b[0m \u001b[1m29s\u001b[0m 13ms/step - loss: 0.0012 - root_mean_squared_error: 0.0344 - val_loss: 0.0017 - val_root_mean_squared_error: 0.0406\n",
      "Epoch 3/10\n",
      "\u001b[1m2217/2217\u001b[0m \u001b[32m━━━━━━━━━━━━━━━━━━━━\u001b[0m\u001b[37m\u001b[0m \u001b[1m29s\u001b[0m 13ms/step - loss: 0.0011 - root_mean_squared_error: 0.0330 - val_loss: 0.0012 - val_root_mean_squared_error: 0.0351\n",
      "Epoch 4/10\n",
      "\u001b[1m2217/2217\u001b[0m \u001b[32m━━━━━━━━━━━━━━━━━━━━\u001b[0m\u001b[37m\u001b[0m \u001b[1m29s\u001b[0m 13ms/step - loss: 0.0011 - root_mean_squared_error: 0.0323 - val_loss: 0.0012 - val_root_mean_squared_error: 0.0349\n",
      "Epoch 5/10\n",
      "\u001b[1m2217/2217\u001b[0m \u001b[32m━━━━━━━━━━━━━━━━━━━━\u001b[0m\u001b[37m\u001b[0m \u001b[1m31s\u001b[0m 14ms/step - loss: 0.0010 - root_mean_squared_error: 0.0316 - val_loss: 0.0015 - val_root_mean_squared_error: 0.0392\n",
      "Epoch 6/10\n",
      "\u001b[1m2217/2217\u001b[0m \u001b[32m━━━━━━━━━━━━━━━━━━━━\u001b[0m\u001b[37m\u001b[0m \u001b[1m31s\u001b[0m 14ms/step - loss: 9.6034e-04 - root_mean_squared_error: 0.0308 - val_loss: 0.0014 - val_root_mean_squared_error: 0.0371\n",
      "Epoch 7/10\n",
      "\u001b[1m2217/2217\u001b[0m \u001b[32m━━━━━━━━━━━━━━━━━━━━\u001b[0m\u001b[37m\u001b[0m \u001b[1m28s\u001b[0m 13ms/step - loss: 9.4154e-04 - root_mean_squared_error: 0.0305 - val_loss: 0.0014 - val_root_mean_squared_error: 0.0372\n",
      "Epoch 8/10\n",
      "\u001b[1m2217/2217\u001b[0m \u001b[32m━━━━━━━━━━━━━━━━━━━━\u001b[0m\u001b[37m\u001b[0m \u001b[1m28s\u001b[0m 12ms/step - loss: 9.0633e-04 - root_mean_squared_error: 0.0299 - val_loss: 0.0015 - val_root_mean_squared_error: 0.0381\n",
      "Epoch 9/10\n",
      "\u001b[1m2217/2217\u001b[0m \u001b[32m━━━━━━━━━━━━━━━━━━━━\u001b[0m\u001b[37m\u001b[0m \u001b[1m28s\u001b[0m 13ms/step - loss: 8.7038e-04 - root_mean_squared_error: 0.0294 - val_loss: 0.0014 - val_root_mean_squared_error: 0.0374\n",
      "Epoch 10/10\n",
      "\u001b[1m2217/2217\u001b[0m \u001b[32m━━━━━━━━━━━━━━━━━━━━\u001b[0m\u001b[37m\u001b[0m \u001b[1m28s\u001b[0m 12ms/step - loss: 8.5012e-04 - root_mean_squared_error: 0.0290 - val_loss: 0.0012 - val_root_mean_squared_error: 0.0350\n",
      "\u001b[1m124/124\u001b[0m \u001b[32m━━━━━━━━━━━━━━━━━━━━\u001b[0m\u001b[37m\u001b[0m \u001b[1m0s\u001b[0m 3ms/step - loss: 0.0011 - root_mean_squared_error: 0.0335\n",
      "Epoch 1/10\n",
      "\u001b[1m1109/1109\u001b[0m \u001b[32m━━━━━━━━━━━━━━━━━━━━\u001b[0m\u001b[37m\u001b[0m \u001b[1m8s\u001b[0m 7ms/step - loss: 0.0044 - root_mean_squared_error: 0.0646 - val_loss: 0.0018 - val_root_mean_squared_error: 0.0422\n",
      "Epoch 2/10\n",
      "\u001b[1m1109/1109\u001b[0m \u001b[32m━━━━━━━━━━━━━━━━━━━━\u001b[0m\u001b[37m\u001b[0m \u001b[1m8s\u001b[0m 7ms/step - loss: 0.0013 - root_mean_squared_error: 0.0364 - val_loss: 0.0010 - val_root_mean_squared_error: 0.0321\n",
      "Epoch 3/10\n",
      "\u001b[1m1109/1109\u001b[0m \u001b[32m━━━━━━━━━━━━━━━━━━━━\u001b[0m\u001b[37m\u001b[0m \u001b[1m8s\u001b[0m 7ms/step - loss: 0.0011 - root_mean_squared_error: 0.0335 - val_loss: 0.0010 - val_root_mean_squared_error: 0.0321\n",
      "Epoch 4/10\n",
      "\u001b[1m1109/1109\u001b[0m \u001b[32m━━━━━━━━━━━━━━━━━━━━\u001b[0m\u001b[37m\u001b[0m \u001b[1m8s\u001b[0m 7ms/step - loss: 0.0011 - root_mean_squared_error: 0.0329 - val_loss: 8.7242e-04 - val_root_mean_squared_error: 0.0295\n",
      "Epoch 5/10\n",
      "\u001b[1m1109/1109\u001b[0m \u001b[32m━━━━━━━━━━━━━━━━━━━━\u001b[0m\u001b[37m\u001b[0m \u001b[1m8s\u001b[0m 7ms/step - loss: 0.0011 - root_mean_squared_error: 0.0323 - val_loss: 8.1039e-04 - val_root_mean_squared_error: 0.0285\n",
      "Epoch 6/10\n",
      "\u001b[1m1109/1109\u001b[0m \u001b[32m━━━━━━━━━━━━━━━━━━━━\u001b[0m\u001b[37m\u001b[0m \u001b[1m8s\u001b[0m 7ms/step - loss: 9.8723e-04 - root_mean_squared_error: 0.0312 - val_loss: 9.6885e-04 - val_root_mean_squared_error: 0.0311\n",
      "Epoch 7/10\n",
      "\u001b[1m1109/1109\u001b[0m \u001b[32m━━━━━━━━━━━━━━━━━━━━\u001b[0m\u001b[37m\u001b[0m \u001b[1m8s\u001b[0m 7ms/step - loss: 0.0010 - root_mean_squared_error: 0.0316 - val_loss: 8.9448e-04 - val_root_mean_squared_error: 0.0299\n",
      "Epoch 8/10\n",
      "\u001b[1m1109/1109\u001b[0m \u001b[32m━━━━━━━━━━━━━━━━━━━━\u001b[0m\u001b[37m\u001b[0m \u001b[1m8s\u001b[0m 7ms/step - loss: 9.7442e-04 - root_mean_squared_error: 0.0310 - val_loss: 8.7632e-04 - val_root_mean_squared_error: 0.0296\n",
      "Epoch 9/10\n",
      "\u001b[1m1109/1109\u001b[0m \u001b[32m━━━━━━━━━━━━━━━━━━━━\u001b[0m\u001b[37m\u001b[0m \u001b[1m8s\u001b[0m 7ms/step - loss: 0.0010 - root_mean_squared_error: 0.0315 - val_loss: 8.6951e-04 - val_root_mean_squared_error: 0.0295\n",
      "Epoch 10/10\n",
      "\u001b[1m1109/1109\u001b[0m \u001b[32m━━━━━━━━━━━━━━━━━━━━\u001b[0m\u001b[37m\u001b[0m \u001b[1m8s\u001b[0m 7ms/step - loss: 9.6102e-04 - root_mean_squared_error: 0.0308 - val_loss: 8.9321e-04 - val_root_mean_squared_error: 0.0299\n",
      "\u001b[1m124/124\u001b[0m \u001b[32m━━━━━━━━━━━━━━━━━━━━\u001b[0m\u001b[37m\u001b[0m \u001b[1m0s\u001b[0m 3ms/step - loss: 9.0373e-04 - root_mean_squared_error: 0.0300\n",
      "Epoch 1/10\n",
      "\u001b[1m1109/1109\u001b[0m \u001b[32m━━━━━━━━━━━━━━━━━━━━\u001b[0m\u001b[37m\u001b[0m \u001b[1m14s\u001b[0m 13ms/step - loss: 0.0045 - root_mean_squared_error: 0.0652 - val_loss: 0.0020 - val_root_mean_squared_error: 0.0447\n",
      "Epoch 2/10\n",
      "\u001b[1m1109/1109\u001b[0m \u001b[32m━━━━━━━━━━━━━━━━━━━━\u001b[0m\u001b[37m\u001b[0m \u001b[1m14s\u001b[0m 13ms/step - loss: 0.0014 - root_mean_squared_error: 0.0369 - val_loss: 0.0011 - val_root_mean_squared_error: 0.0336\n",
      "Epoch 3/10\n",
      "\u001b[1m1109/1109\u001b[0m \u001b[32m━━━━━━━━━━━━━━━━━━━━\u001b[0m\u001b[37m\u001b[0m \u001b[1m14s\u001b[0m 13ms/step - loss: 0.0011 - root_mean_squared_error: 0.0334 - val_loss: 9.5815e-04 - val_root_mean_squared_error: 0.0310\n",
      "Epoch 4/10\n",
      "\u001b[1m1109/1109\u001b[0m \u001b[32m━━━━━━━━━━━━━━━━━━━━\u001b[0m\u001b[37m\u001b[0m \u001b[1m14s\u001b[0m 13ms/step - loss: 0.0010 - root_mean_squared_error: 0.0321 - val_loss: 8.1175e-04 - val_root_mean_squared_error: 0.0285\n",
      "Epoch 5/10\n",
      "\u001b[1m1109/1109\u001b[0m \u001b[32m━━━━━━━━━━━━━━━━━━━━\u001b[0m\u001b[37m\u001b[0m \u001b[1m14s\u001b[0m 13ms/step - loss: 0.0011 - root_mean_squared_error: 0.0323 - val_loss: 7.9912e-04 - val_root_mean_squared_error: 0.0283\n",
      "Epoch 6/10\n",
      "\u001b[1m1109/1109\u001b[0m \u001b[32m━━━━━━━━━━━━━━━━━━━━\u001b[0m\u001b[37m\u001b[0m \u001b[1m14s\u001b[0m 13ms/step - loss: 0.0011 - root_mean_squared_error: 0.0321 - val_loss: 9.4982e-04 - val_root_mean_squared_error: 0.0308\n",
      "Epoch 7/10\n",
      "\u001b[1m1109/1109\u001b[0m \u001b[32m━━━━━━━━━━━━━━━━━━━━\u001b[0m\u001b[37m\u001b[0m \u001b[1m14s\u001b[0m 13ms/step - loss: 0.0010 - root_mean_squared_error: 0.0319 - val_loss: 8.9474e-04 - val_root_mean_squared_error: 0.0299\n",
      "Epoch 8/10\n",
      "\u001b[1m1109/1109\u001b[0m \u001b[32m━━━━━━━━━━━━━━━━━━━━\u001b[0m\u001b[37m\u001b[0m \u001b[1m14s\u001b[0m 13ms/step - loss: 0.0010 - root_mean_squared_error: 0.0318 - val_loss: 8.1825e-04 - val_root_mean_squared_error: 0.0286\n",
      "Epoch 9/10\n",
      "\u001b[1m1109/1109\u001b[0m \u001b[32m━━━━━━━━━━━━━━━━━━━━\u001b[0m\u001b[37m\u001b[0m \u001b[1m14s\u001b[0m 13ms/step - loss: 0.0010 - root_mean_squared_error: 0.0315 - val_loss: 8.7595e-04 - val_root_mean_squared_error: 0.0296\n",
      "Epoch 10/10\n",
      "\u001b[1m1109/1109\u001b[0m \u001b[32m━━━━━━━━━━━━━━━━━━━━\u001b[0m\u001b[37m\u001b[0m \u001b[1m14s\u001b[0m 13ms/step - loss: 9.8152e-04 - root_mean_squared_error: 0.0311 - val_loss: 8.5495e-04 - val_root_mean_squared_error: 0.0292\n",
      "\u001b[1m124/124\u001b[0m \u001b[32m━━━━━━━━━━━━━━━━━━━━\u001b[0m\u001b[37m\u001b[0m \u001b[1m0s\u001b[0m 3ms/step - loss: 8.8350e-04 - root_mean_squared_error: 0.0297\n",
      "Epoch 1/10\n",
      "\u001b[1m555/555\u001b[0m \u001b[32m━━━━━━━━━━━━━━━━━━━━\u001b[0m\u001b[37m\u001b[0m \u001b[1m4s\u001b[0m 7ms/step - loss: 0.0045 - root_mean_squared_error: 0.0658 - val_loss: 0.0024 - val_root_mean_squared_error: 0.0492\n",
      "Epoch 2/10\n",
      "\u001b[1m555/555\u001b[0m \u001b[32m━━━━━━━━━━━━━━━━━━━━\u001b[0m\u001b[37m\u001b[0m \u001b[1m4s\u001b[0m 7ms/step - loss: 0.0017 - root_mean_squared_error: 0.0409 - val_loss: 0.0019 - val_root_mean_squared_error: 0.0436\n",
      "Epoch 3/10\n",
      "\u001b[1m555/555\u001b[0m \u001b[32m━━━━━━━━━━━━━━━━━━━━\u001b[0m\u001b[37m\u001b[0m \u001b[1m4s\u001b[0m 7ms/step - loss: 0.0013 - root_mean_squared_error: 0.0365 - val_loss: 0.0013 - val_root_mean_squared_error: 0.0360\n",
      "Epoch 4/10\n",
      "\u001b[1m555/555\u001b[0m \u001b[32m━━━━━━━━━━━━━━━━━━━━\u001b[0m\u001b[37m\u001b[0m \u001b[1m4s\u001b[0m 7ms/step - loss: 0.0011 - root_mean_squared_error: 0.0337 - val_loss: 9.3110e-04 - val_root_mean_squared_error: 0.0305\n",
      "Epoch 5/10\n",
      "\u001b[1m555/555\u001b[0m \u001b[32m━━━━━━━━━━━━━━━━━━━━\u001b[0m\u001b[37m\u001b[0m \u001b[1m4s\u001b[0m 7ms/step - loss: 0.0011 - root_mean_squared_error: 0.0329 - val_loss: 8.6876e-04 - val_root_mean_squared_error: 0.0295\n",
      "Epoch 6/10\n",
      "\u001b[1m555/555\u001b[0m \u001b[32m━━━━━━━━━━━━━━━━━━━━\u001b[0m\u001b[37m\u001b[0m \u001b[1m4s\u001b[0m 7ms/step - loss: 0.0011 - root_mean_squared_error: 0.0323 - val_loss: 7.7045e-04 - val_root_mean_squared_error: 0.0278\n",
      "Epoch 7/10\n",
      "\u001b[1m555/555\u001b[0m \u001b[32m━━━━━━━━━━━━━━━━━━━━\u001b[0m\u001b[37m\u001b[0m \u001b[1m4s\u001b[0m 8ms/step - loss: 0.0010 - root_mean_squared_error: 0.0318 - val_loss: 6.8470e-04 - val_root_mean_squared_error: 0.0262\n",
      "Epoch 8/10\n",
      "\u001b[1m555/555\u001b[0m \u001b[32m━━━━━━━━━━━━━━━━━━━━\u001b[0m\u001b[37m\u001b[0m \u001b[1m4s\u001b[0m 7ms/step - loss: 0.0010 - root_mean_squared_error: 0.0317 - val_loss: 7.3956e-04 - val_root_mean_squared_error: 0.0272\n",
      "Epoch 9/10\n",
      "\u001b[1m555/555\u001b[0m \u001b[32m━━━━━━━━━━━━━━━━━━━━\u001b[0m\u001b[37m\u001b[0m \u001b[1m4s\u001b[0m 7ms/step - loss: 0.0010 - root_mean_squared_error: 0.0314 - val_loss: 7.0730e-04 - val_root_mean_squared_error: 0.0266\n",
      "Epoch 10/10\n",
      "\u001b[1m555/555\u001b[0m \u001b[32m━━━━━━━━━━━━━━━━━━━━\u001b[0m\u001b[37m\u001b[0m \u001b[1m4s\u001b[0m 7ms/step - loss: 9.7777e-04 - root_mean_squared_error: 0.0310 - val_loss: 7.1901e-04 - val_root_mean_squared_error: 0.0268\n",
      "\u001b[1m124/124\u001b[0m \u001b[32m━━━━━━━━━━━━━━━━━━━━\u001b[0m\u001b[37m\u001b[0m \u001b[1m0s\u001b[0m 3ms/step - loss: 8.0436e-04 - root_mean_squared_error: 0.0283\n",
      "Epoch 1/10\n",
      "\u001b[1m555/555\u001b[0m \u001b[32m━━━━━━━━━━━━━━━━━━━━\u001b[0m\u001b[37m\u001b[0m \u001b[1m7s\u001b[0m 13ms/step - loss: 0.0045 - root_mean_squared_error: 0.0660 - val_loss: 0.0028 - val_root_mean_squared_error: 0.0530\n",
      "Epoch 2/10\n",
      "\u001b[1m555/555\u001b[0m \u001b[32m━━━━━━━━━━━━━━━━━━━━\u001b[0m\u001b[37m\u001b[0m \u001b[1m7s\u001b[0m 13ms/step - loss: 0.0017 - root_mean_squared_error: 0.0407 - val_loss: 0.0019 - val_root_mean_squared_error: 0.0441\n",
      "Epoch 3/10\n",
      "\u001b[1m555/555\u001b[0m \u001b[32m━━━━━━━━━━━━━━━━━━━━\u001b[0m\u001b[37m\u001b[0m \u001b[1m7s\u001b[0m 13ms/step - loss: 0.0013 - root_mean_squared_error: 0.0355 - val_loss: 0.0012 - val_root_mean_squared_error: 0.0353\n",
      "Epoch 4/10\n",
      "\u001b[1m555/555\u001b[0m \u001b[32m━━━━━━━━━━━━━━━━━━━━\u001b[0m\u001b[37m\u001b[0m \u001b[1m7s\u001b[0m 13ms/step - loss: 0.0011 - root_mean_squared_error: 0.0331 - val_loss: 9.1385e-04 - val_root_mean_squared_error: 0.0302\n",
      "Epoch 5/10\n",
      "\u001b[1m555/555\u001b[0m \u001b[32m━━━━━━━━━━━━━━━━━━━━\u001b[0m\u001b[37m\u001b[0m \u001b[1m7s\u001b[0m 13ms/step - loss: 0.0011 - root_mean_squared_error: 0.0328 - val_loss: 7.8848e-04 - val_root_mean_squared_error: 0.0281\n",
      "Epoch 6/10\n",
      "\u001b[1m555/555\u001b[0m \u001b[32m━━━━━━━━━━━━━━━━━━━━\u001b[0m\u001b[37m\u001b[0m \u001b[1m7s\u001b[0m 13ms/step - loss: 0.0011 - root_mean_squared_error: 0.0322 - val_loss: 7.3812e-04 - val_root_mean_squared_error: 0.0272\n",
      "Epoch 7/10\n",
      "\u001b[1m555/555\u001b[0m \u001b[32m━━━━━━━━━━━━━━━━━━━━\u001b[0m\u001b[37m\u001b[0m \u001b[1m7s\u001b[0m 13ms/step - loss: 0.0010 - root_mean_squared_error: 0.0316 - val_loss: 7.3343e-04 - val_root_mean_squared_error: 0.0271\n",
      "Epoch 8/10\n",
      "\u001b[1m555/555\u001b[0m \u001b[32m━━━━━━━━━━━━━━━━━━━━\u001b[0m\u001b[37m\u001b[0m \u001b[1m7s\u001b[0m 13ms/step - loss: 0.0010 - root_mean_squared_error: 0.0314 - val_loss: 7.5924e-04 - val_root_mean_squared_error: 0.0276\n",
      "Epoch 9/10\n",
      "\u001b[1m555/555\u001b[0m \u001b[32m━━━━━━━━━━━━━━━━━━━━\u001b[0m\u001b[37m\u001b[0m \u001b[1m7s\u001b[0m 13ms/step - loss: 0.0010 - root_mean_squared_error: 0.0316 - val_loss: 7.1349e-04 - val_root_mean_squared_error: 0.0267\n",
      "Epoch 10/10\n",
      "\u001b[1m555/555\u001b[0m \u001b[32m━━━━━━━━━━━━━━━━━━━━\u001b[0m\u001b[37m\u001b[0m \u001b[1m7s\u001b[0m 13ms/step - loss: 0.0010 - root_mean_squared_error: 0.0315 - val_loss: 7.0298e-04 - val_root_mean_squared_error: 0.0265\n",
      "\u001b[1m124/124\u001b[0m \u001b[32m━━━━━━━━━━━━━━━━━━━━\u001b[0m\u001b[37m\u001b[0m \u001b[1m0s\u001b[0m 3ms/step - loss: 8.0190e-04 - root_mean_squared_error: 0.0283\n",
      "Epoch 1/10\n",
      "\u001b[1m278/278\u001b[0m \u001b[32m━━━━━━━━━━━━━━━━━━━━\u001b[0m\u001b[37m\u001b[0m \u001b[1m2s\u001b[0m 7ms/step - loss: 0.0046 - root_mean_squared_error: 0.0664 - val_loss: 0.0070 - val_root_mean_squared_error: 0.0835\n",
      "Epoch 2/10\n",
      "\u001b[1m278/278\u001b[0m \u001b[32m━━━━━━━━━━━━━━━━━━━━\u001b[0m\u001b[37m\u001b[0m \u001b[1m2s\u001b[0m 7ms/step - loss: 0.0020 - root_mean_squared_error: 0.0444 - val_loss: 0.0074 - val_root_mean_squared_error: 0.0862\n",
      "Epoch 3/10\n",
      "\u001b[1m278/278\u001b[0m \u001b[32m━━━━━━━━━━━━━━━━━━━━\u001b[0m\u001b[37m\u001b[0m \u001b[1m2s\u001b[0m 8ms/step - loss: 0.0016 - root_mean_squared_error: 0.0406 - val_loss: 0.0089 - val_root_mean_squared_error: 0.0943\n",
      "Epoch 4/10\n",
      "\u001b[1m278/278\u001b[0m \u001b[32m━━━━━━━━━━━━━━━━━━━━\u001b[0m\u001b[37m\u001b[0m \u001b[1m2s\u001b[0m 8ms/step - loss: 0.0015 - root_mean_squared_error: 0.0387 - val_loss: 0.0094 - val_root_mean_squared_error: 0.0969\n",
      "Epoch 5/10\n",
      "\u001b[1m278/278\u001b[0m \u001b[32m━━━━━━━━━━━━━━━━━━━━\u001b[0m\u001b[37m\u001b[0m \u001b[1m2s\u001b[0m 7ms/step - loss: 0.0014 - root_mean_squared_error: 0.0377 - val_loss: 0.0103 - val_root_mean_squared_error: 0.1015\n",
      "Epoch 6/10\n",
      "\u001b[1m278/278\u001b[0m \u001b[32m━━━━━━━━━━━━━━━━━━━━\u001b[0m\u001b[37m\u001b[0m \u001b[1m2s\u001b[0m 8ms/step - loss: 0.0014 - root_mean_squared_error: 0.0375 - val_loss: 0.0113 - val_root_mean_squared_error: 0.1062\n",
      "Epoch 7/10\n",
      "\u001b[1m278/278\u001b[0m \u001b[32m━━━━━━━━━━━━━━━━━━━━\u001b[0m\u001b[37m\u001b[0m \u001b[1m2s\u001b[0m 7ms/step - loss: 0.0014 - root_mean_squared_error: 0.0370 - val_loss: 0.0137 - val_root_mean_squared_error: 0.1169\n",
      "Epoch 8/10\n",
      "\u001b[1m278/278\u001b[0m \u001b[32m━━━━━━━━━━━━━━━━━━━━\u001b[0m\u001b[37m\u001b[0m \u001b[1m2s\u001b[0m 7ms/step - loss: 0.0014 - root_mean_squared_error: 0.0372 - val_loss: 0.0152 - val_root_mean_squared_error: 0.1233\n",
      "Epoch 9/10\n",
      "\u001b[1m278/278\u001b[0m \u001b[32m━━━━━━━━━━━━━━━━━━━━\u001b[0m\u001b[37m\u001b[0m \u001b[1m2s\u001b[0m 8ms/step - loss: 0.0015 - root_mean_squared_error: 0.0387 - val_loss: 0.0191 - val_root_mean_squared_error: 0.1381\n",
      "Epoch 10/10\n",
      "\u001b[1m278/278\u001b[0m \u001b[32m━━━━━━━━━━━━━━━━━━━━\u001b[0m\u001b[37m\u001b[0m \u001b[1m2s\u001b[0m 7ms/step - loss: 0.0017 - root_mean_squared_error: 0.0412 - val_loss: 0.0170 - val_root_mean_squared_error: 0.1306\n",
      "\u001b[1m124/124\u001b[0m \u001b[32m━━━━━━━━━━━━━━━━━━━━\u001b[0m\u001b[37m\u001b[0m \u001b[1m0s\u001b[0m 3ms/step - loss: 0.0066 - root_mean_squared_error: 0.0754\n",
      "Epoch 1/10\n",
      "\u001b[1m278/278\u001b[0m \u001b[32m━━━━━━━━━━━━━━━━━━━━\u001b[0m\u001b[37m\u001b[0m \u001b[1m4s\u001b[0m 14ms/step - loss: 0.0042 - root_mean_squared_error: 0.0639 - val_loss: 0.0062 - val_root_mean_squared_error: 0.0788\n",
      "Epoch 2/10\n",
      "\u001b[1m278/278\u001b[0m \u001b[32m━━━━━━━━━━━━━━━━━━━━\u001b[0m\u001b[37m\u001b[0m \u001b[1m4s\u001b[0m 13ms/step - loss: 0.0021 - root_mean_squared_error: 0.0453 - val_loss: 0.0059 - val_root_mean_squared_error: 0.0766\n",
      "Epoch 3/10\n",
      "\u001b[1m278/278\u001b[0m \u001b[32m━━━━━━━━━━━━━━━━━━━━\u001b[0m\u001b[37m\u001b[0m \u001b[1m4s\u001b[0m 13ms/step - loss: 0.0017 - root_mean_squared_error: 0.0409 - val_loss: 0.0066 - val_root_mean_squared_error: 0.0815\n",
      "Epoch 4/10\n",
      "\u001b[1m278/278\u001b[0m \u001b[32m━━━━━━━━━━━━━━━━━━━━\u001b[0m\u001b[37m\u001b[0m \u001b[1m4s\u001b[0m 13ms/step - loss: 0.0015 - root_mean_squared_error: 0.0383 - val_loss: 0.0077 - val_root_mean_squared_error: 0.0879\n",
      "Epoch 5/10\n",
      "\u001b[1m278/278\u001b[0m \u001b[32m━━━━━━━━━━━━━━━━━━━━\u001b[0m\u001b[37m\u001b[0m \u001b[1m4s\u001b[0m 13ms/step - loss: 0.0014 - root_mean_squared_error: 0.0370 - val_loss: 0.0088 - val_root_mean_squared_error: 0.0937\n",
      "Epoch 6/10\n",
      "\u001b[1m278/278\u001b[0m \u001b[32m━━━━━━━━━━━━━━━━━━━━\u001b[0m\u001b[37m\u001b[0m \u001b[1m4s\u001b[0m 13ms/step - loss: 0.0013 - root_mean_squared_error: 0.0364 - val_loss: 0.0095 - val_root_mean_squared_error: 0.0975\n",
      "Epoch 7/10\n",
      "\u001b[1m278/278\u001b[0m \u001b[32m━━━━━━━━━━━━━━━━━━━━\u001b[0m\u001b[37m\u001b[0m \u001b[1m4s\u001b[0m 13ms/step - loss: 0.0013 - root_mean_squared_error: 0.0358 - val_loss: 0.0102 - val_root_mean_squared_error: 0.1008\n",
      "Epoch 8/10\n",
      "\u001b[1m278/278\u001b[0m \u001b[32m━━━━━━━━━━━━━━━━━━━━\u001b[0m\u001b[37m\u001b[0m \u001b[1m4s\u001b[0m 13ms/step - loss: 0.0013 - root_mean_squared_error: 0.0359 - val_loss: 0.0114 - val_root_mean_squared_error: 0.1065\n",
      "Epoch 9/10\n",
      "\u001b[1m278/278\u001b[0m \u001b[32m━━━━━━━━━━━━━━━━━━━━\u001b[0m\u001b[37m\u001b[0m \u001b[1m4s\u001b[0m 13ms/step - loss: 0.0013 - root_mean_squared_error: 0.0361 - val_loss: 0.0135 - val_root_mean_squared_error: 0.1163\n",
      "Epoch 10/10\n",
      "\u001b[1m278/278\u001b[0m \u001b[32m━━━━━━━━━━━━━━━━━━━━\u001b[0m\u001b[37m\u001b[0m \u001b[1m4s\u001b[0m 14ms/step - loss: 0.0013 - root_mean_squared_error: 0.0363 - val_loss: 0.0163 - val_root_mean_squared_error: 0.1275\n",
      "\u001b[1m124/124\u001b[0m \u001b[32m━━━━━━━━━━━━━━━━━━━━\u001b[0m\u001b[37m\u001b[0m \u001b[1m0s\u001b[0m 3ms/step - loss: 0.0062 - root_mean_squared_error: 0.0724\n",
      "Epoch 1/10\n",
      "\u001b[1m139/139\u001b[0m \u001b[32m━━━━━━━━━━━━━━━━━━━━\u001b[0m\u001b[37m\u001b[0m \u001b[1m1s\u001b[0m 8ms/step - loss: 0.0058 - root_mean_squared_error: 0.0756 - val_loss: 0.0450 - val_root_mean_squared_error: 0.2122\n",
      "Epoch 2/10\n",
      "\u001b[1m139/139\u001b[0m \u001b[32m━━━━━━━━━━━━━━━━━━━━\u001b[0m\u001b[37m\u001b[0m \u001b[1m1s\u001b[0m 8ms/step - loss: 0.0092 - root_mean_squared_error: 0.0960 - val_loss: 0.0046 - val_root_mean_squared_error: 0.0677\n",
      "Epoch 3/10\n",
      "\u001b[1m139/139\u001b[0m \u001b[32m━━━━━━━━━━━━━━━━━━━━\u001b[0m\u001b[37m\u001b[0m \u001b[1m1s\u001b[0m 9ms/step - loss: 0.0034 - root_mean_squared_error: 0.0578 - val_loss: 0.0018 - val_root_mean_squared_error: 0.0419\n",
      "Epoch 4/10\n",
      "\u001b[1m139/139\u001b[0m \u001b[32m━━━━━━━━━━━━━━━━━━━━\u001b[0m\u001b[37m\u001b[0m \u001b[1m1s\u001b[0m 8ms/step - loss: 0.0022 - root_mean_squared_error: 0.0471 - val_loss: 0.0016 - val_root_mean_squared_error: 0.0397\n",
      "Epoch 5/10\n",
      "\u001b[1m139/139\u001b[0m \u001b[32m━━━━━━━━━━━━━━━━━━━━\u001b[0m\u001b[37m\u001b[0m \u001b[1m1s\u001b[0m 8ms/step - loss: 0.0020 - root_mean_squared_error: 0.0449 - val_loss: 0.0015 - val_root_mean_squared_error: 0.0390\n",
      "Epoch 6/10\n",
      "\u001b[1m139/139\u001b[0m \u001b[32m━━━━━━━━━━━━━━━━━━━━\u001b[0m\u001b[37m\u001b[0m \u001b[1m1s\u001b[0m 8ms/step - loss: 0.0019 - root_mean_squared_error: 0.0436 - val_loss: 0.0011 - val_root_mean_squared_error: 0.0335\n",
      "Epoch 7/10\n",
      "\u001b[1m139/139\u001b[0m \u001b[32m━━━━━━━━━━━━━━━━━━━━\u001b[0m\u001b[37m\u001b[0m \u001b[1m1s\u001b[0m 8ms/step - loss: 0.0015 - root_mean_squared_error: 0.0392 - val_loss: 0.0013 - val_root_mean_squared_error: 0.0362\n",
      "Epoch 8/10\n",
      "\u001b[1m139/139\u001b[0m \u001b[32m━━━━━━━━━━━━━━━━━━━━\u001b[0m\u001b[37m\u001b[0m \u001b[1m1s\u001b[0m 9ms/step - loss: 0.0015 - root_mean_squared_error: 0.0386 - val_loss: 0.0049 - val_root_mean_squared_error: 0.0702\n",
      "Epoch 9/10\n",
      "\u001b[1m139/139\u001b[0m \u001b[32m━━━━━━━━━━━━━━━━━━━━\u001b[0m\u001b[37m\u001b[0m \u001b[1m1s\u001b[0m 8ms/step - loss: 0.0022 - root_mean_squared_error: 0.0473 - val_loss: 0.0011 - val_root_mean_squared_error: 0.0336\n",
      "Epoch 10/10\n",
      "\u001b[1m139/139\u001b[0m \u001b[32m━━━━━━━━━━━━━━━━━━━━\u001b[0m\u001b[37m\u001b[0m \u001b[1m1s\u001b[0m 8ms/step - loss: 0.0014 - root_mean_squared_error: 0.0369 - val_loss: 7.9046e-04 - val_root_mean_squared_error: 0.0281\n",
      "\u001b[1m124/124\u001b[0m \u001b[32m━━━━━━━━━━━━━━━━━━━━\u001b[0m\u001b[37m\u001b[0m \u001b[1m0s\u001b[0m 3ms/step - loss: 9.8962e-04 - root_mean_squared_error: 0.0314\n",
      "Epoch 1/10\n",
      "\u001b[1m139/139\u001b[0m \u001b[32m━━━━━━━━━━━━━━━━━━━━\u001b[0m\u001b[37m\u001b[0m \u001b[1m2s\u001b[0m 15ms/step - loss: 0.0061 - root_mean_squared_error: 0.0781 - val_loss: 0.0247 - val_root_mean_squared_error: 0.1572\n",
      "Epoch 2/10\n",
      "\u001b[1m139/139\u001b[0m \u001b[32m━━━━━━━━━━━━━━━━━━━━\u001b[0m\u001b[37m\u001b[0m \u001b[1m2s\u001b[0m 14ms/step - loss: 0.0089 - root_mean_squared_error: 0.0944 - val_loss: 0.0044 - val_root_mean_squared_error: 0.0661\n",
      "Epoch 3/10\n",
      "\u001b[1m139/139\u001b[0m \u001b[32m━━━━━━━━━━━━━━━━━━━━\u001b[0m\u001b[37m\u001b[0m \u001b[1m2s\u001b[0m 13ms/step - loss: 0.0032 - root_mean_squared_error: 0.0568 - val_loss: 0.0032 - val_root_mean_squared_error: 0.0566\n",
      "Epoch 4/10\n",
      "\u001b[1m139/139\u001b[0m \u001b[32m━━━━━━━━━━━━━━━━━━━━\u001b[0m\u001b[37m\u001b[0m \u001b[1m2s\u001b[0m 14ms/step - loss: 0.0026 - root_mean_squared_error: 0.0513 - val_loss: 0.0042 - val_root_mean_squared_error: 0.0651\n",
      "Epoch 5/10\n",
      "\u001b[1m139/139\u001b[0m \u001b[32m━━━━━━━━━━━━━━━━━━━━\u001b[0m\u001b[37m\u001b[0m \u001b[1m2s\u001b[0m 14ms/step - loss: 0.0026 - root_mean_squared_error: 0.0512 - val_loss: 0.0012 - val_root_mean_squared_error: 0.0347\n",
      "Epoch 6/10\n",
      "\u001b[1m139/139\u001b[0m \u001b[32m━━━━━━━━━━━━━━━━━━━━\u001b[0m\u001b[37m\u001b[0m \u001b[1m2s\u001b[0m 13ms/step - loss: 0.0017 - root_mean_squared_error: 0.0410 - val_loss: 0.0012 - val_root_mean_squared_error: 0.0349\n",
      "Epoch 7/10\n",
      "\u001b[1m139/139\u001b[0m \u001b[32m━━━━━━━━━━━━━━━━━━━━\u001b[0m\u001b[37m\u001b[0m \u001b[1m2s\u001b[0m 13ms/step - loss: 0.0017 - root_mean_squared_error: 0.0411 - val_loss: 0.0011 - val_root_mean_squared_error: 0.0326\n",
      "Epoch 8/10\n",
      "\u001b[1m139/139\u001b[0m \u001b[32m━━━━━━━━━━━━━━━━━━━━\u001b[0m\u001b[37m\u001b[0m \u001b[1m2s\u001b[0m 14ms/step - loss: 0.0015 - root_mean_squared_error: 0.0388 - val_loss: 9.4585e-04 - val_root_mean_squared_error: 0.0308\n",
      "Epoch 9/10\n",
      "\u001b[1m139/139\u001b[0m \u001b[32m━━━━━━━━━━━━━━━━━━━━\u001b[0m\u001b[37m\u001b[0m \u001b[1m2s\u001b[0m 13ms/step - loss: 0.0014 - root_mean_squared_error: 0.0367 - val_loss: 8.8285e-04 - val_root_mean_squared_error: 0.0297\n",
      "Epoch 10/10\n",
      "\u001b[1m139/139\u001b[0m \u001b[32m━━━━━━━━━━━━━━━━━━━━\u001b[0m\u001b[37m\u001b[0m \u001b[1m2s\u001b[0m 14ms/step - loss: 0.0013 - root_mean_squared_error: 0.0359 - val_loss: 8.6894e-04 - val_root_mean_squared_error: 0.0295\n",
      "\u001b[1m124/124\u001b[0m \u001b[32m━━━━━━━━━━━━━━━━━━━━\u001b[0m\u001b[37m\u001b[0m \u001b[1m0s\u001b[0m 3ms/step - loss: 0.0010 - root_mean_squared_error: 0.0318\n"
     ]
    }
   ],
   "source": [
    "for batch_size in batch_sizes:\n",
    "   \n",
    "    with tf.device('/CPU:0'): #Train with CPU\n",
    "        # Reset weights to initial weights before starting new training attempts\n",
    "        STCK_LSTM.set_weights(initial_weights)\n",
    "        start_time = time.time()\n",
    "        STCK_LSTM.fit(X_train, y_train, epochs=10, validation_split=0.1, batch_size=batch_size, shuffle=False)\n",
    "        cpu_time = time.time() - start_time\n",
    "        CPU_scores = STCK_LSTM.evaluate(X_train[split:], y_train[split:])\n",
    "\n",
    "  \n",
    "    with tf.device('/GPU:0'): #Train with GPU\n",
    "        STCK_LSTM.set_weights(initial_weights)\n",
    "        start_time = time.time()\n",
    "        STCK_LSTM.fit(X_train, y_train, epochs=10, validation_split=0.1, batch_size=batch_size, shuffle=False)        \n",
    "        gpu_time = time.time() - start_time\n",
    "        GPU_scores = STCK_LSTM.evaluate(X_train[split:], y_train[split:])\n",
    "\n",
    "\n",
    "    # Record results\n",
    "    results[\"batch_size\"].append(batch_size)\n",
    "    results[\"cpu_rmse\"].append(CPU_scores[1])\n",
    "    results[\"cpu_time\"].append(cpu_time)\n",
    "    results[\"gpu_rmse\"].append(GPU_scores[1])\n",
    "    results[\"gpu_time\"].append(gpu_time)"
   ]
  },
  {
   "cell_type": "code",
   "execution_count": 32,
   "metadata": {},
   "outputs": [
    {
     "data": {
      "image/png": "[encoded data removed]",
      "text/plain": [
       "<Figure size 1000x600 with 1 Axes>"
      ]
     },
     "metadata": {},
     "output_type": "display_data"
    }
   ],
   "source": [
    "\n",
    "plt.figure(figsize=(10, 6))\n",
    "plt.plot(results[\"batch_size\"], results[\"cpu_time\"], label=\"CPU Time\", marker='o')\n",
    "plt.plot(results[\"batch_size\"], results[\"gpu_time\"], label=\"GPU Time\", marker='o')\n",
    "plt.title(\"Batch Size vs Training Time\")\n",
    "plt.xlabel(\"Batch Size\")\n",
    "plt.ylabel(\"Training Time (seconds)\")\n",
    "plt.legend()\n",
    "plt.show()\n",
    "\n"
   ]
  },
  {
   "cell_type": "markdown",
   "metadata": {},
   "source": [
    "As the batch size increases, the training time decreases significantly for both CPU and GPU. The CPU shows a steeper decline, demonstrating it is more efficient here in handling larger batch sizes.\n",
    "\n",
    "This suggests the LSTM doesn't benefit from gpu's parallel capability. Likely because LSTMs handle sequential data where weights are updated in turn, meaning the GPU can't directly support parallelism and we will have to look into specific strategies to train in parallel.\n",
    "\n",
    "We can still determine which processor is best to perform the sequential LSTM, taking into account it's prediction accuracy also. "
   ]
  },
  {
   "cell_type": "markdown",
   "metadata": {},
   "source": [
    "## Batch Size vs RMSE"
   ]
  },
  {
   "cell_type": "code",
   "execution_count": 33,
   "metadata": {},
   "outputs": [
    {
     "data": {
      "image/png": "[encoded data removed]",
      "text/plain": [
       "<Figure size 1000x600 with 1 Axes>"
      ]
     },
     "metadata": {},
     "output_type": "display_data"
    }
   ],
   "source": [
    "plt.figure(figsize=(10, 6))\n",
    "plt.plot(results[\"batch_size\"], results[\"cpu_rmse\"], label=\"CPU RMSE\", marker='o')\n",
    "plt.plot(results[\"batch_size\"], results[\"gpu_rmse\"], label=\"GPU RMSE\", marker='o')\n",
    "plt.title(\"Batch Size vs RMSE\")\n",
    "plt.xlabel(\"Batch Size\")\n",
    "plt.ylabel(\"Root Mean Squared Error\")\n",
    "plt.legend()\n",
    "plt.show()"
   ]
  },
  {
   "cell_type": "markdown",
   "metadata": {},
   "source": [
    "This looks at how rmse changes for different batch sizes on CPU and GPU. Smaller batch sizes perform better with lower rmse for both CPU and GPU, likely because  they provide more frequent updates, leading to better convergence. However, as the batch size increases, rmse spikes significantly for both at 128, suggesting that the model struggles with generalisation, especially using GPU. The CPU however, maintains more stable rmse values across all batch sizes."
   ]
  },
  {
   "cell_type": "markdown",
   "metadata": {},
   "source": [
    "### Analysis\n",
    "\n",
    "- As discussed an epoch value of 25 is quite good to avoid overfitting, generalise well and result in good rmse. Despite, not directly comparing computation time, after much trial and error as desribed in the LSTM_failures notebook, we came to the conclusion that any larger is unnecary for model accuracy and only adds to computation time. We care more about computation time because we want to theoretical analyse how our models will peroform if the dataset was scaled significantly. \n",
    "- A batch size of 100 provides a good trade-off between computational efficiency and rmse value. \n",
    "- While GPUs excel at at parallelism (which wasn't used here), the CPU performs more consistently across batch sizes and offers better generalisation on the validation set. Thus, it is better to use the CPU for the final model as it achieves good rmse accuracy without extreme computation power, more comparable to the univariate LSTM. \n",
    "\n"
   ]
  },
  {
   "cell_type": "markdown",
   "metadata": {},
   "source": [
    "# Final Model"
   ]
  },
  {
   "cell_type": "markdown",
   "metadata": {},
   "source": [
    "- Batch size: 100\n",
    "- processor: CPU\n",
    "- Epochs: 25"
   ]
  },
  {
   "cell_type": "code",
   "execution_count": 34,
   "metadata": {},
   "outputs": [
    {
     "name": "stdout",
     "output_type": "stream",
     "text": [
      "Epoch 1/25\n",
      "\u001b[1m355/355\u001b[0m \u001b[32m━━━━━━━━━━━━━━━━━━━━\u001b[0m\u001b[37m\u001b[0m \u001b[1m3s\u001b[0m 8ms/step - loss: 0.0043 - root_mean_squared_error: 0.0650 - val_loss: 0.0045 - val_root_mean_squared_error: 0.0674\n",
      "Epoch 2/25\n",
      "\u001b[1m355/355\u001b[0m \u001b[32m━━━━━━━━━━━━━━━━━━━━\u001b[0m\u001b[37m\u001b[0m \u001b[1m3s\u001b[0m 7ms/step - loss: 0.0020 - root_mean_squared_error: 0.0449 - val_loss: 0.0038 - val_root_mean_squared_error: 0.0614\n",
      "Epoch 3/25\n",
      "\u001b[1m355/355\u001b[0m \u001b[32m━━━━━━━━━━━━━━━━━━━━\u001b[0m\u001b[37m\u001b[0m \u001b[1m3s\u001b[0m 7ms/step - loss: 0.0016 - root_mean_squared_error: 0.0401 - val_loss: 0.0030 - val_root_mean_squared_error: 0.0544\n",
      "Epoch 4/25\n",
      "\u001b[1m355/355\u001b[0m \u001b[32m━━━━━━━━━━━━━━━━━━━━\u001b[0m\u001b[37m\u001b[0m \u001b[1m3s\u001b[0m 7ms/step - loss: 0.0014 - root_mean_squared_error: 0.0371 - val_loss: 0.0019 - val_root_mean_squared_error: 0.0430\n",
      "Epoch 5/25\n",
      "\u001b[1m355/355\u001b[0m \u001b[32m━━━━━━━━━━━━━━━━━━━━\u001b[0m\u001b[37m\u001b[0m \u001b[1m3s\u001b[0m 7ms/step - loss: 0.0011 - root_mean_squared_error: 0.0337 - val_loss: 0.0013 - val_root_mean_squared_error: 0.0354\n",
      "Epoch 6/25\n",
      "\u001b[1m355/355\u001b[0m \u001b[32m━━━━━━━━━━━━━━━━━━━━\u001b[0m\u001b[37m\u001b[0m \u001b[1m3s\u001b[0m 7ms/step - loss: 0.0011 - root_mean_squared_error: 0.0330 - val_loss: 0.0010 - val_root_mean_squared_error: 0.0317\n",
      "Epoch 7/25\n",
      "\u001b[1m355/355\u001b[0m \u001b[32m━━━━━━━━━━━━━━━━━━━━\u001b[0m\u001b[37m\u001b[0m \u001b[1m3s\u001b[0m 8ms/step - loss: 0.0011 - root_mean_squared_error: 0.0324 - val_loss: 8.6015e-04 - val_root_mean_squared_error: 0.0293\n",
      "Epoch 8/25\n",
      "\u001b[1m355/355\u001b[0m \u001b[32m━━━━━━━━━━━━━━━━━━━━\u001b[0m\u001b[37m\u001b[0m \u001b[1m3s\u001b[0m 7ms/step - loss: 0.0011 - root_mean_squared_error: 0.0324 - val_loss: 7.5936e-04 - val_root_mean_squared_error: 0.0276\n",
      "Epoch 9/25\n",
      "\u001b[1m355/355\u001b[0m \u001b[32m━━━━━━━━━━━━━━━━━━━━\u001b[0m\u001b[37m\u001b[0m \u001b[1m3s\u001b[0m 7ms/step - loss: 0.0010 - root_mean_squared_error: 0.0320 - val_loss: 7.2077e-04 - val_root_mean_squared_error: 0.0268\n",
      "Epoch 10/25\n",
      "\u001b[1m355/355\u001b[0m \u001b[32m━━━━━━━━━━━━━━━━━━━━\u001b[0m\u001b[37m\u001b[0m \u001b[1m3s\u001b[0m 8ms/step - loss: 0.0010 - root_mean_squared_error: 0.0317 - val_loss: 7.4951e-04 - val_root_mean_squared_error: 0.0274\n",
      "Epoch 11/25\n",
      "\u001b[1m355/355\u001b[0m \u001b[32m━━━━━━━━━━━━━━━━━━━━\u001b[0m\u001b[37m\u001b[0m \u001b[1m3s\u001b[0m 7ms/step - loss: 0.0010 - root_mean_squared_error: 0.0317 - val_loss: 6.9718e-04 - val_root_mean_squared_error: 0.0264\n",
      "Epoch 12/25\n",
      "\u001b[1m355/355\u001b[0m \u001b[32m━━━━━━━━━━━━━━━━━━━━\u001b[0m\u001b[37m\u001b[0m \u001b[1m3s\u001b[0m 7ms/step - loss: 0.0010 - root_mean_squared_error: 0.0315 - val_loss: 7.0561e-04 - val_root_mean_squared_error: 0.0266\n",
      "Epoch 13/25\n",
      "\u001b[1m355/355\u001b[0m \u001b[32m━━━━━━━━━━━━━━━━━━━━\u001b[0m\u001b[37m\u001b[0m \u001b[1m3s\u001b[0m 8ms/step - loss: 9.5999e-04 - root_mean_squared_error: 0.0308 - val_loss: 7.1017e-04 - val_root_mean_squared_error: 0.0266\n",
      "Epoch 14/25\n",
      "\u001b[1m355/355\u001b[0m \u001b[32m━━━━━━━━━━━━━━━━━━━━\u001b[0m\u001b[37m\u001b[0m \u001b[1m3s\u001b[0m 7ms/step - loss: 9.7798e-04 - root_mean_squared_error: 0.0310 - val_loss: 7.3451e-04 - val_root_mean_squared_error: 0.0271\n",
      "Epoch 15/25\n",
      "\u001b[1m355/355\u001b[0m \u001b[32m━━━━━━━━━━━━━━━━━━━━\u001b[0m\u001b[37m\u001b[0m \u001b[1m3s\u001b[0m 7ms/step - loss: 9.5965e-04 - root_mean_squared_error: 0.0308 - val_loss: 7.1592e-04 - val_root_mean_squared_error: 0.0268\n",
      "Epoch 16/25\n",
      "\u001b[1m355/355\u001b[0m \u001b[32m━━━━━━━━━━━━━━━━━━━━\u001b[0m\u001b[37m\u001b[0m \u001b[1m3s\u001b[0m 8ms/step - loss: 9.7738e-04 - root_mean_squared_error: 0.0310 - val_loss: 7.4260e-04 - val_root_mean_squared_error: 0.0273\n",
      "Epoch 17/25\n",
      "\u001b[1m355/355\u001b[0m \u001b[32m━━━━━━━━━━━━━━━━━━━━\u001b[0m\u001b[37m\u001b[0m \u001b[1m3s\u001b[0m 7ms/step - loss: 9.4932e-04 - root_mean_squared_error: 0.0306 - val_loss: 7.3847e-04 - val_root_mean_squared_error: 0.0272\n",
      "Epoch 18/25\n",
      "\u001b[1m355/355\u001b[0m \u001b[32m━━━━━━━━━━━━━━━━━━━━\u001b[0m\u001b[37m\u001b[0m \u001b[1m3s\u001b[0m 7ms/step - loss: 9.6873e-04 - root_mean_squared_error: 0.0309 - val_loss: 7.6696e-04 - val_root_mean_squared_error: 0.0277\n",
      "Epoch 19/25\n",
      "\u001b[1m355/355\u001b[0m \u001b[32m━━━━━━━━━━━━━━━━━━━━\u001b[0m\u001b[37m\u001b[0m \u001b[1m3s\u001b[0m 8ms/step - loss: 9.8537e-04 - root_mean_squared_error: 0.0311 - val_loss: 7.5180e-04 - val_root_mean_squared_error: 0.0274\n",
      "Epoch 20/25\n",
      "\u001b[1m355/355\u001b[0m \u001b[32m━━━━━━━━━━━━━━━━━━━━\u001b[0m\u001b[37m\u001b[0m \u001b[1m3s\u001b[0m 7ms/step - loss: 9.4753e-04 - root_mean_squared_error: 0.0305 - val_loss: 7.5691e-04 - val_root_mean_squared_error: 0.0275\n",
      "Epoch 21/25\n",
      "\u001b[1m355/355\u001b[0m \u001b[32m━━━━━━━━━━━━━━━━━━━━\u001b[0m\u001b[37m\u001b[0m \u001b[1m3s\u001b[0m 7ms/step - loss: 9.4511e-04 - root_mean_squared_error: 0.0305 - val_loss: 7.7757e-04 - val_root_mean_squared_error: 0.0279\n",
      "Epoch 22/25\n",
      "\u001b[1m355/355\u001b[0m \u001b[32m━━━━━━━━━━━━━━━━━━━━\u001b[0m\u001b[37m\u001b[0m \u001b[1m3s\u001b[0m 8ms/step - loss: 9.3830e-04 - root_mean_squared_error: 0.0304 - val_loss: 7.6520e-04 - val_root_mean_squared_error: 0.0277\n",
      "Epoch 23/25\n",
      "\u001b[1m355/355\u001b[0m \u001b[32m━━━━━━━━━━━━━━━━━━━━\u001b[0m\u001b[37m\u001b[0m \u001b[1m3s\u001b[0m 7ms/step - loss: 9.3202e-04 - root_mean_squared_error: 0.0303 - val_loss: 8.2233e-04 - val_root_mean_squared_error: 0.0287\n",
      "Epoch 24/25\n",
      "\u001b[1m355/355\u001b[0m \u001b[32m━━━━━━━━━━━━━━━━━━━━\u001b[0m\u001b[37m\u001b[0m \u001b[1m3s\u001b[0m 7ms/step - loss: 9.2841e-04 - root_mean_squared_error: 0.0303 - val_loss: 7.8227e-04 - val_root_mean_squared_error: 0.0280\n",
      "Epoch 25/25\n",
      "\u001b[1m355/355\u001b[0m \u001b[32m━━━━━━━━━━━━━━━━━━━━\u001b[0m\u001b[37m\u001b[0m \u001b[1m3s\u001b[0m 8ms/step - loss: 9.2242e-04 - root_mean_squared_error: 0.0302 - val_loss: 7.8466e-04 - val_root_mean_squared_error: 0.0280\n"
     ]
    }
   ],
   "source": [
    "with tf.device('/CPU:0'):\n",
    "    STCK_LSTM.set_weights(initial_weights)\n",
    "    STCK_LSTM.fit(X_train, y_train, epochs=25, validation_split=0.1, batch_size=100,shuffle=False)"
   ]
  },
  {
   "cell_type": "markdown",
   "metadata": {},
   "source": [
    "### Predict on Left-Out Test Data"
   ]
  },
  {
   "cell_type": "code",
   "execution_count": 35,
   "metadata": {},
   "outputs": [
    {
     "name": "stdout",
     "output_type": "stream",
     "text": [
      "\u001b[1m137/137\u001b[0m \u001b[32m━━━━━━━━━━━━━━━━━━━━\u001b[0m\u001b[37m\u001b[0m \u001b[1m1s\u001b[0m 3ms/step\n",
      "Test RMSE: 27.308\n"
     ]
    }
   ],
   "source": [
    "test_predictions = STCK_LSTM.predict(X_test)\n",
    "\n",
    "X_test_rescaled=X_test[:, -1, :].copy()\n",
    "\n",
    "# Invert scaling for the forecast\n",
    "inv_test_predictions = concatenate((test_predictions, X_test_rescaled[:, 1:]), axis=1)\n",
    "inv_test_predictions = scaler.inverse_transform(inv_test_predictions)\n",
    "inv_test_predictions = inv_test_predictions[:, 0]  # Extract the pollution column\n",
    "\n",
    "y_test = y_test.reshape((len(y_test),1))\n",
    "inv_actual_predictions = concatenate((y_test, X_test_rescaled[:, 1:]), axis=1)\n",
    "inv_actual_predictions = scaler.inverse_transform(inv_actual_predictions)\n",
    "inv_actual_predictions = inv_actual_predictions[:,0]\n",
    "\n",
    "\n",
    "test_results = pd.DataFrame(data={\n",
    "        'Model Predictions': inv_test_predictions,\n",
    "        'Actual':inv_actual_predictions})\n",
    "  \n",
    "\n",
    "# calculate rmse\n",
    "rmse = sqrt(mean_squared_error(inv_actual_predictions, inv_test_predictions))\n",
    "print('Test RMSE: %.3f' % rmse)"
   ]
  },
  {
   "cell_type": "markdown",
   "metadata": {},
   "source": [
    "### Plot the Actual and Predicted Values"
   ]
  },
  {
   "cell_type": "code",
   "execution_count": 36,
   "metadata": {},
   "outputs": [
    {
     "data": {
      "image/png": "[encoded data removed]",
      "text/plain": [
       "<Figure size 640x480 with 1 Axes>"
      ]
     },
     "metadata": {},
     "output_type": "display_data"
    }
   ],
   "source": [
    "plt.plot(test_results['Model Predictions'][:300], label='Predicted Values')\n",
    "plt.plot(test_results['Actual'][:300], label='True Values')\n",
    "plt.legend()\n",
    "plt.show()"
   ]
  },
  {
   "cell_type": "markdown",
   "metadata": {},
   "source": [
    "The model performs pretty well, with an rmse of 43.5. The LSTM was able to effectively capture the patterns in the data, as evidence by the predictions mostly aligning with the peaks and variability of the true values. However it does seem like the model tends to overestimate the true values. "
   ]
  },
  {
   "cell_type": "markdown",
   "metadata": {},
   "source": [
    "## Reducing Complexity "
   ]
  },
  {
   "cell_type": "markdown",
   "metadata": {},
   "source": [
    "## 1) Autoencoder"
   ]
  },
  {
   "cell_type": "markdown",
   "metadata": {},
   "source": [
    "We look at an autoencoder to detect any anomalies in the dataset."
   ]
  },
  {
   "cell_type": "code",
   "execution_count": 37,
   "metadata": {},
   "outputs": [
    {
     "data": {
      "text/plain": [
       "(39410, 10, 8)"
      ]
     },
     "execution_count": 37,
     "metadata": {},
     "output_type": "execute_result"
    }
   ],
   "source": [
    "X_train.shape"
   ]
  },
  {
   "cell_type": "markdown",
   "metadata": {},
   "source": [
    "The model needs time to learn the important patterns so we increase epoch value. More epochs allow the autoencoder to refine its latent representation by giving the model additional time to learn the most meaningful and compact features of the data. "
   ]
  },
  {
   "cell_type": "code",
   "execution_count": 38,
   "metadata": {},
   "outputs": [
    {
     "data": {
      "text/html": [
       "<pre style=\"white-space:pre;overflow-x:auto;line-height:normal;font-family:Menlo,'DejaVu Sans Mono',consolas,'Courier New',monospace\"><span style=\"font-weight: bold\">Model: \"functional_4\"</span>\n",
       "</pre>\n"
      ],
      "text/plain": [
       "\u001b[1mModel: \"functional_4\"\u001b[0m\n"
      ]
     },
     "metadata": {},
     "output_type": "display_data"
    },
    {
     "data": {
      "text/html": [
       "<pre style=\"white-space:pre;overflow-x:auto;line-height:normal;font-family:Menlo,'DejaVu Sans Mono',consolas,'Courier New',monospace\">┏━━━━━━━━━━━━━━━━━━━━━━━━━━━━━━━━━┳━━━━━━━━━━━━━━━━━━━━━━━━┳━━━━━━━━━━━━━━━┓\n",
       "┃<span style=\"font-weight: bold\"> Layer (type)                    </span>┃<span style=\"font-weight: bold\"> Output Shape           </span>┃<span style=\"font-weight: bold\">       Param # </span>┃\n",
       "┡━━━━━━━━━━━━━━━━━━━━━━━━━━━━━━━━━╇━━━━━━━━━━━━━━━━━━━━━━━━╇━━━━━━━━━━━━━━━┩\n",
       "│ input_layer_1 (<span style=\"color: #0087ff; text-decoration-color: #0087ff\">InputLayer</span>)      │ (<span style=\"color: #00d7ff; text-decoration-color: #00d7ff\">None</span>, <span style=\"color: #00af00; text-decoration-color: #00af00\">10</span>, <span style=\"color: #00af00; text-decoration-color: #00af00\">8</span>)          │             <span style=\"color: #00af00; text-decoration-color: #00af00\">0</span> │\n",
       "├─────────────────────────────────┼────────────────────────┼───────────────┤\n",
       "│ lstm_2 (<span style=\"color: #0087ff; text-decoration-color: #0087ff\">LSTM</span>)                   │ (<span style=\"color: #00d7ff; text-decoration-color: #00d7ff\">None</span>, <span style=\"color: #00af00; text-decoration-color: #00af00\">50</span>)             │        <span style=\"color: #00af00; text-decoration-color: #00af00\">11,800</span> │\n",
       "├─────────────────────────────────┼────────────────────────┼───────────────┤\n",
       "│ repeat_vector (<span style=\"color: #0087ff; text-decoration-color: #0087ff\">RepeatVector</span>)    │ (<span style=\"color: #00d7ff; text-decoration-color: #00d7ff\">None</span>, <span style=\"color: #00af00; text-decoration-color: #00af00\">10</span>, <span style=\"color: #00af00; text-decoration-color: #00af00\">50</span>)         │             <span style=\"color: #00af00; text-decoration-color: #00af00\">0</span> │\n",
       "├─────────────────────────────────┼────────────────────────┼───────────────┤\n",
       "│ lstm_3 (<span style=\"color: #0087ff; text-decoration-color: #0087ff\">LSTM</span>)                   │ (<span style=\"color: #00d7ff; text-decoration-color: #00d7ff\">None</span>, <span style=\"color: #00af00; text-decoration-color: #00af00\">10</span>, <span style=\"color: #00af00; text-decoration-color: #00af00\">50</span>)         │        <span style=\"color: #00af00; text-decoration-color: #00af00\">20,200</span> │\n",
       "├─────────────────────────────────┼────────────────────────┼───────────────┤\n",
       "│ time_distributed                │ (<span style=\"color: #00d7ff; text-decoration-color: #00d7ff\">None</span>, <span style=\"color: #00af00; text-decoration-color: #00af00\">10</span>, <span style=\"color: #00af00; text-decoration-color: #00af00\">8</span>)          │           <span style=\"color: #00af00; text-decoration-color: #00af00\">408</span> │\n",
       "│ (<span style=\"color: #0087ff; text-decoration-color: #0087ff\">TimeDistributed</span>)               │                        │               │\n",
       "└─────────────────────────────────┴────────────────────────┴───────────────┘\n",
       "</pre>\n"
      ],
      "text/plain": [
       "┏━━━━━━━━━━━━━━━━━━━━━━━━━━━━━━━━━┳━━━━━━━━━━━━━━━━━━━━━━━━┳━━━━━━━━━━━━━━━┓\n",
       "┃\u001b[1m \u001b[0m\u001b[1mLayer (type)                   \u001b[0m\u001b[1m \u001b[0m┃\u001b[1m \u001b[0m\u001b[1mOutput Shape          \u001b[0m\u001b[1m \u001b[0m┃\u001b[1m \u001b[0m\u001b[1m      Param #\u001b[0m\u001b[1m \u001b[0m┃\n",
       "┡━━━━━━━━━━━━━━━━━━━━━━━━━━━━━━━━━╇━━━━━━━━━━━━━━━━━━━━━━━━╇━━━━━━━━━━━━━━━┩\n",
       "│ input_layer_1 (\u001b[38;5;33mInputLayer\u001b[0m)      │ (\u001b[38;5;45mNone\u001b[0m, \u001b[38;5;34m10\u001b[0m, \u001b[38;5;34m8\u001b[0m)          │             \u001b[38;5;34m0\u001b[0m │\n",
       "├─────────────────────────────────┼────────────────────────┼───────────────┤\n",
       "│ lstm_2 (\u001b[38;5;33mLSTM\u001b[0m)                   │ (\u001b[38;5;45mNone\u001b[0m, \u001b[38;5;34m50\u001b[0m)             │        \u001b[38;5;34m11,800\u001b[0m │\n",
       "├─────────────────────────────────┼────────────────────────┼───────────────┤\n",
       "│ repeat_vector (\u001b[38;5;33mRepeatVector\u001b[0m)    │ (\u001b[38;5;45mNone\u001b[0m, \u001b[38;5;34m10\u001b[0m, \u001b[38;5;34m50\u001b[0m)         │             \u001b[38;5;34m0\u001b[0m │\n",
       "├─────────────────────────────────┼────────────────────────┼───────────────┤\n",
       "│ lstm_3 (\u001b[38;5;33mLSTM\u001b[0m)                   │ (\u001b[38;5;45mNone\u001b[0m, \u001b[38;5;34m10\u001b[0m, \u001b[38;5;34m50\u001b[0m)         │        \u001b[38;5;34m20,200\u001b[0m │\n",
       "├─────────────────────────────────┼────────────────────────┼───────────────┤\n",
       "│ time_distributed                │ (\u001b[38;5;45mNone\u001b[0m, \u001b[38;5;34m10\u001b[0m, \u001b[38;5;34m8\u001b[0m)          │           \u001b[38;5;34m408\u001b[0m │\n",
       "│ (\u001b[38;5;33mTimeDistributed\u001b[0m)               │                        │               │\n",
       "└─────────────────────────────────┴────────────────────────┴───────────────┘\n"
      ]
     },
     "metadata": {},
     "output_type": "display_data"
    },
    {
     "data": {
      "text/html": [
       "<pre style=\"white-space:pre;overflow-x:auto;line-height:normal;font-family:Menlo,'DejaVu Sans Mono',consolas,'Courier New',monospace\"><span style=\"font-weight: bold\"> Total params: </span><span style=\"color: #00af00; text-decoration-color: #00af00\">32,408</span> (126.59 KB)\n",
       "</pre>\n"
      ],
      "text/plain": [
       "\u001b[1m Total params: \u001b[0m\u001b[38;5;34m32,408\u001b[0m (126.59 KB)\n"
      ]
     },
     "metadata": {},
     "output_type": "display_data"
    },
    {
     "data": {
      "text/html": [
       "<pre style=\"white-space:pre;overflow-x:auto;line-height:normal;font-family:Menlo,'DejaVu Sans Mono',consolas,'Courier New',monospace\"><span style=\"font-weight: bold\"> Trainable params: </span><span style=\"color: #00af00; text-decoration-color: #00af00\">32,408</span> (126.59 KB)\n",
       "</pre>\n"
      ],
      "text/plain": [
       "\u001b[1m Trainable params: \u001b[0m\u001b[38;5;34m32,408\u001b[0m (126.59 KB)\n"
      ]
     },
     "metadata": {},
     "output_type": "display_data"
    },
    {
     "data": {
      "text/html": [
       "<pre style=\"white-space:pre;overflow-x:auto;line-height:normal;font-family:Menlo,'DejaVu Sans Mono',consolas,'Courier New',monospace\"><span style=\"font-weight: bold\"> Non-trainable params: </span><span style=\"color: #00af00; text-decoration-color: #00af00\">0</span> (0.00 B)\n",
       "</pre>\n"
      ],
      "text/plain": [
       "\u001b[1m Non-trainable params: \u001b[0m\u001b[38;5;34m0\u001b[0m (0.00 B)\n"
      ]
     },
     "metadata": {},
     "output_type": "display_data"
    }
   ],
   "source": [
    "input_layer = Input(shape=(n_steps, n_features))\n",
    "\n",
    "#Encoder\n",
    "encoder = LSTM(50, return_sequences=False)(input_layer)\n",
    "\n",
    "#Decoder \n",
    "decoder = RepeatVector(n_steps)(encoder)\n",
    "decoder = LSTM(50, return_sequences=True)(decoder)\n",
    "output_layer = TimeDistributed(Dense(n_features, activation='linear'))(decoder)\n",
    "\n",
    "#Autoencoder \n",
    "encoder_decoder = Model(inputs=input_layer, outputs=output_layer)\n",
    "encoder_decoder.compile(optimizer=Adam(learning_rate=0.001), loss='mse', metrics=[RootMeanSquaredError()])\n",
    "\n",
    "encoder_decoder.summary()"
   ]
  },
  {
   "cell_type": "markdown",
   "metadata": {},
   "source": [
    "**WARNING** this takes approx 9 minutes to run."
   ]
  },
  {
   "cell_type": "code",
   "execution_count": 39,
   "metadata": {},
   "outputs": [
    {
     "name": "stdout",
     "output_type": "stream",
     "text": [
      "Epoch 1/75\n",
      "\u001b[1m555/555\u001b[0m \u001b[32m━━━━━━━━━━━━━━━━━━━━\u001b[0m\u001b[37m\u001b[0m \u001b[1m6s\u001b[0m 10ms/step - loss: 0.0262 - root_mean_squared_error: 0.1562 - val_loss: 0.0126 - val_root_mean_squared_error: 0.1123\n",
      "Epoch 2/75\n",
      "\u001b[1m555/555\u001b[0m \u001b[32m━━━━━━━━━━━━━━━━━━━━\u001b[0m\u001b[37m\u001b[0m \u001b[1m5s\u001b[0m 9ms/step - loss: 0.0092 - root_mean_squared_error: 0.0959 - val_loss: 0.0096 - val_root_mean_squared_error: 0.0978\n",
      "Epoch 3/75\n",
      "\u001b[1m555/555\u001b[0m \u001b[32m━━━━━━━━━━━━━━━━━━━━\u001b[0m\u001b[37m\u001b[0m \u001b[1m5s\u001b[0m 9ms/step - loss: 0.0081 - root_mean_squared_error: 0.0901 - val_loss: 0.0081 - val_root_mean_squared_error: 0.0899\n",
      "Epoch 4/75\n",
      "\u001b[1m555/555\u001b[0m \u001b[32m━━━━━━━━━━━━━━━━━━━━\u001b[0m\u001b[37m\u001b[0m \u001b[1m5s\u001b[0m 9ms/step - loss: 0.0073 - root_mean_squared_error: 0.0854 - val_loss: 0.0077 - val_root_mean_squared_error: 0.0880\n",
      "Epoch 5/75\n",
      "\u001b[1m555/555\u001b[0m \u001b[32m━━━━━━━━━━━━━━━━━━━━\u001b[0m\u001b[37m\u001b[0m \u001b[1m5s\u001b[0m 9ms/step - loss: 0.0069 - root_mean_squared_error: 0.0829 - val_loss: 0.0072 - val_root_mean_squared_error: 0.0849\n",
      "Epoch 6/75\n",
      "\u001b[1m555/555\u001b[0m \u001b[32m━━━━━━━━━━━━━━━━━━━━\u001b[0m\u001b[37m\u001b[0m \u001b[1m5s\u001b[0m 9ms/step - loss: 0.0063 - root_mean_squared_error: 0.0794 - val_loss: 0.0069 - val_root_mean_squared_error: 0.0831\n",
      "Epoch 7/75\n",
      "\u001b[1m555/555\u001b[0m \u001b[32m━━━━━━━━━━━━━━━━━━━━\u001b[0m\u001b[37m\u001b[0m \u001b[1m5s\u001b[0m 9ms/step - loss: 0.0059 - root_mean_squared_error: 0.0771 - val_loss: 0.0071 - val_root_mean_squared_error: 0.0840\n",
      "Epoch 8/75\n",
      "\u001b[1m555/555\u001b[0m \u001b[32m━━━━━━━━━━━━━━━━━━━━\u001b[0m\u001b[37m\u001b[0m \u001b[1m5s\u001b[0m 9ms/step - loss: 0.0057 - root_mean_squared_error: 0.0755 - val_loss: 0.0062 - val_root_mean_squared_error: 0.0788\n",
      "Epoch 9/75\n",
      "\u001b[1m555/555\u001b[0m \u001b[32m━━━━━━━━━━━━━━━━━━━━\u001b[0m\u001b[37m\u001b[0m \u001b[1m5s\u001b[0m 9ms/step - loss: 0.0053 - root_mean_squared_error: 0.0725 - val_loss: 0.0059 - val_root_mean_squared_error: 0.0771\n",
      "Epoch 10/75\n",
      "\u001b[1m555/555\u001b[0m \u001b[32m━━━━━━━━━━━━━━━━━━━━\u001b[0m\u001b[37m\u001b[0m \u001b[1m5s\u001b[0m 9ms/step - loss: 0.0049 - root_mean_squared_error: 0.0701 - val_loss: 0.0056 - val_root_mean_squared_error: 0.0745\n",
      "Epoch 11/75\n",
      "\u001b[1m555/555\u001b[0m \u001b[32m━━━━━━━━━━━━━━━━━━━━\u001b[0m\u001b[37m\u001b[0m \u001b[1m5s\u001b[0m 9ms/step - loss: 0.0048 - root_mean_squared_error: 0.0690 - val_loss: 0.0054 - val_root_mean_squared_error: 0.0734\n",
      "Epoch 12/75\n",
      "\u001b[1m555/555\u001b[0m \u001b[32m━━━━━━━━━━━━━━━━━━━━\u001b[0m\u001b[37m\u001b[0m \u001b[1m5s\u001b[0m 9ms/step - loss: 0.0044 - root_mean_squared_error: 0.0666 - val_loss: 0.0047 - val_root_mean_squared_error: 0.0683\n",
      "Epoch 13/75\n",
      "\u001b[1m555/555\u001b[0m \u001b[32m━━━━━━━━━━━━━━━━━━━━\u001b[0m\u001b[37m\u001b[0m \u001b[1m5s\u001b[0m 9ms/step - loss: 0.0039 - root_mean_squared_error: 0.0627 - val_loss: 0.0042 - val_root_mean_squared_error: 0.0646\n",
      "Epoch 14/75\n",
      "\u001b[1m555/555\u001b[0m \u001b[32m━━━━━━━━━━━━━━━━━━━━\u001b[0m\u001b[37m\u001b[0m \u001b[1m5s\u001b[0m 10ms/step - loss: 0.0037 - root_mean_squared_error: 0.0607 - val_loss: 0.0039 - val_root_mean_squared_error: 0.0627\n",
      "Epoch 15/75\n",
      "\u001b[1m555/555\u001b[0m \u001b[32m━━━━━━━━━━━━━━━━━━━━\u001b[0m\u001b[37m\u001b[0m \u001b[1m5s\u001b[0m 9ms/step - loss: 0.0032 - root_mean_squared_error: 0.0567 - val_loss: 0.0034 - val_root_mean_squared_error: 0.0582\n",
      "Epoch 16/75\n",
      "\u001b[1m555/555\u001b[0m \u001b[32m━━━━━━━━━━━━━━━━━━━━\u001b[0m\u001b[37m\u001b[0m \u001b[1m5s\u001b[0m 9ms/step - loss: 0.0029 - root_mean_squared_error: 0.0538 - val_loss: 0.0034 - val_root_mean_squared_error: 0.0583\n",
      "Epoch 17/75\n",
      "\u001b[1m555/555\u001b[0m \u001b[32m━━━━━━━━━━━━━━━━━━━━\u001b[0m\u001b[37m\u001b[0m \u001b[1m5s\u001b[0m 9ms/step - loss: 0.0026 - root_mean_squared_error: 0.0509 - val_loss: 0.0028 - val_root_mean_squared_error: 0.0527\n",
      "Epoch 18/75\n",
      "\u001b[1m555/555\u001b[0m \u001b[32m━━━━━━━━━━━━━━━━━━━━\u001b[0m\u001b[37m\u001b[0m \u001b[1m5s\u001b[0m 9ms/step - loss: 0.0022 - root_mean_squared_error: 0.0465 - val_loss: 0.0028 - val_root_mean_squared_error: 0.0526\n",
      "Epoch 19/75\n",
      "\u001b[1m555/555\u001b[0m \u001b[32m━━━━━━━━━━━━━━━━━━━━\u001b[0m\u001b[37m\u001b[0m \u001b[1m5s\u001b[0m 9ms/step - loss: 0.0020 - root_mean_squared_error: 0.0449 - val_loss: 0.0025 - val_root_mean_squared_error: 0.0504\n",
      "Epoch 20/75\n",
      "\u001b[1m555/555\u001b[0m \u001b[32m━━━━━━━━━━━━━━━━━━━━\u001b[0m\u001b[37m\u001b[0m \u001b[1m5s\u001b[0m 9ms/step - loss: 0.0018 - root_mean_squared_error: 0.0426 - val_loss: 0.0025 - val_root_mean_squared_error: 0.0499\n",
      "Epoch 21/75\n",
      "\u001b[1m555/555\u001b[0m \u001b[32m━━━━━━━━━━━━━━━━━━━━\u001b[0m\u001b[37m\u001b[0m \u001b[1m5s\u001b[0m 9ms/step - loss: 0.0016 - root_mean_squared_error: 0.0395 - val_loss: 0.0019 - val_root_mean_squared_error: 0.0439\n",
      "Epoch 22/75\n",
      "\u001b[1m555/555\u001b[0m \u001b[32m━━━━━━━━━━━━━━━━━━━━\u001b[0m\u001b[37m\u001b[0m \u001b[1m5s\u001b[0m 9ms/step - loss: 0.0013 - root_mean_squared_error: 0.0365 - val_loss: 0.0019 - val_root_mean_squared_error: 0.0431\n",
      "Epoch 23/75\n",
      "\u001b[1m555/555\u001b[0m \u001b[32m━━━━━━━━━━━━━━━━━━━━\u001b[0m\u001b[37m\u001b[0m \u001b[1m5s\u001b[0m 9ms/step - loss: 0.0012 - root_mean_squared_error: 0.0350 - val_loss: 0.0018 - val_root_mean_squared_error: 0.0420\n",
      "Epoch 24/75\n",
      "\u001b[1m555/555\u001b[0m \u001b[32m━━━━━━━━━━━━━━━━━━━━\u001b[0m\u001b[37m\u001b[0m \u001b[1m5s\u001b[0m 9ms/step - loss: 0.0011 - root_mean_squared_error: 0.0329 - val_loss: 0.0017 - val_root_mean_squared_error: 0.0416\n",
      "Epoch 25/75\n",
      "\u001b[1m555/555\u001b[0m \u001b[32m━━━━━━━━━━━━━━━━━━━━\u001b[0m\u001b[37m\u001b[0m \u001b[1m5s\u001b[0m 9ms/step - loss: 9.4773e-04 - root_mean_squared_error: 0.0306 - val_loss: 0.0016 - val_root_mean_squared_error: 0.0398\n",
      "Epoch 26/75\n",
      "\u001b[1m555/555\u001b[0m \u001b[32m━━━━━━━━━━━━━━━━━━━━\u001b[0m\u001b[37m\u001b[0m \u001b[1m5s\u001b[0m 9ms/step - loss: 7.9520e-04 - root_mean_squared_error: 0.0280 - val_loss: 0.0012 - val_root_mean_squared_error: 0.0350\n",
      "Epoch 27/75\n",
      "\u001b[1m555/555\u001b[0m \u001b[32m━━━━━━━━━━━━━━━━━━━━\u001b[0m\u001b[37m\u001b[0m \u001b[1m5s\u001b[0m 9ms/step - loss: 6.7146e-04 - root_mean_squared_error: 0.0258 - val_loss: 0.0011 - val_root_mean_squared_error: 0.0336\n",
      "Epoch 28/75\n",
      "\u001b[1m555/555\u001b[0m \u001b[32m━━━━━━━━━━━━━━━━━━━━\u001b[0m\u001b[37m\u001b[0m \u001b[1m5s\u001b[0m 9ms/step - loss: 6.3761e-04 - root_mean_squared_error: 0.0251 - val_loss: 9.5931e-04 - val_root_mean_squared_error: 0.0310\n",
      "Epoch 29/75\n",
      "\u001b[1m555/555\u001b[0m \u001b[32m━━━━━━━━━━━━━━━━━━━━\u001b[0m\u001b[37m\u001b[0m \u001b[1m5s\u001b[0m 9ms/step - loss: 5.8935e-04 - root_mean_squared_error: 0.0241 - val_loss: 9.7196e-04 - val_root_mean_squared_error: 0.0312\n",
      "Epoch 30/75\n",
      "\u001b[1m555/555\u001b[0m \u001b[32m━━━━━━━━━━━━━━━━━━━━\u001b[0m\u001b[37m\u001b[0m \u001b[1m5s\u001b[0m 9ms/step - loss: 5.8282e-04 - root_mean_squared_error: 0.0240 - val_loss: 9.1730e-04 - val_root_mean_squared_error: 0.0303\n",
      "Epoch 31/75\n",
      "\u001b[1m555/555\u001b[0m \u001b[32m━━━━━━━━━━━━━━━━━━━━\u001b[0m\u001b[37m\u001b[0m \u001b[1m5s\u001b[0m 9ms/step - loss: 5.4893e-04 - root_mean_squared_error: 0.0233 - val_loss: 9.0863e-04 - val_root_mean_squared_error: 0.0301\n",
      "Epoch 32/75\n",
      "\u001b[1m555/555\u001b[0m \u001b[32m━━━━━━━━━━━━━━━━━━━━\u001b[0m\u001b[37m\u001b[0m \u001b[1m5s\u001b[0m 9ms/step - loss: 5.4007e-04 - root_mean_squared_error: 0.0231 - val_loss: 0.0011 - val_root_mean_squared_error: 0.0330\n",
      "Epoch 33/75\n",
      "\u001b[1m555/555\u001b[0m \u001b[32m━━━━━━━━━━━━━━━━━━━━\u001b[0m\u001b[37m\u001b[0m \u001b[1m5s\u001b[0m 9ms/step - loss: 5.3216e-04 - root_mean_squared_error: 0.0229 - val_loss: 0.0010 - val_root_mean_squared_error: 0.0320\n",
      "Epoch 34/75\n",
      "\u001b[1m555/555\u001b[0m \u001b[32m━━━━━━━━━━━━━━━━━━━━\u001b[0m\u001b[37m\u001b[0m \u001b[1m5s\u001b[0m 9ms/step - loss: 5.2421e-04 - root_mean_squared_error: 0.0228 - val_loss: 8.9023e-04 - val_root_mean_squared_error: 0.0298\n",
      "Epoch 35/75\n",
      "\u001b[1m555/555\u001b[0m \u001b[32m━━━━━━━━━━━━━━━━━━━━\u001b[0m\u001b[37m\u001b[0m \u001b[1m5s\u001b[0m 9ms/step - loss: 4.9066e-04 - root_mean_squared_error: 0.0220 - val_loss: 9.0691e-04 - val_root_mean_squared_error: 0.0301\n",
      "Epoch 36/75\n",
      "\u001b[1m555/555\u001b[0m \u001b[32m━━━━━━━━━━━━━━━━━━━━\u001b[0m\u001b[37m\u001b[0m \u001b[1m5s\u001b[0m 9ms/step - loss: 4.9007e-04 - root_mean_squared_error: 0.0220 - val_loss: 8.7562e-04 - val_root_mean_squared_error: 0.0296\n",
      "Epoch 37/75\n",
      "\u001b[1m555/555\u001b[0m \u001b[32m━━━━━━━━━━━━━━━━━━━━\u001b[0m\u001b[37m\u001b[0m \u001b[1m5s\u001b[0m 9ms/step - loss: 4.7724e-04 - root_mean_squared_error: 0.0217 - val_loss: 7.8775e-04 - val_root_mean_squared_error: 0.0281\n",
      "Epoch 38/75\n",
      "\u001b[1m555/555\u001b[0m \u001b[32m━━━━━━━━━━━━━━━━━━━━\u001b[0m\u001b[37m\u001b[0m \u001b[1m5s\u001b[0m 9ms/step - loss: 4.5262e-04 - root_mean_squared_error: 0.0212 - val_loss: 8.0175e-04 - val_root_mean_squared_error: 0.0283\n",
      "Epoch 39/75\n",
      "\u001b[1m555/555\u001b[0m \u001b[32m━━━━━━━━━━━━━━━━━━━━\u001b[0m\u001b[37m\u001b[0m \u001b[1m5s\u001b[0m 9ms/step - loss: 4.5059e-04 - root_mean_squared_error: 0.0211 - val_loss: 8.5308e-04 - val_root_mean_squared_error: 0.0292\n",
      "Epoch 40/75\n",
      "\u001b[1m555/555\u001b[0m \u001b[32m━━━━━━━━━━━━━━━━━━━━\u001b[0m\u001b[37m\u001b[0m \u001b[1m5s\u001b[0m 9ms/step - loss: 4.5518e-04 - root_mean_squared_error: 0.0212 - val_loss: 7.1219e-04 - val_root_mean_squared_error: 0.0267\n",
      "Epoch 41/75\n",
      "\u001b[1m555/555\u001b[0m \u001b[32m━━━━━━━━━━━━━━━━━━━━\u001b[0m\u001b[37m\u001b[0m \u001b[1m5s\u001b[0m 9ms/step - loss: 4.2485e-04 - root_mean_squared_error: 0.0205 - val_loss: 6.6667e-04 - val_root_mean_squared_error: 0.0258\n",
      "Epoch 42/75\n",
      "\u001b[1m555/555\u001b[0m \u001b[32m━━━━━━━━━━━━━━━━━━━━\u001b[0m\u001b[37m\u001b[0m \u001b[1m5s\u001b[0m 9ms/step - loss: 4.1218e-04 - root_mean_squared_error: 0.0202 - val_loss: 6.6024e-04 - val_root_mean_squared_error: 0.0257\n",
      "Epoch 43/75\n",
      "\u001b[1m555/555\u001b[0m \u001b[32m━━━━━━━━━━━━━━━━━━━━\u001b[0m\u001b[37m\u001b[0m \u001b[1m5s\u001b[0m 9ms/step - loss: 3.8535e-04 - root_mean_squared_error: 0.0196 - val_loss: 6.8004e-04 - val_root_mean_squared_error: 0.0261\n",
      "Epoch 44/75\n",
      "\u001b[1m555/555\u001b[0m \u001b[32m━━━━━━━━━━━━━━━━━━━━\u001b[0m\u001b[37m\u001b[0m \u001b[1m5s\u001b[0m 9ms/step - loss: 4.0363e-04 - root_mean_squared_error: 0.0200 - val_loss: 6.3167e-04 - val_root_mean_squared_error: 0.0251\n",
      "Epoch 45/75\n",
      "\u001b[1m555/555\u001b[0m \u001b[32m━━━━━━━━━━━━━━━━━━━━\u001b[0m\u001b[37m\u001b[0m \u001b[1m5s\u001b[0m 9ms/step - loss: 3.6814e-04 - root_mean_squared_error: 0.0191 - val_loss: 6.3327e-04 - val_root_mean_squared_error: 0.0252\n",
      "Epoch 46/75\n",
      "\u001b[1m555/555\u001b[0m \u001b[32m━━━━━━━━━━━━━━━━━━━━\u001b[0m\u001b[37m\u001b[0m \u001b[1m5s\u001b[0m 9ms/step - loss: 3.7885e-04 - root_mean_squared_error: 0.0194 - val_loss: 6.5872e-04 - val_root_mean_squared_error: 0.0257\n",
      "Epoch 47/75\n",
      "\u001b[1m555/555\u001b[0m \u001b[32m━━━━━━━━━━━━━━━━━━━━\u001b[0m\u001b[37m\u001b[0m \u001b[1m5s\u001b[0m 9ms/step - loss: 3.7359e-04 - root_mean_squared_error: 0.0192 - val_loss: 7.7505e-04 - val_root_mean_squared_error: 0.0278\n",
      "Epoch 48/75\n",
      "\u001b[1m555/555\u001b[0m \u001b[32m━━━━━━━━━━━━━━━━━━━━\u001b[0m\u001b[37m\u001b[0m \u001b[1m5s\u001b[0m 9ms/step - loss: 3.5741e-04 - root_mean_squared_error: 0.0188 - val_loss: 6.2195e-04 - val_root_mean_squared_error: 0.0249\n",
      "Epoch 49/75\n",
      "\u001b[1m555/555\u001b[0m \u001b[32m━━━━━━━━━━━━━━━━━━━━\u001b[0m\u001b[37m\u001b[0m \u001b[1m5s\u001b[0m 9ms/step - loss: 3.4931e-04 - root_mean_squared_error: 0.0186 - val_loss: 7.4241e-04 - val_root_mean_squared_error: 0.0272\n",
      "Epoch 50/75\n",
      "\u001b[1m555/555\u001b[0m \u001b[32m━━━━━━━━━━━━━━━━━━━━\u001b[0m\u001b[37m\u001b[0m \u001b[1m5s\u001b[0m 9ms/step - loss: 3.6486e-04 - root_mean_squared_error: 0.0190 - val_loss: 6.4334e-04 - val_root_mean_squared_error: 0.0254\n",
      "Epoch 51/75\n",
      "\u001b[1m555/555\u001b[0m \u001b[32m━━━━━━━━━━━━━━━━━━━━\u001b[0m\u001b[37m\u001b[0m \u001b[1m5s\u001b[0m 9ms/step - loss: 3.4358e-04 - root_mean_squared_error: 0.0185 - val_loss: 6.9978e-04 - val_root_mean_squared_error: 0.0265\n",
      "Epoch 52/75\n",
      "\u001b[1m555/555\u001b[0m \u001b[32m━━━━━━━━━━━━━━━━━━━━\u001b[0m\u001b[37m\u001b[0m \u001b[1m5s\u001b[0m 9ms/step - loss: 3.6123e-04 - root_mean_squared_error: 0.0189 - val_loss: 6.2579e-04 - val_root_mean_squared_error: 0.0250\n",
      "Epoch 53/75\n",
      "\u001b[1m555/555\u001b[0m \u001b[32m━━━━━━━━━━━━━━━━━━━━\u001b[0m\u001b[37m\u001b[0m \u001b[1m5s\u001b[0m 9ms/step - loss: 3.5387e-04 - root_mean_squared_error: 0.0187 - val_loss: 5.4088e-04 - val_root_mean_squared_error: 0.0233\n",
      "Epoch 54/75\n",
      "\u001b[1m555/555\u001b[0m \u001b[32m━━━━━━━━━━━━━━━━━━━━\u001b[0m\u001b[37m\u001b[0m \u001b[1m5s\u001b[0m 9ms/step - loss: 3.2676e-04 - root_mean_squared_error: 0.0180 - val_loss: 6.3566e-04 - val_root_mean_squared_error: 0.0252\n",
      "Epoch 55/75\n",
      "\u001b[1m555/555\u001b[0m \u001b[32m━━━━━━━━━━━━━━━━━━━━\u001b[0m\u001b[37m\u001b[0m \u001b[1m5s\u001b[0m 9ms/step - loss: 3.2814e-04 - root_mean_squared_error: 0.0180 - val_loss: 6.2590e-04 - val_root_mean_squared_error: 0.0250\n",
      "Epoch 56/75\n",
      "\u001b[1m555/555\u001b[0m \u001b[32m━━━━━━━━━━━━━━━━━━━━\u001b[0m\u001b[37m\u001b[0m \u001b[1m5s\u001b[0m 9ms/step - loss: 3.2389e-04 - root_mean_squared_error: 0.0179 - val_loss: 5.7269e-04 - val_root_mean_squared_error: 0.0239\n",
      "Epoch 57/75\n",
      "\u001b[1m555/555\u001b[0m \u001b[32m━━━━━━━━━━━━━━━━━━━━\u001b[0m\u001b[37m\u001b[0m \u001b[1m5s\u001b[0m 9ms/step - loss: 3.2399e-04 - root_mean_squared_error: 0.0179 - val_loss: 5.9037e-04 - val_root_mean_squared_error: 0.0243\n",
      "Epoch 58/75\n",
      "\u001b[1m555/555\u001b[0m \u001b[32m━━━━━━━━━━━━━━━━━━━━\u001b[0m\u001b[37m\u001b[0m \u001b[1m5s\u001b[0m 9ms/step - loss: 3.3293e-04 - root_mean_squared_error: 0.0181 - val_loss: 5.3232e-04 - val_root_mean_squared_error: 0.0231\n",
      "Epoch 59/75\n",
      "\u001b[1m555/555\u001b[0m \u001b[32m━━━━━━━━━━━━━━━━━━━━\u001b[0m\u001b[37m\u001b[0m \u001b[1m5s\u001b[0m 9ms/step - loss: 3.0691e-04 - root_mean_squared_error: 0.0174 - val_loss: 5.4598e-04 - val_root_mean_squared_error: 0.0234\n",
      "Epoch 60/75\n",
      "\u001b[1m555/555\u001b[0m \u001b[32m━━━━━━━━━━━━━━━━━━━━\u001b[0m\u001b[37m\u001b[0m \u001b[1m5s\u001b[0m 9ms/step - loss: 3.0185e-04 - root_mean_squared_error: 0.0173 - val_loss: 5.7773e-04 - val_root_mean_squared_error: 0.0240\n",
      "Epoch 61/75\n",
      "\u001b[1m555/555\u001b[0m \u001b[32m━━━━━━━━━━━━━━━━━━━━\u001b[0m\u001b[37m\u001b[0m \u001b[1m5s\u001b[0m 9ms/step - loss: 2.9600e-04 - root_mean_squared_error: 0.0171 - val_loss: 6.5004e-04 - val_root_mean_squared_error: 0.0255\n",
      "Epoch 62/75\n",
      "\u001b[1m555/555\u001b[0m \u001b[32m━━━━━━━━━━━━━━━━━━━━\u001b[0m\u001b[37m\u001b[0m \u001b[1m5s\u001b[0m 9ms/step - loss: 2.9296e-04 - root_mean_squared_error: 0.0170 - val_loss: 5.5821e-04 - val_root_mean_squared_error: 0.0236\n",
      "Epoch 63/75\n",
      "\u001b[1m555/555\u001b[0m \u001b[32m━━━━━━━━━━━━━━━━━━━━\u001b[0m\u001b[37m\u001b[0m \u001b[1m5s\u001b[0m 9ms/step - loss: 2.9042e-04 - root_mean_squared_error: 0.0170 - val_loss: 5.4250e-04 - val_root_mean_squared_error: 0.0233\n",
      "Epoch 64/75\n",
      "\u001b[1m555/555\u001b[0m \u001b[32m━━━━━━━━━━━━━━━━━━━━\u001b[0m\u001b[37m\u001b[0m \u001b[1m5s\u001b[0m 9ms/step - loss: 2.8355e-04 - root_mean_squared_error: 0.0168 - val_loss: 5.3431e-04 - val_root_mean_squared_error: 0.0231\n",
      "Epoch 65/75\n",
      "\u001b[1m555/555\u001b[0m \u001b[32m━━━━━━━━━━━━━━━━━━━━\u001b[0m\u001b[37m\u001b[0m \u001b[1m5s\u001b[0m 9ms/step - loss: 2.9427e-04 - root_mean_squared_error: 0.0171 - val_loss: 5.0784e-04 - val_root_mean_squared_error: 0.0225\n",
      "Epoch 66/75\n",
      "\u001b[1m555/555\u001b[0m \u001b[32m━━━━━━━━━━━━━━━━━━━━\u001b[0m\u001b[37m\u001b[0m \u001b[1m5s\u001b[0m 9ms/step - loss: 2.6713e-04 - root_mean_squared_error: 0.0163 - val_loss: 6.0530e-04 - val_root_mean_squared_error: 0.0246\n",
      "Epoch 67/75\n",
      "\u001b[1m555/555\u001b[0m \u001b[32m━━━━━━━━━━━━━━━━━━━━\u001b[0m\u001b[37m\u001b[0m \u001b[1m5s\u001b[0m 9ms/step - loss: 2.8788e-04 - root_mean_squared_error: 0.0169 - val_loss: 5.1137e-04 - val_root_mean_squared_error: 0.0226\n",
      "Epoch 68/75\n",
      "\u001b[1m555/555\u001b[0m \u001b[32m━━━━━━━━━━━━━━━━━━━━\u001b[0m\u001b[37m\u001b[0m \u001b[1m5s\u001b[0m 9ms/step - loss: 2.6262e-04 - root_mean_squared_error: 0.0161 - val_loss: 5.2054e-04 - val_root_mean_squared_error: 0.0228\n",
      "Epoch 69/75\n",
      "\u001b[1m555/555\u001b[0m \u001b[32m━━━━━━━━━━━━━━━━━━━━\u001b[0m\u001b[37m\u001b[0m \u001b[1m5s\u001b[0m 9ms/step - loss: 2.7778e-04 - root_mean_squared_error: 0.0166 - val_loss: 5.0347e-04 - val_root_mean_squared_error: 0.0224\n",
      "Epoch 70/75\n",
      "\u001b[1m555/555\u001b[0m \u001b[32m━━━━━━━━━━━━━━━━━━━━\u001b[0m\u001b[37m\u001b[0m \u001b[1m5s\u001b[0m 9ms/step - loss: 2.5957e-04 - root_mean_squared_error: 0.0160 - val_loss: 4.6956e-04 - val_root_mean_squared_error: 0.0217\n",
      "Epoch 71/75\n",
      "\u001b[1m555/555\u001b[0m \u001b[32m━━━━━━━━━━━━━━━━━━━━\u001b[0m\u001b[37m\u001b[0m \u001b[1m5s\u001b[0m 9ms/step - loss: 2.7135e-04 - root_mean_squared_error: 0.0164 - val_loss: 4.9377e-04 - val_root_mean_squared_error: 0.0222\n",
      "Epoch 72/75\n",
      "\u001b[1m555/555\u001b[0m \u001b[32m━━━━━━━━━━━━━━━━━━━━\u001b[0m\u001b[37m\u001b[0m \u001b[1m5s\u001b[0m 9ms/step - loss: 2.5712e-04 - root_mean_squared_error: 0.0160 - val_loss: 4.8682e-04 - val_root_mean_squared_error: 0.0221\n",
      "Epoch 73/75\n",
      "\u001b[1m555/555\u001b[0m \u001b[32m━━━━━━━━━━━━━━━━━━━━\u001b[0m\u001b[37m\u001b[0m \u001b[1m5s\u001b[0m 9ms/step - loss: 2.6643e-04 - root_mean_squared_error: 0.0163 - val_loss: 4.4628e-04 - val_root_mean_squared_error: 0.0211\n",
      "Epoch 74/75\n",
      "\u001b[1m555/555\u001b[0m \u001b[32m━━━━━━━━━━━━━━━━━━━━\u001b[0m\u001b[37m\u001b[0m \u001b[1m5s\u001b[0m 9ms/step - loss: 2.5220e-04 - root_mean_squared_error: 0.0158 - val_loss: 4.9088e-04 - val_root_mean_squared_error: 0.0222\n",
      "Epoch 75/75\n",
      "\u001b[1m555/555\u001b[0m \u001b[32m━━━━━━━━━━━━━━━━━━━━\u001b[0m\u001b[37m\u001b[0m \u001b[1m5s\u001b[0m 9ms/step - loss: 2.6872e-04 - root_mean_squared_error: 0.0163 - val_loss: 4.3408e-04 - val_root_mean_squared_error: 0.0208\n"
     ]
    }
   ],
   "source": [
    "with tf.device('/CPU:0'):\n",
    "    autoencode_history = encoder_decoder.fit(X_train, X_train, epochs= 75, validation_split=0.1, batch_size=64,shuffle=False)"
   ]
  },
  {
   "cell_type": "code",
   "execution_count": 40,
   "metadata": {},
   "outputs": [
    {
     "data": {
      "text/plain": [
       "((39410, 10, 8), (39410, 1))"
      ]
     },
     "execution_count": 40,
     "metadata": {},
     "output_type": "execute_result"
    }
   ],
   "source": [
    "X_train.shape, y_train.shape"
   ]
  },
  {
   "cell_type": "code",
   "execution_count": 41,
   "metadata": {},
   "outputs": [
    {
     "data": {
      "image/png": "[encoded data removed]",
      "text/plain": [
       "<Figure size 1000x600 with 1 Axes>"
      ]
     },
     "metadata": {},
     "output_type": "display_data"
    }
   ],
   "source": [
    "#Plot mle loss over epochs\n",
    "plt.figure(figsize=(10, 6))\n",
    "plt.plot(autoencode_history.history['loss'], label='Training Loss')\n",
    "plt.plot(autoencode_history.history['val_loss'], label='Validation Loss')\n",
    "plt.title('Autoencoder Loss During Training')\n",
    "plt.xlabel('Epochs')\n",
    "plt.ylabel('Loss (MSE)')\n",
    "plt.legend()\n",
    "plt.show()"
   ]
  },
  {
   "cell_type": "markdown",
   "metadata": {},
   "source": [
    "It seems like the autoencoder is able to reproduce the training set well, with mle loss decaying steadily and stabilising arounf 40"
   ]
  },
  {
   "cell_type": "markdown",
   "metadata": {},
   "source": [
    "## Extract Encoder"
   ]
  },
  {
   "cell_type": "code",
   "execution_count": 42,
   "metadata": {},
   "outputs": [
    {
     "data": {
      "text/html": [
       "<pre style=\"white-space:pre;overflow-x:auto;line-height:normal;font-family:Menlo,'DejaVu Sans Mono',consolas,'Courier New',monospace\"><span style=\"font-weight: bold\">Model: \"functional_5\"</span>\n",
       "</pre>\n"
      ],
      "text/plain": [
       "\u001b[1mModel: \"functional_5\"\u001b[0m\n"
      ]
     },
     "metadata": {},
     "output_type": "display_data"
    },
    {
     "data": {
      "text/html": [
       "<pre style=\"white-space:pre;overflow-x:auto;line-height:normal;font-family:Menlo,'DejaVu Sans Mono',consolas,'Courier New',monospace\">┏━━━━━━━━━━━━━━━━━━━━━━━━━━━━━━━━━┳━━━━━━━━━━━━━━━━━━━━━━━━┳━━━━━━━━━━━━━━━┓\n",
       "┃<span style=\"font-weight: bold\"> Layer (type)                    </span>┃<span style=\"font-weight: bold\"> Output Shape           </span>┃<span style=\"font-weight: bold\">       Param # </span>┃\n",
       "┡━━━━━━━━━━━━━━━━━━━━━━━━━━━━━━━━━╇━━━━━━━━━━━━━━━━━━━━━━━━╇━━━━━━━━━━━━━━━┩\n",
       "│ input_layer_1 (<span style=\"color: #0087ff; text-decoration-color: #0087ff\">InputLayer</span>)      │ (<span style=\"color: #00d7ff; text-decoration-color: #00d7ff\">None</span>, <span style=\"color: #00af00; text-decoration-color: #00af00\">10</span>, <span style=\"color: #00af00; text-decoration-color: #00af00\">8</span>)          │             <span style=\"color: #00af00; text-decoration-color: #00af00\">0</span> │\n",
       "├─────────────────────────────────┼────────────────────────┼───────────────┤\n",
       "│ lstm_2 (<span style=\"color: #0087ff; text-decoration-color: #0087ff\">LSTM</span>)                   │ (<span style=\"color: #00d7ff; text-decoration-color: #00d7ff\">None</span>, <span style=\"color: #00af00; text-decoration-color: #00af00\">50</span>)             │        <span style=\"color: #00af00; text-decoration-color: #00af00\">11,800</span> │\n",
       "└─────────────────────────────────┴────────────────────────┴───────────────┘\n",
       "</pre>\n"
      ],
      "text/plain": [
       "┏━━━━━━━━━━━━━━━━━━━━━━━━━━━━━━━━━┳━━━━━━━━━━━━━━━━━━━━━━━━┳━━━━━━━━━━━━━━━┓\n",
       "┃\u001b[1m \u001b[0m\u001b[1mLayer (type)                   \u001b[0m\u001b[1m \u001b[0m┃\u001b[1m \u001b[0m\u001b[1mOutput Shape          \u001b[0m\u001b[1m \u001b[0m┃\u001b[1m \u001b[0m\u001b[1m      Param #\u001b[0m\u001b[1m \u001b[0m┃\n",
       "┡━━━━━━━━━━━━━━━━━━━━━━━━━━━━━━━━━╇━━━━━━━━━━━━━━━━━━━━━━━━╇━━━━━━━━━━━━━━━┩\n",
       "│ input_layer_1 (\u001b[38;5;33mInputLayer\u001b[0m)      │ (\u001b[38;5;45mNone\u001b[0m, \u001b[38;5;34m10\u001b[0m, \u001b[38;5;34m8\u001b[0m)          │             \u001b[38;5;34m0\u001b[0m │\n",
       "├─────────────────────────────────┼────────────────────────┼───────────────┤\n",
       "│ lstm_2 (\u001b[38;5;33mLSTM\u001b[0m)                   │ (\u001b[38;5;45mNone\u001b[0m, \u001b[38;5;34m50\u001b[0m)             │        \u001b[38;5;34m11,800\u001b[0m │\n",
       "└─────────────────────────────────┴────────────────────────┴───────────────┘\n"
      ]
     },
     "metadata": {},
     "output_type": "display_data"
    },
    {
     "data": {
      "text/html": [
       "<pre style=\"white-space:pre;overflow-x:auto;line-height:normal;font-family:Menlo,'DejaVu Sans Mono',consolas,'Courier New',monospace\"><span style=\"font-weight: bold\"> Total params: </span><span style=\"color: #00af00; text-decoration-color: #00af00\">11,800</span> (46.09 KB)\n",
       "</pre>\n"
      ],
      "text/plain": [
       "\u001b[1m Total params: \u001b[0m\u001b[38;5;34m11,800\u001b[0m (46.09 KB)\n"
      ]
     },
     "metadata": {},
     "output_type": "display_data"
    },
    {
     "data": {
      "text/html": [
       "<pre style=\"white-space:pre;overflow-x:auto;line-height:normal;font-family:Menlo,'DejaVu Sans Mono',consolas,'Courier New',monospace\"><span style=\"font-weight: bold\"> Trainable params: </span><span style=\"color: #00af00; text-decoration-color: #00af00\">11,800</span> (46.09 KB)\n",
       "</pre>\n"
      ],
      "text/plain": [
       "\u001b[1m Trainable params: \u001b[0m\u001b[38;5;34m11,800\u001b[0m (46.09 KB)\n"
      ]
     },
     "metadata": {},
     "output_type": "display_data"
    },
    {
     "data": {
      "text/html": [
       "<pre style=\"white-space:pre;overflow-x:auto;line-height:normal;font-family:Menlo,'DejaVu Sans Mono',consolas,'Courier New',monospace\"><span style=\"font-weight: bold\"> Non-trainable params: </span><span style=\"color: #00af00; text-decoration-color: #00af00\">0</span> (0.00 B)\n",
       "</pre>\n"
      ],
      "text/plain": [
       "\u001b[1m Non-trainable params: \u001b[0m\u001b[38;5;34m0\u001b[0m (0.00 B)\n"
      ]
     },
     "metadata": {},
     "output_type": "display_data"
    },
    {
     "name": "stdout",
     "output_type": "stream",
     "text": [
      "\u001b[1m1232/1232\u001b[0m \u001b[32m━━━━━━━━━━━━━━━━━━━━\u001b[0m\u001b[37m\u001b[0m \u001b[1m1s\u001b[0m 1ms/step\n",
      "\u001b[1m137/137\u001b[0m \u001b[32m━━━━━━━━━━━━━━━━━━━━\u001b[0m\u001b[37m\u001b[0m \u001b[1m0s\u001b[0m 971us/step\n"
     ]
    }
   ],
   "source": [
    "#Extract the encoder part\n",
    "encoder = Model(inputs=input_layer, outputs=encoder)\n",
    "encoder.summary()\n",
    "\n",
    "encoded_X_train = encoder.predict(X_train)\n",
    "encoded_X_test = encoder.predict(X_test)"
   ]
  },
  {
   "cell_type": "markdown",
   "metadata": {},
   "source": [
    "encoded_X_train and encoded_X_test now represent a reduced dimensional representation of the original data"
   ]
  },
  {
   "cell_type": "code",
   "execution_count": 43,
   "metadata": {},
   "outputs": [
    {
     "name": "stdout",
     "output_type": "stream",
     "text": [
      "Epoch 1/20\n",
      "\u001b[1m355/355\u001b[0m \u001b[32m━━━━━━━━━━━━━━━━━━━━\u001b[0m\u001b[37m\u001b[0m \u001b[1m3s\u001b[0m 5ms/step - loss: 0.0088 - root_mean_squared_error: 0.0898 - val_loss: 0.0017 - val_root_mean_squared_error: 0.0413\n",
      "Epoch 2/20\n",
      "\u001b[1m355/355\u001b[0m \u001b[32m━━━━━━━━━━━━━━━━━━━━\u001b[0m\u001b[37m\u001b[0m \u001b[1m2s\u001b[0m 4ms/step - loss: 0.0013 - root_mean_squared_error: 0.0362 - val_loss: 0.0010 - val_root_mean_squared_error: 0.0317\n",
      "Epoch 3/20\n",
      "\u001b[1m355/355\u001b[0m \u001b[32m━━━━━━━━━━━━━━━━━━━━\u001b[0m\u001b[37m\u001b[0m \u001b[1m1s\u001b[0m 4ms/step - loss: 0.0012 - root_mean_squared_error: 0.0347 - val_loss: 0.0012 - val_root_mean_squared_error: 0.0340\n",
      "Epoch 4/20\n",
      "\u001b[1m355/355\u001b[0m \u001b[32m━━━━━━━━━━━━━━━━━━━━\u001b[0m\u001b[37m\u001b[0m \u001b[1m1s\u001b[0m 4ms/step - loss: 0.0012 - root_mean_squared_error: 0.0349 - val_loss: 0.0012 - val_root_mean_squared_error: 0.0347\n",
      "Epoch 5/20\n",
      "\u001b[1m355/355\u001b[0m \u001b[32m━━━━━━━━━━━━━━━━━━━━\u001b[0m\u001b[37m\u001b[0m \u001b[1m2s\u001b[0m 4ms/step - loss: 0.0012 - root_mean_squared_error: 0.0352 - val_loss: 0.0012 - val_root_mean_squared_error: 0.0352\n",
      "Epoch 6/20\n",
      "\u001b[1m355/355\u001b[0m \u001b[32m━━━━━━━━━━━━━━━━━━━━\u001b[0m\u001b[37m\u001b[0m \u001b[1m1s\u001b[0m 4ms/step - loss: 0.0013 - root_mean_squared_error: 0.0354 - val_loss: 0.0012 - val_root_mean_squared_error: 0.0352\n",
      "Epoch 7/20\n",
      "\u001b[1m355/355\u001b[0m \u001b[32m━━━━━━━━━━━━━━━━━━━━\u001b[0m\u001b[37m\u001b[0m \u001b[1m1s\u001b[0m 4ms/step - loss: 0.0013 - root_mean_squared_error: 0.0354 - val_loss: 0.0012 - val_root_mean_squared_error: 0.0351\n",
      "Epoch 8/20\n",
      "\u001b[1m355/355\u001b[0m \u001b[32m━━━━━━━━━━━━━━━━━━━━\u001b[0m\u001b[37m\u001b[0m \u001b[1m1s\u001b[0m 4ms/step - loss: 0.0013 - root_mean_squared_error: 0.0353 - val_loss: 0.0012 - val_root_mean_squared_error: 0.0349\n",
      "Epoch 9/20\n",
      "\u001b[1m355/355\u001b[0m \u001b[32m━━━━━━━━━━━━━━━━━━━━\u001b[0m\u001b[37m\u001b[0m \u001b[1m1s\u001b[0m 4ms/step - loss: 0.0012 - root_mean_squared_error: 0.0352 - val_loss: 0.0012 - val_root_mean_squared_error: 0.0348\n",
      "Epoch 10/20\n",
      "\u001b[1m355/355\u001b[0m \u001b[32m━━━━━━━━━━━━━━━━━━━━\u001b[0m\u001b[37m\u001b[0m \u001b[1m2s\u001b[0m 5ms/step - loss: 0.0012 - root_mean_squared_error: 0.0350 - val_loss: 0.0012 - val_root_mean_squared_error: 0.0347\n",
      "Epoch 11/20\n",
      "\u001b[1m355/355\u001b[0m \u001b[32m━━━━━━━━━━━━━━━━━━━━\u001b[0m\u001b[37m\u001b[0m \u001b[1m1s\u001b[0m 4ms/step - loss: 0.0012 - root_mean_squared_error: 0.0349 - val_loss: 0.0012 - val_root_mean_squared_error: 0.0345\n",
      "Epoch 12/20\n",
      "\u001b[1m355/355\u001b[0m \u001b[32m━━━━━━━━━━━━━━━━━━━━\u001b[0m\u001b[37m\u001b[0m \u001b[1m1s\u001b[0m 4ms/step - loss: 0.0012 - root_mean_squared_error: 0.0348 - val_loss: 0.0012 - val_root_mean_squared_error: 0.0344\n",
      "Epoch 13/20\n",
      "\u001b[1m355/355\u001b[0m \u001b[32m━━━━━━━━━━━━━━━━━━━━\u001b[0m\u001b[37m\u001b[0m \u001b[1m1s\u001b[0m 4ms/step - loss: 0.0012 - root_mean_squared_error: 0.0347 - val_loss: 0.0012 - val_root_mean_squared_error: 0.0343\n",
      "Epoch 14/20\n",
      "\u001b[1m355/355\u001b[0m \u001b[32m━━━━━━━━━━━━━━━━━━━━\u001b[0m\u001b[37m\u001b[0m \u001b[1m1s\u001b[0m 4ms/step - loss: 0.0012 - root_mean_squared_error: 0.0346 - val_loss: 0.0012 - val_root_mean_squared_error: 0.0342\n",
      "Epoch 15/20\n",
      "\u001b[1m355/355\u001b[0m \u001b[32m━━━━━━━━━━━━━━━━━━━━\u001b[0m\u001b[37m\u001b[0m \u001b[1m1s\u001b[0m 4ms/step - loss: 0.0012 - root_mean_squared_error: 0.0345 - val_loss: 0.0012 - val_root_mean_squared_error: 0.0340\n",
      "Epoch 16/20\n",
      "\u001b[1m355/355\u001b[0m \u001b[32m━━━━━━━━━━━━━━━━━━━━\u001b[0m\u001b[37m\u001b[0m \u001b[1m2s\u001b[0m 4ms/step - loss: 0.0012 - root_mean_squared_error: 0.0344 - val_loss: 0.0012 - val_root_mean_squared_error: 0.0339\n",
      "Epoch 17/20\n",
      "\u001b[1m355/355\u001b[0m \u001b[32m━━━━━━━━━━━━━━━━━━━━\u001b[0m\u001b[37m\u001b[0m \u001b[1m1s\u001b[0m 4ms/step - loss: 0.0012 - root_mean_squared_error: 0.0343 - val_loss: 0.0011 - val_root_mean_squared_error: 0.0338\n",
      "Epoch 18/20\n",
      "\u001b[1m355/355\u001b[0m \u001b[32m━━━━━━━━━━━━━━━━━━━━\u001b[0m\u001b[37m\u001b[0m \u001b[1m1s\u001b[0m 4ms/step - loss: 0.0012 - root_mean_squared_error: 0.0342 - val_loss: 0.0011 - val_root_mean_squared_error: 0.0336\n",
      "Epoch 19/20\n",
      "\u001b[1m355/355\u001b[0m \u001b[32m━━━━━━━━━━━━━━━━━━━━\u001b[0m\u001b[37m\u001b[0m \u001b[1m1s\u001b[0m 4ms/step - loss: 0.0012 - root_mean_squared_error: 0.0341 - val_loss: 0.0011 - val_root_mean_squared_error: 0.0335\n",
      "Epoch 20/20\n",
      "\u001b[1m355/355\u001b[0m \u001b[32m━━━━━━━━━━━━━━━━━━━━\u001b[0m\u001b[37m\u001b[0m \u001b[1m1s\u001b[0m 4ms/step - loss: 0.0012 - root_mean_squared_error: 0.0340 - val_loss: 0.0011 - val_root_mean_squared_error: 0.0334\n",
      "\u001b[1m137/137\u001b[0m \u001b[32m━━━━━━━━━━━━━━━━━━━━\u001b[0m\u001b[37m\u001b[0m \u001b[1m0s\u001b[0m 842us/step\n",
      "Mean Squared Error on Test Set: 0.0010\n"
     ]
    }
   ],
   "source": [
    "\n",
    "#Build a new model to predict y_train from the encoded\n",
    "predictor_model = Sequential()\n",
    "predictor_model.add(Input(shape=(encoded_X_train.shape[1],))) \n",
    "predictor_model.add(Dense(50))  \n",
    "predictor_model.add(Dense(n_outputs, activation='linear'))  \n",
    "predictor_model.compile(optimizer='adam', loss='mse', metrics=[RootMeanSquaredError()])\n",
    "\n",
    "#Train the model\n",
    "predictor_model.fit(encoded_X_train, y_train, epochs=20, validation_split=0.1, batch_size=100, shuffle=False )\n",
    "y_pred = predictor_model.predict(encoded_X_test)\n",
    "\n",
    "mse_test = mean_squared_error(y_test, y_pred)\n",
    "print(f'Mean Squared Error on Test Set: {mse_test:.4f}')\n"
   ]
  },
  {
   "cell_type": "code",
   "execution_count": 44,
   "metadata": {},
   "outputs": [
    {
     "data": {
      "text/plain": [
       "(39410, 50)"
      ]
     },
     "execution_count": 44,
     "metadata": {},
     "output_type": "execute_result"
    }
   ],
   "source": [
    "encoded_X_train.shape"
   ]
  },
  {
   "cell_type": "code",
   "execution_count": 45,
   "metadata": {},
   "outputs": [],
   "source": [
    "actual = y_test.flatten()\n",
    "pred = y_pred.flatten()"
   ]
  },
  {
   "cell_type": "code",
   "execution_count": 46,
   "metadata": {},
   "outputs": [],
   "source": [
    "results = pd.DataFrame(data={\n",
    "    \"test_actual\": actual,\n",
    "    \"test_pred\" : pred\n",
    "})"
   ]
  },
  {
   "cell_type": "code",
   "execution_count": 47,
   "metadata": {},
   "outputs": [
    {
     "data": {
      "text/html": [
       "<div>\n",
       "<style scoped>\n",
       "    .dataframe tbody tr th:only-of-type {\n",
       "        vertical-align: middle;\n",
       "    }\n",
       "\n",
       "    .dataframe tbody tr th {\n",
       "        vertical-align: top;\n",
       "    }\n",
       "\n",
       "    .dataframe thead th {\n",
       "        text-align: right;\n",
       "    }\n",
       "</style>\n",
       "<table border=\"1\" class=\"dataframe\">\n",
       "  <thead>\n",
       "    <tr style=\"text-align: right;\">\n",
       "      <th></th>\n",
       "      <th>test_actual</th>\n",
       "      <th>test_pred</th>\n",
       "    </tr>\n",
       "  </thead>\n",
       "  <tbody>\n",
       "    <tr>\n",
       "      <th>0</th>\n",
       "      <td>0.101610</td>\n",
       "      <td>0.135160</td>\n",
       "    </tr>\n",
       "    <tr>\n",
       "      <th>1</th>\n",
       "      <td>0.111670</td>\n",
       "      <td>0.129362</td>\n",
       "    </tr>\n",
       "    <tr>\n",
       "      <th>2</th>\n",
       "      <td>0.110664</td>\n",
       "      <td>0.120406</td>\n",
       "    </tr>\n",
       "    <tr>\n",
       "      <th>3</th>\n",
       "      <td>0.134809</td>\n",
       "      <td>0.106763</td>\n",
       "    </tr>\n",
       "    <tr>\n",
       "      <th>4</th>\n",
       "      <td>0.170020</td>\n",
       "      <td>0.122850</td>\n",
       "    </tr>\n",
       "    <tr>\n",
       "      <th>...</th>\n",
       "      <td>...</td>\n",
       "      <td>...</td>\n",
       "    </tr>\n",
       "    <tr>\n",
       "      <th>4365</th>\n",
       "      <td>0.008048</td>\n",
       "      <td>0.038473</td>\n",
       "    </tr>\n",
       "    <tr>\n",
       "      <th>4366</th>\n",
       "      <td>0.010060</td>\n",
       "      <td>0.037071</td>\n",
       "    </tr>\n",
       "    <tr>\n",
       "      <th>4367</th>\n",
       "      <td>0.010060</td>\n",
       "      <td>0.037071</td>\n",
       "    </tr>\n",
       "    <tr>\n",
       "      <th>4368</th>\n",
       "      <td>0.008048</td>\n",
       "      <td>0.033273</td>\n",
       "    </tr>\n",
       "    <tr>\n",
       "      <th>4369</th>\n",
       "      <td>0.012072</td>\n",
       "      <td>0.027267</td>\n",
       "    </tr>\n",
       "  </tbody>\n",
       "</table>\n",
       "<p>4370 rows × 2 columns</p>\n",
       "</div>"
      ],
      "text/plain": [
       "      test_actual  test_pred\n",
       "0        0.101610   0.135160\n",
       "1        0.111670   0.129362\n",
       "2        0.110664   0.120406\n",
       "3        0.134809   0.106763\n",
       "4        0.170020   0.122850\n",
       "...           ...        ...\n",
       "4365     0.008048   0.038473\n",
       "4366     0.010060   0.037071\n",
       "4367     0.010060   0.037071\n",
       "4368     0.008048   0.033273\n",
       "4369     0.012072   0.027267\n",
       "\n",
       "[4370 rows x 2 columns]"
      ]
     },
     "execution_count": 47,
     "metadata": {},
     "output_type": "execute_result"
    }
   ],
   "source": [
    "results"
   ]
  },
  {
   "cell_type": "code",
   "execution_count": 48,
   "metadata": {},
   "outputs": [
    {
     "data": {
      "image/png": "[encoded data removed]",
      "text/plain": [
       "<Figure size 640x480 with 1 Axes>"
      ]
     },
     "metadata": {},
     "output_type": "display_data"
    }
   ],
   "source": [
    "plt.plot(results['test_pred'][:300], label='Predicted Values')\n",
    "plt.plot(results['test_actual'][:300], label='True Values')\n",
    "plt.legend()\n",
    "plt.show()"
   ]
  },
  {
   "cell_type": "markdown",
   "metadata": {},
   "source": [
    "You should be aware that the better the autoencoder is able to reconstruct the input the better it internally encodes the input, in other words if we have a good autoencoder we probably will have an equally good encoder."
   ]
  },
  {
   "cell_type": "markdown",
   "metadata": {},
   "source": [
    "Let's take a look at the layers of the encoder_decoder model:\n"
   ]
  },
  {
   "cell_type": "markdown",
   "metadata": {},
   "source": [
    "Assess how well the reconstructed dataset matches the original."
   ]
  },
  {
   "cell_type": "markdown",
   "metadata": {},
   "source": [
    "Train a new model MLP or LSTM using bottleneck_features\n",
    "- try clustering "
   ]
  },
  {
   "cell_type": "markdown",
   "metadata": {},
   "source": [
    "Plot the original sequence and reconstructed sequence to see how well the model is performing visually"
   ]
  },
  {
   "cell_type": "markdown",
   "metadata": {},
   "source": [
    "The reconstructed sequence follows the general trend of the original sequence but does not perfectly match the exact values. For example, the reconstructed values seem to lag slightly behind the original at certain points and do not capture sharp peaks."
   ]
  },
  {
   "cell_type": "markdown",
   "metadata": {},
   "source": [
    "## Modify the decoder to predict future time steps instead of reconstructing the input."
   ]
  },
  {
   "cell_type": "markdown",
   "metadata": {},
   "source": [
    "## 2) Lag-1 Features "
   ]
  },
  {
   "cell_type": "code",
   "execution_count": 49,
   "metadata": {},
   "outputs": [
    {
     "name": "stdout",
     "output_type": "stream",
     "text": [
      "(39418, 2, 8) (39418, 1)\n",
      "(4378, 2, 8) (4378, 1)\n"
     ]
    }
   ],
   "source": [
    "window_size = 2\n",
    "N= len(train_data)\n",
    "X_train_lagged, y_train_lagged = generate_sequence(train_data,N, window_size)\n",
    "print(X_train_lagged.shape, y_train_lagged.shape)\n",
    "\n",
    "M=len(test_data)\n",
    "X_test_lagged, y_test_lagged = generate_sequence(test_data,M,window_size)\n",
    "print(X_test_lagged.shape,y_test_lagged.shape)"
   ]
  },
  {
   "cell_type": "code",
   "execution_count": 50,
   "metadata": {},
   "outputs": [],
   "source": [
    "n_steps = X_train_lagged.shape[1]\n",
    "n_features = X_train_lagged.shape[2]\n",
    "n_outputs = y_train_lagged.shape[1]"
   ]
  },
  {
   "cell_type": "code",
   "execution_count": 51,
   "metadata": {},
   "outputs": [
    {
     "data": {
      "text/plain": [
       "2"
      ]
     },
     "execution_count": 51,
     "metadata": {},
     "output_type": "execute_result"
    }
   ],
   "source": [
    "n_steps"
   ]
  },
  {
   "cell_type": "code",
   "execution_count": 52,
   "metadata": {},
   "outputs": [
    {
     "data": {
      "text/html": [
       "<pre style=\"white-space:pre;overflow-x:auto;line-height:normal;font-family:Menlo,'DejaVu Sans Mono',consolas,'Courier New',monospace\"><span style=\"font-weight: bold\">Model: \"sequential_2\"</span>\n",
       "</pre>\n"
      ],
      "text/plain": [
       "\u001b[1mModel: \"sequential_2\"\u001b[0m\n"
      ]
     },
     "metadata": {},
     "output_type": "display_data"
    },
    {
     "data": {
      "text/html": [
       "<pre style=\"white-space:pre;overflow-x:auto;line-height:normal;font-family:Menlo,'DejaVu Sans Mono',consolas,'Courier New',monospace\">┏━━━━━━━━━━━━━━━━━━━━━━━━━━━━━━━━━┳━━━━━━━━━━━━━━━━━━━━━━━━┳━━━━━━━━━━━━━━━┓\n",
       "┃<span style=\"font-weight: bold\"> Layer (type)                    </span>┃<span style=\"font-weight: bold\"> Output Shape           </span>┃<span style=\"font-weight: bold\">       Param # </span>┃\n",
       "┡━━━━━━━━━━━━━━━━━━━━━━━━━━━━━━━━━╇━━━━━━━━━━━━━━━━━━━━━━━━╇━━━━━━━━━━━━━━━┩\n",
       "│ lstm_4 (<span style=\"color: #0087ff; text-decoration-color: #0087ff\">LSTM</span>)                   │ (<span style=\"color: #00d7ff; text-decoration-color: #00d7ff\">None</span>, <span style=\"color: #00af00; text-decoration-color: #00af00\">2</span>, <span style=\"color: #00af00; text-decoration-color: #00af00\">32</span>)          │         <span style=\"color: #00af00; text-decoration-color: #00af00\">5,248</span> │\n",
       "├─────────────────────────────────┼────────────────────────┼───────────────┤\n",
       "│ dropout_1 (<span style=\"color: #0087ff; text-decoration-color: #0087ff\">Dropout</span>)             │ (<span style=\"color: #00d7ff; text-decoration-color: #00d7ff\">None</span>, <span style=\"color: #00af00; text-decoration-color: #00af00\">2</span>, <span style=\"color: #00af00; text-decoration-color: #00af00\">32</span>)          │             <span style=\"color: #00af00; text-decoration-color: #00af00\">0</span> │\n",
       "├─────────────────────────────────┼────────────────────────┼───────────────┤\n",
       "│ lstm_5 (<span style=\"color: #0087ff; text-decoration-color: #0087ff\">LSTM</span>)                   │ (<span style=\"color: #00d7ff; text-decoration-color: #00d7ff\">None</span>, <span style=\"color: #00af00; text-decoration-color: #00af00\">16</span>)             │         <span style=\"color: #00af00; text-decoration-color: #00af00\">3,136</span> │\n",
       "├─────────────────────────────────┼────────────────────────┼───────────────┤\n",
       "│ dense_4 (<span style=\"color: #0087ff; text-decoration-color: #0087ff\">Dense</span>)                 │ (<span style=\"color: #00d7ff; text-decoration-color: #00d7ff\">None</span>, <span style=\"color: #00af00; text-decoration-color: #00af00\">1</span>)              │            <span style=\"color: #00af00; text-decoration-color: #00af00\">17</span> │\n",
       "└─────────────────────────────────┴────────────────────────┴───────────────┘\n",
       "</pre>\n"
      ],
      "text/plain": [
       "┏━━━━━━━━━━━━━━━━━━━━━━━━━━━━━━━━━┳━━━━━━━━━━━━━━━━━━━━━━━━┳━━━━━━━━━━━━━━━┓\n",
       "┃\u001b[1m \u001b[0m\u001b[1mLayer (type)                   \u001b[0m\u001b[1m \u001b[0m┃\u001b[1m \u001b[0m\u001b[1mOutput Shape          \u001b[0m\u001b[1m \u001b[0m┃\u001b[1m \u001b[0m\u001b[1m      Param #\u001b[0m\u001b[1m \u001b[0m┃\n",
       "┡━━━━━━━━━━━━━━━━━━━━━━━━━━━━━━━━━╇━━━━━━━━━━━━━━━━━━━━━━━━╇━━━━━━━━━━━━━━━┩\n",
       "│ lstm_4 (\u001b[38;5;33mLSTM\u001b[0m)                   │ (\u001b[38;5;45mNone\u001b[0m, \u001b[38;5;34m2\u001b[0m, \u001b[38;5;34m32\u001b[0m)          │         \u001b[38;5;34m5,248\u001b[0m │\n",
       "├─────────────────────────────────┼────────────────────────┼───────────────┤\n",
       "│ dropout_1 (\u001b[38;5;33mDropout\u001b[0m)             │ (\u001b[38;5;45mNone\u001b[0m, \u001b[38;5;34m2\u001b[0m, \u001b[38;5;34m32\u001b[0m)          │             \u001b[38;5;34m0\u001b[0m │\n",
       "├─────────────────────────────────┼────────────────────────┼───────────────┤\n",
       "│ lstm_5 (\u001b[38;5;33mLSTM\u001b[0m)                   │ (\u001b[38;5;45mNone\u001b[0m, \u001b[38;5;34m16\u001b[0m)             │         \u001b[38;5;34m3,136\u001b[0m │\n",
       "├─────────────────────────────────┼────────────────────────┼───────────────┤\n",
       "│ dense_4 (\u001b[38;5;33mDense\u001b[0m)                 │ (\u001b[38;5;45mNone\u001b[0m, \u001b[38;5;34m1\u001b[0m)              │            \u001b[38;5;34m17\u001b[0m │\n",
       "└─────────────────────────────────┴────────────────────────┴───────────────┘\n"
      ]
     },
     "metadata": {},
     "output_type": "display_data"
    },
    {
     "data": {
      "text/html": [
       "<pre style=\"white-space:pre;overflow-x:auto;line-height:normal;font-family:Menlo,'DejaVu Sans Mono',consolas,'Courier New',monospace\"><span style=\"font-weight: bold\"> Total params: </span><span style=\"color: #00af00; text-decoration-color: #00af00\">8,401</span> (32.82 KB)\n",
       "</pre>\n"
      ],
      "text/plain": [
       "\u001b[1m Total params: \u001b[0m\u001b[38;5;34m8,401\u001b[0m (32.82 KB)\n"
      ]
     },
     "metadata": {},
     "output_type": "display_data"
    },
    {
     "data": {
      "text/html": [
       "<pre style=\"white-space:pre;overflow-x:auto;line-height:normal;font-family:Menlo,'DejaVu Sans Mono',consolas,'Courier New',monospace\"><span style=\"font-weight: bold\"> Trainable params: </span><span style=\"color: #00af00; text-decoration-color: #00af00\">8,401</span> (32.82 KB)\n",
       "</pre>\n"
      ],
      "text/plain": [
       "\u001b[1m Trainable params: \u001b[0m\u001b[38;5;34m8,401\u001b[0m (32.82 KB)\n"
      ]
     },
     "metadata": {},
     "output_type": "display_data"
    },
    {
     "data": {
      "text/html": [
       "<pre style=\"white-space:pre;overflow-x:auto;line-height:normal;font-family:Menlo,'DejaVu Sans Mono',consolas,'Courier New',monospace\"><span style=\"font-weight: bold\"> Non-trainable params: </span><span style=\"color: #00af00; text-decoration-color: #00af00\">0</span> (0.00 B)\n",
       "</pre>\n"
      ],
      "text/plain": [
       "\u001b[1m Non-trainable params: \u001b[0m\u001b[38;5;34m0\u001b[0m (0.00 B)\n"
      ]
     },
     "metadata": {},
     "output_type": "display_data"
    }
   ],
   "source": [
    "tf.random.set_seed(7)\n",
    "LAG_LSTM = Sequential()\n",
    "LAG_LSTM.add(Input(shape =(n_steps, n_features)))\n",
    "LAG_LSTM.add(LSTM(32,return_sequences=True))\n",
    "LAG_LSTM.add(Dropout(0.1)) #Prevent overfitting\n",
    "LAG_LSTM.add(LSTM(16, return_sequences=False))\n",
    "LAG_LSTM.add(Dense(n_outputs, activation ='linear')) \n",
    "\n",
    "LAG_LSTM.compile(optimizer=Adam(learning_rate = 0.001), loss='mse', metrics = [RootMeanSquaredError()])\n",
    "\n",
    "initial_lag_weights = LAG_LSTM.get_weights()\n",
    "\n",
    "LAG_LSTM.summary()"
   ]
  },
  {
   "cell_type": "code",
   "execution_count": 53,
   "metadata": {},
   "outputs": [],
   "source": [
    "batch_sizes = [16, 32, 64, 128, 256]  # Different batch sizes to test\n",
    "results = {\"batch_size\": [], \"lag_rmse\":[], \"lag_time\": [],\"stck_rmse\":[], \"stck_time\": []}"
   ]
  },
  {
   "cell_type": "code",
   "execution_count": 54,
   "metadata": {},
   "outputs": [
    {
     "name": "stdout",
     "output_type": "stream",
     "text": [
      "Epoch 1/10\n",
      "\u001b[1m2217/2217\u001b[0m \u001b[32m━━━━━━━━━━━━━━━━━━━━\u001b[0m\u001b[37m\u001b[0m \u001b[1m16s\u001b[0m 7ms/step - loss: 0.0041 - root_mean_squared_error: 0.0624 - val_loss: 0.0017 - val_root_mean_squared_error: 0.0407\n",
      "Epoch 2/10\n",
      "\u001b[1m2217/2217\u001b[0m \u001b[32m━━━━━━━━━━━━━━━━━━━━\u001b[0m\u001b[37m\u001b[0m \u001b[1m16s\u001b[0m 7ms/step - loss: 0.0012 - root_mean_squared_error: 0.0339 - val_loss: 0.0012 - val_root_mean_squared_error: 0.0344\n",
      "Epoch 3/10\n",
      "\u001b[1m2217/2217\u001b[0m \u001b[32m━━━━━━━━━━━━━━━━━━━━\u001b[0m\u001b[37m\u001b[0m \u001b[1m16s\u001b[0m 7ms/step - loss: 0.0011 - root_mean_squared_error: 0.0327 - val_loss: 0.0013 - val_root_mean_squared_error: 0.0361\n",
      "Epoch 4/10\n",
      "\u001b[1m2217/2217\u001b[0m \u001b[32m━━━━━━━━━━━━━━━━━━━━\u001b[0m\u001b[37m\u001b[0m \u001b[1m16s\u001b[0m 7ms/step - loss: 0.0010 - root_mean_squared_error: 0.0318 - val_loss: 0.0014 - val_root_mean_squared_error: 0.0370\n",
      "Epoch 5/10\n",
      "\u001b[1m2217/2217\u001b[0m \u001b[32m━━━━━━━━━━━━━━━━━━━━\u001b[0m\u001b[37m\u001b[0m \u001b[1m16s\u001b[0m 7ms/step - loss: 0.0010 - root_mean_squared_error: 0.0316 - val_loss: 0.0013 - val_root_mean_squared_error: 0.0357\n",
      "Epoch 6/10\n",
      "\u001b[1m2217/2217\u001b[0m \u001b[32m━━━━━━━━━━━━━━━━━━━━\u001b[0m\u001b[37m\u001b[0m \u001b[1m16s\u001b[0m 7ms/step - loss: 9.8491e-04 - root_mean_squared_error: 0.0311 - val_loss: 0.0014 - val_root_mean_squared_error: 0.0369\n",
      "Epoch 7/10\n",
      "\u001b[1m2217/2217\u001b[0m \u001b[32m━━━━━━━━━━━━━━━━━━━━\u001b[0m\u001b[37m\u001b[0m \u001b[1m16s\u001b[0m 7ms/step - loss: 9.8466e-04 - root_mean_squared_error: 0.0311 - val_loss: 0.0013 - val_root_mean_squared_error: 0.0362\n",
      "Epoch 8/10\n",
      "\u001b[1m2217/2217\u001b[0m \u001b[32m━━━━━━━━━━━━━━━━━━━━\u001b[0m\u001b[37m\u001b[0m \u001b[1m16s\u001b[0m 7ms/step - loss: 9.3404e-04 - root_mean_squared_error: 0.0303 - val_loss: 0.0013 - val_root_mean_squared_error: 0.0362\n",
      "Epoch 9/10\n",
      "\u001b[1m2217/2217\u001b[0m \u001b[32m━━━━━━━━━━━━━━━━━━━━\u001b[0m\u001b[37m\u001b[0m \u001b[1m16s\u001b[0m 7ms/step - loss: 9.1450e-04 - root_mean_squared_error: 0.0301 - val_loss: 0.0013 - val_root_mean_squared_error: 0.0359\n",
      "Epoch 10/10\n",
      "\u001b[1m2217/2217\u001b[0m \u001b[32m━━━━━━━━━━━━━━━━━━━━\u001b[0m\u001b[37m\u001b[0m \u001b[1m16s\u001b[0m 7ms/step - loss: 8.8296e-04 - root_mean_squared_error: 0.0295 - val_loss: 0.0013 - val_root_mean_squared_error: 0.0365\n",
      "\u001b[1m137/137\u001b[0m \u001b[32m━━━━━━━━━━━━━━━━━━━━\u001b[0m\u001b[37m\u001b[0m \u001b[1m1s\u001b[0m 4ms/step - loss: 0.0014 - root_mean_squared_error: 0.0373\n",
      "Epoch 1/10\n",
      "\u001b[1m2218/2218\u001b[0m \u001b[32m━━━━━━━━━━━━━━━━━━━━\u001b[0m\u001b[37m\u001b[0m \u001b[1m15s\u001b[0m 6ms/step - loss: 0.0040 - root_mean_squared_error: 0.0618 - val_loss: 0.0016 - val_root_mean_squared_error: 0.0399\n",
      "Epoch 2/10\n",
      "\u001b[1m2218/2218\u001b[0m \u001b[32m━━━━━━━━━━━━━━━━━━━━\u001b[0m\u001b[37m\u001b[0m \u001b[1m14s\u001b[0m 6ms/step - loss: 0.0013 - root_mean_squared_error: 0.0356 - val_loss: 0.0014 - val_root_mean_squared_error: 0.0376\n",
      "Epoch 3/10\n",
      "\u001b[1m2218/2218\u001b[0m \u001b[32m━━━━━━━━━━━━━━━━━━━━\u001b[0m\u001b[37m\u001b[0m \u001b[1m14s\u001b[0m 6ms/step - loss: 0.0011 - root_mean_squared_error: 0.0324 - val_loss: 0.0018 - val_root_mean_squared_error: 0.0421\n",
      "Epoch 4/10\n",
      "\u001b[1m2218/2218\u001b[0m \u001b[32m━━━━━━━━━━━━━━━━━━━━\u001b[0m\u001b[37m\u001b[0m \u001b[1m14s\u001b[0m 6ms/step - loss: 0.0011 - root_mean_squared_error: 0.0323 - val_loss: 0.0013 - val_root_mean_squared_error: 0.0366\n",
      "Epoch 5/10\n",
      "\u001b[1m2218/2218\u001b[0m \u001b[32m━━━━━━━━━━━━━━━━━━━━\u001b[0m\u001b[37m\u001b[0m \u001b[1m14s\u001b[0m 6ms/step - loss: 0.0010 - root_mean_squared_error: 0.0319 - val_loss: 0.0014 - val_root_mean_squared_error: 0.0368\n",
      "Epoch 6/10\n",
      "\u001b[1m2218/2218\u001b[0m \u001b[32m━━━━━━━━━━━━━━━━━━━━\u001b[0m\u001b[37m\u001b[0m \u001b[1m14s\u001b[0m 6ms/step - loss: 0.0010 - root_mean_squared_error: 0.0315 - val_loss: 0.0015 - val_root_mean_squared_error: 0.0383\n",
      "Epoch 7/10\n",
      "\u001b[1m2218/2218\u001b[0m \u001b[32m━━━━━━━━━━━━━━━━━━━━\u001b[0m\u001b[37m\u001b[0m \u001b[1m14s\u001b[0m 6ms/step - loss: 9.8185e-04 - root_mean_squared_error: 0.0311 - val_loss: 0.0014 - val_root_mean_squared_error: 0.0379\n",
      "Epoch 8/10\n",
      "\u001b[1m2218/2218\u001b[0m \u001b[32m━━━━━━━━━━━━━━━━━━━━\u001b[0m\u001b[37m\u001b[0m \u001b[1m14s\u001b[0m 6ms/step - loss: 9.6743e-04 - root_mean_squared_error: 0.0309 - val_loss: 0.0014 - val_root_mean_squared_error: 0.0377\n",
      "Epoch 9/10\n",
      "\u001b[1m2218/2218\u001b[0m \u001b[32m━━━━━━━━━━━━━━━━━━━━\u001b[0m\u001b[37m\u001b[0m \u001b[1m14s\u001b[0m 6ms/step - loss: 9.4166e-04 - root_mean_squared_error: 0.0305 - val_loss: 0.0016 - val_root_mean_squared_error: 0.0399\n",
      "Epoch 10/10\n",
      "\u001b[1m2218/2218\u001b[0m \u001b[32m━━━━━━━━━━━━━━━━━━━━\u001b[0m\u001b[37m\u001b[0m \u001b[1m15s\u001b[0m 7ms/step - loss: 9.3253e-04 - root_mean_squared_error: 0.0303 - val_loss: 0.0016 - val_root_mean_squared_error: 0.0401\n",
      "\u001b[1m137/137\u001b[0m \u001b[32m━━━━━━━━━━━━━━━━━━━━\u001b[0m\u001b[37m\u001b[0m \u001b[1m1s\u001b[0m 3ms/step - loss: 0.0042 - root_mean_squared_error: 0.0645\n",
      "Epoch 1/10\n",
      "\u001b[1m1109/1109\u001b[0m \u001b[32m━━━━━━━━━━━━━━━━━━━━\u001b[0m\u001b[37m\u001b[0m \u001b[1m8s\u001b[0m 7ms/step - loss: 0.0046 - root_mean_squared_error: 0.0655 - val_loss: 0.0019 - val_root_mean_squared_error: 0.0433\n",
      "Epoch 2/10\n",
      "\u001b[1m1109/1109\u001b[0m \u001b[32m━━━━━━━━━━━━━━━━━━━━\u001b[0m\u001b[37m\u001b[0m \u001b[1m8s\u001b[0m 7ms/step - loss: 0.0013 - root_mean_squared_error: 0.0365 - val_loss: 9.5454e-04 - val_root_mean_squared_error: 0.0309\n",
      "Epoch 3/10\n",
      "\u001b[1m1109/1109\u001b[0m \u001b[32m━━━━━━━━━━━━━━━━━━━━\u001b[0m\u001b[37m\u001b[0m \u001b[1m8s\u001b[0m 7ms/step - loss: 0.0011 - root_mean_squared_error: 0.0332 - val_loss: 8.8590e-04 - val_root_mean_squared_error: 0.0298\n",
      "Epoch 4/10\n",
      "\u001b[1m1109/1109\u001b[0m \u001b[32m━━━━━━━━━━━━━━━━━━━━\u001b[0m\u001b[37m\u001b[0m \u001b[1m8s\u001b[0m 7ms/step - loss: 0.0011 - root_mean_squared_error: 0.0326 - val_loss: 8.2453e-04 - val_root_mean_squared_error: 0.0287\n",
      "Epoch 5/10\n",
      "\u001b[1m1109/1109\u001b[0m \u001b[32m━━━━━━━━━━━━━━━━━━━━\u001b[0m\u001b[37m\u001b[0m \u001b[1m8s\u001b[0m 7ms/step - loss: 0.0010 - root_mean_squared_error: 0.0315 - val_loss: 8.3268e-04 - val_root_mean_squared_error: 0.0289\n",
      "Epoch 6/10\n",
      "\u001b[1m1109/1109\u001b[0m \u001b[32m━━━━━━━━━━━━━━━━━━━━\u001b[0m\u001b[37m\u001b[0m \u001b[1m8s\u001b[0m 7ms/step - loss: 0.0011 - root_mean_squared_error: 0.0322 - val_loss: 8.0223e-04 - val_root_mean_squared_error: 0.0283\n",
      "Epoch 7/10\n",
      "\u001b[1m1109/1109\u001b[0m \u001b[32m━━━━━━━━━━━━━━━━━━━━\u001b[0m\u001b[37m\u001b[0m \u001b[1m8s\u001b[0m 7ms/step - loss: 9.8627e-04 - root_mean_squared_error: 0.0311 - val_loss: 8.2584e-04 - val_root_mean_squared_error: 0.0287\n",
      "Epoch 8/10\n",
      "\u001b[1m1109/1109\u001b[0m \u001b[32m━━━━━━━━━━━━━━━━━━━━\u001b[0m\u001b[37m\u001b[0m \u001b[1m8s\u001b[0m 8ms/step - loss: 9.8456e-04 - root_mean_squared_error: 0.0311 - val_loss: 8.2387e-04 - val_root_mean_squared_error: 0.0287\n",
      "Epoch 9/10\n",
      "\u001b[1m1109/1109\u001b[0m \u001b[32m━━━━━━━━━━━━━━━━━━━━\u001b[0m\u001b[37m\u001b[0m \u001b[1m8s\u001b[0m 7ms/step - loss: 9.9414e-04 - root_mean_squared_error: 0.0312 - val_loss: 7.8827e-04 - val_root_mean_squared_error: 0.0281\n",
      "Epoch 10/10\n",
      "\u001b[1m1109/1109\u001b[0m \u001b[32m━━━━━━━━━━━━━━━━━━━━\u001b[0m\u001b[37m\u001b[0m \u001b[1m8s\u001b[0m 7ms/step - loss: 9.5582e-04 - root_mean_squared_error: 0.0307 - val_loss: 7.9696e-04 - val_root_mean_squared_error: 0.0282\n",
      "\u001b[1m137/137\u001b[0m \u001b[32m━━━━━━━━━━━━━━━━━━━━\u001b[0m\u001b[37m\u001b[0m \u001b[1m0s\u001b[0m 3ms/step - loss: 6.0938e-04 - root_mean_squared_error: 0.0247\n",
      "Epoch 1/10\n",
      "\u001b[1m1109/1109\u001b[0m \u001b[32m━━━━━━━━━━━━━━━━━━━━\u001b[0m\u001b[37m\u001b[0m \u001b[1m7s\u001b[0m 6ms/step - loss: 0.0038 - root_mean_squared_error: 0.0606 - val_loss: 0.0017 - val_root_mean_squared_error: 0.0414\n",
      "Epoch 2/10\n",
      "\u001b[1m1109/1109\u001b[0m \u001b[32m━━━━━━━━━━━━━━━━━━━━\u001b[0m\u001b[37m\u001b[0m \u001b[1m7s\u001b[0m 6ms/step - loss: 0.0013 - root_mean_squared_error: 0.0357 - val_loss: 0.0011 - val_root_mean_squared_error: 0.0328\n",
      "Epoch 3/10\n",
      "\u001b[1m1109/1109\u001b[0m \u001b[32m━━━━━━━━━━━━━━━━━━━━\u001b[0m\u001b[37m\u001b[0m \u001b[1m7s\u001b[0m 6ms/step - loss: 0.0011 - root_mean_squared_error: 0.0330 - val_loss: 8.8125e-04 - val_root_mean_squared_error: 0.0297\n",
      "Epoch 4/10\n",
      "\u001b[1m1109/1109\u001b[0m \u001b[32m━━━━━━━━━━━━━━━━━━━━\u001b[0m\u001b[37m\u001b[0m \u001b[1m7s\u001b[0m 6ms/step - loss: 0.0011 - root_mean_squared_error: 0.0325 - val_loss: 9.4542e-04 - val_root_mean_squared_error: 0.0307\n",
      "Epoch 5/10\n",
      "\u001b[1m1109/1109\u001b[0m \u001b[32m━━━━━━━━━━━━━━━━━━━━\u001b[0m\u001b[37m\u001b[0m \u001b[1m7s\u001b[0m 6ms/step - loss: 0.0010 - root_mean_squared_error: 0.0320 - val_loss: 9.0365e-04 - val_root_mean_squared_error: 0.0301\n",
      "Epoch 6/10\n",
      "\u001b[1m1109/1109\u001b[0m \u001b[32m━━━━━━━━━━━━━━━━━━━━\u001b[0m\u001b[37m\u001b[0m \u001b[1m7s\u001b[0m 6ms/step - loss: 0.0010 - root_mean_squared_error: 0.0315 - val_loss: 0.0010 - val_root_mean_squared_error: 0.0322\n",
      "Epoch 7/10\n",
      "\u001b[1m1109/1109\u001b[0m \u001b[32m━━━━━━━━━━━━━━━━━━━━\u001b[0m\u001b[37m\u001b[0m \u001b[1m7s\u001b[0m 6ms/step - loss: 0.0010 - root_mean_squared_error: 0.0315 - val_loss: 0.0011 - val_root_mean_squared_error: 0.0326\n",
      "Epoch 8/10\n",
      "\u001b[1m1109/1109\u001b[0m \u001b[32m━━━━━━━━━━━━━━━━━━━━\u001b[0m\u001b[37m\u001b[0m \u001b[1m7s\u001b[0m 6ms/step - loss: 9.8735e-04 - root_mean_squared_error: 0.0312 - val_loss: 9.4274e-04 - val_root_mean_squared_error: 0.0307\n",
      "Epoch 9/10\n",
      "\u001b[1m1109/1109\u001b[0m \u001b[32m━━━━━━━━━━━━━━━━━━━━\u001b[0m\u001b[37m\u001b[0m \u001b[1m7s\u001b[0m 6ms/step - loss: 9.6331e-04 - root_mean_squared_error: 0.0308 - val_loss: 0.0011 - val_root_mean_squared_error: 0.0326\n",
      "Epoch 10/10\n",
      "\u001b[1m1109/1109\u001b[0m \u001b[32m━━━━━━━━━━━━━━━━━━━━\u001b[0m\u001b[37m\u001b[0m \u001b[1m7s\u001b[0m 6ms/step - loss: 9.4686e-04 - root_mean_squared_error: 0.0306 - val_loss: 9.8182e-04 - val_root_mean_squared_error: 0.0313\n",
      "\u001b[1m137/137\u001b[0m \u001b[32m━━━━━━━━━━━━━━━━━━━━\u001b[0m\u001b[37m\u001b[0m \u001b[1m1s\u001b[0m 4ms/step - loss: 0.0027 - root_mean_squared_error: 0.0513\n",
      "Epoch 1/10\n",
      "\u001b[1m555/555\u001b[0m \u001b[32m━━━━━━━━━━━━━━━━━━━━\u001b[0m\u001b[37m\u001b[0m \u001b[1m4s\u001b[0m 8ms/step - loss: 0.0044 - root_mean_squared_error: 0.0650 - val_loss: 0.0024 - val_root_mean_squared_error: 0.0494\n",
      "Epoch 2/10\n",
      "\u001b[1m555/555\u001b[0m \u001b[32m━━━━━━━━━━━━━━━━━━━━\u001b[0m\u001b[37m\u001b[0m \u001b[1m4s\u001b[0m 8ms/step - loss: 0.0016 - root_mean_squared_error: 0.0403 - val_loss: 0.0017 - val_root_mean_squared_error: 0.0418\n",
      "Epoch 3/10\n",
      "\u001b[1m555/555\u001b[0m \u001b[32m━━━━━━━━━━━━━━━━━━━━\u001b[0m\u001b[37m\u001b[0m \u001b[1m4s\u001b[0m 7ms/step - loss: 0.0013 - root_mean_squared_error: 0.0353 - val_loss: 0.0013 - val_root_mean_squared_error: 0.0356\n",
      "Epoch 4/10\n",
      "\u001b[1m555/555\u001b[0m \u001b[32m━━━━━━━━━━━━━━━━━━━━\u001b[0m\u001b[37m\u001b[0m \u001b[1m4s\u001b[0m 8ms/step - loss: 0.0011 - root_mean_squared_error: 0.0329 - val_loss: 8.8831e-04 - val_root_mean_squared_error: 0.0298\n",
      "Epoch 5/10\n",
      "\u001b[1m555/555\u001b[0m \u001b[32m━━━━━━━━━━━━━━━━━━━━\u001b[0m\u001b[37m\u001b[0m \u001b[1m5s\u001b[0m 9ms/step - loss: 0.0011 - root_mean_squared_error: 0.0327 - val_loss: 7.7477e-04 - val_root_mean_squared_error: 0.0278\n",
      "Epoch 6/10\n",
      "\u001b[1m555/555\u001b[0m \u001b[32m━━━━━━━━━━━━━━━━━━━━\u001b[0m\u001b[37m\u001b[0m \u001b[1m4s\u001b[0m 8ms/step - loss: 0.0010 - root_mean_squared_error: 0.0319 - val_loss: 7.5846e-04 - val_root_mean_squared_error: 0.0275\n",
      "Epoch 7/10\n",
      "\u001b[1m555/555\u001b[0m \u001b[32m━━━━━━━━━━━━━━━━━━━━\u001b[0m\u001b[37m\u001b[0m \u001b[1m5s\u001b[0m 8ms/step - loss: 0.0010 - root_mean_squared_error: 0.0319 - val_loss: 7.3378e-04 - val_root_mean_squared_error: 0.0271\n",
      "Epoch 8/10\n",
      "\u001b[1m555/555\u001b[0m \u001b[32m━━━━━━━━━━━━━━━━━━━━\u001b[0m\u001b[37m\u001b[0m \u001b[1m5s\u001b[0m 8ms/step - loss: 9.9302e-04 - root_mean_squared_error: 0.0313 - val_loss: 7.2100e-04 - val_root_mean_squared_error: 0.0269\n",
      "Epoch 9/10\n",
      "\u001b[1m555/555\u001b[0m \u001b[32m━━━━━━━━━━━━━━━━━━━━\u001b[0m\u001b[37m\u001b[0m \u001b[1m5s\u001b[0m 9ms/step - loss: 9.5556e-04 - root_mean_squared_error: 0.0307 - val_loss: 7.8109e-04 - val_root_mean_squared_error: 0.0279\n",
      "Epoch 10/10\n",
      "\u001b[1m555/555\u001b[0m \u001b[32m━━━━━━━━━━━━━━━━━━━━\u001b[0m\u001b[37m\u001b[0m \u001b[1m6s\u001b[0m 10ms/step - loss: 9.8687e-04 - root_mean_squared_error: 0.0311 - val_loss: 7.6026e-04 - val_root_mean_squared_error: 0.0276\n",
      "\u001b[1m137/137\u001b[0m \u001b[32m━━━━━━━━━━━━━━━━━━━━\u001b[0m\u001b[37m\u001b[0m \u001b[1m1s\u001b[0m 4ms/step - loss: 6.2716e-04 - root_mean_squared_error: 0.0250\n",
      "Epoch 1/10\n",
      "\u001b[1m555/555\u001b[0m \u001b[32m━━━━━━━━━━━━━━━━━━━━\u001b[0m\u001b[37m\u001b[0m \u001b[1m5s\u001b[0m 8ms/step - loss: 0.0045 - root_mean_squared_error: 0.0660 - val_loss: 0.0015 - val_root_mean_squared_error: 0.0388\n",
      "Epoch 2/10\n",
      "\u001b[1m555/555\u001b[0m \u001b[32m━━━━━━━━━━━━━━━━━━━━\u001b[0m\u001b[37m\u001b[0m \u001b[1m4s\u001b[0m 6ms/step - loss: 0.0013 - root_mean_squared_error: 0.0359 - val_loss: 0.0012 - val_root_mean_squared_error: 0.0342\n",
      "Epoch 3/10\n",
      "\u001b[1m555/555\u001b[0m \u001b[32m━━━━━━━━━━━━━━━━━━━━\u001b[0m\u001b[37m\u001b[0m \u001b[1m4s\u001b[0m 7ms/step - loss: 0.0012 - root_mean_squared_error: 0.0344 - val_loss: 8.9350e-04 - val_root_mean_squared_error: 0.0299\n",
      "Epoch 4/10\n",
      "\u001b[1m555/555\u001b[0m \u001b[32m━━━━━━━━━━━━━━━━━━━━\u001b[0m\u001b[37m\u001b[0m \u001b[1m4s\u001b[0m 7ms/step - loss: 0.0011 - root_mean_squared_error: 0.0328 - val_loss: 7.2065e-04 - val_root_mean_squared_error: 0.0268\n",
      "Epoch 5/10\n",
      "\u001b[1m555/555\u001b[0m \u001b[32m━━━━━━━━━━━━━━━━━━━━\u001b[0m\u001b[37m\u001b[0m \u001b[1m4s\u001b[0m 7ms/step - loss: 0.0010 - root_mean_squared_error: 0.0319 - val_loss: 7.0877e-04 - val_root_mean_squared_error: 0.0266\n",
      "Epoch 6/10\n",
      "\u001b[1m555/555\u001b[0m \u001b[32m━━━━━━━━━━━━━━━━━━━━\u001b[0m\u001b[37m\u001b[0m \u001b[1m4s\u001b[0m 6ms/step - loss: 0.0010 - root_mean_squared_error: 0.0316 - val_loss: 7.2189e-04 - val_root_mean_squared_error: 0.0269\n",
      "Epoch 7/10\n",
      "\u001b[1m555/555\u001b[0m \u001b[32m━━━━━━━━━━━━━━━━━━━━\u001b[0m\u001b[37m\u001b[0m \u001b[1m4s\u001b[0m 7ms/step - loss: 0.0010 - root_mean_squared_error: 0.0314 - val_loss: 7.0264e-04 - val_root_mean_squared_error: 0.0265\n",
      "Epoch 8/10\n",
      "\u001b[1m555/555\u001b[0m \u001b[32m━━━━━━━━━━━━━━━━━━━━\u001b[0m\u001b[37m\u001b[0m \u001b[1m4s\u001b[0m 7ms/step - loss: 9.7123e-04 - root_mean_squared_error: 0.0309 - val_loss: 7.3962e-04 - val_root_mean_squared_error: 0.0272\n",
      "Epoch 9/10\n",
      "\u001b[1m555/555\u001b[0m \u001b[32m━━━━━━━━━━━━━━━━━━━━\u001b[0m\u001b[37m\u001b[0m \u001b[1m4s\u001b[0m 7ms/step - loss: 9.8052e-04 - root_mean_squared_error: 0.0311 - val_loss: 7.1789e-04 - val_root_mean_squared_error: 0.0268\n",
      "Epoch 10/10\n",
      "\u001b[1m555/555\u001b[0m \u001b[32m━━━━━━━━━━━━━━━━━━━━\u001b[0m\u001b[37m\u001b[0m \u001b[1m4s\u001b[0m 7ms/step - loss: 9.6928e-04 - root_mean_squared_error: 0.0309 - val_loss: 7.3697e-04 - val_root_mean_squared_error: 0.0271\n",
      "\u001b[1m137/137\u001b[0m \u001b[32m━━━━━━━━━━━━━━━━━━━━\u001b[0m\u001b[37m\u001b[0m \u001b[1m0s\u001b[0m 3ms/step - loss: 0.0038 - root_mean_squared_error: 0.0615\n",
      "Epoch 1/10\n",
      "\u001b[1m278/278\u001b[0m \u001b[32m━━━━━━━━━━━━━━━━━━━━\u001b[0m\u001b[37m\u001b[0m \u001b[1m2s\u001b[0m 8ms/step - loss: 0.0045 - root_mean_squared_error: 0.0661 - val_loss: 0.0073 - val_root_mean_squared_error: 0.0854\n",
      "Epoch 2/10\n",
      "\u001b[1m278/278\u001b[0m \u001b[32m━━━━━━━━━━━━━━━━━━━━\u001b[0m\u001b[37m\u001b[0m \u001b[1m2s\u001b[0m 9ms/step - loss: 0.0020 - root_mean_squared_error: 0.0443 - val_loss: 0.0068 - val_root_mean_squared_error: 0.0822\n",
      "Epoch 3/10\n",
      "\u001b[1m278/278\u001b[0m \u001b[32m━━━━━━━━━━━━━━━━━━━━\u001b[0m\u001b[37m\u001b[0m \u001b[1m2s\u001b[0m 8ms/step - loss: 0.0016 - root_mean_squared_error: 0.0400 - val_loss: 0.0082 - val_root_mean_squared_error: 0.0907\n",
      "Epoch 4/10\n",
      "\u001b[1m278/278\u001b[0m \u001b[32m━━━━━━━━━━━━━━━━━━━━\u001b[0m\u001b[37m\u001b[0m \u001b[1m2s\u001b[0m 8ms/step - loss: 0.0015 - root_mean_squared_error: 0.0382 - val_loss: 0.0091 - val_root_mean_squared_error: 0.0952\n",
      "Epoch 5/10\n",
      "\u001b[1m278/278\u001b[0m \u001b[32m━━━━━━━━━━━━━━━━━━━━\u001b[0m\u001b[37m\u001b[0m \u001b[1m2s\u001b[0m 9ms/step - loss: 0.0014 - root_mean_squared_error: 0.0376 - val_loss: 0.0096 - val_root_mean_squared_error: 0.0981\n",
      "Epoch 6/10\n",
      "\u001b[1m278/278\u001b[0m \u001b[32m━━━━━━━━━━━━━━━━━━━━\u001b[0m\u001b[37m\u001b[0m \u001b[1m2s\u001b[0m 8ms/step - loss: 0.0013 - root_mean_squared_error: 0.0366 - val_loss: 0.0109 - val_root_mean_squared_error: 0.1042\n",
      "Epoch 7/10\n",
      "\u001b[1m278/278\u001b[0m \u001b[32m━━━━━━━━━━━━━━━━━━━━\u001b[0m\u001b[37m\u001b[0m \u001b[1m2s\u001b[0m 8ms/step - loss: 0.0013 - root_mean_squared_error: 0.0362 - val_loss: 0.0122 - val_root_mean_squared_error: 0.1106\n",
      "Epoch 8/10\n",
      "\u001b[1m278/278\u001b[0m \u001b[32m━━━━━━━━━━━━━━━━━━━━\u001b[0m\u001b[37m\u001b[0m \u001b[1m3s\u001b[0m 10ms/step - loss: 0.0014 - root_mean_squared_error: 0.0368 - val_loss: 0.0149 - val_root_mean_squared_error: 0.1221\n",
      "Epoch 9/10\n",
      "\u001b[1m278/278\u001b[0m \u001b[32m━━━━━━━━━━━━━━━━━━━━\u001b[0m\u001b[37m\u001b[0m \u001b[1m2s\u001b[0m 8ms/step - loss: 0.0014 - root_mean_squared_error: 0.0378 - val_loss: 0.0154 - val_root_mean_squared_error: 0.1241\n",
      "Epoch 10/10\n",
      "\u001b[1m278/278\u001b[0m \u001b[32m━━━━━━━━━━━━━━━━━━━━\u001b[0m\u001b[37m\u001b[0m \u001b[1m2s\u001b[0m 9ms/step - loss: 0.0016 - root_mean_squared_error: 0.0396 - val_loss: 0.0196 - val_root_mean_squared_error: 0.1398\n",
      "\u001b[1m137/137\u001b[0m \u001b[32m━━━━━━━━━━━━━━━━━━━━\u001b[0m\u001b[37m\u001b[0m \u001b[1m0s\u001b[0m 3ms/step - loss: 0.0444 - root_mean_squared_error: 0.2094\n",
      "Epoch 1/10\n",
      "\u001b[1m278/278\u001b[0m \u001b[32m━━━━━━━━━━━━━━━━━━━━\u001b[0m\u001b[37m\u001b[0m \u001b[1m2s\u001b[0m 7ms/step - loss: 0.0060 - root_mean_squared_error: 0.0765 - val_loss: 0.0086 - val_root_mean_squared_error: 0.0925\n",
      "Epoch 2/10\n",
      "\u001b[1m278/278\u001b[0m \u001b[32m━━━━━━━━━━━━━━━━━━━━\u001b[0m\u001b[37m\u001b[0m \u001b[1m2s\u001b[0m 8ms/step - loss: 0.0016 - root_mean_squared_error: 0.0396 - val_loss: 0.0078 - val_root_mean_squared_error: 0.0886\n",
      "Epoch 3/10\n",
      "\u001b[1m278/278\u001b[0m \u001b[32m━━━━━━━━━━━━━━━━━━━━\u001b[0m\u001b[37m\u001b[0m \u001b[1m2s\u001b[0m 7ms/step - loss: 0.0015 - root_mean_squared_error: 0.0382 - val_loss: 0.0095 - val_root_mean_squared_error: 0.0974\n",
      "Epoch 4/10\n",
      "\u001b[1m278/278\u001b[0m \u001b[32m━━━━━━━━━━━━━━━━━━━━\u001b[0m\u001b[37m\u001b[0m \u001b[1m2s\u001b[0m 7ms/step - loss: 0.0015 - root_mean_squared_error: 0.0384 - val_loss: 0.0128 - val_root_mean_squared_error: 0.1129\n",
      "Epoch 5/10\n",
      "\u001b[1m278/278\u001b[0m \u001b[32m━━━━━━━━━━━━━━━━━━━━\u001b[0m\u001b[37m\u001b[0m \u001b[1m2s\u001b[0m 7ms/step - loss: 0.0015 - root_mean_squared_error: 0.0391 - val_loss: 0.0180 - val_root_mean_squared_error: 0.1342\n",
      "Epoch 6/10\n",
      "\u001b[1m278/278\u001b[0m \u001b[32m━━━━━━━━━━━━━━━━━━━━\u001b[0m\u001b[37m\u001b[0m \u001b[1m3s\u001b[0m 9ms/step - loss: 0.0017 - root_mean_squared_error: 0.0415 - val_loss: 0.0237 - val_root_mean_squared_error: 0.1541\n",
      "Epoch 7/10\n",
      "\u001b[1m278/278\u001b[0m \u001b[32m━━━━━━━━━━━━━━━━━━━━\u001b[0m\u001b[37m\u001b[0m \u001b[1m2s\u001b[0m 8ms/step - loss: 0.0022 - root_mean_squared_error: 0.0465 - val_loss: 0.0151 - val_root_mean_squared_error: 0.1228\n",
      "Epoch 8/10\n",
      "\u001b[1m278/278\u001b[0m \u001b[32m━━━━━━━━━━━━━━━━━━━━\u001b[0m\u001b[37m\u001b[0m \u001b[1m2s\u001b[0m 7ms/step - loss: 0.0029 - root_mean_squared_error: 0.0533 - val_loss: 0.0059 - val_root_mean_squared_error: 0.0771\n",
      "Epoch 9/10\n",
      "\u001b[1m278/278\u001b[0m \u001b[32m━━━━━━━━━━━━━━━━━━━━\u001b[0m\u001b[37m\u001b[0m \u001b[1m2s\u001b[0m 7ms/step - loss: 0.0024 - root_mean_squared_error: 0.0490 - val_loss: 0.0028 - val_root_mean_squared_error: 0.0526\n",
      "Epoch 10/10\n",
      "\u001b[1m278/278\u001b[0m \u001b[32m━━━━━━━━━━━━━━━━━━━━\u001b[0m\u001b[37m\u001b[0m \u001b[1m2s\u001b[0m 6ms/step - loss: 0.0016 - root_mean_squared_error: 0.0403 - val_loss: 0.0017 - val_root_mean_squared_error: 0.0413\n",
      "\u001b[1m137/137\u001b[0m \u001b[32m━━━━━━━━━━━━━━━━━━━━\u001b[0m\u001b[37m\u001b[0m \u001b[1m0s\u001b[0m 3ms/step - loss: 0.0132 - root_mean_squared_error: 0.1144\n",
      "Epoch 1/10\n",
      "\u001b[1m139/139\u001b[0m \u001b[32m━━━━━━━━━━━━━━━━━━━━\u001b[0m\u001b[37m\u001b[0m \u001b[1m2s\u001b[0m 10ms/step - loss: 0.0057 - root_mean_squared_error: 0.0753 - val_loss: 0.0493 - val_root_mean_squared_error: 0.2221\n",
      "Epoch 2/10\n",
      "\u001b[1m139/139\u001b[0m \u001b[32m━━━━━━━━━━━━━━━━━━━━\u001b[0m\u001b[37m\u001b[0m \u001b[1m1s\u001b[0m 10ms/step - loss: 0.0093 - root_mean_squared_error: 0.0963 - val_loss: 0.0045 - val_root_mean_squared_error: 0.0668\n",
      "Epoch 3/10\n",
      "\u001b[1m139/139\u001b[0m \u001b[32m━━━━━━━━━━━━━━━━━━━━\u001b[0m\u001b[37m\u001b[0m \u001b[1m1s\u001b[0m 9ms/step - loss: 0.0032 - root_mean_squared_error: 0.0568 - val_loss: 0.0017 - val_root_mean_squared_error: 0.0416\n",
      "Epoch 4/10\n",
      "\u001b[1m139/139\u001b[0m \u001b[32m━━━━━━━━━━━━━━━━━━━━\u001b[0m\u001b[37m\u001b[0m \u001b[1m1s\u001b[0m 9ms/step - loss: 0.0022 - root_mean_squared_error: 0.0463 - val_loss: 0.0015 - val_root_mean_squared_error: 0.0384\n",
      "Epoch 5/10\n",
      "\u001b[1m139/139\u001b[0m \u001b[32m━━━━━━━━━━━━━━━━━━━━\u001b[0m\u001b[37m\u001b[0m \u001b[1m1s\u001b[0m 9ms/step - loss: 0.0018 - root_mean_squared_error: 0.0425 - val_loss: 0.0024 - val_root_mean_squared_error: 0.0493\n",
      "Epoch 6/10\n",
      "\u001b[1m139/139\u001b[0m \u001b[32m━━━━━━━━━━━━━━━━━━━━\u001b[0m\u001b[37m\u001b[0m \u001b[1m1s\u001b[0m 9ms/step - loss: 0.0018 - root_mean_squared_error: 0.0428 - val_loss: 0.0093 - val_root_mean_squared_error: 0.0964\n",
      "Epoch 7/10\n",
      "\u001b[1m139/139\u001b[0m \u001b[32m━━━━━━━━━━━━━━━━━━━━\u001b[0m\u001b[37m\u001b[0m \u001b[1m1s\u001b[0m 10ms/step - loss: 0.0030 - root_mean_squared_error: 0.0545 - val_loss: 9.5277e-04 - val_root_mean_squared_error: 0.0309\n",
      "Epoch 8/10\n",
      "\u001b[1m139/139\u001b[0m \u001b[32m━━━━━━━━━━━━━━━━━━━━\u001b[0m\u001b[37m\u001b[0m \u001b[1m1s\u001b[0m 10ms/step - loss: 0.0014 - root_mean_squared_error: 0.0376 - val_loss: 8.6861e-04 - val_root_mean_squared_error: 0.0295\n",
      "Epoch 9/10\n",
      "\u001b[1m139/139\u001b[0m \u001b[32m━━━━━━━━━━━━━━━━━━━━\u001b[0m\u001b[37m\u001b[0m \u001b[1m1s\u001b[0m 8ms/step - loss: 0.0013 - root_mean_squared_error: 0.0358 - val_loss: 8.2321e-04 - val_root_mean_squared_error: 0.0287\n",
      "Epoch 10/10\n",
      "\u001b[1m139/139\u001b[0m \u001b[32m━━━━━━━━━━━━━━━━━━━━\u001b[0m\u001b[37m\u001b[0m \u001b[1m1s\u001b[0m 9ms/step - loss: 0.0012 - root_mean_squared_error: 0.0351 - val_loss: 8.1456e-04 - val_root_mean_squared_error: 0.0285\n",
      "\u001b[1m137/137\u001b[0m \u001b[32m━━━━━━━━━━━━━━━━━━━━\u001b[0m\u001b[37m\u001b[0m \u001b[1m0s\u001b[0m 3ms/step - loss: 5.2662e-04 - root_mean_squared_error: 0.0228\n",
      "Epoch 1/10\n",
      "\u001b[1m139/139\u001b[0m \u001b[32m━━━━━━━━━━━━━━━━━━━━\u001b[0m\u001b[37m\u001b[0m \u001b[1m1s\u001b[0m 7ms/step - loss: 0.0082 - root_mean_squared_error: 0.0904 - val_loss: 0.0050 - val_root_mean_squared_error: 0.0708\n",
      "Epoch 2/10\n",
      "\u001b[1m139/139\u001b[0m \u001b[32m━━━━━━━━━━━━━━━━━━━━\u001b[0m\u001b[37m\u001b[0m \u001b[1m1s\u001b[0m 7ms/step - loss: 0.0034 - root_mean_squared_error: 0.0578 - val_loss: 0.0044 - val_root_mean_squared_error: 0.0666\n",
      "Epoch 3/10\n",
      "\u001b[1m139/139\u001b[0m \u001b[32m━━━━━━━━━━━━━━━━━━━━\u001b[0m\u001b[37m\u001b[0m \u001b[1m1s\u001b[0m 7ms/step - loss: 0.0041 - root_mean_squared_error: 0.0640 - val_loss: 0.0011 - val_root_mean_squared_error: 0.0328\n",
      "Epoch 4/10\n",
      "\u001b[1m139/139\u001b[0m \u001b[32m━━━━━━━━━━━━━━━━━━━━\u001b[0m\u001b[37m\u001b[0m \u001b[1m1s\u001b[0m 8ms/step - loss: 0.0015 - root_mean_squared_error: 0.0382 - val_loss: 0.0019 - val_root_mean_squared_error: 0.0439\n",
      "Epoch 5/10\n",
      "\u001b[1m139/139\u001b[0m \u001b[32m━━━━━━━━━━━━━━━━━━━━\u001b[0m\u001b[37m\u001b[0m \u001b[1m1s\u001b[0m 9ms/step - loss: 0.0017 - root_mean_squared_error: 0.0414 - val_loss: 0.0032 - val_root_mean_squared_error: 0.0569\n",
      "Epoch 6/10\n",
      "\u001b[1m139/139\u001b[0m \u001b[32m━━━━━━━━━━━━━━━━━━━━\u001b[0m\u001b[37m\u001b[0m \u001b[1m1s\u001b[0m 9ms/step - loss: 0.0021 - root_mean_squared_error: 0.0457 - val_loss: 9.0907e-04 - val_root_mean_squared_error: 0.0302\n",
      "Epoch 7/10\n",
      "\u001b[1m139/139\u001b[0m \u001b[32m━━━━━━━━━━━━━━━━━━━━\u001b[0m\u001b[37m\u001b[0m \u001b[1m1s\u001b[0m 10ms/step - loss: 0.0013 - root_mean_squared_error: 0.0357 - val_loss: 8.4053e-04 - val_root_mean_squared_error: 0.0290\n",
      "Epoch 8/10\n",
      "\u001b[1m139/139\u001b[0m \u001b[32m━━━━━━━━━━━━━━━━━━━━\u001b[0m\u001b[37m\u001b[0m \u001b[1m1s\u001b[0m 8ms/step - loss: 0.0012 - root_mean_squared_error: 0.0346 - val_loss: 8.9899e-04 - val_root_mean_squared_error: 0.0300\n",
      "Epoch 9/10\n",
      "\u001b[1m139/139\u001b[0m \u001b[32m━━━━━━━━━━━━━━━━━━━━\u001b[0m\u001b[37m\u001b[0m \u001b[1m1s\u001b[0m 7ms/step - loss: 0.0012 - root_mean_squared_error: 0.0348 - val_loss: 0.0012 - val_root_mean_squared_error: 0.0353\n",
      "Epoch 10/10\n",
      "\u001b[1m139/139\u001b[0m \u001b[32m━━━━━━━━━━━━━━━━━━━━\u001b[0m\u001b[37m\u001b[0m \u001b[1m1s\u001b[0m 7ms/step - loss: 0.0014 - root_mean_squared_error: 0.0369 - val_loss: 0.0013 - val_root_mean_squared_error: 0.0355\n",
      "\u001b[1m137/137\u001b[0m \u001b[32m━━━━━━━━━━━━━━━━━━━━\u001b[0m\u001b[37m\u001b[0m \u001b[1m0s\u001b[0m 3ms/step - loss: 0.0628 - root_mean_squared_error: 0.2498\n"
     ]
    }
   ],
   "source": [
    "for batch_size in batch_sizes:\n",
    "    # CPU\n",
    "    with tf.device('/CPU:0'):\n",
    "        STCK_LSTM.set_weights(initial_weights)\n",
    "        start_time = time.time()\n",
    "        STCK_LSTM.fit(X_train, y_train, epochs=10, validation_split=0.1, batch_size=batch_size, shuffle=False)\n",
    "        stck_time = time.time() - start_time\n",
    "        stck_scores = STCK_LSTM.evaluate(X_test, y_test)\n",
    "\n",
    "    # GPU\n",
    "    with tf.device('/CPU:0'):\n",
    "        LAG_LSTM.set_weights(initial_lag_weights)\n",
    "        start_time = time.time()\n",
    "        LAG_LSTM.fit(X_train_lagged, y_train_lagged, epochs=10, validation_split=0.1, batch_size=batch_size, shuffle=False)        \n",
    "        lag_time = time.time() - start_time\n",
    "        lag_scores = LAG_LSTM.evaluate(X_test, y_test)\n",
    "\n",
    "\n",
    "    # Record results\n",
    "    results[\"batch_size\"].append(batch_size)\n",
    "    results[\"lag_rmse\"].append(lag_scores[1])  # Root Mean Squared Error for LAG_LSTM\n",
    "    results[\"lag_time\"].append(lag_time)\n",
    "    results[\"stck_rmse\"].append(stck_scores[1])  # Root Mean Squared Error for STCK_LSTM\n",
    "    results[\"stck_time\"].append(stck_time)"
   ]
  },
  {
   "cell_type": "code",
   "execution_count": 55,
   "metadata": {},
   "outputs": [
    {
     "data": {
      "image/png": "[encoded data removed]",
      "text/plain": [
       "<Figure size 1000x600 with 1 Axes>"
      ]
     },
     "metadata": {},
     "output_type": "display_data"
    }
   ],
   "source": [
    "\n",
    "plt.figure(figsize=(10, 6))\n",
    "plt.plot(results[\"batch_size\"], results[\"lag_time\"], label=\"Lag Time\", marker='o')\n",
    "plt.plot(results[\"batch_size\"], results[\"stck_time\"], label=\"Stack Time\", marker='o')\n",
    "plt.title(\"Batch Size vs Training Time\")\n",
    "plt.xlabel(\"Batch Size\")\n",
    "plt.ylabel(\"Training Time (seconds)\")\n",
    "plt.legend()\n",
    "plt.show()"
   ]
  },
  {
   "cell_type": "code",
   "execution_count": 56,
   "metadata": {},
   "outputs": [
    {
     "data": {
      "image/png": "[encoded data removed]",
      "text/plain": [
       "<Figure size 1000x600 with 1 Axes>"
      ]
     },
     "metadata": {},
     "output_type": "display_data"
    }
   ],
   "source": [
    "\n",
    "plt.figure(figsize=(10, 6))\n",
    "plt.plot(results[\"batch_size\"], results[\"lag_rmse\"], label=\"Lag rmse\", marker='o')\n",
    "plt.plot(results[\"batch_size\"], results[\"stck_rmse\"], label=\"Stack rmse\", marker='o')\n",
    "plt.title(\"Batch Size vs Training Time\")\n",
    "plt.xlabel(\"Batch Size\")\n",
    "plt.ylabel(\"Training Time (seconds)\")\n",
    "plt.legend()\n",
    "plt.show()"
   ]
  },
  {
   "cell_type": "markdown",
   "metadata": {},
   "source": [
    "# PYSPARKING for Large Datasets"
   ]
  },
  {
   "cell_type": "markdown",
   "metadata": {},
   "source": [
    "The generate_sequence function we use to make sequences of the dataset can become computationally expensive as the dataset grows because of the sequential nature of the for loop. As a result, we investigate if spark is able to distribute the workload and produce sequences in parallel across different parts of the dataset. "
   ]
  },
  {
   "cell_type": "code",
   "execution_count": 57,
   "metadata": {},
   "outputs": [
    {
     "name": "stdout",
     "output_type": "stream",
     "text": [
      "Defaulting to user installation because normal site-packages is not writeable\n",
      "Requirement already satisfied: pyspark in /Users/matt/Library/Python/3.9/lib/python/site-packages (3.5.3)\n",
      "Requirement already satisfied: py4j==0.10.9.7 in /Users/matt/Library/Python/3.9/lib/python/site-packages (from pyspark) (0.10.9.7)\n"
     ]
    }
   ],
   "source": [
    "!pip install pyspark"
   ]
  },
  {
   "cell_type": "code",
   "execution_count": 58,
   "metadata": {},
   "outputs": [],
   "source": [
    "from pyspark.sql import SparkSession\n",
    "from pyspark.sql.functions import pandas_udf, PandasUDFType\n",
    "from pyspark.sql.types import *"
   ]
  },
  {
   "cell_type": "code",
   "execution_count": 59,
   "metadata": {},
   "outputs": [],
   "source": [
    "df = pd.read_csv"
   ]
  },
  {
   "cell_type": "code",
   "execution_count": 60,
   "metadata": {},
   "outputs": [
    {
     "name": "stdout",
     "output_type": "stream",
     "text": [
      "INFO:tensorflow:Using MirroredStrategy with devices ('/job:localhost/replica:0/task:0/device:GPU:0',)\n",
      "Number of devices: 1\n"
     ]
    }
   ],
   "source": [
    "\n",
    "# Set up the distribution strategy\n",
    "strategy = tf.distribute.MirroredStrategy()\n",
    "\n",
    "print('Number of devices: {}'.format(strategy.num_replicas_in_sync))"
   ]
  },
  {
   "cell_type": "code",
   "execution_count": 61,
   "metadata": {},
   "outputs": [],
   "source": [
    "num_gpus = 1 #Number of available GPUs\n"
   ]
  },
  {
   "cell_type": "code",
   "execution_count": 62,
   "metadata": {},
   "outputs": [
    {
     "name": "stdout",
     "output_type": "stream",
     "text": [
      "Epoch 1/30\n",
      "\u001b[1m555/555\u001b[0m \u001b[32m━━━━━━━━━━━━━━━━━━━━\u001b[0m\u001b[37m\u001b[0m \u001b[1m0s\u001b[0m 12ms/step - RootMeanSquaredError: 0.0682 - loss: 0.0047"
     ]
    },
    {
     "name": "stderr",
     "output_type": "stream",
     "text": [
      "2024-11-27 01:00:10.883934: W tensorflow/core/framework/local_rendezvous.cc:404] Local rendezvous is aborting with status: OUT_OF_RANGE: End of sequence\n",
      "\t [[{{node MultiDeviceIteratorGetNextFromShard}}]]\n",
      "2024-11-27 01:00:10.883969: W tensorflow/core/framework/local_rendezvous.cc:404] Local rendezvous is aborting with status: OUT_OF_RANGE: End of sequence\n",
      "\t [[{{node MultiDeviceIteratorGetNextFromShard}}]]\n",
      "\t [[RemoteCall]]\n"
     ]
    },
    {
     "name": "stdout",
     "output_type": "stream",
     "text": [
      "\u001b[1m555/555\u001b[0m \u001b[32m━━━━━━━━━━━━━━━━━━━━\u001b[0m\u001b[37m\u001b[0m \u001b[1m9s\u001b[0m 13ms/step - RootMeanSquaredError: 0.0681 - loss: 0.0047 - val_RootMeanSquaredError: 0.0647 - val_loss: 0.0042\n",
      "Epoch 2/30\n",
      "\u001b[1m 11/555\u001b[0m \u001b[37m━━━━━━━━━━━━━━━━━━━━\u001b[0m \u001b[1m5s\u001b[0m 11ms/step - RootMeanSquaredError: 0.0421 - loss: 0.0019    "
     ]
    },
    {
     "name": "stderr",
     "output_type": "stream",
     "text": [
      "2024-11-27 01:00:11.556338: W tensorflow/core/framework/local_rendezvous.cc:404] Local rendezvous is aborting with status: OUT_OF_RANGE: End of sequence\n",
      "\t [[{{node MultiDeviceIteratorGetNextFromShard}}]]\n",
      "2024-11-27 01:00:11.556362: W tensorflow/core/framework/local_rendezvous.cc:404] Local rendezvous is aborting with status: OUT_OF_RANGE: End of sequence\n",
      "\t [[{{node MultiDeviceIteratorGetNextFromShard}}]]\n",
      "\t [[RemoteCall]]\n"
     ]
    },
    {
     "name": "stdout",
     "output_type": "stream",
     "text": [
      "\u001b[1m555/555\u001b[0m \u001b[32m━━━━━━━━━━━━━━━━━━━━\u001b[0m\u001b[37m\u001b[0m \u001b[1m0s\u001b[0m 11ms/step - RootMeanSquaredError: 0.0481 - loss: 0.0023"
     ]
    },
    {
     "name": "stderr",
     "output_type": "stream",
     "text": [
      "2024-11-27 01:00:17.759851: W tensorflow/core/framework/local_rendezvous.cc:404] Local rendezvous is aborting with status: OUT_OF_RANGE: End of sequence\n",
      "\t [[{{node MultiDeviceIteratorGetNextFromShard}}]]\n",
      "2024-11-27 01:00:17.760002: W tensorflow/core/framework/local_rendezvous.cc:404] Local rendezvous is aborting with status: OUT_OF_RANGE: End of sequence\n",
      "\t [[{{node MultiDeviceIteratorGetNextFromShard}}]]\n",
      "\t [[RemoteCall]]\n"
     ]
    },
    {
     "name": "stdout",
     "output_type": "stream",
     "text": [
      "\u001b[1m555/555\u001b[0m \u001b[32m━━━━━━━━━━━━━━━━━━━━\u001b[0m\u001b[37m\u001b[0m \u001b[1m7s\u001b[0m 12ms/step - RootMeanSquaredError: 0.0481 - loss: 0.0023 - val_RootMeanSquaredError: 0.0489 - val_loss: 0.0024\n",
      "Epoch 3/30\n",
      "\u001b[1m 10/555\u001b[0m \u001b[37m━━━━━━━━━━━━━━━━━━━━\u001b[0m \u001b[1m6s\u001b[0m 12ms/step - RootMeanSquaredError: 0.0343 - loss: 0.0012    "
     ]
    },
    {
     "name": "stderr",
     "output_type": "stream",
     "text": [
      "2024-11-27 01:00:18.103596: W tensorflow/core/framework/local_rendezvous.cc:404] Local rendezvous is aborting with status: OUT_OF_RANGE: End of sequence\n",
      "\t [[{{node MultiDeviceIteratorGetNextFromShard}}]]\n",
      "2024-11-27 01:00:18.103627: W tensorflow/core/framework/local_rendezvous.cc:404] Local rendezvous is aborting with status: OUT_OF_RANGE: End of sequence\n",
      "\t [[{{node MultiDeviceIteratorGetNextFromShard}}]]\n",
      "\t [[RemoteCall]]\n"
     ]
    },
    {
     "name": "stdout",
     "output_type": "stream",
     "text": [
      "\u001b[1m553/555\u001b[0m \u001b[32m━━━━━━━━━━━━━━━━━━━\u001b[0m\u001b[37m━\u001b[0m \u001b[1m0s\u001b[0m 12ms/step - RootMeanSquaredError: 0.0404 - loss: 0.0016"
     ]
    },
    {
     "name": "stderr",
     "output_type": "stream",
     "text": [
      "2024-11-27 01:00:24.801959: W tensorflow/core/framework/local_rendezvous.cc:404] Local rendezvous is aborting with status: OUT_OF_RANGE: End of sequence\n",
      "\t [[{{node MultiDeviceIteratorGetNextFromShard}}]]\n",
      "2024-11-27 01:00:24.802444: W tensorflow/core/framework/local_rendezvous.cc:404] Local rendezvous is aborting with status: OUT_OF_RANGE: End of sequence\n",
      "\t [[{{node MultiDeviceIteratorGetNextFromShard}}]]\n",
      "\t [[RemoteCall]]\n"
     ]
    },
    {
     "name": "stdout",
     "output_type": "stream",
     "text": [
      "\u001b[1m555/555\u001b[0m \u001b[32m━━━━━━━━━━━━━━━━━━━━\u001b[0m\u001b[37m\u001b[0m \u001b[1m7s\u001b[0m 13ms/step - RootMeanSquaredError: 0.0404 - loss: 0.0016 - val_RootMeanSquaredError: 0.0391 - val_loss: 0.0015\n",
      "Epoch 4/30\n",
      "\u001b[1m  1/555\u001b[0m \u001b[37m━━━━━━━━━━━━━━━━━━━━\u001b[0m \u001b[1m1:27\u001b[0m 158ms/step - RootMeanSquaredError: 0.0223 - loss: 4.9680e-04"
     ]
    },
    {
     "name": "stderr",
     "output_type": "stream",
     "text": [
      "2024-11-27 01:00:25.242383: W tensorflow/core/framework/local_rendezvous.cc:404] Local rendezvous is aborting with status: OUT_OF_RANGE: End of sequence\n",
      "\t [[{{node MultiDeviceIteratorGetNextFromShard}}]]\n",
      "2024-11-27 01:00:25.242411: W tensorflow/core/framework/local_rendezvous.cc:404] Local rendezvous is aborting with status: OUT_OF_RANGE: End of sequence\n",
      "\t [[{{node MultiDeviceIteratorGetNextFromShard}}]]\n",
      "\t [[RemoteCall]]\n"
     ]
    },
    {
     "name": "stdout",
     "output_type": "stream",
     "text": [
      "\u001b[1m552/555\u001b[0m \u001b[32m━━━━━━━━━━━━━━━━━━━\u001b[0m\u001b[37m━\u001b[0m \u001b[1m0s\u001b[0m 12ms/step - RootMeanSquaredError: 0.0358 - loss: 0.0013"
     ]
    },
    {
     "name": "stderr",
     "output_type": "stream",
     "text": [
      "2024-11-27 01:00:32.236471: W tensorflow/core/framework/local_rendezvous.cc:404] Local rendezvous is aborting with status: OUT_OF_RANGE: End of sequence\n",
      "\t [[{{node MultiDeviceIteratorGetNextFromShard}}]]\n",
      "2024-11-27 01:00:32.236550: W tensorflow/core/framework/local_rendezvous.cc:404] Local rendezvous is aborting with status: OUT_OF_RANGE: End of sequence\n",
      "\t [[{{node MultiDeviceIteratorGetNextFromShard}}]]\n",
      "\t [[RemoteCall]]\n"
     ]
    },
    {
     "name": "stdout",
     "output_type": "stream",
     "text": [
      "\u001b[1m555/555\u001b[0m \u001b[32m━━━━━━━━━━━━━━━━━━━━\u001b[0m\u001b[37m\u001b[0m \u001b[1m7s\u001b[0m 13ms/step - RootMeanSquaredError: 0.0358 - loss: 0.0013 - val_RootMeanSquaredError: 0.0342 - val_loss: 0.0012\n",
      "Epoch 5/30\n",
      "\u001b[1m 11/555\u001b[0m \u001b[37m━━━━━━━━━━━━━━━━━━━━\u001b[0m \u001b[1m5s\u001b[0m 11ms/step - RootMeanSquaredError: 0.0276 - loss: 7.7494e-04"
     ]
    },
    {
     "name": "stderr",
     "output_type": "stream",
     "text": [
      "2024-11-27 01:00:32.567495: W tensorflow/core/framework/local_rendezvous.cc:404] Local rendezvous is aborting with status: OUT_OF_RANGE: End of sequence\n",
      "\t [[{{node MultiDeviceIteratorGetNextFromShard}}]]\n",
      "2024-11-27 01:00:32.567518: W tensorflow/core/framework/local_rendezvous.cc:404] Local rendezvous is aborting with status: OUT_OF_RANGE: End of sequence\n",
      "\t [[{{node MultiDeviceIteratorGetNextFromShard}}]]\n",
      "\t [[RemoteCall]]\n"
     ]
    },
    {
     "name": "stdout",
     "output_type": "stream",
     "text": [
      "\u001b[1m555/555\u001b[0m \u001b[32m━━━━━━━━━━━━━━━━━━━━\u001b[0m\u001b[37m\u001b[0m \u001b[1m0s\u001b[0m 11ms/step - RootMeanSquaredError: 0.0334 - loss: 0.0011"
     ]
    },
    {
     "name": "stderr",
     "output_type": "stream",
     "text": [
      "2024-11-27 01:00:38.513834: W tensorflow/core/framework/local_rendezvous.cc:404] Local rendezvous is aborting with status: OUT_OF_RANGE: End of sequence\n",
      "\t [[{{node MultiDeviceIteratorGetNextFromShard}}]]\n",
      "2024-11-27 01:00:38.513902: W tensorflow/core/framework/local_rendezvous.cc:404] Local rendezvous is aborting with status: OUT_OF_RANGE: End of sequence\n",
      "\t [[{{node MultiDeviceIteratorGetNextFromShard}}]]\n",
      "\t [[RemoteCall]]\n"
     ]
    },
    {
     "name": "stdout",
     "output_type": "stream",
     "text": [
      "\u001b[1m555/555\u001b[0m \u001b[32m━━━━━━━━━━━━━━━━━━━━\u001b[0m\u001b[37m\u001b[0m \u001b[1m6s\u001b[0m 11ms/step - RootMeanSquaredError: 0.0334 - loss: 0.0011 - val_RootMeanSquaredError: 0.0299 - val_loss: 8.9189e-04\n",
      "Epoch 6/30\n",
      "\u001b[1m 11/555\u001b[0m \u001b[37m━━━━━━━━━━━━━━━━━━━━\u001b[0m \u001b[1m5s\u001b[0m 10ms/step - RootMeanSquaredError: 0.0267 - loss: 7.2206e-04"
     ]
    },
    {
     "name": "stderr",
     "output_type": "stream",
     "text": [
      "2024-11-27 01:00:38.864551: W tensorflow/core/framework/local_rendezvous.cc:404] Local rendezvous is aborting with status: OUT_OF_RANGE: End of sequence\n",
      "\t [[{{node MultiDeviceIteratorGetNextFromShard}}]]\n",
      "2024-11-27 01:00:38.864588: W tensorflow/core/framework/local_rendezvous.cc:404] Local rendezvous is aborting with status: OUT_OF_RANGE: End of sequence\n",
      "\t [[{{node MultiDeviceIteratorGetNextFromShard}}]]\n",
      "\t [[RemoteCall]]\n"
     ]
    },
    {
     "name": "stdout",
     "output_type": "stream",
     "text": [
      "\u001b[1m554/555\u001b[0m \u001b[32m━━━━━━━━━━━━━━━━━━━\u001b[0m\u001b[37m━\u001b[0m \u001b[1m0s\u001b[0m 12ms/step - RootMeanSquaredError: 0.0329 - loss: 0.0011"
     ]
    },
    {
     "name": "stderr",
     "output_type": "stream",
     "text": [
      "2024-11-27 01:00:45.360658: W tensorflow/core/framework/local_rendezvous.cc:404] Local rendezvous is aborting with status: OUT_OF_RANGE: End of sequence\n",
      "\t [[{{node MultiDeviceIteratorGetNextFromShard}}]]\n",
      "2024-11-27 01:00:45.360697: W tensorflow/core/framework/local_rendezvous.cc:404] Local rendezvous is aborting with status: OUT_OF_RANGE: End of sequence\n",
      "\t [[{{node MultiDeviceIteratorGetNextFromShard}}]]\n",
      "\t [[RemoteCall]]\n"
     ]
    },
    {
     "name": "stdout",
     "output_type": "stream",
     "text": [
      "\u001b[1m555/555\u001b[0m \u001b[32m━━━━━━━━━━━━━━━━━━━━\u001b[0m\u001b[37m\u001b[0m \u001b[1m7s\u001b[0m 12ms/step - RootMeanSquaredError: 0.0329 - loss: 0.0011 - val_RootMeanSquaredError: 0.0318 - val_loss: 0.0010\n",
      "Epoch 7/30\n",
      "\u001b[1m  5/555\u001b[0m \u001b[37m━━━━━━━━━━━━━━━━━━━━\u001b[0m \u001b[1m8s\u001b[0m 16ms/step - RootMeanSquaredError: 0.0219 - loss: 4.8297e-04 "
     ]
    },
    {
     "name": "stderr",
     "output_type": "stream",
     "text": [
      "2024-11-27 01:00:45.812271: W tensorflow/core/framework/local_rendezvous.cc:404] Local rendezvous is aborting with status: OUT_OF_RANGE: End of sequence\n",
      "\t [[{{node MultiDeviceIteratorGetNextFromShard}}]]\n",
      "2024-11-27 01:00:45.812325: W tensorflow/core/framework/local_rendezvous.cc:404] Local rendezvous is aborting with status: OUT_OF_RANGE: End of sequence\n",
      "\t [[{{node MultiDeviceIteratorGetNextFromShard}}]]\n",
      "\t [[RemoteCall]]\n"
     ]
    },
    {
     "name": "stdout",
     "output_type": "stream",
     "text": [
      "\u001b[1m555/555\u001b[0m \u001b[32m━━━━━━━━━━━━━━━━━━━━\u001b[0m\u001b[37m\u001b[0m \u001b[1m0s\u001b[0m 13ms/step - RootMeanSquaredError: 0.0325 - loss: 0.0011"
     ]
    },
    {
     "name": "stderr",
     "output_type": "stream",
     "text": [
      "2024-11-27 01:00:53.295848: W tensorflow/core/framework/local_rendezvous.cc:404] Local rendezvous is aborting with status: OUT_OF_RANGE: End of sequence\n",
      "\t [[{{node MultiDeviceIteratorGetNextFromShard}}]]\n",
      "2024-11-27 01:00:53.295883: W tensorflow/core/framework/local_rendezvous.cc:404] Local rendezvous is aborting with status: OUT_OF_RANGE: End of sequence\n",
      "\t [[{{node MultiDeviceIteratorGetNextFromShard}}]]\n",
      "\t [[RemoteCall]]\n"
     ]
    },
    {
     "name": "stdout",
     "output_type": "stream",
     "text": [
      "\u001b[1m555/555\u001b[0m \u001b[32m━━━━━━━━━━━━━━━━━━━━\u001b[0m\u001b[37m\u001b[0m \u001b[1m8s\u001b[0m 14ms/step - RootMeanSquaredError: 0.0325 - loss: 0.0011 - val_RootMeanSquaredError: 0.0297 - val_loss: 8.8129e-04\n",
      "Epoch 8/30\n",
      "\u001b[1m 11/555\u001b[0m \u001b[37m━━━━━━━━━━━━━━━━━━━━\u001b[0m \u001b[1m5s\u001b[0m 11ms/step - RootMeanSquaredError: 0.0246 - loss: 6.1749e-04"
     ]
    },
    {
     "name": "stderr",
     "output_type": "stream",
     "text": [
      "2024-11-27 01:00:53.734456: W tensorflow/core/framework/local_rendezvous.cc:404] Local rendezvous is aborting with status: OUT_OF_RANGE: End of sequence\n",
      "\t [[{{node MultiDeviceIteratorGetNextFromShard}}]]\n",
      "2024-11-27 01:00:53.734481: W tensorflow/core/framework/local_rendezvous.cc:404] Local rendezvous is aborting with status: OUT_OF_RANGE: End of sequence\n",
      "\t [[{{node MultiDeviceIteratorGetNextFromShard}}]]\n",
      "\t [[RemoteCall]]\n"
     ]
    },
    {
     "name": "stdout",
     "output_type": "stream",
     "text": [
      "\u001b[1m555/555\u001b[0m \u001b[32m━━━━━━━━━━━━━━━━━━━━\u001b[0m\u001b[37m\u001b[0m \u001b[1m0s\u001b[0m 11ms/step - RootMeanSquaredError: 0.0316 - loss: 0.0010"
     ]
    },
    {
     "name": "stderr",
     "output_type": "stream",
     "text": [
      "2024-11-27 01:01:00.158084: W tensorflow/core/framework/local_rendezvous.cc:404] Local rendezvous is aborting with status: OUT_OF_RANGE: End of sequence\n",
      "\t [[{{node MultiDeviceIteratorGetNextFromShard}}]]\n",
      "2024-11-27 01:01:00.158144: W tensorflow/core/framework/local_rendezvous.cc:404] Local rendezvous is aborting with status: OUT_OF_RANGE: End of sequence\n",
      "\t [[{{node MultiDeviceIteratorGetNextFromShard}}]]\n",
      "\t [[RemoteCall]]\n"
     ]
    },
    {
     "name": "stdout",
     "output_type": "stream",
     "text": [
      "\u001b[1m555/555\u001b[0m \u001b[32m━━━━━━━━━━━━━━━━━━━━\u001b[0m\u001b[37m\u001b[0m \u001b[1m7s\u001b[0m 12ms/step - RootMeanSquaredError: 0.0316 - loss: 0.0010 - val_RootMeanSquaredError: 0.0286 - val_loss: 8.1748e-04\n",
      "Epoch 9/30\n",
      "\u001b[1m 11/555\u001b[0m \u001b[37m━━━━━━━━━━━━━━━━━━━━\u001b[0m \u001b[1m6s\u001b[0m 12ms/step - RootMeanSquaredError: 0.0232 - loss: 5.4686e-04"
     ]
    },
    {
     "name": "stderr",
     "output_type": "stream",
     "text": [
      "2024-11-27 01:01:00.514748: W tensorflow/core/framework/local_rendezvous.cc:404] Local rendezvous is aborting with status: OUT_OF_RANGE: End of sequence\n",
      "\t [[{{node MultiDeviceIteratorGetNextFromShard}}]]\n",
      "2024-11-27 01:01:00.514770: W tensorflow/core/framework/local_rendezvous.cc:404] Local rendezvous is aborting with status: OUT_OF_RANGE: End of sequence\n",
      "\t [[{{node MultiDeviceIteratorGetNextFromShard}}]]\n",
      "\t [[RemoteCall]]\n"
     ]
    },
    {
     "name": "stdout",
     "output_type": "stream",
     "text": [
      "\u001b[1m552/555\u001b[0m \u001b[32m━━━━━━━━━━━━━━━━━━━\u001b[0m\u001b[37m━\u001b[0m \u001b[1m0s\u001b[0m 12ms/step - RootMeanSquaredError: 0.0316 - loss: 0.0010"
     ]
    },
    {
     "name": "stderr",
     "output_type": "stream",
     "text": [
      "2024-11-27 01:01:06.955510: W tensorflow/core/framework/local_rendezvous.cc:404] Local rendezvous is aborting with status: OUT_OF_RANGE: End of sequence\n",
      "\t [[{{node MultiDeviceIteratorGetNextFromShard}}]]\n",
      "2024-11-27 01:01:06.955562: W tensorflow/core/framework/local_rendezvous.cc:404] Local rendezvous is aborting with status: OUT_OF_RANGE: End of sequence\n",
      "\t [[{{node MultiDeviceIteratorGetNextFromShard}}]]\n",
      "\t [[RemoteCall]]\n"
     ]
    },
    {
     "name": "stdout",
     "output_type": "stream",
     "text": [
      "\u001b[1m555/555\u001b[0m \u001b[32m━━━━━━━━━━━━━━━━━━━━\u001b[0m\u001b[37m\u001b[0m \u001b[1m7s\u001b[0m 12ms/step - RootMeanSquaredError: 0.0316 - loss: 0.0010 - val_RootMeanSquaredError: 0.0276 - val_loss: 7.5913e-04\n",
      "Epoch 10/30\n",
      "\u001b[1m 11/555\u001b[0m \u001b[37m━━━━━━━━━━━━━━━━━━━━\u001b[0m \u001b[1m5s\u001b[0m 11ms/step - RootMeanSquaredError: 0.0227 - loss: 5.3244e-04"
     ]
    },
    {
     "name": "stderr",
     "output_type": "stream",
     "text": [
      "2024-11-27 01:01:07.320090: W tensorflow/core/framework/local_rendezvous.cc:404] Local rendezvous is aborting with status: OUT_OF_RANGE: End of sequence\n",
      "\t [[{{node MultiDeviceIteratorGetNextFromShard}}]]\n",
      "2024-11-27 01:01:07.320111: W tensorflow/core/framework/local_rendezvous.cc:404] Local rendezvous is aborting with status: OUT_OF_RANGE: End of sequence\n",
      "\t [[{{node MultiDeviceIteratorGetNextFromShard}}]]\n",
      "\t [[RemoteCall]]\n"
     ]
    },
    {
     "name": "stdout",
     "output_type": "stream",
     "text": [
      "\u001b[1m552/555\u001b[0m \u001b[32m━━━━━━━━━━━━━━━━━━━\u001b[0m\u001b[37m━\u001b[0m \u001b[1m0s\u001b[0m 12ms/step - RootMeanSquaredError: 0.0314 - loss: 0.0010"
     ]
    },
    {
     "name": "stderr",
     "output_type": "stream",
     "text": [
      "2024-11-27 01:01:14.217355: W tensorflow/core/framework/local_rendezvous.cc:404] Local rendezvous is aborting with status: OUT_OF_RANGE: End of sequence\n",
      "\t [[{{node MultiDeviceIteratorGetNextFromShard}}]]\n",
      "2024-11-27 01:01:14.217411: W tensorflow/core/framework/local_rendezvous.cc:404] Local rendezvous is aborting with status: OUT_OF_RANGE: End of sequence\n",
      "\t [[{{node MultiDeviceIteratorGetNextFromShard}}]]\n",
      "\t [[RemoteCall]]\n"
     ]
    },
    {
     "name": "stdout",
     "output_type": "stream",
     "text": [
      "\u001b[1m555/555\u001b[0m \u001b[32m━━━━━━━━━━━━━━━━━━━━\u001b[0m\u001b[37m\u001b[0m \u001b[1m7s\u001b[0m 13ms/step - RootMeanSquaredError: 0.0314 - loss: 0.0010 - val_RootMeanSquaredError: 0.0276 - val_loss: 7.6272e-04\n",
      "Epoch 11/30\n",
      "\u001b[1m 11/555\u001b[0m \u001b[37m━━━━━━━━━━━━━━━━━━━━\u001b[0m \u001b[1m6s\u001b[0m 12ms/step - RootMeanSquaredError: 0.0224 - loss: 5.1860e-04"
     ]
    },
    {
     "name": "stderr",
     "output_type": "stream",
     "text": [
      "2024-11-27 01:01:14.578606: W tensorflow/core/framework/local_rendezvous.cc:404] Local rendezvous is aborting with status: OUT_OF_RANGE: End of sequence\n",
      "\t [[{{node MultiDeviceIteratorGetNextFromShard}}]]\n",
      "2024-11-27 01:01:14.578628: W tensorflow/core/framework/local_rendezvous.cc:404] Local rendezvous is aborting with status: OUT_OF_RANGE: End of sequence\n",
      "\t [[{{node MultiDeviceIteratorGetNextFromShard}}]]\n",
      "\t [[RemoteCall]]\n"
     ]
    },
    {
     "name": "stdout",
     "output_type": "stream",
     "text": [
      "\u001b[1m555/555\u001b[0m \u001b[32m━━━━━━━━━━━━━━━━━━━━\u001b[0m\u001b[37m\u001b[0m \u001b[1m0s\u001b[0m 11ms/step - RootMeanSquaredError: 0.0310 - loss: 9.7377e-04"
     ]
    },
    {
     "name": "stderr",
     "output_type": "stream",
     "text": [
      "2024-11-27 01:01:20.706629: W tensorflow/core/framework/local_rendezvous.cc:404] Local rendezvous is aborting with status: OUT_OF_RANGE: End of sequence\n",
      "\t [[{{node MultiDeviceIteratorGetNextFromShard}}]]\n",
      "2024-11-27 01:01:20.706666: W tensorflow/core/framework/local_rendezvous.cc:404] Local rendezvous is aborting with status: OUT_OF_RANGE: End of sequence\n",
      "\t [[{{node MultiDeviceIteratorGetNextFromShard}}]]\n",
      "\t [[RemoteCall]]\n"
     ]
    },
    {
     "name": "stdout",
     "output_type": "stream",
     "text": [
      "\u001b[1m555/555\u001b[0m \u001b[32m━━━━━━━━━━━━━━━━━━━━\u001b[0m\u001b[37m\u001b[0m \u001b[1m6s\u001b[0m 12ms/step - RootMeanSquaredError: 0.0310 - loss: 9.7355e-04 - val_RootMeanSquaredError: 0.0281 - val_loss: 7.8875e-04\n",
      "Epoch 12/30\n",
      "\u001b[1m 11/555\u001b[0m \u001b[37m━━━━━━━━━━━━━━━━━━━━\u001b[0m \u001b[1m5s\u001b[0m 10ms/step - RootMeanSquaredError: 0.0228 - loss: 5.3561e-04"
     ]
    },
    {
     "name": "stderr",
     "output_type": "stream",
     "text": [
      "2024-11-27 01:01:21.050608: W tensorflow/core/framework/local_rendezvous.cc:404] Local rendezvous is aborting with status: OUT_OF_RANGE: End of sequence\n",
      "\t [[{{node MultiDeviceIteratorGetNextFromShard}}]]\n",
      "2024-11-27 01:01:21.050629: W tensorflow/core/framework/local_rendezvous.cc:404] Local rendezvous is aborting with status: OUT_OF_RANGE: End of sequence\n",
      "\t [[{{node MultiDeviceIteratorGetNextFromShard}}]]\n",
      "\t [[RemoteCall]]\n"
     ]
    },
    {
     "name": "stdout",
     "output_type": "stream",
     "text": [
      "\u001b[1m551/555\u001b[0m \u001b[32m━━━━━━━━━━━━━━━━━━━\u001b[0m\u001b[37m━\u001b[0m \u001b[1m0s\u001b[0m 11ms/step - RootMeanSquaredError: 0.0316 - loss: 0.0010"
     ]
    },
    {
     "name": "stderr",
     "output_type": "stream",
     "text": [
      "2024-11-27 01:01:27.153750: W tensorflow/core/framework/local_rendezvous.cc:404] Local rendezvous is aborting with status: OUT_OF_RANGE: End of sequence\n",
      "\t [[{{node MultiDeviceIteratorGetNextFromShard}}]]\n",
      "2024-11-27 01:01:27.153798: W tensorflow/core/framework/local_rendezvous.cc:404] Local rendezvous is aborting with status: OUT_OF_RANGE: End of sequence\n",
      "\t [[{{node MultiDeviceIteratorGetNextFromShard}}]]\n",
      "\t [[RemoteCall]]\n"
     ]
    },
    {
     "name": "stdout",
     "output_type": "stream",
     "text": [
      "\u001b[1m555/555\u001b[0m \u001b[32m━━━━━━━━━━━━━━━━━━━━\u001b[0m\u001b[37m\u001b[0m \u001b[1m6s\u001b[0m 12ms/step - RootMeanSquaredError: 0.0316 - loss: 0.0010 - val_RootMeanSquaredError: 0.0277 - val_loss: 7.6555e-04\n",
      "Epoch 13/30\n",
      "\u001b[1m 11/555\u001b[0m \u001b[37m━━━━━━━━━━━━━━━━━━━━\u001b[0m \u001b[1m6s\u001b[0m 11ms/step - RootMeanSquaredError: 0.0223 - loss: 5.1302e-04"
     ]
    },
    {
     "name": "stderr",
     "output_type": "stream",
     "text": [
      "2024-11-27 01:01:27.495675: W tensorflow/core/framework/local_rendezvous.cc:404] Local rendezvous is aborting with status: OUT_OF_RANGE: End of sequence\n",
      "\t [[{{node MultiDeviceIteratorGetNextFromShard}}]]\n",
      "2024-11-27 01:01:27.495697: W tensorflow/core/framework/local_rendezvous.cc:404] Local rendezvous is aborting with status: OUT_OF_RANGE: End of sequence\n",
      "\t [[{{node MultiDeviceIteratorGetNextFromShard}}]]\n",
      "\t [[RemoteCall]]\n"
     ]
    },
    {
     "name": "stdout",
     "output_type": "stream",
     "text": [
      "\u001b[1m551/555\u001b[0m \u001b[32m━━━━━━━━━━━━━━━━━━━\u001b[0m\u001b[37m━\u001b[0m \u001b[1m0s\u001b[0m 11ms/step - RootMeanSquaredError: 0.0311 - loss: 9.8456e-04"
     ]
    },
    {
     "name": "stderr",
     "output_type": "stream",
     "text": [
      "2024-11-27 01:01:33.448642: W tensorflow/core/framework/local_rendezvous.cc:404] Local rendezvous is aborting with status: OUT_OF_RANGE: End of sequence\n",
      "\t [[{{node MultiDeviceIteratorGetNextFromShard}}]]\n",
      "2024-11-27 01:01:33.448686: W tensorflow/core/framework/local_rendezvous.cc:404] Local rendezvous is aborting with status: OUT_OF_RANGE: End of sequence\n",
      "\t [[{{node MultiDeviceIteratorGetNextFromShard}}]]\n",
      "\t [[RemoteCall]]\n"
     ]
    },
    {
     "name": "stdout",
     "output_type": "stream",
     "text": [
      "\u001b[1m555/555\u001b[0m \u001b[32m━━━━━━━━━━━━━━━━━━━━\u001b[0m\u001b[37m\u001b[0m \u001b[1m6s\u001b[0m 11ms/step - RootMeanSquaredError: 0.0311 - loss: 9.8324e-04 - val_RootMeanSquaredError: 0.0272 - val_loss: 7.4140e-04\n",
      "Epoch 14/30\n",
      "\u001b[1m  3/555\u001b[0m \u001b[37m━━━━━━━━━━━━━━━━━━━━\u001b[0m \u001b[1m26s\u001b[0m 48ms/step - RootMeanSquaredError: 0.0163 - loss: 2.7608e-04"
     ]
    },
    {
     "name": "stderr",
     "output_type": "stream",
     "text": [
      "2024-11-27 01:01:33.786440: W tensorflow/core/framework/local_rendezvous.cc:404] Local rendezvous is aborting with status: OUT_OF_RANGE: End of sequence\n",
      "\t [[{{node MultiDeviceIteratorGetNextFromShard}}]]\n",
      "2024-11-27 01:01:33.786462: W tensorflow/core/framework/local_rendezvous.cc:404] Local rendezvous is aborting with status: OUT_OF_RANGE: End of sequence\n",
      "\t [[{{node MultiDeviceIteratorGetNextFromShard}}]]\n",
      "\t [[RemoteCall]]\n"
     ]
    },
    {
     "name": "stdout",
     "output_type": "stream",
     "text": [
      "\u001b[1m553/555\u001b[0m \u001b[32m━━━━━━━━━━━━━━━━━━━\u001b[0m\u001b[37m━\u001b[0m \u001b[1m0s\u001b[0m 11ms/step - RootMeanSquaredError: 0.0306 - loss: 9.5346e-04"
     ]
    },
    {
     "name": "stderr",
     "output_type": "stream",
     "text": [
      "2024-11-27 01:01:39.739639: W tensorflow/core/framework/local_rendezvous.cc:404] Local rendezvous is aborting with status: OUT_OF_RANGE: End of sequence\n",
      "\t [[{{node MultiDeviceIteratorGetNextFromShard}}]]\n",
      "2024-11-27 01:01:39.739685: W tensorflow/core/framework/local_rendezvous.cc:404] Local rendezvous is aborting with status: OUT_OF_RANGE: End of sequence\n",
      "\t [[{{node MultiDeviceIteratorGetNextFromShard}}]]\n",
      "\t [[RemoteCall]]\n"
     ]
    },
    {
     "name": "stdout",
     "output_type": "stream",
     "text": [
      "\u001b[1m555/555\u001b[0m \u001b[32m━━━━━━━━━━━━━━━━━━━━\u001b[0m\u001b[37m\u001b[0m \u001b[1m6s\u001b[0m 11ms/step - RootMeanSquaredError: 0.0306 - loss: 9.5275e-04 - val_RootMeanSquaredError: 0.0279 - val_loss: 7.7798e-04\n",
      "Epoch 15/30\n",
      "\u001b[1m 11/555\u001b[0m \u001b[37m━━━━━━━━━━━━━━━━━━━━\u001b[0m \u001b[1m5s\u001b[0m 10ms/step - RootMeanSquaredError: 0.0215 - loss: 4.8216e-04"
     ]
    },
    {
     "name": "stderr",
     "output_type": "stream",
     "text": [
      "2024-11-27 01:01:40.080135: W tensorflow/core/framework/local_rendezvous.cc:404] Local rendezvous is aborting with status: OUT_OF_RANGE: End of sequence\n",
      "\t [[{{node MultiDeviceIteratorGetNextFromShard}}]]\n",
      "2024-11-27 01:01:40.080162: W tensorflow/core/framework/local_rendezvous.cc:404] Local rendezvous is aborting with status: OUT_OF_RANGE: End of sequence\n",
      "\t [[{{node MultiDeviceIteratorGetNextFromShard}}]]\n",
      "\t [[RemoteCall]]\n"
     ]
    },
    {
     "name": "stdout",
     "output_type": "stream",
     "text": [
      "\u001b[1m555/555\u001b[0m \u001b[32m━━━━━━━━━━━━━━━━━━━━\u001b[0m\u001b[37m\u001b[0m \u001b[1m0s\u001b[0m 11ms/step - RootMeanSquaredError: 0.0307 - loss: 9.5742e-04"
     ]
    },
    {
     "name": "stderr",
     "output_type": "stream",
     "text": [
      "2024-11-27 01:01:46.221927: W tensorflow/core/framework/local_rendezvous.cc:404] Local rendezvous is aborting with status: OUT_OF_RANGE: End of sequence\n",
      "\t [[{{node MultiDeviceIteratorGetNextFromShard}}]]\n",
      "2024-11-27 01:01:46.221966: W tensorflow/core/framework/local_rendezvous.cc:404] Local rendezvous is aborting with status: OUT_OF_RANGE: End of sequence\n",
      "\t [[{{node MultiDeviceIteratorGetNextFromShard}}]]\n",
      "\t [[RemoteCall]]\n"
     ]
    },
    {
     "name": "stdout",
     "output_type": "stream",
     "text": [
      "\u001b[1m555/555\u001b[0m \u001b[32m━━━━━━━━━━━━━━━━━━━━\u001b[0m\u001b[37m\u001b[0m \u001b[1m7s\u001b[0m 12ms/step - RootMeanSquaredError: 0.0307 - loss: 9.5718e-04 - val_RootMeanSquaredError: 0.0273 - val_loss: 7.4682e-04\n",
      "Epoch 16/30\n",
      "\u001b[1m 11/555\u001b[0m \u001b[37m━━━━━━━━━━━━━━━━━━━━\u001b[0m \u001b[1m5s\u001b[0m 11ms/step - RootMeanSquaredError: 0.0218 - loss: 4.9979e-04"
     ]
    },
    {
     "name": "stderr",
     "output_type": "stream",
     "text": [
      "2024-11-27 01:01:46.592162: W tensorflow/core/framework/local_rendezvous.cc:404] Local rendezvous is aborting with status: OUT_OF_RANGE: End of sequence\n",
      "\t [[{{node MultiDeviceIteratorGetNextFromShard}}]]\n",
      "2024-11-27 01:01:46.592184: W tensorflow/core/framework/local_rendezvous.cc:404] Local rendezvous is aborting with status: OUT_OF_RANGE: End of sequence\n",
      "\t [[{{node MultiDeviceIteratorGetNextFromShard}}]]\n",
      "\t [[RemoteCall]]\n"
     ]
    },
    {
     "name": "stdout",
     "output_type": "stream",
     "text": [
      "\u001b[1m554/555\u001b[0m \u001b[32m━━━━━━━━━━━━━━━━━━━\u001b[0m\u001b[37m━\u001b[0m \u001b[1m0s\u001b[0m 11ms/step - RootMeanSquaredError: 0.0306 - loss: 9.5281e-04"
     ]
    },
    {
     "name": "stderr",
     "output_type": "stream",
     "text": [
      "2024-11-27 01:01:52.711084: W tensorflow/core/framework/local_rendezvous.cc:404] Local rendezvous is aborting with status: OUT_OF_RANGE: End of sequence\n",
      "\t [[{{node MultiDeviceIteratorGetNextFromShard}}]]\n",
      "2024-11-27 01:01:52.711147: W tensorflow/core/framework/local_rendezvous.cc:404] Local rendezvous is aborting with status: OUT_OF_RANGE: End of sequence\n",
      "\t [[{{node MultiDeviceIteratorGetNextFromShard}}]]\n",
      "\t [[RemoteCall]]\n"
     ]
    },
    {
     "name": "stdout",
     "output_type": "stream",
     "text": [
      "\u001b[1m555/555\u001b[0m \u001b[32m━━━━━━━━━━━━━━━━━━━━\u001b[0m\u001b[37m\u001b[0m \u001b[1m6s\u001b[0m 12ms/step - RootMeanSquaredError: 0.0306 - loss: 9.5234e-04 - val_RootMeanSquaredError: 0.0270 - val_loss: 7.3066e-04\n",
      "Epoch 17/30\n",
      "\u001b[1m 11/555\u001b[0m \u001b[37m━━━━━━━━━━━━━━━━━━━━\u001b[0m \u001b[1m6s\u001b[0m 11ms/step - RootMeanSquaredError: 0.0215 - loss: 4.8425e-04"
     ]
    },
    {
     "name": "stderr",
     "output_type": "stream",
     "text": [
      "2024-11-27 01:01:53.052698: W tensorflow/core/framework/local_rendezvous.cc:404] Local rendezvous is aborting with status: OUT_OF_RANGE: End of sequence\n",
      "\t [[{{node MultiDeviceIteratorGetNextFromShard}}]]\n",
      "2024-11-27 01:01:53.052727: W tensorflow/core/framework/local_rendezvous.cc:404] Local rendezvous is aborting with status: OUT_OF_RANGE: End of sequence\n",
      "\t [[{{node MultiDeviceIteratorGetNextFromShard}}]]\n",
      "\t [[RemoteCall]]\n"
     ]
    },
    {
     "name": "stdout",
     "output_type": "stream",
     "text": [
      "\u001b[1m552/555\u001b[0m \u001b[32m━━━━━━━━━━━━━━━━━━━\u001b[0m\u001b[37m━\u001b[0m \u001b[1m0s\u001b[0m 11ms/step - RootMeanSquaredError: 0.0304 - loss: 9.3630e-04"
     ]
    },
    {
     "name": "stderr",
     "output_type": "stream",
     "text": [
      "2024-11-27 01:01:59.331016: W tensorflow/core/framework/local_rendezvous.cc:404] Local rendezvous is aborting with status: OUT_OF_RANGE: End of sequence\n",
      "\t [[{{node MultiDeviceIteratorGetNextFromShard}}]]\n",
      "2024-11-27 01:01:59.331069: W tensorflow/core/framework/local_rendezvous.cc:404] Local rendezvous is aborting with status: OUT_OF_RANGE: End of sequence\n",
      "\t [[{{node MultiDeviceIteratorGetNextFromShard}}]]\n",
      "\t [[RemoteCall]]\n"
     ]
    },
    {
     "name": "stdout",
     "output_type": "stream",
     "text": [
      "\u001b[1m555/555\u001b[0m \u001b[32m━━━━━━━━━━━━━━━━━━━━\u001b[0m\u001b[37m\u001b[0m \u001b[1m7s\u001b[0m 12ms/step - RootMeanSquaredError: 0.0303 - loss: 9.3535e-04 - val_RootMeanSquaredError: 0.0276 - val_loss: 7.6396e-04\n",
      "Epoch 18/30\n",
      "\u001b[1m  1/555\u001b[0m \u001b[37m━━━━━━━━━━━━━━━━━━━━\u001b[0m \u001b[1m26s\u001b[0m 49ms/step - RootMeanSquaredError: 0.0134 - loss: 1.8010e-04"
     ]
    },
    {
     "name": "stderr",
     "output_type": "stream",
     "text": [
      "2024-11-27 01:01:59.676105: W tensorflow/core/framework/local_rendezvous.cc:404] Local rendezvous is aborting with status: OUT_OF_RANGE: End of sequence\n",
      "\t [[{{node MultiDeviceIteratorGetNextFromShard}}]]\n",
      "2024-11-27 01:01:59.676140: W tensorflow/core/framework/local_rendezvous.cc:404] Local rendezvous is aborting with status: OUT_OF_RANGE: End of sequence\n",
      "\t [[{{node MultiDeviceIteratorGetNextFromShard}}]]\n",
      "\t [[RemoteCall]]\n"
     ]
    },
    {
     "name": "stdout",
     "output_type": "stream",
     "text": [
      "\u001b[1m555/555\u001b[0m \u001b[32m━━━━━━━━━━━━━━━━━━━━\u001b[0m\u001b[37m\u001b[0m \u001b[1m0s\u001b[0m 11ms/step - RootMeanSquaredError: 0.0301 - loss: 9.1820e-04"
     ]
    },
    {
     "name": "stderr",
     "output_type": "stream",
     "text": [
      "2024-11-27 01:02:05.750150: W tensorflow/core/framework/local_rendezvous.cc:404] Local rendezvous is aborting with status: OUT_OF_RANGE: End of sequence\n",
      "\t [[{{node MultiDeviceIteratorGetNextFromShard}}]]\n",
      "2024-11-27 01:02:05.750187: W tensorflow/core/framework/local_rendezvous.cc:404] Local rendezvous is aborting with status: OUT_OF_RANGE: End of sequence\n",
      "\t [[{{node MultiDeviceIteratorGetNextFromShard}}]]\n",
      "\t [[RemoteCall]]\n"
     ]
    },
    {
     "name": "stdout",
     "output_type": "stream",
     "text": [
      "\u001b[1m555/555\u001b[0m \u001b[32m━━━━━━━━━━━━━━━━━━━━\u001b[0m\u001b[37m\u001b[0m \u001b[1m6s\u001b[0m 12ms/step - RootMeanSquaredError: 0.0301 - loss: 9.1800e-04 - val_RootMeanSquaredError: 0.0276 - val_loss: 7.6239e-04\n",
      "Epoch 19/30\n",
      "\u001b[1m 11/555\u001b[0m \u001b[37m━━━━━━━━━━━━━━━━━━━━\u001b[0m \u001b[1m5s\u001b[0m 11ms/step - RootMeanSquaredError: 0.0214 - loss: 4.7748e-04"
     ]
    },
    {
     "name": "stderr",
     "output_type": "stream",
     "text": [
      "2024-11-27 01:02:06.100971: W tensorflow/core/framework/local_rendezvous.cc:404] Local rendezvous is aborting with status: OUT_OF_RANGE: End of sequence\n",
      "\t [[{{node MultiDeviceIteratorGetNextFromShard}}]]\n",
      "2024-11-27 01:02:06.100999: W tensorflow/core/framework/local_rendezvous.cc:404] Local rendezvous is aborting with status: OUT_OF_RANGE: End of sequence\n",
      "\t [[{{node MultiDeviceIteratorGetNextFromShard}}]]\n",
      "\t [[RemoteCall]]\n"
     ]
    },
    {
     "name": "stdout",
     "output_type": "stream",
     "text": [
      "\u001b[1m555/555\u001b[0m \u001b[32m━━━━━━━━━━━━━━━━━━━━\u001b[0m\u001b[37m\u001b[0m \u001b[1m0s\u001b[0m 11ms/step - RootMeanSquaredError: 0.0297 - loss: 8.9195e-04"
     ]
    },
    {
     "name": "stderr",
     "output_type": "stream",
     "text": [
      "2024-11-27 01:02:12.026337: W tensorflow/core/framework/local_rendezvous.cc:404] Local rendezvous is aborting with status: OUT_OF_RANGE: End of sequence\n",
      "\t [[{{node MultiDeviceIteratorGetNextFromShard}}]]\n",
      "2024-11-27 01:02:12.026377: W tensorflow/core/framework/local_rendezvous.cc:404] Local rendezvous is aborting with status: OUT_OF_RANGE: End of sequence\n",
      "\t [[{{node MultiDeviceIteratorGetNextFromShard}}]]\n",
      "\t [[RemoteCall]]\n"
     ]
    },
    {
     "name": "stdout",
     "output_type": "stream",
     "text": [
      "\u001b[1m555/555\u001b[0m \u001b[32m━━━━━━━━━━━━━━━━━━━━\u001b[0m\u001b[37m\u001b[0m \u001b[1m6s\u001b[0m 11ms/step - RootMeanSquaredError: 0.0297 - loss: 8.9177e-04 - val_RootMeanSquaredError: 0.0276 - val_loss: 7.6214e-04\n",
      "Epoch 20/30\n",
      "\u001b[1m 11/555\u001b[0m \u001b[37m━━━━━━━━━━━━━━━━━━━━\u001b[0m \u001b[1m5s\u001b[0m 10ms/step - RootMeanSquaredError: 0.0220 - loss: 5.0355e-04"
     ]
    },
    {
     "name": "stderr",
     "output_type": "stream",
     "text": [
      "2024-11-27 01:02:12.386492: W tensorflow/core/framework/local_rendezvous.cc:404] Local rendezvous is aborting with status: OUT_OF_RANGE: End of sequence\n",
      "\t [[{{node MultiDeviceIteratorGetNextFromShard}}]]\n",
      "2024-11-27 01:02:12.386511: W tensorflow/core/framework/local_rendezvous.cc:404] Local rendezvous is aborting with status: OUT_OF_RANGE: End of sequence\n",
      "\t [[{{node MultiDeviceIteratorGetNextFromShard}}]]\n",
      "\t [[RemoteCall]]\n"
     ]
    },
    {
     "name": "stdout",
     "output_type": "stream",
     "text": [
      "\u001b[1m552/555\u001b[0m \u001b[32m━━━━━━━━━━━━━━━━━━━\u001b[0m\u001b[37m━\u001b[0m \u001b[1m0s\u001b[0m 11ms/step - RootMeanSquaredError: 0.0295 - loss: 8.8137e-04"
     ]
    },
    {
     "name": "stderr",
     "output_type": "stream",
     "text": [
      "2024-11-27 01:02:18.288641: W tensorflow/core/framework/local_rendezvous.cc:404] Local rendezvous is aborting with status: OUT_OF_RANGE: End of sequence\n",
      "\t [[{{node MultiDeviceIteratorGetNextFromShard}}]]\n",
      "2024-11-27 01:02:18.288675: W tensorflow/core/framework/local_rendezvous.cc:404] Local rendezvous is aborting with status: OUT_OF_RANGE: End of sequence\n",
      "\t [[{{node MultiDeviceIteratorGetNextFromShard}}]]\n",
      "\t [[RemoteCall]]\n"
     ]
    },
    {
     "name": "stdout",
     "output_type": "stream",
     "text": [
      "\u001b[1m555/555\u001b[0m \u001b[32m━━━━━━━━━━━━━━━━━━━━\u001b[0m\u001b[37m\u001b[0m \u001b[1m6s\u001b[0m 11ms/step - RootMeanSquaredError: 0.0295 - loss: 8.8066e-04 - val_RootMeanSquaredError: 0.0274 - val_loss: 7.5347e-04\n",
      "Epoch 21/30\n",
      "\u001b[1m 11/555\u001b[0m \u001b[37m━━━━━━━━━━━━━━━━━━━━\u001b[0m \u001b[1m5s\u001b[0m 10ms/step - RootMeanSquaredError: 0.0220 - loss: 5.0485e-04"
     ]
    },
    {
     "name": "stderr",
     "output_type": "stream",
     "text": [
      "2024-11-27 01:02:18.632184: W tensorflow/core/framework/local_rendezvous.cc:404] Local rendezvous is aborting with status: OUT_OF_RANGE: End of sequence\n",
      "\t [[{{node MultiDeviceIteratorGetNextFromShard}}]]\n",
      "2024-11-27 01:02:18.632207: W tensorflow/core/framework/local_rendezvous.cc:404] Local rendezvous is aborting with status: OUT_OF_RANGE: End of sequence\n",
      "\t [[{{node MultiDeviceIteratorGetNextFromShard}}]]\n",
      "\t [[RemoteCall]]\n"
     ]
    },
    {
     "name": "stdout",
     "output_type": "stream",
     "text": [
      "\u001b[1m555/555\u001b[0m \u001b[32m━━━━━━━━━━━━━━━━━━━━\u001b[0m\u001b[37m\u001b[0m \u001b[1m0s\u001b[0m 11ms/step - RootMeanSquaredError: 0.0295 - loss: 8.7830e-04"
     ]
    },
    {
     "name": "stderr",
     "output_type": "stream",
     "text": [
      "2024-11-27 01:02:24.871588: W tensorflow/core/framework/local_rendezvous.cc:404] Local rendezvous is aborting with status: OUT_OF_RANGE: End of sequence\n",
      "\t [[{{node MultiDeviceIteratorGetNextFromShard}}]]\n",
      "2024-11-27 01:02:24.871620: W tensorflow/core/framework/local_rendezvous.cc:404] Local rendezvous is aborting with status: OUT_OF_RANGE: End of sequence\n",
      "\t [[{{node MultiDeviceIteratorGetNextFromShard}}]]\n",
      "\t [[RemoteCall]]\n"
     ]
    },
    {
     "name": "stdout",
     "output_type": "stream",
     "text": [
      "\u001b[1m555/555\u001b[0m \u001b[32m━━━━━━━━━━━━━━━━━━━━\u001b[0m\u001b[37m\u001b[0m \u001b[1m7s\u001b[0m 12ms/step - RootMeanSquaredError: 0.0295 - loss: 8.7813e-04 - val_RootMeanSquaredError: 0.0273 - val_loss: 7.4480e-04\n",
      "Epoch 22/30\n",
      "\u001b[1m  6/555\u001b[0m \u001b[37m━━━━━━━━━━━━━━━━━━━━\u001b[0m \u001b[1m6s\u001b[0m 12ms/step - RootMeanSquaredError: 0.0185 - loss: 3.5616e-04 "
     ]
    },
    {
     "name": "stderr",
     "output_type": "stream",
     "text": [
      "2024-11-27 01:02:25.305218: W tensorflow/core/framework/local_rendezvous.cc:404] Local rendezvous is aborting with status: OUT_OF_RANGE: End of sequence\n",
      "\t [[{{node MultiDeviceIteratorGetNextFromShard}}]]\n",
      "2024-11-27 01:02:25.305238: W tensorflow/core/framework/local_rendezvous.cc:404] Local rendezvous is aborting with status: OUT_OF_RANGE: End of sequence\n",
      "\t [[{{node MultiDeviceIteratorGetNextFromShard}}]]\n",
      "\t [[RemoteCall]]\n"
     ]
    },
    {
     "name": "stdout",
     "output_type": "stream",
     "text": [
      "\u001b[1m551/555\u001b[0m \u001b[32m━━━━━━━━━━━━━━━━━━━\u001b[0m\u001b[37m━\u001b[0m \u001b[1m0s\u001b[0m 11ms/step - RootMeanSquaredError: 0.0289 - loss: 8.4608e-04"
     ]
    },
    {
     "name": "stderr",
     "output_type": "stream",
     "text": [
      "2024-11-27 01:02:31.509765: W tensorflow/core/framework/local_rendezvous.cc:404] Local rendezvous is aborting with status: OUT_OF_RANGE: End of sequence\n",
      "\t [[{{node MultiDeviceIteratorGetNextFromShard}}]]\n",
      "2024-11-27 01:02:31.509855: W tensorflow/core/framework/local_rendezvous.cc:404] Local rendezvous is aborting with status: OUT_OF_RANGE: End of sequence\n",
      "\t [[{{node MultiDeviceIteratorGetNextFromShard}}]]\n",
      "\t [[RemoteCall]]\n"
     ]
    },
    {
     "name": "stdout",
     "output_type": "stream",
     "text": [
      "\u001b[1m555/555\u001b[0m \u001b[32m━━━━━━━━━━━━━━━━━━━━\u001b[0m\u001b[37m\u001b[0m \u001b[1m7s\u001b[0m 12ms/step - RootMeanSquaredError: 0.0289 - loss: 8.4536e-04 - val_RootMeanSquaredError: 0.0274 - val_loss: 7.4903e-04\n",
      "Epoch 23/30\n",
      "\u001b[1m 11/555\u001b[0m \u001b[37m━━━━━━━━━━━━━━━━━━━━\u001b[0m \u001b[1m5s\u001b[0m 11ms/step - RootMeanSquaredError: 0.0215 - loss: 4.8197e-04"
     ]
    },
    {
     "name": "stderr",
     "output_type": "stream",
     "text": [
      "2024-11-27 01:02:31.836689: W tensorflow/core/framework/local_rendezvous.cc:404] Local rendezvous is aborting with status: OUT_OF_RANGE: End of sequence\n",
      "\t [[{{node MultiDeviceIteratorGetNextFromShard}}]]\n",
      "2024-11-27 01:02:31.836719: W tensorflow/core/framework/local_rendezvous.cc:404] Local rendezvous is aborting with status: OUT_OF_RANGE: End of sequence\n",
      "\t [[{{node MultiDeviceIteratorGetNextFromShard}}]]\n",
      "\t [[RemoteCall]]\n"
     ]
    },
    {
     "name": "stdout",
     "output_type": "stream",
     "text": [
      "\u001b[1m555/555\u001b[0m \u001b[32m━━━━━━━━━━━━━━━━━━━━\u001b[0m\u001b[37m\u001b[0m \u001b[1m0s\u001b[0m 12ms/step - RootMeanSquaredError: 0.0288 - loss: 8.3641e-04"
     ]
    },
    {
     "name": "stderr",
     "output_type": "stream",
     "text": [
      "2024-11-27 01:02:38.343434: W tensorflow/core/framework/local_rendezvous.cc:404] Local rendezvous is aborting with status: OUT_OF_RANGE: End of sequence\n",
      "\t [[{{node MultiDeviceIteratorGetNextFromShard}}]]\n",
      "2024-11-27 01:02:38.343487: W tensorflow/core/framework/local_rendezvous.cc:404] Local rendezvous is aborting with status: OUT_OF_RANGE: End of sequence\n",
      "\t [[{{node MultiDeviceIteratorGetNextFromShard}}]]\n",
      "\t [[RemoteCall]]\n"
     ]
    },
    {
     "name": "stdout",
     "output_type": "stream",
     "text": [
      "\u001b[1m555/555\u001b[0m \u001b[32m━━━━━━━━━━━━━━━━━━━━\u001b[0m\u001b[37m\u001b[0m \u001b[1m7s\u001b[0m 12ms/step - RootMeanSquaredError: 0.0288 - loss: 8.3628e-04 - val_RootMeanSquaredError: 0.0283 - val_loss: 7.9821e-04\n",
      "Epoch 24/30\n",
      "\u001b[1m  6/555\u001b[0m \u001b[37m━━━━━━━━━━━━━━━━━━━━\u001b[0m \u001b[1m6s\u001b[0m 11ms/step - RootMeanSquaredError: 0.0189 - loss: 3.7178e-04 "
     ]
    },
    {
     "name": "stderr",
     "output_type": "stream",
     "text": [
      "2024-11-27 01:02:38.709585: W tensorflow/core/framework/local_rendezvous.cc:404] Local rendezvous is aborting with status: OUT_OF_RANGE: End of sequence\n",
      "\t [[{{node MultiDeviceIteratorGetNextFromShard}}]]\n",
      "2024-11-27 01:02:38.709609: W tensorflow/core/framework/local_rendezvous.cc:404] Local rendezvous is aborting with status: OUT_OF_RANGE: End of sequence\n",
      "\t [[{{node MultiDeviceIteratorGetNextFromShard}}]]\n",
      "\t [[RemoteCall]]\n"
     ]
    },
    {
     "name": "stdout",
     "output_type": "stream",
     "text": [
      "\u001b[1m555/555\u001b[0m \u001b[32m━━━━━━━━━━━━━━━━━━━━\u001b[0m\u001b[37m\u001b[0m \u001b[1m0s\u001b[0m 12ms/step - RootMeanSquaredError: 0.0287 - loss: 8.3288e-04"
     ]
    },
    {
     "name": "stderr",
     "output_type": "stream",
     "text": [
      "2024-11-27 01:02:45.230336: W tensorflow/core/framework/local_rendezvous.cc:404] Local rendezvous is aborting with status: OUT_OF_RANGE: End of sequence\n",
      "\t [[{{node MultiDeviceIteratorGetNextFromShard}}]]\n",
      "2024-11-27 01:02:45.230381: W tensorflow/core/framework/local_rendezvous.cc:404] Local rendezvous is aborting with status: OUT_OF_RANGE: End of sequence\n",
      "\t [[{{node MultiDeviceIteratorGetNextFromShard}}]]\n",
      "\t [[RemoteCall]]\n"
     ]
    },
    {
     "name": "stdout",
     "output_type": "stream",
     "text": [
      "\u001b[1m555/555\u001b[0m \u001b[32m━━━━━━━━━━━━━━━━━━━━\u001b[0m\u001b[37m\u001b[0m \u001b[1m7s\u001b[0m 12ms/step - RootMeanSquaredError: 0.0287 - loss: 8.3274e-04 - val_RootMeanSquaredError: 0.0276 - val_loss: 7.5993e-04\n",
      "Epoch 25/30\n",
      "\u001b[1m 10/555\u001b[0m \u001b[37m━━━━━━━━━━━━━━━━━━━━\u001b[0m \u001b[1m6s\u001b[0m 11ms/step - RootMeanSquaredError: 0.0217 - loss: 4.9438e-04"
     ]
    },
    {
     "name": "stderr",
     "output_type": "stream",
     "text": [
      "2024-11-27 01:02:45.611538: W tensorflow/core/framework/local_rendezvous.cc:404] Local rendezvous is aborting with status: OUT_OF_RANGE: End of sequence\n",
      "\t [[{{node MultiDeviceIteratorGetNextFromShard}}]]\n",
      "2024-11-27 01:02:45.611559: W tensorflow/core/framework/local_rendezvous.cc:404] Local rendezvous is aborting with status: OUT_OF_RANGE: End of sequence\n",
      "\t [[{{node MultiDeviceIteratorGetNextFromShard}}]]\n",
      "\t [[RemoteCall]]\n"
     ]
    },
    {
     "name": "stdout",
     "output_type": "stream",
     "text": [
      "\u001b[1m554/555\u001b[0m \u001b[32m━━━━━━━━━━━━━━━━━━━\u001b[0m\u001b[37m━\u001b[0m \u001b[1m0s\u001b[0m 11ms/step - RootMeanSquaredError: 0.0284 - loss: 8.1273e-04"
     ]
    },
    {
     "name": "stderr",
     "output_type": "stream",
     "text": [
      "2024-11-27 01:02:51.586414: W tensorflow/core/framework/local_rendezvous.cc:404] Local rendezvous is aborting with status: OUT_OF_RANGE: End of sequence\n",
      "\t [[{{node MultiDeviceIteratorGetNextFromShard}}]]\n",
      "2024-11-27 01:02:51.586457: W tensorflow/core/framework/local_rendezvous.cc:404] Local rendezvous is aborting with status: OUT_OF_RANGE: End of sequence\n",
      "\t [[{{node MultiDeviceIteratorGetNextFromShard}}]]\n",
      "\t [[RemoteCall]]\n"
     ]
    },
    {
     "name": "stdout",
     "output_type": "stream",
     "text": [
      "\u001b[1m555/555\u001b[0m \u001b[32m━━━━━━━━━━━━━━━━━━━━\u001b[0m\u001b[37m\u001b[0m \u001b[1m6s\u001b[0m 11ms/step - RootMeanSquaredError: 0.0284 - loss: 8.1250e-04 - val_RootMeanSquaredError: 0.0278 - val_loss: 7.7467e-04\n",
      "Epoch 26/30\n",
      "\u001b[1m 11/555\u001b[0m \u001b[37m━━━━━━━━━━━━━━━━━━━━\u001b[0m \u001b[1m6s\u001b[0m 11ms/step - RootMeanSquaredError: 0.0214 - loss: 4.7823e-04"
     ]
    },
    {
     "name": "stderr",
     "output_type": "stream",
     "text": [
      "2024-11-27 01:02:51.940683: W tensorflow/core/framework/local_rendezvous.cc:404] Local rendezvous is aborting with status: OUT_OF_RANGE: End of sequence\n",
      "\t [[{{node MultiDeviceIteratorGetNextFromShard}}]]\n",
      "2024-11-27 01:02:51.940708: W tensorflow/core/framework/local_rendezvous.cc:404] Local rendezvous is aborting with status: OUT_OF_RANGE: End of sequence\n",
      "\t [[{{node MultiDeviceIteratorGetNextFromShard}}]]\n",
      "\t [[RemoteCall]]\n"
     ]
    },
    {
     "name": "stdout",
     "output_type": "stream",
     "text": [
      "\u001b[1m553/555\u001b[0m \u001b[32m━━━━━━━━━━━━━━━━━━━\u001b[0m\u001b[37m━\u001b[0m \u001b[1m0s\u001b[0m 13ms/step - RootMeanSquaredError: 0.0285 - loss: 8.1750e-04"
     ]
    },
    {
     "name": "stderr",
     "output_type": "stream",
     "text": [
      "2024-11-27 01:02:59.077209: W tensorflow/core/framework/local_rendezvous.cc:404] Local rendezvous is aborting with status: OUT_OF_RANGE: End of sequence\n",
      "\t [[{{node MultiDeviceIteratorGetNextFromShard}}]]\n",
      "2024-11-27 01:02:59.077284: W tensorflow/core/framework/local_rendezvous.cc:404] Local rendezvous is aborting with status: OUT_OF_RANGE: End of sequence\n",
      "\t [[{{node MultiDeviceIteratorGetNextFromShard}}]]\n",
      "\t [[RemoteCall]]\n"
     ]
    },
    {
     "name": "stdout",
     "output_type": "stream",
     "text": [
      "\u001b[1m555/555\u001b[0m \u001b[32m━━━━━━━━━━━━━━━━━━━━\u001b[0m\u001b[37m\u001b[0m \u001b[1m7s\u001b[0m 13ms/step - RootMeanSquaredError: 0.0285 - loss: 8.1714e-04 - val_RootMeanSquaredError: 0.0282 - val_loss: 7.9773e-04\n",
      "Epoch 27/30\n",
      "\u001b[1m 11/555\u001b[0m \u001b[37m━━━━━━━━━━━━━━━━━━━━\u001b[0m \u001b[1m5s\u001b[0m 11ms/step - RootMeanSquaredError: 0.0217 - loss: 4.8934e-04"
     ]
    },
    {
     "name": "stderr",
     "output_type": "stream",
     "text": [
      "2024-11-27 01:02:59.426162: W tensorflow/core/framework/local_rendezvous.cc:404] Local rendezvous is aborting with status: OUT_OF_RANGE: End of sequence\n",
      "\t [[{{node MultiDeviceIteratorGetNextFromShard}}]]\n",
      "2024-11-27 01:02:59.426186: W tensorflow/core/framework/local_rendezvous.cc:404] Local rendezvous is aborting with status: OUT_OF_RANGE: End of sequence\n",
      "\t [[{{node MultiDeviceIteratorGetNextFromShard}}]]\n",
      "\t [[RemoteCall]]\n"
     ]
    },
    {
     "name": "stdout",
     "output_type": "stream",
     "text": [
      "\u001b[1m554/555\u001b[0m \u001b[32m━━━━━━━━━━━━━━━━━━━\u001b[0m\u001b[37m━\u001b[0m \u001b[1m0s\u001b[0m 12ms/step - RootMeanSquaredError: 0.0283 - loss: 8.1061e-04"
     ]
    },
    {
     "name": "stderr",
     "output_type": "stream",
     "text": [
      "2024-11-27 01:03:05.873826: W tensorflow/core/framework/local_rendezvous.cc:404] Local rendezvous is aborting with status: OUT_OF_RANGE: End of sequence\n",
      "\t [[{{node MultiDeviceIteratorGetNextFromShard}}]]\n",
      "2024-11-27 01:03:05.873888: W tensorflow/core/framework/local_rendezvous.cc:404] Local rendezvous is aborting with status: OUT_OF_RANGE: End of sequence\n",
      "\t [[{{node MultiDeviceIteratorGetNextFromShard}}]]\n",
      "\t [[RemoteCall]]\n"
     ]
    },
    {
     "name": "stdout",
     "output_type": "stream",
     "text": [
      "\u001b[1m555/555\u001b[0m \u001b[32m━━━━━━━━━━━━━━━━━━━━\u001b[0m\u001b[37m\u001b[0m \u001b[1m7s\u001b[0m 12ms/step - RootMeanSquaredError: 0.0283 - loss: 8.1039e-04 - val_RootMeanSquaredError: 0.0283 - val_loss: 8.0038e-04\n",
      "Epoch 28/30\n",
      "\u001b[1m 10/555\u001b[0m \u001b[37m━━━━━━━━━━━━━━━━━━━━\u001b[0m \u001b[1m6s\u001b[0m 12ms/step - RootMeanSquaredError: 0.0213 - loss: 4.7380e-04"
     ]
    },
    {
     "name": "stderr",
     "output_type": "stream",
     "text": [
      "2024-11-27 01:03:06.219356: W tensorflow/core/framework/local_rendezvous.cc:404] Local rendezvous is aborting with status: OUT_OF_RANGE: End of sequence\n",
      "\t [[{{node MultiDeviceIteratorGetNextFromShard}}]]\n",
      "2024-11-27 01:03:06.219378: W tensorflow/core/framework/local_rendezvous.cc:404] Local rendezvous is aborting with status: OUT_OF_RANGE: End of sequence\n",
      "\t [[{{node MultiDeviceIteratorGetNextFromShard}}]]\n",
      "\t [[RemoteCall]]\n"
     ]
    },
    {
     "name": "stdout",
     "output_type": "stream",
     "text": [
      "\u001b[1m554/555\u001b[0m \u001b[32m━━━━━━━━━━━━━━━━━━━\u001b[0m\u001b[37m━\u001b[0m \u001b[1m0s\u001b[0m 11ms/step - RootMeanSquaredError: 0.0282 - loss: 8.0271e-04"
     ]
    },
    {
     "name": "stderr",
     "output_type": "stream",
     "text": [
      "2024-11-27 01:03:12.461862: W tensorflow/core/framework/local_rendezvous.cc:404] Local rendezvous is aborting with status: OUT_OF_RANGE: End of sequence\n",
      "\t [[{{node MultiDeviceIteratorGetNextFromShard}}]]\n",
      "2024-11-27 01:03:12.461916: W tensorflow/core/framework/local_rendezvous.cc:404] Local rendezvous is aborting with status: OUT_OF_RANGE: End of sequence\n",
      "\t [[{{node MultiDeviceIteratorGetNextFromShard}}]]\n",
      "\t [[RemoteCall]]\n"
     ]
    },
    {
     "name": "stdout",
     "output_type": "stream",
     "text": [
      "\u001b[1m555/555\u001b[0m \u001b[32m━━━━━━━━━━━━━━━━━━━━\u001b[0m\u001b[37m\u001b[0m \u001b[1m7s\u001b[0m 12ms/step - RootMeanSquaredError: 0.0282 - loss: 8.0248e-04 - val_RootMeanSquaredError: 0.0279 - val_loss: 7.8007e-04\n",
      "Epoch 29/30\n",
      "\u001b[1m 10/555\u001b[0m \u001b[37m━━━━━━━━━━━━━━━━━━━━\u001b[0m \u001b[1m6s\u001b[0m 12ms/step - RootMeanSquaredError: 0.0214 - loss: 4.7443e-04"
     ]
    },
    {
     "name": "stderr",
     "output_type": "stream",
     "text": [
      "2024-11-27 01:03:12.795667: W tensorflow/core/framework/local_rendezvous.cc:404] Local rendezvous is aborting with status: OUT_OF_RANGE: End of sequence\n",
      "\t [[{{node MultiDeviceIteratorGetNextFromShard}}]]\n",
      "2024-11-27 01:03:12.795703: W tensorflow/core/framework/local_rendezvous.cc:404] Local rendezvous is aborting with status: OUT_OF_RANGE: End of sequence\n",
      "\t [[{{node MultiDeviceIteratorGetNextFromShard}}]]\n",
      "\t [[RemoteCall]]\n"
     ]
    },
    {
     "name": "stdout",
     "output_type": "stream",
     "text": [
      "\u001b[1m553/555\u001b[0m \u001b[32m━━━━━━━━━━━━━━━━━━━\u001b[0m\u001b[37m━\u001b[0m \u001b[1m0s\u001b[0m 12ms/step - RootMeanSquaredError: 0.0280 - loss: 7.8828e-04"
     ]
    },
    {
     "name": "stderr",
     "output_type": "stream",
     "text": [
      "2024-11-27 01:03:19.309128: W tensorflow/core/framework/local_rendezvous.cc:404] Local rendezvous is aborting with status: OUT_OF_RANGE: End of sequence\n",
      "\t [[{{node MultiDeviceIteratorGetNextFromShard}}]]\n",
      "2024-11-27 01:03:19.309764: W tensorflow/core/framework/local_rendezvous.cc:404] Local rendezvous is aborting with status: OUT_OF_RANGE: End of sequence\n",
      "\t [[{{node MultiDeviceIteratorGetNextFromShard}}]]\n",
      "\t [[RemoteCall]]\n"
     ]
    },
    {
     "name": "stdout",
     "output_type": "stream",
     "text": [
      "\u001b[1m555/555\u001b[0m \u001b[32m━━━━━━━━━━━━━━━━━━━━\u001b[0m\u001b[37m\u001b[0m \u001b[1m7s\u001b[0m 12ms/step - RootMeanSquaredError: 0.0280 - loss: 7.8798e-04 - val_RootMeanSquaredError: 0.0283 - val_loss: 8.0107e-04\n",
      "Epoch 30/30\n",
      "\u001b[1m  1/555\u001b[0m \u001b[37m━━━━━━━━━━━━━━━━━━━━\u001b[0m \u001b[1m1:20\u001b[0m 145ms/step - RootMeanSquaredError: 0.0113 - loss: 1.2830e-04"
     ]
    },
    {
     "name": "stderr",
     "output_type": "stream",
     "text": [
      "2024-11-27 01:03:19.703004: W tensorflow/core/framework/local_rendezvous.cc:404] Local rendezvous is aborting with status: OUT_OF_RANGE: End of sequence\n",
      "\t [[{{node MultiDeviceIteratorGetNextFromShard}}]]\n",
      "2024-11-27 01:03:19.703283: W tensorflow/core/framework/local_rendezvous.cc:404] Local rendezvous is aborting with status: OUT_OF_RANGE: End of sequence\n",
      "\t [[{{node MultiDeviceIteratorGetNextFromShard}}]]\n",
      "\t [[RemoteCall]]\n"
     ]
    },
    {
     "name": "stdout",
     "output_type": "stream",
     "text": [
      "\u001b[1m553/555\u001b[0m \u001b[32m━━━━━━━━━━━━━━━━━━━\u001b[0m\u001b[37m━\u001b[0m \u001b[1m0s\u001b[0m 11ms/step - RootMeanSquaredError: 0.0280 - loss: 7.9035e-04"
     ]
    },
    {
     "name": "stderr",
     "output_type": "stream",
     "text": [
      "2024-11-27 01:03:26.042866: W tensorflow/core/framework/local_rendezvous.cc:404] Local rendezvous is aborting with status: OUT_OF_RANGE: End of sequence\n",
      "\t [[{{node MultiDeviceIteratorGetNextFromShard}}]]\n",
      "2024-11-27 01:03:26.042906: W tensorflow/core/framework/local_rendezvous.cc:404] Local rendezvous is aborting with status: OUT_OF_RANGE: End of sequence\n",
      "\t [[{{node MultiDeviceIteratorGetNextFromShard}}]]\n",
      "\t [[RemoteCall]]\n"
     ]
    },
    {
     "name": "stdout",
     "output_type": "stream",
     "text": [
      "\u001b[1m555/555\u001b[0m \u001b[32m━━━━━━━━━━━━━━━━━━━━\u001b[0m\u001b[37m\u001b[0m \u001b[1m7s\u001b[0m 12ms/step - RootMeanSquaredError: 0.0280 - loss: 7.9001e-04 - val_RootMeanSquaredError: 0.0281 - val_loss: 7.9021e-04\n"
     ]
    },
    {
     "name": "stderr",
     "output_type": "stream",
     "text": [
      "2024-11-27 01:03:26.386771: W tensorflow/core/framework/local_rendezvous.cc:404] Local rendezvous is aborting with status: OUT_OF_RANGE: End of sequence\n",
      "\t [[{{node MultiDeviceIteratorGetNextFromShard}}]]\n",
      "2024-11-27 01:03:26.386793: W tensorflow/core/framework/local_rendezvous.cc:404] Local rendezvous is aborting with status: OUT_OF_RANGE: End of sequence\n",
      "\t [[{{node MultiDeviceIteratorGetNextFromShard}}]]\n",
      "\t [[RemoteCall]]\n"
     ]
    },
    {
     "data": {
      "image/png": "[encoded data removed]",
      "text/plain": [
       "<Figure size 1500x600 with 1 Axes>"
      ]
     },
     "metadata": {},
     "output_type": "display_data"
    }
   ],
   "source": [
    "with strategy.scope():\n",
    "    tf.random.set_seed(7)  \n",
    "    model = Sequential()\n",
    "    model.add(Input(shape=(n_steps, n_features)))\n",
    "    model.add(LSTM(32, return_sequences=True))\n",
    "    model.add(Dropout(0.1))  \n",
    "    model.add(LSTM(16, return_sequences=False))\n",
    "    model.add(Dense(n_outputs, activation='linear'))\n",
    "\n",
    "    model.compile(optimizer=Adam(learning_rate=0.001), loss='mse', metrics=['RootMeanSquaredError'])\n",
    "\n",
    "\n",
    "history = model.fit(X_train, y_train, epochs=30, validation_split=0.1,  batch_size=64, shuffle=False)\n",
    "\n",
    "plt.figure(figsize=(15, 6))\n",
    "plt.plot(history.history['loss'], label='Training Loss')\n",
    "plt.plot(history.history['val_loss'], label='Validation Loss')\n",
    "plt.xlabel('Epoch')\n",
    "plt.ylabel('Loss')\n",
    "plt.legend()\n",
    "plt.title('Training and Validation Loss Over Epochs')\n",
    "plt.show()\n"
   ]
  }
 ],
 "metadata": {
  "kernelspec": {
   "display_name": "Python 3",
   "language": "python",
   "name": "python3"
  },
  "language_info": {
   "codemirror_mode": {
    "name": "ipython",
    "version": 3
   },
   "file_extension": ".py",
   "mimetype": "text/x-python",
   "name": "python",
   "nbconvert_exporter": "python",
   "pygments_lexer": "ipython3",
   "version": "3.9.6"
  }
 },
 "nbformat": 4,
 "nbformat_minor": 2
}
